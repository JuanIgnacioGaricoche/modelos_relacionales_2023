{
    "metadata": {
        "kernelspec": {
            "name": "SQL",
            "display_name": "SQL",
            "language": "sql"
        },
        "language_info": {
            "name": "sql",
            "version": ""
        }
    },
    "nbformat_minor": 2,
    "nbformat": 4,
    "cells": [
        {
            "cell_type": "markdown",
            "source": [
                "# \n",
                "\n",
                "1. Descuentos por volumen | Utilización según tipo de negocio\n",
                "\n",
                "En este trabajo nos proponemos caracterizar la forma en que los distintos negocios utilizan los descuentos por volumen. La pregunta de investigación es: ¿los distintos tipos de negocios utilizan de forma distinta los descuentos por volumen? \n",
                "\n",
                "Con el término 'la forma de utilización de los descuentos' nos referimos al tipo de producto comprado bajo un descuento de volumen, la cantidad de unidades compradas en promedio y el descuento particular utilizado.\n",
                "\n",
                "Nuestras hipótesis pueden expresarse como:\n",
                "\n",
                "- GENERAL: Los distintos tipos de cliente se diferencian en la forma de utilizar los descuentos por volumen\n",
                "    \n",
                "- El tipo de cliente influye en el promedio de unidades compradas bajo una oferta de volumen \n",
                "    \n",
                "- El tipo de cliente influye en el descuento particular utilizado de las ofertas de volumen\n",
                "    \n",
                "- El tipo de cliente influye en la proporción de líneas con descuento respecto al total de líneas\n",
                "    \n",
                "- El tipo de cliente influye en la categoría de producto comprado bajo una oferta por volumen\n",
                "    \n",
                "- Nos enfocaremos en:\n",
                "    \n",
                "\n",
                "1. Caracterizar a los tipos de clientes de la empresa y su comportamiento de compra\n",
                "2. Caracterizar a los descuentos por volumen (qué productos los aplican, cuántas unidades vendidas acumulan, promedio de unidades las líneas de las ordenes que los utilizan)\n",
                "3. Caracterizar la relación entre los distintos tipos de clientes y los descuentos por volumen (qué tipos de productos compran, cuántas unidades compran en promedio y qué descuento es el que más utilizan)"
            ],
            "metadata": {
                "azdata_cell_guid": "7b159187-6457-477e-84c9-c7f2a6befd19"
            },
            "attachments": {}
        },
        {
            "cell_type": "markdown",
            "source": [
                "1\\. Caracterizar a los tipos de clientes de la empresa y su comportamiento de compra"
            ],
            "metadata": {
                "azdata_cell_guid": "f4d2575d-5c44-4ee1-aba1-04355f6625ed"
            },
            "attachments": {}
        },
        {
            "cell_type": "code",
            "source": [
                "WITH CTE AS (\n",
                "    SELECT r.BusinessType, SalesOrderNumber,\n",
                "    CONCAT(SalesOrderNumber, '-', SalesOrderLineNumber) AS LineId, \n",
                "    CASE WHEN PromotionKey IN(2,3,4,5,6) THEN 'VolProm' ELSE 'noVolProm' END volProm,\n",
                "    OrderQuantity\n",
                "\n",
                "    FROM AdventureWorksDW2019.dbo.FactResellerSales rs\n",
                "    --inner porque solo nos interesan las ventas con un reseller asociado\n",
                "    INNER JOIN AdventureWorksDW2019.dbo.DimReseller r\n",
                "    ON rs.ResellerKey = r.ResellerKey\n",
                ")\n",
                "\n",
                "SELECT DISTINCT BusinessType, volProm,\n",
                "\n",
                "--lines\n",
                "COUNT(LineId) OVER(PARTITION BY BusinessType, volProm) \n",
                "AS BusinessPromNumLines,\n",
                "\n",
                "COUNT(LineId) OVER(PARTITION BY BusinessType) \n",
                "AS BusinessNumLines,\n",
                "\n",
                "COUNT(LineId) OVER(PARTITION BY BusinessType, volProm) * 1.0 / (COUNT(LineId) OVER(PARTITION BY BusinessType)) \n",
                "AS percBusinessPromLines,\n",
                "\n",
                "COUNT(LineId) OVER(PARTITION BY BusinessType) * 1.0 / (COUNT(LineId) OVER())\n",
                "AS percBusinessNumLines,\n",
                "\n",
                "--------\n",
                "--units\n",
                "SUM(OrderQuantity) OVER(PARTITION BY BusinessType, VolProm) \n",
                "AS BusinessPromNumUnits,\n",
                "\n",
                "SUM(OrderQuantity) OVER(PARTITION BY BusinessType) \n",
                "AS BusinessNumUnits,\n",
                "\n",
                "SUM(OrderQuantity) OVER(PARTITION BY BusinessType, volProm)* 1.0 / (SUM(OrderQuantity) OVER(PARTITION BY BusinessType))\n",
                "AS percBusinessPromNumUnits,\n",
                "\n",
                "SUM(OrderQuantity) OVER(PARTITION BY BusinessType)* 1.0 / (SUM(OrderQuantity) OVER())\n",
                "AS percBusinessNumUnits,\n",
                "\n",
                "AVG(OrderQuantity * 1.0) OVER(PARTITION BY BusinessType, volProm) \n",
                "AS avgBusinessPromOrderQty,\n",
                "\n",
                "AVG(OrderQuantity * 1.0) OVER(PARTITION BY BusinessType) \n",
                "AS avgBusinessOrderQty\n",
                "\n",
                "\n",
                "FROM CTE\n",
                "ORDER BY BusinessType, volProm"
            ],
            "metadata": {
                "azdata_cell_guid": "00321516-d2bd-465b-9979-a276f9204263",
                "language": "sql",
                "tags": []
            },
            "outputs": [
                {
                    "output_type": "display_data",
                    "data": {
                        "text/html": "(6 rows affected)"
                    },
                    "metadata": {}
                },
                {
                    "output_type": "display_data",
                    "data": {
                        "text/html": "Total execution time: 00:00:01.349"
                    },
                    "metadata": {}
                },
                {
                    "output_type": "execute_result",
                    "metadata": {},
                    "execution_count": 66,
                    "data": {
                        "application/vnd.dataresource+json": {
                            "schema": {
                                "fields": [
                                    {
                                        "name": "BusinessType"
                                    },
                                    {
                                        "name": "volProm"
                                    },
                                    {
                                        "name": "BusinessPromNumLines"
                                    },
                                    {
                                        "name": "BusinessNumLines"
                                    },
                                    {
                                        "name": "percBusinessPromLines"
                                    },
                                    {
                                        "name": "percBusinessNumLines"
                                    },
                                    {
                                        "name": "BusinessPromNumUnits"
                                    },
                                    {
                                        "name": "BusinessNumUnits"
                                    },
                                    {
                                        "name": "percBusinessPromNumUnits"
                                    },
                                    {
                                        "name": "percBusinessNumUnits"
                                    },
                                    {
                                        "name": "avgBusinessPromOrderQty"
                                    },
                                    {
                                        "name": "avgBusinessOrderQty"
                                    }
                                ]
                            },
                            "data": [
                                {
                                    "BusinessType": "Specialty Bike Shop",
                                    "volProm": "noVolProm",
                                    "BusinessPromNumLines": "7909",
                                    "BusinessNumLines": "7987",
                                    "percBusinessPromLines": "0.990234130462",
                                    "percBusinessNumLines": "0.131246405389",
                                    "BusinessPromNumUnits": "20914",
                                    "BusinessNumUnits": "22076",
                                    "percBusinessPromNumUnits": "0.947363652835",
                                    "percBusinessNumUnits": "0.102976984578",
                                    "avgBusinessPromOrderQty": "2.644329",
                                    "avgBusinessOrderQty": "2.763991"
                                },
                                {
                                    "BusinessType": "Specialty Bike Shop",
                                    "volProm": "VolProm",
                                    "BusinessPromNumLines": "78",
                                    "BusinessNumLines": "7987",
                                    "percBusinessPromLines": "0.009765869537",
                                    "percBusinessNumLines": "0.131246405389",
                                    "BusinessPromNumUnits": "1162",
                                    "BusinessNumUnits": "22076",
                                    "percBusinessPromNumUnits": "0.052636347164",
                                    "percBusinessNumUnits": "0.102976984578",
                                    "avgBusinessPromOrderQty": "14.897435",
                                    "avgBusinessOrderQty": "2.763991"
                                },
                                {
                                    "BusinessType": "Value Added Reseller",
                                    "volProm": "noVolProm",
                                    "BusinessPromNumLines": "24698",
                                    "BusinessNumLines": "25134",
                                    "percBusinessPromLines": "0.982652980027",
                                    "percBusinessNumLines": "0.413014542765",
                                    "BusinessPromNumUnits": "73027",
                                    "BusinessNumUnits": "80309",
                                    "percBusinessPromNumUnits": "0.909325231294",
                                    "percBusinessNumUnits": "0.374613999570",
                                    "avgBusinessPromOrderQty": "2.956798",
                                    "avgBusinessOrderQty": "3.195233"
                                },
                                {
                                    "BusinessType": "Value Added Reseller",
                                    "volProm": "VolProm",
                                    "BusinessPromNumLines": "436",
                                    "BusinessNumLines": "25134",
                                    "percBusinessPromLines": "0.017347019972",
                                    "percBusinessNumLines": "0.413014542765",
                                    "BusinessPromNumUnits": "7282",
                                    "BusinessNumUnits": "80309",
                                    "percBusinessPromNumUnits": "0.090674768705",
                                    "percBusinessNumUnits": "0.374613999570",
                                    "avgBusinessPromOrderQty": "16.701834",
                                    "avgBusinessOrderQty": "3.195233"
                                },
                                {
                                    "BusinessType": "Warehouse",
                                    "volProm": "noVolProm",
                                    "BusinessPromNumLines": "26250",
                                    "BusinessNumLines": "27734",
                                    "percBusinessPromLines": "0.946491670873",
                                    "percBusinessNumLines": "0.455739051844",
                                    "BusinessPromNumUnits": "91255",
                                    "BusinessNumUnits": "111993",
                                    "percBusinessPromNumUnits": "0.814827712446",
                                    "percBusinessNumUnits": "0.522409015850",
                                    "avgBusinessPromOrderQty": "3.476380",
                                    "avgBusinessOrderQty": "4.038112"
                                },
                                {
                                    "BusinessType": "Warehouse",
                                    "volProm": "VolProm",
                                    "BusinessPromNumLines": "1484",
                                    "BusinessNumLines": "27734",
                                    "percBusinessPromLines": "0.053508329126",
                                    "percBusinessNumLines": "0.455739051844",
                                    "BusinessPromNumUnits": "20738",
                                    "BusinessNumUnits": "111993",
                                    "percBusinessPromNumUnits": "0.185172287553",
                                    "percBusinessNumUnits": "0.522409015850",
                                    "avgBusinessPromOrderQty": "13.974393",
                                    "avgBusinessOrderQty": "4.038112"
                                }
                            ]
                        },
                        "text/html": [
                            "<table>",
                            "<tr><th>BusinessType</th><th>volProm</th><th>BusinessPromNumLines</th><th>BusinessNumLines</th><th>percBusinessPromLines</th><th>percBusinessNumLines</th><th>BusinessPromNumUnits</th><th>BusinessNumUnits</th><th>percBusinessPromNumUnits</th><th>percBusinessNumUnits</th><th>avgBusinessPromOrderQty</th><th>avgBusinessOrderQty</th></tr>",
                            "<tr><td>Specialty Bike Shop</td><td>noVolProm</td><td>7909</td><td>7987</td><td>0.990234130462</td><td>0.131246405389</td><td>20914</td><td>22076</td><td>0.947363652835</td><td>0.102976984578</td><td>2.644329</td><td>2.763991</td></tr>",
                            "<tr><td>Specialty Bike Shop</td><td>VolProm</td><td>78</td><td>7987</td><td>0.009765869537</td><td>0.131246405389</td><td>1162</td><td>22076</td><td>0.052636347164</td><td>0.102976984578</td><td>14.897435</td><td>2.763991</td></tr>",
                            "<tr><td>Value Added Reseller</td><td>noVolProm</td><td>24698</td><td>25134</td><td>0.982652980027</td><td>0.413014542765</td><td>73027</td><td>80309</td><td>0.909325231294</td><td>0.374613999570</td><td>2.956798</td><td>3.195233</td></tr>",
                            "<tr><td>Value Added Reseller</td><td>VolProm</td><td>436</td><td>25134</td><td>0.017347019972</td><td>0.413014542765</td><td>7282</td><td>80309</td><td>0.090674768705</td><td>0.374613999570</td><td>16.701834</td><td>3.195233</td></tr>",
                            "<tr><td>Warehouse</td><td>noVolProm</td><td>26250</td><td>27734</td><td>0.946491670873</td><td>0.455739051844</td><td>91255</td><td>111993</td><td>0.814827712446</td><td>0.522409015850</td><td>3.476380</td><td>4.038112</td></tr>",
                            "<tr><td>Warehouse</td><td>VolProm</td><td>1484</td><td>27734</td><td>0.053508329126</td><td>0.455739051844</td><td>20738</td><td>111993</td><td>0.185172287553</td><td>0.522409015850</td><td>13.974393</td><td>4.038112</td></tr>",
                            "</table>"
                        ]
                    }
                }
            ],
            "execution_count": 66
        },
        {
            "cell_type": "code",
            "source": [
                "WITH CTE AS (\n",
                "    SELECT rs.ProductKey, pc.ProductCategoryKey, pc.EnglishProductCategoryName, ps.ProductSubcategoryKey, ps.EnglishProductSubcategoryName,\n",
                "    r.BusinessType, SalesOrderNumber, PromotionKey,\n",
                "    CONCAT(SalesOrderNumber, '-', SalesOrderLineNumber) AS LineId, OrderQuantity\n",
                "\n",
                "    FROM AdventureWorksDW2019.dbo.FactResellerSales rs\n",
                "    LEFT JOIN AdventureWorksDW2019.dbo.DimReseller r\n",
                "    ON rs.ResellerKey = r.ResellerKey\n",
                "    LEFT JOIN AdventureWorksDW2019.dbo.DimProduct dp\n",
                "    ON rs.ProductKey = dp.ProductKey\n",
                "    LEFT JOIN AdventureWorksDW2019.dbo.DimProductSubcategory ps\n",
                "    ON dp.ProductSubcategoryKey = ps.ProductSubcategoryKey\n",
                "    LEFT JOIN AdventureWorksDW2019.dbo.DimProductCategory pc \n",
                "    ON ps.ProductCategoryKey = pc.ProductCategoryKey\n",
                ")\n",
                "\n",
                "SELECT DISTINCT BusinessType, PromotionKey,\n",
                "\n",
                "--lines\n",
                "COUNT(LineId) OVER(PARTITION BY BusinessType, PromotionKey) \n",
                "AS BusinessPromKeyNumLines,\n",
                "\n",
                "COUNT(LineId) OVER(PARTITION BY BusinessType) \n",
                "AS BusinessNumLines,\n",
                "\n",
                "COUNT(LineId) OVER(PARTITION BY BusinessType, PromotionKey) * 1.0 /  (COUNT(LineId) OVER(PARTITION BY BusinessType))\n",
                "AS percBusinessPromKeyLines,\n",
                "\n",
                "COUNT(LineId) OVER(PARTITION BY BusinessType) * 1.0 /  (COUNT(LineId) OVER())\n",
                "AS percBusinessNumLines,\n",
                "\n",
                "-----\n",
                "\n",
                "--units\n",
                "SUM(OrderQuantity) OVER(PARTITION BY BusinessType, PromotionKey)\n",
                "AS BusinessPromKeyNumUnits,\n",
                "\n",
                "SUM(OrderQuantity) OVER(PARTITION BY BusinessType) \n",
                "AS BusinessNumUnits,\n",
                "\n",
                "SUM(OrderQuantity) OVER(PARTITION BY BusinessType, PromotionKey)* 1.0 /  SUM(OrderQuantity) OVER(PARTITION BY BusinessType)\n",
                "AS percBusinessPromKeyNumUnits,\n",
                "\n",
                "SUM(OrderQuantity) OVER(PARTITION BY BusinessType) * 1.0 /  (SUM(OrderQuantity) OVER())\n",
                "AS percBusinessNumUnits,\n",
                "\n",
                "AVG(OrderQuantity*1.0) OVER(PARTITION BY BusinessType, PromotionKey) \n",
                "AS avgBusinessPromKeyOrderQty\n",
                "\n",
                "\n",
                "\n",
                "FROM CTE\n",
                "ORDER BY BusinessType, PromotionKey"
            ],
            "metadata": {
                "azdata_cell_guid": "3dc03ddd-66a8-4242-b277-2814f1941052",
                "language": "sql"
            },
            "outputs": [
                {
                    "output_type": "display_data",
                    "data": {
                        "text/html": "(33 rows affected)"
                    },
                    "metadata": {}
                },
                {
                    "output_type": "display_data",
                    "data": {
                        "text/html": "Total execution time: 00:00:01.038"
                    },
                    "metadata": {}
                },
                {
                    "output_type": "execute_result",
                    "metadata": {},
                    "execution_count": 67,
                    "data": {
                        "application/vnd.dataresource+json": {
                            "schema": {
                                "fields": [
                                    {
                                        "name": "BusinessType"
                                    },
                                    {
                                        "name": "PromotionKey"
                                    },
                                    {
                                        "name": "BusinessPromKeyNumLines"
                                    },
                                    {
                                        "name": "BusinessNumLines"
                                    },
                                    {
                                        "name": "percBusinessPromKeyLines"
                                    },
                                    {
                                        "name": "percBusinessNumLines"
                                    },
                                    {
                                        "name": "BusinessPromKeyNumUnits"
                                    },
                                    {
                                        "name": "BusinessNumUnits"
                                    },
                                    {
                                        "name": "percBusinessPromKeyNumUnits"
                                    },
                                    {
                                        "name": "percBusinessNumUnits"
                                    },
                                    {
                                        "name": "avgBusinessPromKeyOrderQty"
                                    }
                                ]
                            },
                            "data": [
                                {
                                    "BusinessType": "Specialty Bike Shop",
                                    "PromotionKey": "1",
                                    "BusinessPromKeyNumLines": "7662",
                                    "BusinessNumLines": "7987",
                                    "percBusinessPromKeyLines": "0.959308876925",
                                    "percBusinessNumLines": "0.131246405389",
                                    "BusinessPromKeyNumUnits": "20431",
                                    "BusinessNumUnits": "22076",
                                    "percBusinessPromKeyNumUnits": "0.925484689255",
                                    "percBusinessNumUnits": "0.102976984578",
                                    "avgBusinessPromKeyOrderQty": "2.666536"
                                },
                                {
                                    "BusinessType": "Specialty Bike Shop",
                                    "PromotionKey": "2",
                                    "BusinessPromKeyNumLines": "43",
                                    "BusinessNumLines": "7987",
                                    "percBusinessPromKeyLines": "0.005383748591",
                                    "percBusinessNumLines": "0.131246405389",
                                    "BusinessPromKeyNumUnits": "523",
                                    "BusinessNumUnits": "22076",
                                    "percBusinessPromKeyNumUnits": "0.023690886030",
                                    "percBusinessNumUnits": "0.102976984578",
                                    "avgBusinessPromKeyOrderQty": "12.162790"
                                },
                                {
                                    "BusinessType": "Specialty Bike Shop",
                                    "PromotionKey": "3",
                                    "BusinessPromKeyNumLines": "33",
                                    "BusinessNumLines": "7987",
                                    "percBusinessPromKeyLines": "0.004131714035",
                                    "percBusinessNumLines": "0.131246405389",
                                    "BusinessPromKeyNumUnits": "584",
                                    "BusinessNumUnits": "22076",
                                    "percBusinessPromKeyNumUnits": "0.026454067765",
                                    "percBusinessNumUnits": "0.102976984578",
                                    "avgBusinessPromKeyOrderQty": "17.696969"
                                },
                                {
                                    "BusinessType": "Specialty Bike Shop",
                                    "PromotionKey": "4",
                                    "BusinessPromKeyNumLines": "2",
                                    "BusinessNumLines": "7987",
                                    "percBusinessPromKeyLines": "0.000250406911",
                                    "percBusinessNumLines": "0.131246405389",
                                    "BusinessPromKeyNumUnits": "55",
                                    "BusinessNumUnits": "22076",
                                    "percBusinessPromKeyNumUnits": "0.002491393368",
                                    "percBusinessNumUnits": "0.102976984578",
                                    "avgBusinessPromKeyOrderQty": "27.500000"
                                },
                                {
                                    "BusinessType": "Specialty Bike Shop",
                                    "PromotionKey": "7",
                                    "BusinessPromKeyNumLines": "35",
                                    "BusinessNumLines": "7987",
                                    "percBusinessPromKeyLines": "0.004382120946",
                                    "percBusinessNumLines": "0.131246405389",
                                    "BusinessPromKeyNumUnits": "55",
                                    "BusinessNumUnits": "22076",
                                    "percBusinessPromKeyNumUnits": "0.002491393368",
                                    "percBusinessNumUnits": "0.102976984578",
                                    "avgBusinessPromKeyOrderQty": "1.571428"
                                },
                                {
                                    "BusinessType": "Specialty Bike Shop",
                                    "PromotionKey": "8",
                                    "BusinessPromKeyNumLines": "31",
                                    "BusinessNumLines": "7987",
                                    "percBusinessPromKeyLines": "0.003881307124",
                                    "percBusinessNumLines": "0.131246405389",
                                    "BusinessPromKeyNumUnits": "91",
                                    "BusinessNumUnits": "22076",
                                    "percBusinessPromKeyNumUnits": "0.004122123573",
                                    "percBusinessNumUnits": "0.102976984578",
                                    "avgBusinessPromKeyOrderQty": "2.935483"
                                },
                                {
                                    "BusinessType": "Specialty Bike Shop",
                                    "PromotionKey": "9",
                                    "BusinessPromKeyNumLines": "23",
                                    "BusinessNumLines": "7987",
                                    "percBusinessPromKeyLines": "0.002879679479",
                                    "percBusinessNumLines": "0.131246405389",
                                    "BusinessPromKeyNumUnits": "55",
                                    "BusinessNumUnits": "22076",
                                    "percBusinessPromKeyNumUnits": "0.002491393368",
                                    "percBusinessNumUnits": "0.102976984578",
                                    "avgBusinessPromKeyOrderQty": "2.391304"
                                },
                                {
                                    "BusinessType": "Specialty Bike Shop",
                                    "PromotionKey": "11",
                                    "BusinessPromKeyNumLines": "24",
                                    "BusinessNumLines": "7987",
                                    "percBusinessPromKeyLines": "0.003004882934",
                                    "percBusinessNumLines": "0.131246405389",
                                    "BusinessPromKeyNumUnits": "73",
                                    "BusinessNumUnits": "22076",
                                    "percBusinessPromKeyNumUnits": "0.003306758470",
                                    "percBusinessNumUnits": "0.102976984578",
                                    "avgBusinessPromKeyOrderQty": "3.041666"
                                },
                                {
                                    "BusinessType": "Specialty Bike Shop",
                                    "PromotionKey": "13",
                                    "BusinessPromKeyNumLines": "89",
                                    "BusinessNumLines": "7987",
                                    "percBusinessPromKeyLines": "0.011143107549",
                                    "percBusinessNumLines": "0.131246405389",
                                    "BusinessPromKeyNumUnits": "132",
                                    "BusinessNumUnits": "22076",
                                    "percBusinessPromKeyNumUnits": "0.005979344084",
                                    "percBusinessNumUnits": "0.102976984578",
                                    "avgBusinessPromKeyOrderQty": "1.483146"
                                },
                                {
                                    "BusinessType": "Specialty Bike Shop",
                                    "PromotionKey": "14",
                                    "BusinessPromKeyNumLines": "45",
                                    "BusinessNumLines": "7987",
                                    "percBusinessPromKeyLines": "0.005634155502",
                                    "percBusinessNumLines": "0.131246405389",
                                    "BusinessPromKeyNumUnits": "77",
                                    "BusinessNumUnits": "22076",
                                    "percBusinessPromKeyNumUnits": "0.003487950715",
                                    "percBusinessNumUnits": "0.102976984578",
                                    "avgBusinessPromKeyOrderQty": "1.711111"
                                },
                                {
                                    "BusinessType": "Value Added Reseller",
                                    "PromotionKey": "1",
                                    "BusinessPromKeyNumLines": "24186",
                                    "BusinessNumLines": "25134",
                                    "percBusinessPromKeyLines": "0.962282167581",
                                    "percBusinessNumLines": "0.413014542765",
                                    "BusinessPromKeyNumUnits": "71700",
                                    "BusinessNumUnits": "80309",
                                    "percBusinessPromKeyNumUnits": "0.892801553997",
                                    "percBusinessNumUnits": "0.374613999570",
                                    "avgBusinessPromKeyOrderQty": "2.964524"
                                },
                                {
                                    "BusinessType": "Value Added Reseller",
                                    "PromotionKey": "2",
                                    "BusinessPromKeyNumLines": "231",
                                    "BusinessNumLines": "25134",
                                    "percBusinessPromKeyLines": "0.009190737646",
                                    "percBusinessNumLines": "0.413014542765",
                                    "BusinessPromKeyNumUnits": "2837",
                                    "BusinessNumUnits": "80309",
                                    "percBusinessPromKeyNumUnits": "0.035326053119",
                                    "percBusinessNumUnits": "0.374613999570",
                                    "avgBusinessPromKeyOrderQty": "12.281385"
                                },
                                {
                                    "BusinessType": "Value Added Reseller",
                                    "PromotionKey": "3",
                                    "BusinessPromKeyNumLines": "148",
                                    "BusinessNumLines": "25134",
                                    "percBusinessPromKeyLines": "0.005888437972",
                                    "percBusinessNumLines": "0.413014542765",
                                    "BusinessPromKeyNumUnits": "2723",
                                    "BusinessNumUnits": "80309",
                                    "percBusinessPromKeyNumUnits": "0.033906536004",
                                    "percBusinessNumUnits": "0.374613999570",
                                    "avgBusinessPromKeyOrderQty": "18.398648"
                                },
                                {
                                    "BusinessType": "Value Added Reseller",
                                    "PromotionKey": "4",
                                    "BusinessPromKeyNumLines": "55",
                                    "BusinessNumLines": "25134",
                                    "percBusinessPromKeyLines": "0.002188270868",
                                    "percBusinessNumLines": "0.413014542765",
                                    "BusinessPromKeyNumUnits": "1637",
                                    "BusinessNumUnits": "80309",
                                    "percBusinessPromKeyNumUnits": "0.020383767697",
                                    "percBusinessNumUnits": "0.374613999570",
                                    "avgBusinessPromKeyOrderQty": "29.763636"
                                },
                                {
                                    "BusinessType": "Value Added Reseller",
                                    "PromotionKey": "5",
                                    "BusinessPromKeyNumLines": "2",
                                    "BusinessNumLines": "25134",
                                    "percBusinessPromKeyLines": "0.000079573486",
                                    "percBusinessNumLines": "0.413014542765",
                                    "BusinessPromKeyNumUnits": "85",
                                    "BusinessNumUnits": "80309",
                                    "percBusinessPromKeyNumUnits": "0.001058411884",
                                    "percBusinessNumUnits": "0.374613999570",
                                    "avgBusinessPromKeyOrderQty": "42.500000"
                                },
                                {
                                    "BusinessType": "Value Added Reseller",
                                    "PromotionKey": "7",
                                    "BusinessPromKeyNumLines": "31",
                                    "BusinessNumLines": "25134",
                                    "percBusinessPromKeyLines": "0.001233389034",
                                    "percBusinessNumLines": "0.413014542765",
                                    "BusinessPromKeyNumUnits": "93",
                                    "BusinessNumUnits": "80309",
                                    "percBusinessPromKeyNumUnits": "0.001158027120",
                                    "percBusinessNumUnits": "0.374613999570",
                                    "avgBusinessPromKeyOrderQty": "3.000000"
                                },
                                {
                                    "BusinessType": "Value Added Reseller",
                                    "PromotionKey": "8",
                                    "BusinessPromKeyNumLines": "31",
                                    "BusinessNumLines": "25134",
                                    "percBusinessPromKeyLines": "0.001233389034",
                                    "percBusinessNumLines": "0.413014542765",
                                    "BusinessPromKeyNumUnits": "124",
                                    "BusinessNumUnits": "80309",
                                    "percBusinessPromKeyNumUnits": "0.001544036160",
                                    "percBusinessNumUnits": "0.374613999570",
                                    "avgBusinessPromKeyOrderQty": "4.000000"
                                },
                                {
                                    "BusinessType": "Value Added Reseller",
                                    "PromotionKey": "9",
                                    "BusinessPromKeyNumLines": "21",
                                    "BusinessNumLines": "25134",
                                    "percBusinessPromKeyLines": "0.000835521604",
                                    "percBusinessNumLines": "0.413014542765",
                                    "BusinessPromKeyNumUnits": "70",
                                    "BusinessNumUnits": "80309",
                                    "percBusinessPromKeyNumUnits": "0.000871633316",
                                    "percBusinessNumUnits": "0.374613999570",
                                    "avgBusinessPromKeyOrderQty": "3.333333"
                                },
                                {
                                    "BusinessType": "Value Added Reseller",
                                    "PromotionKey": "11",
                                    "BusinessPromKeyNumLines": "15",
                                    "BusinessNumLines": "25134",
                                    "percBusinessPromKeyLines": "0.000596801145",
                                    "percBusinessNumLines": "0.413014542765",
                                    "BusinessPromKeyNumUnits": "79",
                                    "BusinessNumUnits": "80309",
                                    "percBusinessPromKeyNumUnits": "0.000983700456",
                                    "percBusinessNumUnits": "0.374613999570",
                                    "avgBusinessPromKeyOrderQty": "5.266666"
                                },
                                {
                                    "BusinessType": "Value Added Reseller",
                                    "PromotionKey": "13",
                                    "BusinessPromKeyNumLines": "231",
                                    "BusinessNumLines": "25134",
                                    "percBusinessPromKeyLines": "0.009190737646",
                                    "percBusinessNumLines": "0.413014542765",
                                    "BusinessPromKeyNumUnits": "540",
                                    "BusinessNumUnits": "80309",
                                    "percBusinessPromKeyNumUnits": "0.006724028440",
                                    "percBusinessNumUnits": "0.374613999570",
                                    "avgBusinessPromKeyOrderQty": "2.337662"
                                },
                                {
                                    "BusinessType": "Value Added Reseller",
                                    "PromotionKey": "14",
                                    "BusinessPromKeyNumLines": "97",
                                    "BusinessNumLines": "25134",
                                    "percBusinessPromKeyLines": "0.003859314076",
                                    "percBusinessNumLines": "0.413014542765",
                                    "BusinessPromKeyNumUnits": "216",
                                    "BusinessNumUnits": "80309",
                                    "percBusinessPromKeyNumUnits": "0.002689611376",
                                    "percBusinessNumUnits": "0.374613999570",
                                    "avgBusinessPromKeyOrderQty": "2.226804"
                                },
                                {
                                    "BusinessType": "Value Added Reseller",
                                    "PromotionKey": "16",
                                    "BusinessPromKeyNumLines": "86",
                                    "BusinessNumLines": "25134",
                                    "percBusinessPromKeyLines": "0.003421659902",
                                    "percBusinessNumLines": "0.413014542765",
                                    "BusinessPromKeyNumUnits": "205",
                                    "BusinessNumUnits": "80309",
                                    "percBusinessPromKeyNumUnits": "0.002552640426",
                                    "percBusinessNumUnits": "0.374613999570",
                                    "avgBusinessPromKeyOrderQty": "2.383720"
                                },
                                {
                                    "BusinessType": "Warehouse",
                                    "PromotionKey": "1",
                                    "BusinessPromKeyNumLines": "25725",
                                    "BusinessNumLines": "27734",
                                    "percBusinessPromKeyLines": "0.927561837455",
                                    "percBusinessNumLines": "0.455739051844",
                                    "BusinessPromKeyNumUnits": "88428",
                                    "BusinessNumUnits": "111993",
                                    "percBusinessPromKeyNumUnits": "0.789585063352",
                                    "percBusinessNumUnits": "0.522409015850",
                                    "avgBusinessPromKeyOrderQty": "3.437434"
                                },
                                {
                                    "BusinessType": "Warehouse",
                                    "PromotionKey": "2",
                                    "BusinessPromKeyNumLines": "1036",
                                    "BusinessNumLines": "27734",
                                    "percBusinessPromKeyLines": "0.037354871277",
                                    "percBusinessNumLines": "0.455739051844",
                                    "BusinessPromKeyNumUnits": "12703",
                                    "BusinessNumUnits": "111993",
                                    "percBusinessPromKeyNumUnits": "0.113426732027",
                                    "percBusinessNumUnits": "0.522409015850",
                                    "avgBusinessPromKeyOrderQty": "12.261583"
                                },
                                {
                                    "BusinessType": "Warehouse",
                                    "PromotionKey": "3",
                                    "BusinessPromKeyNumLines": "425",
                                    "BusinessNumLines": "27734",
                                    "percBusinessPromKeyLines": "0.015324150861",
                                    "percBusinessNumLines": "0.455739051844",
                                    "BusinessPromKeyNumUnits": "7406",
                                    "BusinessNumUnits": "111993",
                                    "percBusinessPromKeyNumUnits": "0.066129133070",
                                    "percBusinessNumUnits": "0.522409015850",
                                    "avgBusinessPromKeyOrderQty": "17.425882"
                                },
                                {
                                    "BusinessType": "Warehouse",
                                    "PromotionKey": "4",
                                    "BusinessPromKeyNumLines": "23",
                                    "BusinessNumLines": "27734",
                                    "percBusinessPromKeyLines": "0.000829306987",
                                    "percBusinessNumLines": "0.455739051844",
                                    "BusinessPromKeyNumUnits": "629",
                                    "BusinessNumUnits": "111993",
                                    "percBusinessPromKeyNumUnits": "0.005616422454",
                                    "percBusinessNumUnits": "0.522409015850",
                                    "avgBusinessPromKeyOrderQty": "27.347826"
                                },
                                {
                                    "BusinessType": "Warehouse",
                                    "PromotionKey": "7",
                                    "BusinessPromKeyNumLines": "71",
                                    "BusinessNumLines": "27734",
                                    "percBusinessPromKeyLines": "0.002560034614",
                                    "percBusinessNumLines": "0.455739051844",
                                    "BusinessPromKeyNumUnits": "308",
                                    "BusinessNumUnits": "111993",
                                    "percBusinessPromKeyNumUnits": "0.002750171885",
                                    "percBusinessNumUnits": "0.522409015850",
                                    "avgBusinessPromKeyOrderQty": "4.338028"
                                },
                                {
                                    "BusinessType": "Warehouse",
                                    "PromotionKey": "8",
                                    "BusinessPromKeyNumLines": "36",
                                    "BusinessNumLines": "27734",
                                    "percBusinessPromKeyLines": "0.001298045720",
                                    "percBusinessNumLines": "0.455739051844",
                                    "BusinessPromKeyNumUnits": "277",
                                    "BusinessNumUnits": "111993",
                                    "percBusinessPromKeyNumUnits": "0.002473368871",
                                    "percBusinessNumUnits": "0.522409015850",
                                    "avgBusinessPromKeyOrderQty": "7.694444"
                                },
                                {
                                    "BusinessType": "Warehouse",
                                    "PromotionKey": "9",
                                    "BusinessPromKeyNumLines": "17",
                                    "BusinessNumLines": "27734",
                                    "percBusinessPromKeyLines": "0.000612966034",
                                    "percBusinessNumLines": "0.455739051844",
                                    "BusinessPromKeyNumUnits": "179",
                                    "BusinessNumUnits": "111993",
                                    "percBusinessPromKeyNumUnits": "0.001598314180",
                                    "percBusinessNumUnits": "0.522409015850",
                                    "avgBusinessPromKeyOrderQty": "10.529411"
                                },
                                {
                                    "BusinessType": "Warehouse",
                                    "PromotionKey": "11",
                                    "BusinessPromKeyNumLines": "45",
                                    "BusinessNumLines": "27734",
                                    "percBusinessPromKeyLines": "0.001622557150",
                                    "percBusinessNumLines": "0.455739051844",
                                    "BusinessPromKeyNumUnits": "528",
                                    "BusinessNumUnits": "111993",
                                    "percBusinessPromKeyNumUnits": "0.004714580375",
                                    "percBusinessNumUnits": "0.522409015850",
                                    "avgBusinessPromKeyOrderQty": "11.733333"
                                },
                                {
                                    "BusinessType": "Warehouse",
                                    "PromotionKey": "13",
                                    "BusinessPromKeyNumLines": "184",
                                    "BusinessNumLines": "27734",
                                    "percBusinessPromKeyLines": "0.006634455902",
                                    "percBusinessNumLines": "0.455739051844",
                                    "BusinessPromKeyNumUnits": "889",
                                    "BusinessNumUnits": "111993",
                                    "percBusinessPromKeyNumUnits": "0.007937996124",
                                    "percBusinessNumUnits": "0.522409015850",
                                    "avgBusinessPromKeyOrderQty": "4.831521"
                                },
                                {
                                    "BusinessType": "Warehouse",
                                    "PromotionKey": "14",
                                    "BusinessPromKeyNumLines": "89",
                                    "BusinessNumLines": "27734",
                                    "percBusinessPromKeyLines": "0.003209057474",
                                    "percBusinessNumLines": "0.455739051844",
                                    "BusinessPromKeyNumUnits": "469",
                                    "BusinessNumUnits": "111993",
                                    "percBusinessPromKeyNumUnits": "0.004187761735",
                                    "percBusinessNumUnits": "0.522409015850",
                                    "avgBusinessPromKeyOrderQty": "5.269662"
                                },
                                {
                                    "BusinessType": "Warehouse",
                                    "PromotionKey": "16",
                                    "BusinessPromKeyNumLines": "83",
                                    "BusinessNumLines": "27734",
                                    "percBusinessPromKeyLines": "0.002992716521",
                                    "percBusinessNumLines": "0.455739051844",
                                    "BusinessPromKeyNumUnits": "177",
                                    "BusinessNumUnits": "111993",
                                    "percBusinessPromKeyNumUnits": "0.001580455921",
                                    "percBusinessNumUnits": "0.522409015850",
                                    "avgBusinessPromKeyOrderQty": "2.132530"
                                }
                            ]
                        },
                        "text/html": [
                            "<table>",
                            "<tr><th>BusinessType</th><th>PromotionKey</th><th>BusinessPromKeyNumLines</th><th>BusinessNumLines</th><th>percBusinessPromKeyLines</th><th>percBusinessNumLines</th><th>BusinessPromKeyNumUnits</th><th>BusinessNumUnits</th><th>percBusinessPromKeyNumUnits</th><th>percBusinessNumUnits</th><th>avgBusinessPromKeyOrderQty</th></tr>",
                            "<tr><td>Specialty Bike Shop</td><td>1</td><td>7662</td><td>7987</td><td>0.959308876925</td><td>0.131246405389</td><td>20431</td><td>22076</td><td>0.925484689255</td><td>0.102976984578</td><td>2.666536</td></tr>",
                            "<tr><td>Specialty Bike Shop</td><td>2</td><td>43</td><td>7987</td><td>0.005383748591</td><td>0.131246405389</td><td>523</td><td>22076</td><td>0.023690886030</td><td>0.102976984578</td><td>12.162790</td></tr>",
                            "<tr><td>Specialty Bike Shop</td><td>3</td><td>33</td><td>7987</td><td>0.004131714035</td><td>0.131246405389</td><td>584</td><td>22076</td><td>0.026454067765</td><td>0.102976984578</td><td>17.696969</td></tr>",
                            "<tr><td>Specialty Bike Shop</td><td>4</td><td>2</td><td>7987</td><td>0.000250406911</td><td>0.131246405389</td><td>55</td><td>22076</td><td>0.002491393368</td><td>0.102976984578</td><td>27.500000</td></tr>",
                            "<tr><td>Specialty Bike Shop</td><td>7</td><td>35</td><td>7987</td><td>0.004382120946</td><td>0.131246405389</td><td>55</td><td>22076</td><td>0.002491393368</td><td>0.102976984578</td><td>1.571428</td></tr>",
                            "<tr><td>Specialty Bike Shop</td><td>8</td><td>31</td><td>7987</td><td>0.003881307124</td><td>0.131246405389</td><td>91</td><td>22076</td><td>0.004122123573</td><td>0.102976984578</td><td>2.935483</td></tr>",
                            "<tr><td>Specialty Bike Shop</td><td>9</td><td>23</td><td>7987</td><td>0.002879679479</td><td>0.131246405389</td><td>55</td><td>22076</td><td>0.002491393368</td><td>0.102976984578</td><td>2.391304</td></tr>",
                            "<tr><td>Specialty Bike Shop</td><td>11</td><td>24</td><td>7987</td><td>0.003004882934</td><td>0.131246405389</td><td>73</td><td>22076</td><td>0.003306758470</td><td>0.102976984578</td><td>3.041666</td></tr>",
                            "<tr><td>Specialty Bike Shop</td><td>13</td><td>89</td><td>7987</td><td>0.011143107549</td><td>0.131246405389</td><td>132</td><td>22076</td><td>0.005979344084</td><td>0.102976984578</td><td>1.483146</td></tr>",
                            "<tr><td>Specialty Bike Shop</td><td>14</td><td>45</td><td>7987</td><td>0.005634155502</td><td>0.131246405389</td><td>77</td><td>22076</td><td>0.003487950715</td><td>0.102976984578</td><td>1.711111</td></tr>",
                            "<tr><td>Value Added Reseller</td><td>1</td><td>24186</td><td>25134</td><td>0.962282167581</td><td>0.413014542765</td><td>71700</td><td>80309</td><td>0.892801553997</td><td>0.374613999570</td><td>2.964524</td></tr>",
                            "<tr><td>Value Added Reseller</td><td>2</td><td>231</td><td>25134</td><td>0.009190737646</td><td>0.413014542765</td><td>2837</td><td>80309</td><td>0.035326053119</td><td>0.374613999570</td><td>12.281385</td></tr>",
                            "<tr><td>Value Added Reseller</td><td>3</td><td>148</td><td>25134</td><td>0.005888437972</td><td>0.413014542765</td><td>2723</td><td>80309</td><td>0.033906536004</td><td>0.374613999570</td><td>18.398648</td></tr>",
                            "<tr><td>Value Added Reseller</td><td>4</td><td>55</td><td>25134</td><td>0.002188270868</td><td>0.413014542765</td><td>1637</td><td>80309</td><td>0.020383767697</td><td>0.374613999570</td><td>29.763636</td></tr>",
                            "<tr><td>Value Added Reseller</td><td>5</td><td>2</td><td>25134</td><td>0.000079573486</td><td>0.413014542765</td><td>85</td><td>80309</td><td>0.001058411884</td><td>0.374613999570</td><td>42.500000</td></tr>",
                            "<tr><td>Value Added Reseller</td><td>7</td><td>31</td><td>25134</td><td>0.001233389034</td><td>0.413014542765</td><td>93</td><td>80309</td><td>0.001158027120</td><td>0.374613999570</td><td>3.000000</td></tr>",
                            "<tr><td>Value Added Reseller</td><td>8</td><td>31</td><td>25134</td><td>0.001233389034</td><td>0.413014542765</td><td>124</td><td>80309</td><td>0.001544036160</td><td>0.374613999570</td><td>4.000000</td></tr>",
                            "<tr><td>Value Added Reseller</td><td>9</td><td>21</td><td>25134</td><td>0.000835521604</td><td>0.413014542765</td><td>70</td><td>80309</td><td>0.000871633316</td><td>0.374613999570</td><td>3.333333</td></tr>",
                            "<tr><td>Value Added Reseller</td><td>11</td><td>15</td><td>25134</td><td>0.000596801145</td><td>0.413014542765</td><td>79</td><td>80309</td><td>0.000983700456</td><td>0.374613999570</td><td>5.266666</td></tr>",
                            "<tr><td>Value Added Reseller</td><td>13</td><td>231</td><td>25134</td><td>0.009190737646</td><td>0.413014542765</td><td>540</td><td>80309</td><td>0.006724028440</td><td>0.374613999570</td><td>2.337662</td></tr>",
                            "<tr><td>Value Added Reseller</td><td>14</td><td>97</td><td>25134</td><td>0.003859314076</td><td>0.413014542765</td><td>216</td><td>80309</td><td>0.002689611376</td><td>0.374613999570</td><td>2.226804</td></tr>",
                            "<tr><td>Value Added Reseller</td><td>16</td><td>86</td><td>25134</td><td>0.003421659902</td><td>0.413014542765</td><td>205</td><td>80309</td><td>0.002552640426</td><td>0.374613999570</td><td>2.383720</td></tr>",
                            "<tr><td>Warehouse</td><td>1</td><td>25725</td><td>27734</td><td>0.927561837455</td><td>0.455739051844</td><td>88428</td><td>111993</td><td>0.789585063352</td><td>0.522409015850</td><td>3.437434</td></tr>",
                            "<tr><td>Warehouse</td><td>2</td><td>1036</td><td>27734</td><td>0.037354871277</td><td>0.455739051844</td><td>12703</td><td>111993</td><td>0.113426732027</td><td>0.522409015850</td><td>12.261583</td></tr>",
                            "<tr><td>Warehouse</td><td>3</td><td>425</td><td>27734</td><td>0.015324150861</td><td>0.455739051844</td><td>7406</td><td>111993</td><td>0.066129133070</td><td>0.522409015850</td><td>17.425882</td></tr>",
                            "<tr><td>Warehouse</td><td>4</td><td>23</td><td>27734</td><td>0.000829306987</td><td>0.455739051844</td><td>629</td><td>111993</td><td>0.005616422454</td><td>0.522409015850</td><td>27.347826</td></tr>",
                            "<tr><td>Warehouse</td><td>7</td><td>71</td><td>27734</td><td>0.002560034614</td><td>0.455739051844</td><td>308</td><td>111993</td><td>0.002750171885</td><td>0.522409015850</td><td>4.338028</td></tr>",
                            "<tr><td>Warehouse</td><td>8</td><td>36</td><td>27734</td><td>0.001298045720</td><td>0.455739051844</td><td>277</td><td>111993</td><td>0.002473368871</td><td>0.522409015850</td><td>7.694444</td></tr>",
                            "<tr><td>Warehouse</td><td>9</td><td>17</td><td>27734</td><td>0.000612966034</td><td>0.455739051844</td><td>179</td><td>111993</td><td>0.001598314180</td><td>0.522409015850</td><td>10.529411</td></tr>",
                            "<tr><td>Warehouse</td><td>11</td><td>45</td><td>27734</td><td>0.001622557150</td><td>0.455739051844</td><td>528</td><td>111993</td><td>0.004714580375</td><td>0.522409015850</td><td>11.733333</td></tr>",
                            "<tr><td>Warehouse</td><td>13</td><td>184</td><td>27734</td><td>0.006634455902</td><td>0.455739051844</td><td>889</td><td>111993</td><td>0.007937996124</td><td>0.522409015850</td><td>4.831521</td></tr>",
                            "<tr><td>Warehouse</td><td>14</td><td>89</td><td>27734</td><td>0.003209057474</td><td>0.455739051844</td><td>469</td><td>111993</td><td>0.004187761735</td><td>0.522409015850</td><td>5.269662</td></tr>",
                            "<tr><td>Warehouse</td><td>16</td><td>83</td><td>27734</td><td>0.002992716521</td><td>0.455739051844</td><td>177</td><td>111993</td><td>0.001580455921</td><td>0.522409015850</td><td>2.132530</td></tr>",
                            "</table>"
                        ]
                    }
                }
            ],
            "execution_count": 67
        },
        {
            "cell_type": "markdown",
            "source": [
                "Chequeamos que todas ventas tengan un reseller asociado:"
            ],
            "metadata": {
                "azdata_cell_guid": "414fe458-d4c4-4666-b958-ba05b2dc2e5b"
            },
            "attachments": {}
        },
        {
            "cell_type": "code",
            "source": [
                "SELECT r.BusinessType, SalesOrderNumber,\n",
                "    CONCAT(SalesOrderNumber, '-', SalesOrderLineNumber) AS LineId, \n",
                "    CASE WHEN PromotionKey IN(2,3,4,5,6) THEN 'VolProm' ELSE 'noVolProm' END volProm,\n",
                "    OrderQuantity\n",
                "\n",
                "    FROM AdventureWorksDW2019.dbo.FactResellerSales rs\n",
                "    LEFT JOIN AdventureWorksDW2019.dbo.DimReseller r\n",
                "    ON rs.ResellerKey = r.ResellerKey\n",
                "    WHERE r.ResellerKey IS NULL"
            ],
            "metadata": {
                "azdata_cell_guid": "74241838-3265-459e-92e6-ca9c79419373",
                "language": "sql"
            },
            "outputs": [
                {
                    "output_type": "display_data",
                    "data": {
                        "text/html": "(0 rows affected)"
                    },
                    "metadata": {}
                },
                {
                    "output_type": "display_data",
                    "data": {
                        "text/html": "Total execution time: 00:00:00.076"
                    },
                    "metadata": {}
                },
                {
                    "output_type": "execute_result",
                    "metadata": {},
                    "execution_count": 37,
                    "data": {
                        "application/vnd.dataresource+json": {
                            "schema": {
                                "fields": [
                                    {
                                        "name": "BusinessType"
                                    },
                                    {
                                        "name": "SalesOrderNumber"
                                    },
                                    {
                                        "name": "LineId"
                                    },
                                    {
                                        "name": "volProm"
                                    },
                                    {
                                        "name": "OrderQuantity"
                                    }
                                ]
                            },
                            "data": []
                        },
                        "text/html": [
                            "<table>",
                            "<tr><th>BusinessType</th><th>SalesOrderNumber</th><th>LineId</th><th>volProm</th><th>OrderQuantity</th></tr>",
                            "</table>"
                        ]
                    }
                }
            ],
            "execution_count": 37
        },
        {
            "cell_type": "markdown",
            "source": [
                "2\\. Caracterizar a los descuentos por volumen (qué productos los aplican, cuántas unidades vendidas acumulan, promedio de unidades las líneas de las ordenes que los utilizan)"
            ],
            "metadata": {
                "azdata_cell_guid": "9d012168-d311-4abc-a6f5-e4a8cbc3125e"
            },
            "attachments": {}
        },
        {
            "cell_type": "code",
            "source": [
                "WITH CTE AS(\n",
                "SELECT DISTINCT rs.ProductKey, pc.ProductCategoryKey, pc.EnglishProductCategoryName, ps.ProductSubcategoryKey, ps.EnglishProductSubcategoryName,\n",
                "CASE WHEN PromotionKey IN(2,3,4,5,6) THEN 'VolProm' ELSE 'noVolProm' END volProm\n",
                "\n",
                "FROM AdventureWorksDW2019.dbo.FactResellerSales rs\n",
                "LEFT JOIN AdventureWorksDW2019.dbo.DimProduct dp\n",
                "ON rs.ProductKey = dp.ProductKey\n",
                "LEFT JOIN AdventureWorksDW2019.dbo.DimProductSubcategory ps\n",
                "ON dp.ProductSubcategoryKey = ps.ProductSubcategoryKey\n",
                "LEFT JOIN AdventureWorksDW2019.dbo.DimProductCategory pc \n",
                "ON ps.ProductCategoryKey = pc.ProductCategoryKey\n",
                "\n",
                ")\n",
                "\n",
                "SELECT DISTINCT EnglishProductCategoryName, EnglishProductSubcategoryName, ProductKey, volProm,\n",
                "-- acá tendría que ser un count distinct pero eso no se permite en las window functions, rehacer de otra manera\n",
                "COUNT(ProductKey) OVER(PARTITION BY ProductSubcategoryKey, volProm)  AS prodQty,\n",
                "FORMAT(COUNT(ProductKey) OVER(PARTITION BY ProductSubcategoryKey, volProm) * 1.0 / COUNT(ProductKey) OVER(PARTITION BY ProductSubcategoryKey),'P')  AS percProd\n",
                "\n",
                "FROM CTE\n",
                "ORDER BY ProductKey"
            ],
            "metadata": {
                "azdata_cell_guid": "85ddc4bc-642c-416c-9be5-17d40c410192",
                "language": "sql",
                "tags": []
            },
            "outputs": [
                {
                    "output_type": "display_data",
                    "data": {
                        "text/html": "(473 rows affected)"
                    },
                    "metadata": {}
                },
                {
                    "output_type": "display_data",
                    "data": {
                        "text/html": "Total execution time: 00:00:00.466"
                    },
                    "metadata": {}
                },
                {
                    "output_type": "execute_result",
                    "metadata": {},
                    "execution_count": 34,
                    "data": {
                        "application/vnd.dataresource+json": {
                            "schema": {
                                "fields": [
                                    {
                                        "name": "EnglishProductCategoryName"
                                    },
                                    {
                                        "name": "EnglishProductSubcategoryName"
                                    },
                                    {
                                        "name": "ProductKey"
                                    },
                                    {
                                        "name": "volProm"
                                    },
                                    {
                                        "name": "prodQty"
                                    },
                                    {
                                        "name": "percProd"
                                    }
                                ]
                            },
                            "data": [
                                {
                                    "EnglishProductCategoryName": "Accessories",
                                    "EnglishProductSubcategoryName": "Helmets",
                                    "ProductKey": "212",
                                    "volProm": "noVolProm",
                                    "prodQty": "9",
                                    "percProd": "52.94%"
                                },
                                {
                                    "EnglishProductCategoryName": "Accessories",
                                    "EnglishProductSubcategoryName": "Helmets",
                                    "ProductKey": "213",
                                    "volProm": "noVolProm",
                                    "prodQty": "9",
                                    "percProd": "52.94%"
                                },
                                {
                                    "EnglishProductCategoryName": "Accessories",
                                    "EnglishProductSubcategoryName": "Helmets",
                                    "ProductKey": "213",
                                    "volProm": "VolProm",
                                    "prodQty": "8",
                                    "percProd": "47.06%"
                                },
                                {
                                    "EnglishProductCategoryName": "Accessories",
                                    "EnglishProductSubcategoryName": "Helmets",
                                    "ProductKey": "214",
                                    "volProm": "noVolProm",
                                    "prodQty": "9",
                                    "percProd": "52.94%"
                                },
                                {
                                    "EnglishProductCategoryName": "Accessories",
                                    "EnglishProductSubcategoryName": "Helmets",
                                    "ProductKey": "214",
                                    "volProm": "VolProm",
                                    "prodQty": "8",
                                    "percProd": "47.06%"
                                },
                                {
                                    "EnglishProductCategoryName": "Accessories",
                                    "EnglishProductSubcategoryName": "Helmets",
                                    "ProductKey": "215",
                                    "volProm": "noVolProm",
                                    "prodQty": "9",
                                    "percProd": "52.94%"
                                },
                                {
                                    "EnglishProductCategoryName": "Accessories",
                                    "EnglishProductSubcategoryName": "Helmets",
                                    "ProductKey": "215",
                                    "volProm": "VolProm",
                                    "prodQty": "8",
                                    "percProd": "47.06%"
                                },
                                {
                                    "EnglishProductCategoryName": "Accessories",
                                    "EnglishProductSubcategoryName": "Helmets",
                                    "ProductKey": "216",
                                    "volProm": "noVolProm",
                                    "prodQty": "9",
                                    "percProd": "52.94%"
                                },
                                {
                                    "EnglishProductCategoryName": "Accessories",
                                    "EnglishProductSubcategoryName": "Helmets",
                                    "ProductKey": "216",
                                    "volProm": "VolProm",
                                    "prodQty": "8",
                                    "percProd": "47.06%"
                                },
                                {
                                    "EnglishProductCategoryName": "Accessories",
                                    "EnglishProductSubcategoryName": "Helmets",
                                    "ProductKey": "217",
                                    "volProm": "noVolProm",
                                    "prodQty": "9",
                                    "percProd": "52.94%"
                                },
                                {
                                    "EnglishProductCategoryName": "Accessories",
                                    "EnglishProductSubcategoryName": "Helmets",
                                    "ProductKey": "217",
                                    "volProm": "VolProm",
                                    "prodQty": "8",
                                    "percProd": "47.06%"
                                },
                                {
                                    "EnglishProductCategoryName": "Clothing",
                                    "EnglishProductSubcategoryName": "Socks",
                                    "ProductKey": "218",
                                    "volProm": "noVolProm",
                                    "prodQty": "4",
                                    "percProd": "57.14%"
                                },
                                {
                                    "EnglishProductCategoryName": "Clothing",
                                    "EnglishProductSubcategoryName": "Socks",
                                    "ProductKey": "218",
                                    "volProm": "VolProm",
                                    "prodQty": "3",
                                    "percProd": "42.86%"
                                },
                                {
                                    "EnglishProductCategoryName": "Clothing",
                                    "EnglishProductSubcategoryName": "Socks",
                                    "ProductKey": "219",
                                    "volProm": "noVolProm",
                                    "prodQty": "4",
                                    "percProd": "57.14%"
                                },
                                {
                                    "EnglishProductCategoryName": "Accessories",
                                    "EnglishProductSubcategoryName": "Helmets",
                                    "ProductKey": "220",
                                    "volProm": "noVolProm",
                                    "prodQty": "9",
                                    "percProd": "52.94%"
                                },
                                {
                                    "EnglishProductCategoryName": "Accessories",
                                    "EnglishProductSubcategoryName": "Helmets",
                                    "ProductKey": "220",
                                    "volProm": "VolProm",
                                    "prodQty": "8",
                                    "percProd": "47.06%"
                                },
                                {
                                    "EnglishProductCategoryName": "Accessories",
                                    "EnglishProductSubcategoryName": "Helmets",
                                    "ProductKey": "221",
                                    "volProm": "noVolProm",
                                    "prodQty": "9",
                                    "percProd": "52.94%"
                                },
                                {
                                    "EnglishProductCategoryName": "Accessories",
                                    "EnglishProductSubcategoryName": "Helmets",
                                    "ProductKey": "221",
                                    "volProm": "VolProm",
                                    "prodQty": "8",
                                    "percProd": "47.06%"
                                },
                                {
                                    "EnglishProductCategoryName": "Accessories",
                                    "EnglishProductSubcategoryName": "Helmets",
                                    "ProductKey": "222",
                                    "volProm": "noVolProm",
                                    "prodQty": "9",
                                    "percProd": "52.94%"
                                },
                                {
                                    "EnglishProductCategoryName": "Accessories",
                                    "EnglishProductSubcategoryName": "Helmets",
                                    "ProductKey": "222",
                                    "volProm": "VolProm",
                                    "prodQty": "8",
                                    "percProd": "47.06%"
                                },
                                {
                                    "EnglishProductCategoryName": "Clothing",
                                    "EnglishProductSubcategoryName": "Caps",
                                    "ProductKey": "223",
                                    "volProm": "noVolProm",
                                    "prodQty": "3",
                                    "percProd": "50.00%"
                                },
                                {
                                    "EnglishProductCategoryName": "Clothing",
                                    "EnglishProductSubcategoryName": "Caps",
                                    "ProductKey": "223",
                                    "volProm": "VolProm",
                                    "prodQty": "3",
                                    "percProd": "50.00%"
                                },
                                {
                                    "EnglishProductCategoryName": "Clothing",
                                    "EnglishProductSubcategoryName": "Caps",
                                    "ProductKey": "224",
                                    "volProm": "noVolProm",
                                    "prodQty": "3",
                                    "percProd": "50.00%"
                                },
                                {
                                    "EnglishProductCategoryName": "Clothing",
                                    "EnglishProductSubcategoryName": "Caps",
                                    "ProductKey": "224",
                                    "volProm": "VolProm",
                                    "prodQty": "3",
                                    "percProd": "50.00%"
                                },
                                {
                                    "EnglishProductCategoryName": "Clothing",
                                    "EnglishProductSubcategoryName": "Caps",
                                    "ProductKey": "225",
                                    "volProm": "noVolProm",
                                    "prodQty": "3",
                                    "percProd": "50.00%"
                                },
                                {
                                    "EnglishProductCategoryName": "Clothing",
                                    "EnglishProductSubcategoryName": "Caps",
                                    "ProductKey": "225",
                                    "volProm": "VolProm",
                                    "prodQty": "3",
                                    "percProd": "50.00%"
                                },
                                {
                                    "EnglishProductCategoryName": "Clothing",
                                    "EnglishProductSubcategoryName": "Jerseys",
                                    "ProductKey": "229",
                                    "volProm": "noVolProm",
                                    "prodQty": "12",
                                    "percProd": "54.55%"
                                },
                                {
                                    "EnglishProductCategoryName": "Clothing",
                                    "EnglishProductSubcategoryName": "Jerseys",
                                    "ProductKey": "230",
                                    "volProm": "noVolProm",
                                    "prodQty": "12",
                                    "percProd": "54.55%"
                                },
                                {
                                    "EnglishProductCategoryName": "Clothing",
                                    "EnglishProductSubcategoryName": "Jerseys",
                                    "ProductKey": "230",
                                    "volProm": "VolProm",
                                    "prodQty": "10",
                                    "percProd": "45.45%"
                                },
                                {
                                    "EnglishProductCategoryName": "Clothing",
                                    "EnglishProductSubcategoryName": "Jerseys",
                                    "ProductKey": "231",
                                    "volProm": "noVolProm",
                                    "prodQty": "12",
                                    "percProd": "54.55%"
                                },
                                {
                                    "EnglishProductCategoryName": "Clothing",
                                    "EnglishProductSubcategoryName": "Jerseys",
                                    "ProductKey": "231",
                                    "volProm": "VolProm",
                                    "prodQty": "10",
                                    "percProd": "45.45%"
                                },
                                {
                                    "EnglishProductCategoryName": "Clothing",
                                    "EnglishProductSubcategoryName": "Jerseys",
                                    "ProductKey": "232",
                                    "volProm": "noVolProm",
                                    "prodQty": "12",
                                    "percProd": "54.55%"
                                },
                                {
                                    "EnglishProductCategoryName": "Clothing",
                                    "EnglishProductSubcategoryName": "Jerseys",
                                    "ProductKey": "232",
                                    "volProm": "VolProm",
                                    "prodQty": "10",
                                    "percProd": "45.45%"
                                },
                                {
                                    "EnglishProductCategoryName": "Clothing",
                                    "EnglishProductSubcategoryName": "Jerseys",
                                    "ProductKey": "233",
                                    "volProm": "noVolProm",
                                    "prodQty": "12",
                                    "percProd": "54.55%"
                                },
                                {
                                    "EnglishProductCategoryName": "Clothing",
                                    "EnglishProductSubcategoryName": "Jerseys",
                                    "ProductKey": "233",
                                    "volProm": "VolProm",
                                    "prodQty": "10",
                                    "percProd": "45.45%"
                                },
                                {
                                    "EnglishProductCategoryName": "Clothing",
                                    "EnglishProductSubcategoryName": "Jerseys",
                                    "ProductKey": "234",
                                    "volProm": "noVolProm",
                                    "prodQty": "12",
                                    "percProd": "54.55%"
                                },
                                {
                                    "EnglishProductCategoryName": "Clothing",
                                    "EnglishProductSubcategoryName": "Jerseys",
                                    "ProductKey": "234",
                                    "volProm": "VolProm",
                                    "prodQty": "10",
                                    "percProd": "45.45%"
                                },
                                {
                                    "EnglishProductCategoryName": "Clothing",
                                    "EnglishProductSubcategoryName": "Jerseys",
                                    "ProductKey": "235",
                                    "volProm": "noVolProm",
                                    "prodQty": "12",
                                    "percProd": "54.55%"
                                },
                                {
                                    "EnglishProductCategoryName": "Clothing",
                                    "EnglishProductSubcategoryName": "Jerseys",
                                    "ProductKey": "236",
                                    "volProm": "noVolProm",
                                    "prodQty": "12",
                                    "percProd": "54.55%"
                                },
                                {
                                    "EnglishProductCategoryName": "Clothing",
                                    "EnglishProductSubcategoryName": "Jerseys",
                                    "ProductKey": "236",
                                    "volProm": "VolProm",
                                    "prodQty": "10",
                                    "percProd": "45.45%"
                                },
                                {
                                    "EnglishProductCategoryName": "Clothing",
                                    "EnglishProductSubcategoryName": "Jerseys",
                                    "ProductKey": "237",
                                    "volProm": "noVolProm",
                                    "prodQty": "12",
                                    "percProd": "54.55%"
                                },
                                {
                                    "EnglishProductCategoryName": "Clothing",
                                    "EnglishProductSubcategoryName": "Jerseys",
                                    "ProductKey": "237",
                                    "volProm": "VolProm",
                                    "prodQty": "10",
                                    "percProd": "45.45%"
                                },
                                {
                                    "EnglishProductCategoryName": "Components",
                                    "EnglishProductSubcategoryName": "Road Frames",
                                    "ProductKey": "238",
                                    "volProm": "noVolProm",
                                    "prodQty": "44",
                                    "percProd": "88.00%"
                                },
                                {
                                    "EnglishProductCategoryName": "Components",
                                    "EnglishProductSubcategoryName": "Road Frames",
                                    "ProductKey": "239",
                                    "volProm": "noVolProm",
                                    "prodQty": "44",
                                    "percProd": "88.00%"
                                },
                                {
                                    "EnglishProductCategoryName": "Components",
                                    "EnglishProductSubcategoryName": "Road Frames",
                                    "ProductKey": "240",
                                    "volProm": "noVolProm",
                                    "prodQty": "44",
                                    "percProd": "88.00%"
                                },
                                {
                                    "EnglishProductCategoryName": "Components",
                                    "EnglishProductSubcategoryName": "Road Frames",
                                    "ProductKey": "241",
                                    "volProm": "noVolProm",
                                    "prodQty": "44",
                                    "percProd": "88.00%"
                                },
                                {
                                    "EnglishProductCategoryName": "Components",
                                    "EnglishProductSubcategoryName": "Road Frames",
                                    "ProductKey": "242",
                                    "volProm": "noVolProm",
                                    "prodQty": "44",
                                    "percProd": "88.00%"
                                },
                                {
                                    "EnglishProductCategoryName": "Components",
                                    "EnglishProductSubcategoryName": "Road Frames",
                                    "ProductKey": "243",
                                    "volProm": "noVolProm",
                                    "prodQty": "44",
                                    "percProd": "88.00%"
                                },
                                {
                                    "EnglishProductCategoryName": "Components",
                                    "EnglishProductSubcategoryName": "Road Frames",
                                    "ProductKey": "245",
                                    "volProm": "noVolProm",
                                    "prodQty": "44",
                                    "percProd": "88.00%"
                                },
                                {
                                    "EnglishProductCategoryName": "Components",
                                    "EnglishProductSubcategoryName": "Road Frames",
                                    "ProductKey": "246",
                                    "volProm": "noVolProm",
                                    "prodQty": "44",
                                    "percProd": "88.00%"
                                },
                                {
                                    "EnglishProductCategoryName": "Components",
                                    "EnglishProductSubcategoryName": "Road Frames",
                                    "ProductKey": "253",
                                    "volProm": "noVolProm",
                                    "prodQty": "44",
                                    "percProd": "88.00%"
                                },
                                {
                                    "EnglishProductCategoryName": "Components",
                                    "EnglishProductSubcategoryName": "Road Frames",
                                    "ProductKey": "254",
                                    "volProm": "noVolProm",
                                    "prodQty": "44",
                                    "percProd": "88.00%"
                                },
                                {
                                    "EnglishProductCategoryName": "Components",
                                    "EnglishProductSubcategoryName": "Road Frames",
                                    "ProductKey": "255",
                                    "volProm": "noVolProm",
                                    "prodQty": "44",
                                    "percProd": "88.00%"
                                },
                                {
                                    "EnglishProductCategoryName": "Components",
                                    "EnglishProductSubcategoryName": "Road Frames",
                                    "ProductKey": "256",
                                    "volProm": "noVolProm",
                                    "prodQty": "44",
                                    "percProd": "88.00%"
                                },
                                {
                                    "EnglishProductCategoryName": "Components",
                                    "EnglishProductSubcategoryName": "Road Frames",
                                    "ProductKey": "257",
                                    "volProm": "noVolProm",
                                    "prodQty": "44",
                                    "percProd": "88.00%"
                                },
                                {
                                    "EnglishProductCategoryName": "Components",
                                    "EnglishProductSubcategoryName": "Road Frames",
                                    "ProductKey": "258",
                                    "volProm": "noVolProm",
                                    "prodQty": "44",
                                    "percProd": "88.00%"
                                },
                                {
                                    "EnglishProductCategoryName": "Components",
                                    "EnglishProductSubcategoryName": "Road Frames",
                                    "ProductKey": "262",
                                    "volProm": "noVolProm",
                                    "prodQty": "44",
                                    "percProd": "88.00%"
                                },
                                {
                                    "EnglishProductCategoryName": "Components",
                                    "EnglishProductSubcategoryName": "Road Frames",
                                    "ProductKey": "263",
                                    "volProm": "noVolProm",
                                    "prodQty": "44",
                                    "percProd": "88.00%"
                                },
                                {
                                    "EnglishProductCategoryName": "Components",
                                    "EnglishProductSubcategoryName": "Road Frames",
                                    "ProductKey": "263",
                                    "volProm": "VolProm",
                                    "prodQty": "6",
                                    "percProd": "12.00%"
                                },
                                {
                                    "EnglishProductCategoryName": "Components",
                                    "EnglishProductSubcategoryName": "Road Frames",
                                    "ProductKey": "264",
                                    "volProm": "noVolProm",
                                    "prodQty": "44",
                                    "percProd": "88.00%"
                                },
                                {
                                    "EnglishProductCategoryName": "Components",
                                    "EnglishProductSubcategoryName": "Road Frames",
                                    "ProductKey": "265",
                                    "volProm": "noVolProm",
                                    "prodQty": "44",
                                    "percProd": "88.00%"
                                },
                                {
                                    "EnglishProductCategoryName": "Components",
                                    "EnglishProductSubcategoryName": "Road Frames",
                                    "ProductKey": "266",
                                    "volProm": "noVolProm",
                                    "prodQty": "44",
                                    "percProd": "88.00%"
                                },
                                {
                                    "EnglishProductCategoryName": "Components",
                                    "EnglishProductSubcategoryName": "Road Frames",
                                    "ProductKey": "267",
                                    "volProm": "noVolProm",
                                    "prodQty": "44",
                                    "percProd": "88.00%"
                                },
                                {
                                    "EnglishProductCategoryName": "Components",
                                    "EnglishProductSubcategoryName": "Road Frames",
                                    "ProductKey": "270",
                                    "volProm": "noVolProm",
                                    "prodQty": "44",
                                    "percProd": "88.00%"
                                },
                                {
                                    "EnglishProductCategoryName": "Components",
                                    "EnglishProductSubcategoryName": "Road Frames",
                                    "ProductKey": "271",
                                    "volProm": "noVolProm",
                                    "prodQty": "44",
                                    "percProd": "88.00%"
                                },
                                {
                                    "EnglishProductCategoryName": "Components",
                                    "EnglishProductSubcategoryName": "Road Frames",
                                    "ProductKey": "272",
                                    "volProm": "noVolProm",
                                    "prodQty": "44",
                                    "percProd": "88.00%"
                                },
                                {
                                    "EnglishProductCategoryName": "Components",
                                    "EnglishProductSubcategoryName": "Road Frames",
                                    "ProductKey": "273",
                                    "volProm": "noVolProm",
                                    "prodQty": "44",
                                    "percProd": "88.00%"
                                },
                                {
                                    "EnglishProductCategoryName": "Components",
                                    "EnglishProductSubcategoryName": "Road Frames",
                                    "ProductKey": "273",
                                    "volProm": "VolProm",
                                    "prodQty": "6",
                                    "percProd": "12.00%"
                                },
                                {
                                    "EnglishProductCategoryName": "Components",
                                    "EnglishProductSubcategoryName": "Road Frames",
                                    "ProductKey": "275",
                                    "volProm": "noVolProm",
                                    "prodQty": "44",
                                    "percProd": "88.00%"
                                },
                                {
                                    "EnglishProductCategoryName": "Components",
                                    "EnglishProductSubcategoryName": "Road Frames",
                                    "ProductKey": "276",
                                    "volProm": "noVolProm",
                                    "prodQty": "44",
                                    "percProd": "88.00%"
                                },
                                {
                                    "EnglishProductCategoryName": "Components",
                                    "EnglishProductSubcategoryName": "Road Frames",
                                    "ProductKey": "279",
                                    "volProm": "noVolProm",
                                    "prodQty": "44",
                                    "percProd": "88.00%"
                                },
                                {
                                    "EnglishProductCategoryName": "Components",
                                    "EnglishProductSubcategoryName": "Road Frames",
                                    "ProductKey": "280",
                                    "volProm": "noVolProm",
                                    "prodQty": "44",
                                    "percProd": "88.00%"
                                },
                                {
                                    "EnglishProductCategoryName": "Components",
                                    "EnglishProductSubcategoryName": "Road Frames",
                                    "ProductKey": "281",
                                    "volProm": "noVolProm",
                                    "prodQty": "44",
                                    "percProd": "88.00%"
                                },
                                {
                                    "EnglishProductCategoryName": "Components",
                                    "EnglishProductSubcategoryName": "Road Frames",
                                    "ProductKey": "285",
                                    "volProm": "noVolProm",
                                    "prodQty": "44",
                                    "percProd": "88.00%"
                                },
                                {
                                    "EnglishProductCategoryName": "Components",
                                    "EnglishProductSubcategoryName": "Road Frames",
                                    "ProductKey": "286",
                                    "volProm": "noVolProm",
                                    "prodQty": "44",
                                    "percProd": "88.00%"
                                },
                                {
                                    "EnglishProductCategoryName": "Components",
                                    "EnglishProductSubcategoryName": "Road Frames",
                                    "ProductKey": "286",
                                    "volProm": "VolProm",
                                    "prodQty": "6",
                                    "percProd": "12.00%"
                                },
                                {
                                    "EnglishProductCategoryName": "Components",
                                    "EnglishProductSubcategoryName": "Road Frames",
                                    "ProductKey": "287",
                                    "volProm": "noVolProm",
                                    "prodQty": "44",
                                    "percProd": "88.00%"
                                },
                                {
                                    "EnglishProductCategoryName": "Components",
                                    "EnglishProductSubcategoryName": "Road Frames",
                                    "ProductKey": "287",
                                    "volProm": "VolProm",
                                    "prodQty": "6",
                                    "percProd": "12.00%"
                                },
                                {
                                    "EnglishProductCategoryName": "Components",
                                    "EnglishProductSubcategoryName": "Mountain Frames",
                                    "ProductKey": "288",
                                    "volProm": "noVolProm",
                                    "prodQty": "36",
                                    "percProd": "85.71%"
                                },
                                {
                                    "EnglishProductCategoryName": "Components",
                                    "EnglishProductSubcategoryName": "Mountain Frames",
                                    "ProductKey": "289",
                                    "volProm": "noVolProm",
                                    "prodQty": "36",
                                    "percProd": "85.71%"
                                },
                                {
                                    "EnglishProductCategoryName": "Components",
                                    "EnglishProductSubcategoryName": "Mountain Frames",
                                    "ProductKey": "290",
                                    "volProm": "noVolProm",
                                    "prodQty": "36",
                                    "percProd": "85.71%"
                                },
                                {
                                    "EnglishProductCategoryName": "Components",
                                    "EnglishProductSubcategoryName": "Mountain Frames",
                                    "ProductKey": "292",
                                    "volProm": "noVolProm",
                                    "prodQty": "36",
                                    "percProd": "85.71%"
                                },
                                {
                                    "EnglishProductCategoryName": "Components",
                                    "EnglishProductSubcategoryName": "Mountain Frames",
                                    "ProductKey": "293",
                                    "volProm": "noVolProm",
                                    "prodQty": "36",
                                    "percProd": "85.71%"
                                },
                                {
                                    "EnglishProductCategoryName": "Components",
                                    "EnglishProductSubcategoryName": "Mountain Frames",
                                    "ProductKey": "294",
                                    "volProm": "noVolProm",
                                    "prodQty": "36",
                                    "percProd": "85.71%"
                                },
                                {
                                    "EnglishProductCategoryName": "Components",
                                    "EnglishProductSubcategoryName": "Mountain Frames",
                                    "ProductKey": "295",
                                    "volProm": "noVolProm",
                                    "prodQty": "36",
                                    "percProd": "85.71%"
                                },
                                {
                                    "EnglishProductCategoryName": "Components",
                                    "EnglishProductSubcategoryName": "Mountain Frames",
                                    "ProductKey": "296",
                                    "volProm": "noVolProm",
                                    "prodQty": "36",
                                    "percProd": "85.71%"
                                },
                                {
                                    "EnglishProductCategoryName": "Components",
                                    "EnglishProductSubcategoryName": "Mountain Frames",
                                    "ProductKey": "297",
                                    "volProm": "noVolProm",
                                    "prodQty": "36",
                                    "percProd": "85.71%"
                                },
                                {
                                    "EnglishProductCategoryName": "Components",
                                    "EnglishProductSubcategoryName": "Mountain Frames",
                                    "ProductKey": "298",
                                    "volProm": "noVolProm",
                                    "prodQty": "36",
                                    "percProd": "85.71%"
                                },
                                {
                                    "EnglishProductCategoryName": "Components",
                                    "EnglishProductSubcategoryName": "Mountain Frames",
                                    "ProductKey": "299",
                                    "volProm": "noVolProm",
                                    "prodQty": "36",
                                    "percProd": "85.71%"
                                },
                                {
                                    "EnglishProductCategoryName": "Components",
                                    "EnglishProductSubcategoryName": "Mountain Frames",
                                    "ProductKey": "300",
                                    "volProm": "noVolProm",
                                    "prodQty": "36",
                                    "percProd": "85.71%"
                                },
                                {
                                    "EnglishProductCategoryName": "Components",
                                    "EnglishProductSubcategoryName": "Mountain Frames",
                                    "ProductKey": "304",
                                    "volProm": "noVolProm",
                                    "prodQty": "36",
                                    "percProd": "85.71%"
                                },
                                {
                                    "EnglishProductCategoryName": "Components",
                                    "EnglishProductSubcategoryName": "Mountain Frames",
                                    "ProductKey": "305",
                                    "volProm": "noVolProm",
                                    "prodQty": "36",
                                    "percProd": "85.71%"
                                },
                                {
                                    "EnglishProductCategoryName": "Components",
                                    "EnglishProductSubcategoryName": "Mountain Frames",
                                    "ProductKey": "306",
                                    "volProm": "noVolProm",
                                    "prodQty": "36",
                                    "percProd": "85.71%"
                                },
                                {
                                    "EnglishProductCategoryName": "Components",
                                    "EnglishProductSubcategoryName": "Mountain Frames",
                                    "ProductKey": "307",
                                    "volProm": "noVolProm",
                                    "prodQty": "36",
                                    "percProd": "85.71%"
                                },
                                {
                                    "EnglishProductCategoryName": "Components",
                                    "EnglishProductSubcategoryName": "Mountain Frames",
                                    "ProductKey": "308",
                                    "volProm": "noVolProm",
                                    "prodQty": "36",
                                    "percProd": "85.71%"
                                },
                                {
                                    "EnglishProductCategoryName": "Components",
                                    "EnglishProductSubcategoryName": "Mountain Frames",
                                    "ProductKey": "309",
                                    "volProm": "noVolProm",
                                    "prodQty": "36",
                                    "percProd": "85.71%"
                                },
                                {
                                    "EnglishProductCategoryName": "Components",
                                    "EnglishProductSubcategoryName": "Mountain Frames",
                                    "ProductKey": "309",
                                    "volProm": "VolProm",
                                    "prodQty": "6",
                                    "percProd": "14.29%"
                                },
                                {
                                    "EnglishProductCategoryName": "Bikes",
                                    "EnglishProductSubcategoryName": "Road Bikes",
                                    "ProductKey": "310",
                                    "volProm": "noVolProm",
                                    "prodQty": "65",
                                    "percProd": "71.43%"
                                },
                                {
                                    "EnglishProductCategoryName": "Bikes",
                                    "EnglishProductSubcategoryName": "Road Bikes",
                                    "ProductKey": "311",
                                    "volProm": "noVolProm",
                                    "prodQty": "65",
                                    "percProd": "71.43%"
                                },
                                {
                                    "EnglishProductCategoryName": "Bikes",
                                    "EnglishProductSubcategoryName": "Road Bikes",
                                    "ProductKey": "312",
                                    "volProm": "noVolProm",
                                    "prodQty": "65",
                                    "percProd": "71.43%"
                                },
                                {
                                    "EnglishProductCategoryName": "Bikes",
                                    "EnglishProductSubcategoryName": "Road Bikes",
                                    "ProductKey": "313",
                                    "volProm": "noVolProm",
                                    "prodQty": "65",
                                    "percProd": "71.43%"
                                },
                                {
                                    "EnglishProductCategoryName": "Bikes",
                                    "EnglishProductSubcategoryName": "Road Bikes",
                                    "ProductKey": "314",
                                    "volProm": "noVolProm",
                                    "prodQty": "65",
                                    "percProd": "71.43%"
                                },
                                {
                                    "EnglishProductCategoryName": "Bikes",
                                    "EnglishProductSubcategoryName": "Road Bikes",
                                    "ProductKey": "315",
                                    "volProm": "noVolProm",
                                    "prodQty": "65",
                                    "percProd": "71.43%"
                                },
                                {
                                    "EnglishProductCategoryName": "Bikes",
                                    "EnglishProductSubcategoryName": "Road Bikes",
                                    "ProductKey": "315",
                                    "volProm": "VolProm",
                                    "prodQty": "26",
                                    "percProd": "28.57%"
                                },
                                {
                                    "EnglishProductCategoryName": "Bikes",
                                    "EnglishProductSubcategoryName": "Road Bikes",
                                    "ProductKey": "316",
                                    "volProm": "noVolProm",
                                    "prodQty": "65",
                                    "percProd": "71.43%"
                                },
                                {
                                    "EnglishProductCategoryName": "Bikes",
                                    "EnglishProductSubcategoryName": "Road Bikes",
                                    "ProductKey": "317",
                                    "volProm": "noVolProm",
                                    "prodQty": "65",
                                    "percProd": "71.43%"
                                },
                                {
                                    "EnglishProductCategoryName": "Bikes",
                                    "EnglishProductSubcategoryName": "Road Bikes",
                                    "ProductKey": "318",
                                    "volProm": "noVolProm",
                                    "prodQty": "65",
                                    "percProd": "71.43%"
                                },
                                {
                                    "EnglishProductCategoryName": "Bikes",
                                    "EnglishProductSubcategoryName": "Road Bikes",
                                    "ProductKey": "319",
                                    "volProm": "noVolProm",
                                    "prodQty": "65",
                                    "percProd": "71.43%"
                                },
                                {
                                    "EnglishProductCategoryName": "Bikes",
                                    "EnglishProductSubcategoryName": "Road Bikes",
                                    "ProductKey": "320",
                                    "volProm": "noVolProm",
                                    "prodQty": "65",
                                    "percProd": "71.43%"
                                },
                                {
                                    "EnglishProductCategoryName": "Bikes",
                                    "EnglishProductSubcategoryName": "Road Bikes",
                                    "ProductKey": "321",
                                    "volProm": "noVolProm",
                                    "prodQty": "65",
                                    "percProd": "71.43%"
                                },
                                {
                                    "EnglishProductCategoryName": "Bikes",
                                    "EnglishProductSubcategoryName": "Road Bikes",
                                    "ProductKey": "322",
                                    "volProm": "noVolProm",
                                    "prodQty": "65",
                                    "percProd": "71.43%"
                                },
                                {
                                    "EnglishProductCategoryName": "Bikes",
                                    "EnglishProductSubcategoryName": "Road Bikes",
                                    "ProductKey": "322",
                                    "volProm": "VolProm",
                                    "prodQty": "26",
                                    "percProd": "28.57%"
                                },
                                {
                                    "EnglishProductCategoryName": "Bikes",
                                    "EnglishProductSubcategoryName": "Road Bikes",
                                    "ProductKey": "323",
                                    "volProm": "noVolProm",
                                    "prodQty": "65",
                                    "percProd": "71.43%"
                                },
                                {
                                    "EnglishProductCategoryName": "Bikes",
                                    "EnglishProductSubcategoryName": "Road Bikes",
                                    "ProductKey": "323",
                                    "volProm": "VolProm",
                                    "prodQty": "26",
                                    "percProd": "28.57%"
                                },
                                {
                                    "EnglishProductCategoryName": "Bikes",
                                    "EnglishProductSubcategoryName": "Road Bikes",
                                    "ProductKey": "324",
                                    "volProm": "noVolProm",
                                    "prodQty": "65",
                                    "percProd": "71.43%"
                                },
                                {
                                    "EnglishProductCategoryName": "Bikes",
                                    "EnglishProductSubcategoryName": "Road Bikes",
                                    "ProductKey": "325",
                                    "volProm": "noVolProm",
                                    "prodQty": "65",
                                    "percProd": "71.43%"
                                },
                                {
                                    "EnglishProductCategoryName": "Bikes",
                                    "EnglishProductSubcategoryName": "Road Bikes",
                                    "ProductKey": "325",
                                    "volProm": "VolProm",
                                    "prodQty": "26",
                                    "percProd": "28.57%"
                                },
                                {
                                    "EnglishProductCategoryName": "Bikes",
                                    "EnglishProductSubcategoryName": "Road Bikes",
                                    "ProductKey": "326",
                                    "volProm": "noVolProm",
                                    "prodQty": "65",
                                    "percProd": "71.43%"
                                },
                                {
                                    "EnglishProductCategoryName": "Bikes",
                                    "EnglishProductSubcategoryName": "Road Bikes",
                                    "ProductKey": "327",
                                    "volProm": "noVolProm",
                                    "prodQty": "65",
                                    "percProd": "71.43%"
                                },
                                {
                                    "EnglishProductCategoryName": "Bikes",
                                    "EnglishProductSubcategoryName": "Road Bikes",
                                    "ProductKey": "327",
                                    "volProm": "VolProm",
                                    "prodQty": "26",
                                    "percProd": "28.57%"
                                },
                                {
                                    "EnglishProductCategoryName": "Bikes",
                                    "EnglishProductSubcategoryName": "Road Bikes",
                                    "ProductKey": "328",
                                    "volProm": "noVolProm",
                                    "prodQty": "65",
                                    "percProd": "71.43%"
                                },
                                {
                                    "EnglishProductCategoryName": "Bikes",
                                    "EnglishProductSubcategoryName": "Road Bikes",
                                    "ProductKey": "329",
                                    "volProm": "noVolProm",
                                    "prodQty": "65",
                                    "percProd": "71.43%"
                                },
                                {
                                    "EnglishProductCategoryName": "Bikes",
                                    "EnglishProductSubcategoryName": "Road Bikes",
                                    "ProductKey": "329",
                                    "volProm": "VolProm",
                                    "prodQty": "26",
                                    "percProd": "28.57%"
                                },
                                {
                                    "EnglishProductCategoryName": "Bikes",
                                    "EnglishProductSubcategoryName": "Road Bikes",
                                    "ProductKey": "330",
                                    "volProm": "noVolProm",
                                    "prodQty": "65",
                                    "percProd": "71.43%"
                                },
                                {
                                    "EnglishProductCategoryName": "Bikes",
                                    "EnglishProductSubcategoryName": "Road Bikes",
                                    "ProductKey": "331",
                                    "volProm": "noVolProm",
                                    "prodQty": "65",
                                    "percProd": "71.43%"
                                },
                                {
                                    "EnglishProductCategoryName": "Bikes",
                                    "EnglishProductSubcategoryName": "Road Bikes",
                                    "ProductKey": "332",
                                    "volProm": "noVolProm",
                                    "prodQty": "65",
                                    "percProd": "71.43%"
                                },
                                {
                                    "EnglishProductCategoryName": "Bikes",
                                    "EnglishProductSubcategoryName": "Road Bikes",
                                    "ProductKey": "333",
                                    "volProm": "noVolProm",
                                    "prodQty": "65",
                                    "percProd": "71.43%"
                                },
                                {
                                    "EnglishProductCategoryName": "Bikes",
                                    "EnglishProductSubcategoryName": "Road Bikes",
                                    "ProductKey": "333",
                                    "volProm": "VolProm",
                                    "prodQty": "26",
                                    "percProd": "28.57%"
                                },
                                {
                                    "EnglishProductCategoryName": "Bikes",
                                    "EnglishProductSubcategoryName": "Road Bikes",
                                    "ProductKey": "334",
                                    "volProm": "noVolProm",
                                    "prodQty": "65",
                                    "percProd": "71.43%"
                                },
                                {
                                    "EnglishProductCategoryName": "Bikes",
                                    "EnglishProductSubcategoryName": "Road Bikes",
                                    "ProductKey": "335",
                                    "volProm": "noVolProm",
                                    "prodQty": "65",
                                    "percProd": "71.43%"
                                },
                                {
                                    "EnglishProductCategoryName": "Bikes",
                                    "EnglishProductSubcategoryName": "Road Bikes",
                                    "ProductKey": "335",
                                    "volProm": "VolProm",
                                    "prodQty": "26",
                                    "percProd": "28.57%"
                                },
                                {
                                    "EnglishProductCategoryName": "Bikes",
                                    "EnglishProductSubcategoryName": "Road Bikes",
                                    "ProductKey": "336",
                                    "volProm": "noVolProm",
                                    "prodQty": "65",
                                    "percProd": "71.43%"
                                },
                                {
                                    "EnglishProductCategoryName": "Bikes",
                                    "EnglishProductSubcategoryName": "Road Bikes",
                                    "ProductKey": "337",
                                    "volProm": "noVolProm",
                                    "prodQty": "65",
                                    "percProd": "71.43%"
                                },
                                {
                                    "EnglishProductCategoryName": "Bikes",
                                    "EnglishProductSubcategoryName": "Road Bikes",
                                    "ProductKey": "338",
                                    "volProm": "noVolProm",
                                    "prodQty": "65",
                                    "percProd": "71.43%"
                                },
                                {
                                    "EnglishProductCategoryName": "Bikes",
                                    "EnglishProductSubcategoryName": "Road Bikes",
                                    "ProductKey": "339",
                                    "volProm": "noVolProm",
                                    "prodQty": "65",
                                    "percProd": "71.43%"
                                },
                                {
                                    "EnglishProductCategoryName": "Bikes",
                                    "EnglishProductSubcategoryName": "Road Bikes",
                                    "ProductKey": "339",
                                    "volProm": "VolProm",
                                    "prodQty": "26",
                                    "percProd": "28.57%"
                                },
                                {
                                    "EnglishProductCategoryName": "Bikes",
                                    "EnglishProductSubcategoryName": "Road Bikes",
                                    "ProductKey": "340",
                                    "volProm": "noVolProm",
                                    "prodQty": "65",
                                    "percProd": "71.43%"
                                },
                                {
                                    "EnglishProductCategoryName": "Bikes",
                                    "EnglishProductSubcategoryName": "Road Bikes",
                                    "ProductKey": "341",
                                    "volProm": "noVolProm",
                                    "prodQty": "65",
                                    "percProd": "71.43%"
                                },
                                {
                                    "EnglishProductCategoryName": "Bikes",
                                    "EnglishProductSubcategoryName": "Road Bikes",
                                    "ProductKey": "342",
                                    "volProm": "noVolProm",
                                    "prodQty": "65",
                                    "percProd": "71.43%"
                                },
                                {
                                    "EnglishProductCategoryName": "Bikes",
                                    "EnglishProductSubcategoryName": "Road Bikes",
                                    "ProductKey": "342",
                                    "volProm": "VolProm",
                                    "prodQty": "26",
                                    "percProd": "28.57%"
                                },
                                {
                                    "EnglishProductCategoryName": "Bikes",
                                    "EnglishProductSubcategoryName": "Road Bikes",
                                    "ProductKey": "343",
                                    "volProm": "noVolProm",
                                    "prodQty": "65",
                                    "percProd": "71.43%"
                                },
                                {
                                    "EnglishProductCategoryName": "Bikes",
                                    "EnglishProductSubcategoryName": "Road Bikes",
                                    "ProductKey": "343",
                                    "volProm": "VolProm",
                                    "prodQty": "26",
                                    "percProd": "28.57%"
                                },
                                {
                                    "EnglishProductCategoryName": "Bikes",
                                    "EnglishProductSubcategoryName": "Mountain Bikes",
                                    "ProductKey": "344",
                                    "volProm": "noVolProm",
                                    "prodQty": "38",
                                    "percProd": "63.33%"
                                },
                                {
                                    "EnglishProductCategoryName": "Bikes",
                                    "EnglishProductSubcategoryName": "Mountain Bikes",
                                    "ProductKey": "345",
                                    "volProm": "noVolProm",
                                    "prodQty": "38",
                                    "percProd": "63.33%"
                                },
                                {
                                    "EnglishProductCategoryName": "Bikes",
                                    "EnglishProductSubcategoryName": "Mountain Bikes",
                                    "ProductKey": "345",
                                    "volProm": "VolProm",
                                    "prodQty": "22",
                                    "percProd": "36.67%"
                                },
                                {
                                    "EnglishProductCategoryName": "Bikes",
                                    "EnglishProductSubcategoryName": "Mountain Bikes",
                                    "ProductKey": "346",
                                    "volProm": "noVolProm",
                                    "prodQty": "38",
                                    "percProd": "63.33%"
                                },
                                {
                                    "EnglishProductCategoryName": "Bikes",
                                    "EnglishProductSubcategoryName": "Mountain Bikes",
                                    "ProductKey": "346",
                                    "volProm": "VolProm",
                                    "prodQty": "22",
                                    "percProd": "36.67%"
                                },
                                {
                                    "EnglishProductCategoryName": "Bikes",
                                    "EnglishProductSubcategoryName": "Mountain Bikes",
                                    "ProductKey": "347",
                                    "volProm": "noVolProm",
                                    "prodQty": "38",
                                    "percProd": "63.33%"
                                },
                                {
                                    "EnglishProductCategoryName": "Bikes",
                                    "EnglishProductSubcategoryName": "Mountain Bikes",
                                    "ProductKey": "348",
                                    "volProm": "noVolProm",
                                    "prodQty": "38",
                                    "percProd": "63.33%"
                                },
                                {
                                    "EnglishProductCategoryName": "Bikes",
                                    "EnglishProductSubcategoryName": "Mountain Bikes",
                                    "ProductKey": "348",
                                    "volProm": "VolProm",
                                    "prodQty": "22",
                                    "percProd": "36.67%"
                                },
                                {
                                    "EnglishProductCategoryName": "Bikes",
                                    "EnglishProductSubcategoryName": "Mountain Bikes",
                                    "ProductKey": "349",
                                    "volProm": "noVolProm",
                                    "prodQty": "38",
                                    "percProd": "63.33%"
                                },
                                {
                                    "EnglishProductCategoryName": "Bikes",
                                    "EnglishProductSubcategoryName": "Mountain Bikes",
                                    "ProductKey": "349",
                                    "volProm": "VolProm",
                                    "prodQty": "22",
                                    "percProd": "36.67%"
                                },
                                {
                                    "EnglishProductCategoryName": "Bikes",
                                    "EnglishProductSubcategoryName": "Mountain Bikes",
                                    "ProductKey": "350",
                                    "volProm": "noVolProm",
                                    "prodQty": "38",
                                    "percProd": "63.33%"
                                },
                                {
                                    "EnglishProductCategoryName": "Bikes",
                                    "EnglishProductSubcategoryName": "Mountain Bikes",
                                    "ProductKey": "350",
                                    "volProm": "VolProm",
                                    "prodQty": "22",
                                    "percProd": "36.67%"
                                },
                                {
                                    "EnglishProductCategoryName": "Bikes",
                                    "EnglishProductSubcategoryName": "Mountain Bikes",
                                    "ProductKey": "351",
                                    "volProm": "noVolProm",
                                    "prodQty": "38",
                                    "percProd": "63.33%"
                                },
                                {
                                    "EnglishProductCategoryName": "Bikes",
                                    "EnglishProductSubcategoryName": "Mountain Bikes",
                                    "ProductKey": "352",
                                    "volProm": "noVolProm",
                                    "prodQty": "38",
                                    "percProd": "63.33%"
                                },
                                {
                                    "EnglishProductCategoryName": "Bikes",
                                    "EnglishProductSubcategoryName": "Mountain Bikes",
                                    "ProductKey": "352",
                                    "volProm": "VolProm",
                                    "prodQty": "22",
                                    "percProd": "36.67%"
                                },
                                {
                                    "EnglishProductCategoryName": "Bikes",
                                    "EnglishProductSubcategoryName": "Mountain Bikes",
                                    "ProductKey": "353",
                                    "volProm": "noVolProm",
                                    "prodQty": "38",
                                    "percProd": "63.33%"
                                },
                                {
                                    "EnglishProductCategoryName": "Bikes",
                                    "EnglishProductSubcategoryName": "Mountain Bikes",
                                    "ProductKey": "353",
                                    "volProm": "VolProm",
                                    "prodQty": "22",
                                    "percProd": "36.67%"
                                },
                                {
                                    "EnglishProductCategoryName": "Bikes",
                                    "EnglishProductSubcategoryName": "Mountain Bikes",
                                    "ProductKey": "354",
                                    "volProm": "noVolProm",
                                    "prodQty": "38",
                                    "percProd": "63.33%"
                                },
                                {
                                    "EnglishProductCategoryName": "Bikes",
                                    "EnglishProductSubcategoryName": "Mountain Bikes",
                                    "ProductKey": "354",
                                    "volProm": "VolProm",
                                    "prodQty": "22",
                                    "percProd": "36.67%"
                                },
                                {
                                    "EnglishProductCategoryName": "Bikes",
                                    "EnglishProductSubcategoryName": "Mountain Bikes",
                                    "ProductKey": "355",
                                    "volProm": "noVolProm",
                                    "prodQty": "38",
                                    "percProd": "63.33%"
                                },
                                {
                                    "EnglishProductCategoryName": "Bikes",
                                    "EnglishProductSubcategoryName": "Mountain Bikes",
                                    "ProductKey": "355",
                                    "volProm": "VolProm",
                                    "prodQty": "22",
                                    "percProd": "36.67%"
                                },
                                {
                                    "EnglishProductCategoryName": "Bikes",
                                    "EnglishProductSubcategoryName": "Mountain Bikes",
                                    "ProductKey": "356",
                                    "volProm": "noVolProm",
                                    "prodQty": "38",
                                    "percProd": "63.33%"
                                },
                                {
                                    "EnglishProductCategoryName": "Bikes",
                                    "EnglishProductSubcategoryName": "Mountain Bikes",
                                    "ProductKey": "356",
                                    "volProm": "VolProm",
                                    "prodQty": "22",
                                    "percProd": "36.67%"
                                },
                                {
                                    "EnglishProductCategoryName": "Bikes",
                                    "EnglishProductSubcategoryName": "Mountain Bikes",
                                    "ProductKey": "357",
                                    "volProm": "noVolProm",
                                    "prodQty": "38",
                                    "percProd": "63.33%"
                                },
                                {
                                    "EnglishProductCategoryName": "Bikes",
                                    "EnglishProductSubcategoryName": "Mountain Bikes",
                                    "ProductKey": "357",
                                    "volProm": "VolProm",
                                    "prodQty": "22",
                                    "percProd": "36.67%"
                                },
                                {
                                    "EnglishProductCategoryName": "Bikes",
                                    "EnglishProductSubcategoryName": "Mountain Bikes",
                                    "ProductKey": "358",
                                    "volProm": "noVolProm",
                                    "prodQty": "38",
                                    "percProd": "63.33%"
                                },
                                {
                                    "EnglishProductCategoryName": "Bikes",
                                    "EnglishProductSubcategoryName": "Mountain Bikes",
                                    "ProductKey": "358",
                                    "volProm": "VolProm",
                                    "prodQty": "22",
                                    "percProd": "36.67%"
                                },
                                {
                                    "EnglishProductCategoryName": "Bikes",
                                    "EnglishProductSubcategoryName": "Mountain Bikes",
                                    "ProductKey": "359",
                                    "volProm": "noVolProm",
                                    "prodQty": "38",
                                    "percProd": "63.33%"
                                },
                                {
                                    "EnglishProductCategoryName": "Bikes",
                                    "EnglishProductSubcategoryName": "Mountain Bikes",
                                    "ProductKey": "359",
                                    "volProm": "VolProm",
                                    "prodQty": "22",
                                    "percProd": "36.67%"
                                },
                                {
                                    "EnglishProductCategoryName": "Bikes",
                                    "EnglishProductSubcategoryName": "Mountain Bikes",
                                    "ProductKey": "360",
                                    "volProm": "noVolProm",
                                    "prodQty": "38",
                                    "percProd": "63.33%"
                                },
                                {
                                    "EnglishProductCategoryName": "Bikes",
                                    "EnglishProductSubcategoryName": "Mountain Bikes",
                                    "ProductKey": "360",
                                    "volProm": "VolProm",
                                    "prodQty": "22",
                                    "percProd": "36.67%"
                                },
                                {
                                    "EnglishProductCategoryName": "Bikes",
                                    "EnglishProductSubcategoryName": "Mountain Bikes",
                                    "ProductKey": "361",
                                    "volProm": "noVolProm",
                                    "prodQty": "38",
                                    "percProd": "63.33%"
                                },
                                {
                                    "EnglishProductCategoryName": "Bikes",
                                    "EnglishProductSubcategoryName": "Mountain Bikes",
                                    "ProductKey": "361",
                                    "volProm": "VolProm",
                                    "prodQty": "22",
                                    "percProd": "36.67%"
                                },
                                {
                                    "EnglishProductCategoryName": "Bikes",
                                    "EnglishProductSubcategoryName": "Mountain Bikes",
                                    "ProductKey": "362",
                                    "volProm": "noVolProm",
                                    "prodQty": "38",
                                    "percProd": "63.33%"
                                },
                                {
                                    "EnglishProductCategoryName": "Bikes",
                                    "EnglishProductSubcategoryName": "Mountain Bikes",
                                    "ProductKey": "362",
                                    "volProm": "VolProm",
                                    "prodQty": "22",
                                    "percProd": "36.67%"
                                },
                                {
                                    "EnglishProductCategoryName": "Bikes",
                                    "EnglishProductSubcategoryName": "Mountain Bikes",
                                    "ProductKey": "363",
                                    "volProm": "noVolProm",
                                    "prodQty": "38",
                                    "percProd": "63.33%"
                                },
                                {
                                    "EnglishProductCategoryName": "Bikes",
                                    "EnglishProductSubcategoryName": "Mountain Bikes",
                                    "ProductKey": "363",
                                    "volProm": "VolProm",
                                    "prodQty": "22",
                                    "percProd": "36.67%"
                                },
                                {
                                    "EnglishProductCategoryName": "Bikes",
                                    "EnglishProductSubcategoryName": "Mountain Bikes",
                                    "ProductKey": "364",
                                    "volProm": "noVolProm",
                                    "prodQty": "38",
                                    "percProd": "63.33%"
                                },
                                {
                                    "EnglishProductCategoryName": "Bikes",
                                    "EnglishProductSubcategoryName": "Mountain Bikes",
                                    "ProductKey": "364",
                                    "volProm": "VolProm",
                                    "prodQty": "22",
                                    "percProd": "36.67%"
                                },
                                {
                                    "EnglishProductCategoryName": "Bikes",
                                    "EnglishProductSubcategoryName": "Mountain Bikes",
                                    "ProductKey": "365",
                                    "volProm": "noVolProm",
                                    "prodQty": "38",
                                    "percProd": "63.33%"
                                },
                                {
                                    "EnglishProductCategoryName": "Bikes",
                                    "EnglishProductSubcategoryName": "Mountain Bikes",
                                    "ProductKey": "365",
                                    "volProm": "VolProm",
                                    "prodQty": "22",
                                    "percProd": "36.67%"
                                },
                                {
                                    "EnglishProductCategoryName": "Bikes",
                                    "EnglishProductSubcategoryName": "Mountain Bikes",
                                    "ProductKey": "366",
                                    "volProm": "noVolProm",
                                    "prodQty": "38",
                                    "percProd": "63.33%"
                                },
                                {
                                    "EnglishProductCategoryName": "Bikes",
                                    "EnglishProductSubcategoryName": "Mountain Bikes",
                                    "ProductKey": "367",
                                    "volProm": "noVolProm",
                                    "prodQty": "38",
                                    "percProd": "63.33%"
                                },
                                {
                                    "EnglishProductCategoryName": "Bikes",
                                    "EnglishProductSubcategoryName": "Mountain Bikes",
                                    "ProductKey": "367",
                                    "volProm": "VolProm",
                                    "prodQty": "22",
                                    "percProd": "36.67%"
                                },
                                {
                                    "EnglishProductCategoryName": "Bikes",
                                    "EnglishProductSubcategoryName": "Road Bikes",
                                    "ProductKey": "368",
                                    "volProm": "noVolProm",
                                    "prodQty": "65",
                                    "percProd": "71.43%"
                                },
                                {
                                    "EnglishProductCategoryName": "Bikes",
                                    "EnglishProductSubcategoryName": "Road Bikes",
                                    "ProductKey": "368",
                                    "volProm": "VolProm",
                                    "prodQty": "26",
                                    "percProd": "28.57%"
                                },
                                {
                                    "EnglishProductCategoryName": "Bikes",
                                    "EnglishProductSubcategoryName": "Road Bikes",
                                    "ProductKey": "369",
                                    "volProm": "noVolProm",
                                    "prodQty": "65",
                                    "percProd": "71.43%"
                                },
                                {
                                    "EnglishProductCategoryName": "Bikes",
                                    "EnglishProductSubcategoryName": "Road Bikes",
                                    "ProductKey": "369",
                                    "volProm": "VolProm",
                                    "prodQty": "26",
                                    "percProd": "28.57%"
                                },
                                {
                                    "EnglishProductCategoryName": "Bikes",
                                    "EnglishProductSubcategoryName": "Road Bikes",
                                    "ProductKey": "370",
                                    "volProm": "noVolProm",
                                    "prodQty": "65",
                                    "percProd": "71.43%"
                                },
                                {
                                    "EnglishProductCategoryName": "Bikes",
                                    "EnglishProductSubcategoryName": "Road Bikes",
                                    "ProductKey": "371",
                                    "volProm": "noVolProm",
                                    "prodQty": "65",
                                    "percProd": "71.43%"
                                },
                                {
                                    "EnglishProductCategoryName": "Bikes",
                                    "EnglishProductSubcategoryName": "Road Bikes",
                                    "ProductKey": "372",
                                    "volProm": "noVolProm",
                                    "prodQty": "65",
                                    "percProd": "71.43%"
                                },
                                {
                                    "EnglishProductCategoryName": "Bikes",
                                    "EnglishProductSubcategoryName": "Road Bikes",
                                    "ProductKey": "373",
                                    "volProm": "noVolProm",
                                    "prodQty": "65",
                                    "percProd": "71.43%"
                                },
                                {
                                    "EnglishProductCategoryName": "Bikes",
                                    "EnglishProductSubcategoryName": "Road Bikes",
                                    "ProductKey": "373",
                                    "volProm": "VolProm",
                                    "prodQty": "26",
                                    "percProd": "28.57%"
                                },
                                {
                                    "EnglishProductCategoryName": "Bikes",
                                    "EnglishProductSubcategoryName": "Road Bikes",
                                    "ProductKey": "374",
                                    "volProm": "noVolProm",
                                    "prodQty": "65",
                                    "percProd": "71.43%"
                                },
                                {
                                    "EnglishProductCategoryName": "Bikes",
                                    "EnglishProductSubcategoryName": "Road Bikes",
                                    "ProductKey": "375",
                                    "volProm": "noVolProm",
                                    "prodQty": "65",
                                    "percProd": "71.43%"
                                },
                                {
                                    "EnglishProductCategoryName": "Bikes",
                                    "EnglishProductSubcategoryName": "Road Bikes",
                                    "ProductKey": "375",
                                    "volProm": "VolProm",
                                    "prodQty": "26",
                                    "percProd": "28.57%"
                                },
                                {
                                    "EnglishProductCategoryName": "Bikes",
                                    "EnglishProductSubcategoryName": "Road Bikes",
                                    "ProductKey": "376",
                                    "volProm": "noVolProm",
                                    "prodQty": "65",
                                    "percProd": "71.43%"
                                },
                                {
                                    "EnglishProductCategoryName": "Bikes",
                                    "EnglishProductSubcategoryName": "Road Bikes",
                                    "ProductKey": "376",
                                    "volProm": "VolProm",
                                    "prodQty": "26",
                                    "percProd": "28.57%"
                                },
                                {
                                    "EnglishProductCategoryName": "Bikes",
                                    "EnglishProductSubcategoryName": "Road Bikes",
                                    "ProductKey": "377",
                                    "volProm": "noVolProm",
                                    "prodQty": "65",
                                    "percProd": "71.43%"
                                },
                                {
                                    "EnglishProductCategoryName": "Bikes",
                                    "EnglishProductSubcategoryName": "Road Bikes",
                                    "ProductKey": "378",
                                    "volProm": "noVolProm",
                                    "prodQty": "65",
                                    "percProd": "71.43%"
                                },
                                {
                                    "EnglishProductCategoryName": "Bikes",
                                    "EnglishProductSubcategoryName": "Road Bikes",
                                    "ProductKey": "379",
                                    "volProm": "noVolProm",
                                    "prodQty": "65",
                                    "percProd": "71.43%"
                                },
                                {
                                    "EnglishProductCategoryName": "Bikes",
                                    "EnglishProductSubcategoryName": "Road Bikes",
                                    "ProductKey": "380",
                                    "volProm": "noVolProm",
                                    "prodQty": "65",
                                    "percProd": "71.43%"
                                },
                                {
                                    "EnglishProductCategoryName": "Bikes",
                                    "EnglishProductSubcategoryName": "Road Bikes",
                                    "ProductKey": "381",
                                    "volProm": "noVolProm",
                                    "prodQty": "65",
                                    "percProd": "71.43%"
                                },
                                {
                                    "EnglishProductCategoryName": "Bikes",
                                    "EnglishProductSubcategoryName": "Road Bikes",
                                    "ProductKey": "381",
                                    "volProm": "VolProm",
                                    "prodQty": "26",
                                    "percProd": "28.57%"
                                },
                                {
                                    "EnglishProductCategoryName": "Bikes",
                                    "EnglishProductSubcategoryName": "Road Bikes",
                                    "ProductKey": "382",
                                    "volProm": "noVolProm",
                                    "prodQty": "65",
                                    "percProd": "71.43%"
                                },
                                {
                                    "EnglishProductCategoryName": "Bikes",
                                    "EnglishProductSubcategoryName": "Road Bikes",
                                    "ProductKey": "382",
                                    "volProm": "VolProm",
                                    "prodQty": "26",
                                    "percProd": "28.57%"
                                },
                                {
                                    "EnglishProductCategoryName": "Bikes",
                                    "EnglishProductSubcategoryName": "Road Bikes",
                                    "ProductKey": "383",
                                    "volProm": "noVolProm",
                                    "prodQty": "65",
                                    "percProd": "71.43%"
                                },
                                {
                                    "EnglishProductCategoryName": "Bikes",
                                    "EnglishProductSubcategoryName": "Road Bikes",
                                    "ProductKey": "384",
                                    "volProm": "noVolProm",
                                    "prodQty": "65",
                                    "percProd": "71.43%"
                                },
                                {
                                    "EnglishProductCategoryName": "Bikes",
                                    "EnglishProductSubcategoryName": "Road Bikes",
                                    "ProductKey": "384",
                                    "volProm": "VolProm",
                                    "prodQty": "26",
                                    "percProd": "28.57%"
                                },
                                {
                                    "EnglishProductCategoryName": "Bikes",
                                    "EnglishProductSubcategoryName": "Road Bikes",
                                    "ProductKey": "385",
                                    "volProm": "noVolProm",
                                    "prodQty": "65",
                                    "percProd": "71.43%"
                                },
                                {
                                    "EnglishProductCategoryName": "Bikes",
                                    "EnglishProductSubcategoryName": "Road Bikes",
                                    "ProductKey": "386",
                                    "volProm": "noVolProm",
                                    "prodQty": "65",
                                    "percProd": "71.43%"
                                },
                                {
                                    "EnglishProductCategoryName": "Bikes",
                                    "EnglishProductSubcategoryName": "Road Bikes",
                                    "ProductKey": "387",
                                    "volProm": "noVolProm",
                                    "prodQty": "65",
                                    "percProd": "71.43%"
                                },
                                {
                                    "EnglishProductCategoryName": "Bikes",
                                    "EnglishProductSubcategoryName": "Road Bikes",
                                    "ProductKey": "388",
                                    "volProm": "noVolProm",
                                    "prodQty": "65",
                                    "percProd": "71.43%"
                                },
                                {
                                    "EnglishProductCategoryName": "Bikes",
                                    "EnglishProductSubcategoryName": "Road Bikes",
                                    "ProductKey": "389",
                                    "volProm": "noVolProm",
                                    "prodQty": "65",
                                    "percProd": "71.43%"
                                },
                                {
                                    "EnglishProductCategoryName": "Bikes",
                                    "EnglishProductSubcategoryName": "Road Bikes",
                                    "ProductKey": "389",
                                    "volProm": "VolProm",
                                    "prodQty": "26",
                                    "percProd": "28.57%"
                                },
                                {
                                    "EnglishProductCategoryName": "Bikes",
                                    "EnglishProductSubcategoryName": "Road Bikes",
                                    "ProductKey": "390",
                                    "volProm": "noVolProm",
                                    "prodQty": "65",
                                    "percProd": "71.43%"
                                },
                                {
                                    "EnglishProductCategoryName": "Bikes",
                                    "EnglishProductSubcategoryName": "Road Bikes",
                                    "ProductKey": "390",
                                    "volProm": "VolProm",
                                    "prodQty": "26",
                                    "percProd": "28.57%"
                                },
                                {
                                    "EnglishProductCategoryName": "Components",
                                    "EnglishProductSubcategoryName": "Forks",
                                    "ProductKey": "391",
                                    "volProm": "noVolProm",
                                    "prodQty": "2",
                                    "percProd": "66.67%"
                                },
                                {
                                    "EnglishProductCategoryName": "Components",
                                    "EnglishProductSubcategoryName": "Forks",
                                    "ProductKey": "393",
                                    "volProm": "noVolProm",
                                    "prodQty": "2",
                                    "percProd": "66.67%"
                                },
                                {
                                    "EnglishProductCategoryName": "Components",
                                    "EnglishProductSubcategoryName": "Forks",
                                    "ProductKey": "393",
                                    "volProm": "VolProm",
                                    "prodQty": "1",
                                    "percProd": "33.33%"
                                },
                                {
                                    "EnglishProductCategoryName": "Components",
                                    "EnglishProductSubcategoryName": "Headsets",
                                    "ProductKey": "394",
                                    "volProm": "noVolProm",
                                    "prodQty": "3",
                                    "percProd": "75.00%"
                                },
                                {
                                    "EnglishProductCategoryName": "Components",
                                    "EnglishProductSubcategoryName": "Headsets",
                                    "ProductKey": "395",
                                    "volProm": "noVolProm",
                                    "prodQty": "3",
                                    "percProd": "75.00%"
                                },
                                {
                                    "EnglishProductCategoryName": "Components",
                                    "EnglishProductSubcategoryName": "Headsets",
                                    "ProductKey": "395",
                                    "volProm": "VolProm",
                                    "prodQty": "1",
                                    "percProd": "25.00%"
                                },
                                {
                                    "EnglishProductCategoryName": "Components",
                                    "EnglishProductSubcategoryName": "Headsets",
                                    "ProductKey": "396",
                                    "volProm": "noVolProm",
                                    "prodQty": "3",
                                    "percProd": "75.00%"
                                },
                                {
                                    "EnglishProductCategoryName": "Components",
                                    "EnglishProductSubcategoryName": "Handlebars",
                                    "ProductKey": "397",
                                    "volProm": "noVolProm",
                                    "prodQty": "12",
                                    "percProd": "80.00%"
                                },
                                {
                                    "EnglishProductCategoryName": "Components",
                                    "EnglishProductSubcategoryName": "Handlebars",
                                    "ProductKey": "398",
                                    "volProm": "noVolProm",
                                    "prodQty": "12",
                                    "percProd": "80.00%"
                                },
                                {
                                    "EnglishProductCategoryName": "Components",
                                    "EnglishProductSubcategoryName": "Handlebars",
                                    "ProductKey": "398",
                                    "volProm": "VolProm",
                                    "prodQty": "3",
                                    "percProd": "20.00%"
                                },
                                {
                                    "EnglishProductCategoryName": "Components",
                                    "EnglishProductSubcategoryName": "Handlebars",
                                    "ProductKey": "399",
                                    "volProm": "noVolProm",
                                    "prodQty": "12",
                                    "percProd": "80.00%"
                                },
                                {
                                    "EnglishProductCategoryName": "Components",
                                    "EnglishProductSubcategoryName": "Handlebars",
                                    "ProductKey": "399",
                                    "volProm": "VolProm",
                                    "prodQty": "3",
                                    "percProd": "20.00%"
                                },
                                {
                                    "EnglishProductCategoryName": "Components",
                                    "EnglishProductSubcategoryName": "Handlebars",
                                    "ProductKey": "400",
                                    "volProm": "noVolProm",
                                    "prodQty": "12",
                                    "percProd": "80.00%"
                                },
                                {
                                    "EnglishProductCategoryName": "Components",
                                    "EnglishProductSubcategoryName": "Handlebars",
                                    "ProductKey": "400",
                                    "volProm": "VolProm",
                                    "prodQty": "3",
                                    "percProd": "20.00%"
                                },
                                {
                                    "EnglishProductCategoryName": "Components",
                                    "EnglishProductSubcategoryName": "Handlebars",
                                    "ProductKey": "401",
                                    "volProm": "noVolProm",
                                    "prodQty": "12",
                                    "percProd": "80.00%"
                                },
                                {
                                    "EnglishProductCategoryName": "Components",
                                    "EnglishProductSubcategoryName": "Handlebars",
                                    "ProductKey": "402",
                                    "volProm": "noVolProm",
                                    "prodQty": "12",
                                    "percProd": "80.00%"
                                },
                                {
                                    "EnglishProductCategoryName": "Components",
                                    "EnglishProductSubcategoryName": "Handlebars",
                                    "ProductKey": "403",
                                    "volProm": "noVolProm",
                                    "prodQty": "12",
                                    "percProd": "80.00%"
                                },
                                {
                                    "EnglishProductCategoryName": "Components",
                                    "EnglishProductSubcategoryName": "Handlebars",
                                    "ProductKey": "404",
                                    "volProm": "noVolProm",
                                    "prodQty": "12",
                                    "percProd": "80.00%"
                                },
                                {
                                    "EnglishProductCategoryName": "Components",
                                    "EnglishProductSubcategoryName": "Handlebars",
                                    "ProductKey": "407",
                                    "volProm": "noVolProm",
                                    "prodQty": "12",
                                    "percProd": "80.00%"
                                },
                                {
                                    "EnglishProductCategoryName": "Components",
                                    "EnglishProductSubcategoryName": "Handlebars",
                                    "ProductKey": "408",
                                    "volProm": "noVolProm",
                                    "prodQty": "12",
                                    "percProd": "80.00%"
                                },
                                {
                                    "EnglishProductCategoryName": "Components",
                                    "EnglishProductSubcategoryName": "Mountain Frames",
                                    "ProductKey": "409",
                                    "volProm": "noVolProm",
                                    "prodQty": "36",
                                    "percProd": "85.71%"
                                },
                                {
                                    "EnglishProductCategoryName": "Components",
                                    "EnglishProductSubcategoryName": "Wheels",
                                    "ProductKey": "410",
                                    "volProm": "noVolProm",
                                    "prodQty": "11",
                                    "percProd": "78.57%"
                                },
                                {
                                    "EnglishProductCategoryName": "Components",
                                    "EnglishProductSubcategoryName": "Wheels",
                                    "ProductKey": "410",
                                    "volProm": "VolProm",
                                    "prodQty": "3",
                                    "percProd": "21.43%"
                                },
                                {
                                    "EnglishProductCategoryName": "Components",
                                    "EnglishProductSubcategoryName": "Wheels",
                                    "ProductKey": "411",
                                    "volProm": "noVolProm",
                                    "prodQty": "11",
                                    "percProd": "78.57%"
                                },
                                {
                                    "EnglishProductCategoryName": "Components",
                                    "EnglishProductSubcategoryName": "Wheels",
                                    "ProductKey": "412",
                                    "volProm": "noVolProm",
                                    "prodQty": "11",
                                    "percProd": "78.57%"
                                },
                                {
                                    "EnglishProductCategoryName": "Components",
                                    "EnglishProductSubcategoryName": "Wheels",
                                    "ProductKey": "414",
                                    "volProm": "noVolProm",
                                    "prodQty": "11",
                                    "percProd": "78.57%"
                                },
                                {
                                    "EnglishProductCategoryName": "Components",
                                    "EnglishProductSubcategoryName": "Wheels",
                                    "ProductKey": "415",
                                    "volProm": "noVolProm",
                                    "prodQty": "11",
                                    "percProd": "78.57%"
                                },
                                {
                                    "EnglishProductCategoryName": "Components",
                                    "EnglishProductSubcategoryName": "Road Frames",
                                    "ProductKey": "417",
                                    "volProm": "noVolProm",
                                    "prodQty": "44",
                                    "percProd": "88.00%"
                                },
                                {
                                    "EnglishProductCategoryName": "Components",
                                    "EnglishProductSubcategoryName": "Road Frames",
                                    "ProductKey": "418",
                                    "volProm": "noVolProm",
                                    "prodQty": "44",
                                    "percProd": "88.00%"
                                },
                                {
                                    "EnglishProductCategoryName": "Components",
                                    "EnglishProductSubcategoryName": "Wheels",
                                    "ProductKey": "419",
                                    "volProm": "noVolProm",
                                    "prodQty": "11",
                                    "percProd": "78.57%"
                                },
                                {
                                    "EnglishProductCategoryName": "Components",
                                    "EnglishProductSubcategoryName": "Wheels",
                                    "ProductKey": "420",
                                    "volProm": "noVolProm",
                                    "prodQty": "11",
                                    "percProd": "78.57%"
                                },
                                {
                                    "EnglishProductCategoryName": "Components",
                                    "EnglishProductSubcategoryName": "Wheels",
                                    "ProductKey": "420",
                                    "volProm": "VolProm",
                                    "prodQty": "3",
                                    "percProd": "21.43%"
                                },
                                {
                                    "EnglishProductCategoryName": "Components",
                                    "EnglishProductSubcategoryName": "Wheels",
                                    "ProductKey": "421",
                                    "volProm": "noVolProm",
                                    "prodQty": "11",
                                    "percProd": "78.57%"
                                },
                                {
                                    "EnglishProductCategoryName": "Components",
                                    "EnglishProductSubcategoryName": "Wheels",
                                    "ProductKey": "421",
                                    "volProm": "VolProm",
                                    "prodQty": "3",
                                    "percProd": "21.43%"
                                },
                                {
                                    "EnglishProductCategoryName": "Components",
                                    "EnglishProductSubcategoryName": "Wheels",
                                    "ProductKey": "422",
                                    "volProm": "noVolProm",
                                    "prodQty": "11",
                                    "percProd": "78.57%"
                                },
                                {
                                    "EnglishProductCategoryName": "Components",
                                    "EnglishProductSubcategoryName": "Wheels",
                                    "ProductKey": "423",
                                    "volProm": "noVolProm",
                                    "prodQty": "11",
                                    "percProd": "78.57%"
                                },
                                {
                                    "EnglishProductCategoryName": "Components",
                                    "EnglishProductSubcategoryName": "Wheels",
                                    "ProductKey": "424",
                                    "volProm": "noVolProm",
                                    "prodQty": "11",
                                    "percProd": "78.57%"
                                },
                                {
                                    "EnglishProductCategoryName": "Components",
                                    "EnglishProductSubcategoryName": "Mountain Frames",
                                    "ProductKey": "426",
                                    "volProm": "noVolProm",
                                    "prodQty": "36",
                                    "percProd": "85.71%"
                                },
                                {
                                    "EnglishProductCategoryName": "Components",
                                    "EnglishProductSubcategoryName": "Mountain Frames",
                                    "ProductKey": "427",
                                    "volProm": "noVolProm",
                                    "prodQty": "36",
                                    "percProd": "85.71%"
                                },
                                {
                                    "EnglishProductCategoryName": "Components",
                                    "EnglishProductSubcategoryName": "Mountain Frames",
                                    "ProductKey": "428",
                                    "volProm": "noVolProm",
                                    "prodQty": "36",
                                    "percProd": "85.71%"
                                },
                                {
                                    "EnglishProductCategoryName": "Components",
                                    "EnglishProductSubcategoryName": "Mountain Frames",
                                    "ProductKey": "428",
                                    "volProm": "VolProm",
                                    "prodQty": "6",
                                    "percProd": "14.29%"
                                },
                                {
                                    "EnglishProductCategoryName": "Components",
                                    "EnglishProductSubcategoryName": "Road Frames",
                                    "ProductKey": "429",
                                    "volProm": "noVolProm",
                                    "prodQty": "44",
                                    "percProd": "88.00%"
                                },
                                {
                                    "EnglishProductCategoryName": "Components",
                                    "EnglishProductSubcategoryName": "Road Frames",
                                    "ProductKey": "430",
                                    "volProm": "noVolProm",
                                    "prodQty": "44",
                                    "percProd": "88.00%"
                                },
                                {
                                    "EnglishProductCategoryName": "Components",
                                    "EnglishProductSubcategoryName": "Road Frames",
                                    "ProductKey": "433",
                                    "volProm": "noVolProm",
                                    "prodQty": "44",
                                    "percProd": "88.00%"
                                },
                                {
                                    "EnglishProductCategoryName": "Components",
                                    "EnglishProductSubcategoryName": "Road Frames",
                                    "ProductKey": "433",
                                    "volProm": "VolProm",
                                    "prodQty": "6",
                                    "percProd": "12.00%"
                                },
                                {
                                    "EnglishProductCategoryName": "Components",
                                    "EnglishProductSubcategoryName": "Road Frames",
                                    "ProductKey": "434",
                                    "volProm": "noVolProm",
                                    "prodQty": "44",
                                    "percProd": "88.00%"
                                },
                                {
                                    "EnglishProductCategoryName": "Components",
                                    "EnglishProductSubcategoryName": "Road Frames",
                                    "ProductKey": "434",
                                    "volProm": "VolProm",
                                    "prodQty": "6",
                                    "percProd": "12.00%"
                                },
                                {
                                    "EnglishProductCategoryName": "Components",
                                    "EnglishProductSubcategoryName": "Road Frames",
                                    "ProductKey": "435",
                                    "volProm": "noVolProm",
                                    "prodQty": "44",
                                    "percProd": "88.00%"
                                },
                                {
                                    "EnglishProductCategoryName": "Components",
                                    "EnglishProductSubcategoryName": "Road Frames",
                                    "ProductKey": "436",
                                    "volProm": "noVolProm",
                                    "prodQty": "44",
                                    "percProd": "88.00%"
                                },
                                {
                                    "EnglishProductCategoryName": "Components",
                                    "EnglishProductSubcategoryName": "Road Frames",
                                    "ProductKey": "439",
                                    "volProm": "noVolProm",
                                    "prodQty": "44",
                                    "percProd": "88.00%"
                                },
                                {
                                    "EnglishProductCategoryName": "Components",
                                    "EnglishProductSubcategoryName": "Road Frames",
                                    "ProductKey": "440",
                                    "volProm": "noVolProm",
                                    "prodQty": "44",
                                    "percProd": "88.00%"
                                },
                                {
                                    "EnglishProductCategoryName": "Components",
                                    "EnglishProductSubcategoryName": "Road Frames",
                                    "ProductKey": "441",
                                    "volProm": "noVolProm",
                                    "prodQty": "44",
                                    "percProd": "88.00%"
                                },
                                {
                                    "EnglishProductCategoryName": "Components",
                                    "EnglishProductSubcategoryName": "Road Frames",
                                    "ProductKey": "442",
                                    "volProm": "noVolProm",
                                    "prodQty": "44",
                                    "percProd": "88.00%"
                                },
                                {
                                    "EnglishProductCategoryName": "Clothing",
                                    "EnglishProductSubcategoryName": "Shorts",
                                    "ProductKey": "445",
                                    "volProm": "noVolProm",
                                    "prodQty": "6",
                                    "percProd": "60.00%"
                                },
                                {
                                    "EnglishProductCategoryName": "Clothing",
                                    "EnglishProductSubcategoryName": "Shorts",
                                    "ProductKey": "445",
                                    "volProm": "VolProm",
                                    "prodQty": "4",
                                    "percProd": "40.00%"
                                },
                                {
                                    "EnglishProductCategoryName": "Accessories",
                                    "EnglishProductSubcategoryName": "Locks",
                                    "ProductKey": "447",
                                    "volProm": "noVolProm",
                                    "prodQty": "1",
                                    "percProd": "50.00%"
                                },
                                {
                                    "EnglishProductCategoryName": "Accessories",
                                    "EnglishProductSubcategoryName": "Locks",
                                    "ProductKey": "447",
                                    "volProm": "VolProm",
                                    "prodQty": "1",
                                    "percProd": "50.00%"
                                },
                                {
                                    "EnglishProductCategoryName": "Accessories",
                                    "EnglishProductSubcategoryName": "Pumps",
                                    "ProductKey": "448",
                                    "volProm": "noVolProm",
                                    "prodQty": "1",
                                    "percProd": "50.00%"
                                },
                                {
                                    "EnglishProductCategoryName": "Accessories",
                                    "EnglishProductSubcategoryName": "Pumps",
                                    "ProductKey": "448",
                                    "volProm": "VolProm",
                                    "prodQty": "1",
                                    "percProd": "50.00%"
                                },
                                {
                                    "EnglishProductCategoryName": "Clothing",
                                    "EnglishProductSubcategoryName": "Shorts",
                                    "ProductKey": "453",
                                    "volProm": "noVolProm",
                                    "prodQty": "6",
                                    "percProd": "60.00%"
                                },
                                {
                                    "EnglishProductCategoryName": "Clothing",
                                    "EnglishProductSubcategoryName": "Shorts",
                                    "ProductKey": "453",
                                    "volProm": "VolProm",
                                    "prodQty": "4",
                                    "percProd": "40.00%"
                                },
                                {
                                    "EnglishProductCategoryName": "Clothing",
                                    "EnglishProductSubcategoryName": "Shorts",
                                    "ProductKey": "454",
                                    "volProm": "noVolProm",
                                    "prodQty": "6",
                                    "percProd": "60.00%"
                                },
                                {
                                    "EnglishProductCategoryName": "Clothing",
                                    "EnglishProductSubcategoryName": "Tights",
                                    "ProductKey": "456",
                                    "volProm": "noVolProm",
                                    "prodQty": "3",
                                    "percProd": "60.00%"
                                },
                                {
                                    "EnglishProductCategoryName": "Clothing",
                                    "EnglishProductSubcategoryName": "Tights",
                                    "ProductKey": "456",
                                    "volProm": "VolProm",
                                    "prodQty": "2",
                                    "percProd": "40.00%"
                                },
                                {
                                    "EnglishProductCategoryName": "Clothing",
                                    "EnglishProductSubcategoryName": "Tights",
                                    "ProductKey": "457",
                                    "volProm": "noVolProm",
                                    "prodQty": "3",
                                    "percProd": "60.00%"
                                },
                                {
                                    "EnglishProductCategoryName": "Clothing",
                                    "EnglishProductSubcategoryName": "Tights",
                                    "ProductKey": "458",
                                    "volProm": "noVolProm",
                                    "prodQty": "3",
                                    "percProd": "60.00%"
                                },
                                {
                                    "EnglishProductCategoryName": "Clothing",
                                    "EnglishProductSubcategoryName": "Tights",
                                    "ProductKey": "458",
                                    "volProm": "VolProm",
                                    "prodQty": "2",
                                    "percProd": "40.00%"
                                },
                                {
                                    "EnglishProductCategoryName": "Clothing",
                                    "EnglishProductSubcategoryName": "Bib-Shorts",
                                    "ProductKey": "459",
                                    "volProm": "noVolProm",
                                    "prodQty": "3",
                                    "percProd": "60.00%"
                                },
                                {
                                    "EnglishProductCategoryName": "Clothing",
                                    "EnglishProductSubcategoryName": "Bib-Shorts",
                                    "ProductKey": "459",
                                    "volProm": "VolProm",
                                    "prodQty": "2",
                                    "percProd": "40.00%"
                                },
                                {
                                    "EnglishProductCategoryName": "Clothing",
                                    "EnglishProductSubcategoryName": "Bib-Shorts",
                                    "ProductKey": "460",
                                    "volProm": "noVolProm",
                                    "prodQty": "3",
                                    "percProd": "60.00%"
                                },
                                {
                                    "EnglishProductCategoryName": "Clothing",
                                    "EnglishProductSubcategoryName": "Bib-Shorts",
                                    "ProductKey": "460",
                                    "volProm": "VolProm",
                                    "prodQty": "2",
                                    "percProd": "40.00%"
                                },
                                {
                                    "EnglishProductCategoryName": "Clothing",
                                    "EnglishProductSubcategoryName": "Bib-Shorts",
                                    "ProductKey": "461",
                                    "volProm": "noVolProm",
                                    "prodQty": "3",
                                    "percProd": "60.00%"
                                },
                                {
                                    "EnglishProductCategoryName": "Clothing",
                                    "EnglishProductSubcategoryName": "Gloves",
                                    "ProductKey": "462",
                                    "volProm": "noVolProm",
                                    "prodQty": "9",
                                    "percProd": "56.25%"
                                },
                                {
                                    "EnglishProductCategoryName": "Clothing",
                                    "EnglishProductSubcategoryName": "Gloves",
                                    "ProductKey": "462",
                                    "volProm": "VolProm",
                                    "prodQty": "7",
                                    "percProd": "43.75%"
                                },
                                {
                                    "EnglishProductCategoryName": "Clothing",
                                    "EnglishProductSubcategoryName": "Gloves",
                                    "ProductKey": "463",
                                    "volProm": "noVolProm",
                                    "prodQty": "9",
                                    "percProd": "56.25%"
                                },
                                {
                                    "EnglishProductCategoryName": "Clothing",
                                    "EnglishProductSubcategoryName": "Gloves",
                                    "ProductKey": "463",
                                    "volProm": "VolProm",
                                    "prodQty": "7",
                                    "percProd": "43.75%"
                                },
                                {
                                    "EnglishProductCategoryName": "Clothing",
                                    "EnglishProductSubcategoryName": "Gloves",
                                    "ProductKey": "464",
                                    "volProm": "noVolProm",
                                    "prodQty": "9",
                                    "percProd": "56.25%"
                                },
                                {
                                    "EnglishProductCategoryName": "Clothing",
                                    "EnglishProductSubcategoryName": "Gloves",
                                    "ProductKey": "464",
                                    "volProm": "VolProm",
                                    "prodQty": "7",
                                    "percProd": "43.75%"
                                },
                                {
                                    "EnglishProductCategoryName": "Clothing",
                                    "EnglishProductSubcategoryName": "Gloves",
                                    "ProductKey": "465",
                                    "volProm": "noVolProm",
                                    "prodQty": "9",
                                    "percProd": "56.25%"
                                },
                                {
                                    "EnglishProductCategoryName": "Clothing",
                                    "EnglishProductSubcategoryName": "Gloves",
                                    "ProductKey": "465",
                                    "volProm": "VolProm",
                                    "prodQty": "7",
                                    "percProd": "43.75%"
                                },
                                {
                                    "EnglishProductCategoryName": "Clothing",
                                    "EnglishProductSubcategoryName": "Gloves",
                                    "ProductKey": "466",
                                    "volProm": "noVolProm",
                                    "prodQty": "9",
                                    "percProd": "56.25%"
                                },
                                {
                                    "EnglishProductCategoryName": "Clothing",
                                    "EnglishProductSubcategoryName": "Gloves",
                                    "ProductKey": "467",
                                    "volProm": "noVolProm",
                                    "prodQty": "9",
                                    "percProd": "56.25%"
                                },
                                {
                                    "EnglishProductCategoryName": "Clothing",
                                    "EnglishProductSubcategoryName": "Gloves",
                                    "ProductKey": "467",
                                    "volProm": "VolProm",
                                    "prodQty": "7",
                                    "percProd": "43.75%"
                                },
                                {
                                    "EnglishProductCategoryName": "Clothing",
                                    "EnglishProductSubcategoryName": "Gloves",
                                    "ProductKey": "468",
                                    "volProm": "noVolProm",
                                    "prodQty": "9",
                                    "percProd": "56.25%"
                                },
                                {
                                    "EnglishProductCategoryName": "Clothing",
                                    "EnglishProductSubcategoryName": "Gloves",
                                    "ProductKey": "469",
                                    "volProm": "noVolProm",
                                    "prodQty": "9",
                                    "percProd": "56.25%"
                                },
                                {
                                    "EnglishProductCategoryName": "Clothing",
                                    "EnglishProductSubcategoryName": "Gloves",
                                    "ProductKey": "469",
                                    "volProm": "VolProm",
                                    "prodQty": "7",
                                    "percProd": "43.75%"
                                },
                                {
                                    "EnglishProductCategoryName": "Clothing",
                                    "EnglishProductSubcategoryName": "Gloves",
                                    "ProductKey": "470",
                                    "volProm": "noVolProm",
                                    "prodQty": "9",
                                    "percProd": "56.25%"
                                },
                                {
                                    "EnglishProductCategoryName": "Clothing",
                                    "EnglishProductSubcategoryName": "Gloves",
                                    "ProductKey": "470",
                                    "volProm": "VolProm",
                                    "prodQty": "7",
                                    "percProd": "43.75%"
                                },
                                {
                                    "EnglishProductCategoryName": "Clothing",
                                    "EnglishProductSubcategoryName": "Vests",
                                    "ProductKey": "471",
                                    "volProm": "noVolProm",
                                    "prodQty": "3",
                                    "percProd": "60.00%"
                                },
                                {
                                    "EnglishProductCategoryName": "Clothing",
                                    "EnglishProductSubcategoryName": "Vests",
                                    "ProductKey": "471",
                                    "volProm": "VolProm",
                                    "prodQty": "2",
                                    "percProd": "40.00%"
                                },
                                {
                                    "EnglishProductCategoryName": "Clothing",
                                    "EnglishProductSubcategoryName": "Vests",
                                    "ProductKey": "472",
                                    "volProm": "noVolProm",
                                    "prodQty": "3",
                                    "percProd": "60.00%"
                                },
                                {
                                    "EnglishProductCategoryName": "Clothing",
                                    "EnglishProductSubcategoryName": "Vests",
                                    "ProductKey": "472",
                                    "volProm": "VolProm",
                                    "prodQty": "2",
                                    "percProd": "40.00%"
                                },
                                {
                                    "EnglishProductCategoryName": "Clothing",
                                    "EnglishProductSubcategoryName": "Vests",
                                    "ProductKey": "473",
                                    "volProm": "noVolProm",
                                    "prodQty": "3",
                                    "percProd": "60.00%"
                                },
                                {
                                    "EnglishProductCategoryName": "Clothing",
                                    "EnglishProductSubcategoryName": "Shorts",
                                    "ProductKey": "474",
                                    "volProm": "noVolProm",
                                    "prodQty": "6",
                                    "percProd": "60.00%"
                                },
                                {
                                    "EnglishProductCategoryName": "Clothing",
                                    "EnglishProductSubcategoryName": "Shorts",
                                    "ProductKey": "474",
                                    "volProm": "VolProm",
                                    "prodQty": "4",
                                    "percProd": "40.00%"
                                },
                                {
                                    "EnglishProductCategoryName": "Clothing",
                                    "EnglishProductSubcategoryName": "Shorts",
                                    "ProductKey": "475",
                                    "volProm": "noVolProm",
                                    "prodQty": "6",
                                    "percProd": "60.00%"
                                },
                                {
                                    "EnglishProductCategoryName": "Clothing",
                                    "EnglishProductSubcategoryName": "Shorts",
                                    "ProductKey": "476",
                                    "volProm": "noVolProm",
                                    "prodQty": "6",
                                    "percProd": "60.00%"
                                },
                                {
                                    "EnglishProductCategoryName": "Clothing",
                                    "EnglishProductSubcategoryName": "Shorts",
                                    "ProductKey": "476",
                                    "volProm": "VolProm",
                                    "prodQty": "4",
                                    "percProd": "40.00%"
                                },
                                {
                                    "EnglishProductCategoryName": "Accessories",
                                    "EnglishProductSubcategoryName": "Bottles and Cages",
                                    "ProductKey": "477",
                                    "volProm": "noVolProm",
                                    "prodQty": "1",
                                    "percProd": "50.00%"
                                },
                                {
                                    "EnglishProductCategoryName": "Accessories",
                                    "EnglishProductSubcategoryName": "Bottles and Cages",
                                    "ProductKey": "477",
                                    "volProm": "VolProm",
                                    "prodQty": "1",
                                    "percProd": "50.00%"
                                },
                                {
                                    "EnglishProductCategoryName": "Accessories",
                                    "EnglishProductSubcategoryName": "Tires and Tubes",
                                    "ProductKey": "480",
                                    "volProm": "noVolProm",
                                    "prodQty": "1",
                                    "percProd": "50.00%"
                                },
                                {
                                    "EnglishProductCategoryName": "Accessories",
                                    "EnglishProductSubcategoryName": "Tires and Tubes",
                                    "ProductKey": "480",
                                    "volProm": "VolProm",
                                    "prodQty": "1",
                                    "percProd": "50.00%"
                                },
                                {
                                    "EnglishProductCategoryName": "Clothing",
                                    "EnglishProductSubcategoryName": "Socks",
                                    "ProductKey": "481",
                                    "volProm": "noVolProm",
                                    "prodQty": "4",
                                    "percProd": "57.14%"
                                },
                                {
                                    "EnglishProductCategoryName": "Clothing",
                                    "EnglishProductSubcategoryName": "Socks",
                                    "ProductKey": "481",
                                    "volProm": "VolProm",
                                    "prodQty": "3",
                                    "percProd": "42.86%"
                                },
                                {
                                    "EnglishProductCategoryName": "Clothing",
                                    "EnglishProductSubcategoryName": "Socks",
                                    "ProductKey": "482",
                                    "volProm": "noVolProm",
                                    "prodQty": "4",
                                    "percProd": "57.14%"
                                },
                                {
                                    "EnglishProductCategoryName": "Clothing",
                                    "EnglishProductSubcategoryName": "Socks",
                                    "ProductKey": "482",
                                    "volProm": "VolProm",
                                    "prodQty": "3",
                                    "percProd": "42.86%"
                                },
                                {
                                    "EnglishProductCategoryName": "Accessories",
                                    "EnglishProductSubcategoryName": "Bike Racks",
                                    "ProductKey": "483",
                                    "volProm": "noVolProm",
                                    "prodQty": "1",
                                    "percProd": "50.00%"
                                },
                                {
                                    "EnglishProductCategoryName": "Accessories",
                                    "EnglishProductSubcategoryName": "Bike Racks",
                                    "ProductKey": "483",
                                    "volProm": "VolProm",
                                    "prodQty": "1",
                                    "percProd": "50.00%"
                                },
                                {
                                    "EnglishProductCategoryName": "Accessories",
                                    "EnglishProductSubcategoryName": "Cleaners",
                                    "ProductKey": "484",
                                    "volProm": "noVolProm",
                                    "prodQty": "1",
                                    "percProd": "50.00%"
                                },
                                {
                                    "EnglishProductCategoryName": "Accessories",
                                    "EnglishProductSubcategoryName": "Cleaners",
                                    "ProductKey": "484",
                                    "volProm": "VolProm",
                                    "prodQty": "1",
                                    "percProd": "50.00%"
                                },
                                {
                                    "EnglishProductCategoryName": "Accessories",
                                    "EnglishProductSubcategoryName": "Hydration Packs",
                                    "ProductKey": "487",
                                    "volProm": "noVolProm",
                                    "prodQty": "1",
                                    "percProd": "50.00%"
                                },
                                {
                                    "EnglishProductCategoryName": "Accessories",
                                    "EnglishProductSubcategoryName": "Hydration Packs",
                                    "ProductKey": "487",
                                    "volProm": "VolProm",
                                    "prodQty": "1",
                                    "percProd": "50.00%"
                                },
                                {
                                    "EnglishProductCategoryName": "Clothing",
                                    "EnglishProductSubcategoryName": "Jerseys",
                                    "ProductKey": "488",
                                    "volProm": "noVolProm",
                                    "prodQty": "12",
                                    "percProd": "54.55%"
                                },
                                {
                                    "EnglishProductCategoryName": "Clothing",
                                    "EnglishProductSubcategoryName": "Jerseys",
                                    "ProductKey": "488",
                                    "volProm": "VolProm",
                                    "prodQty": "10",
                                    "percProd": "45.45%"
                                },
                                {
                                    "EnglishProductCategoryName": "Clothing",
                                    "EnglishProductSubcategoryName": "Jerseys",
                                    "ProductKey": "490",
                                    "volProm": "noVolProm",
                                    "prodQty": "12",
                                    "percProd": "54.55%"
                                },
                                {
                                    "EnglishProductCategoryName": "Clothing",
                                    "EnglishProductSubcategoryName": "Jerseys",
                                    "ProductKey": "490",
                                    "volProm": "VolProm",
                                    "prodQty": "10",
                                    "percProd": "45.45%"
                                },
                                {
                                    "EnglishProductCategoryName": "Clothing",
                                    "EnglishProductSubcategoryName": "Jerseys",
                                    "ProductKey": "491",
                                    "volProm": "noVolProm",
                                    "prodQty": "12",
                                    "percProd": "54.55%"
                                },
                                {
                                    "EnglishProductCategoryName": "Clothing",
                                    "EnglishProductSubcategoryName": "Jerseys",
                                    "ProductKey": "491",
                                    "volProm": "VolProm",
                                    "prodQty": "10",
                                    "percProd": "45.45%"
                                },
                                {
                                    "EnglishProductCategoryName": "Components",
                                    "EnglishProductSubcategoryName": "Touring Frames",
                                    "ProductKey": "492",
                                    "volProm": "noVolProm",
                                    "prodQty": "17",
                                    "percProd": "73.91%"
                                },
                                {
                                    "EnglishProductCategoryName": "Components",
                                    "EnglishProductSubcategoryName": "Touring Frames",
                                    "ProductKey": "492",
                                    "volProm": "VolProm",
                                    "prodQty": "6",
                                    "percProd": "26.09%"
                                },
                                {
                                    "EnglishProductCategoryName": "Components",
                                    "EnglishProductSubcategoryName": "Touring Frames",
                                    "ProductKey": "493",
                                    "volProm": "noVolProm",
                                    "prodQty": "17",
                                    "percProd": "73.91%"
                                },
                                {
                                    "EnglishProductCategoryName": "Components",
                                    "EnglishProductSubcategoryName": "Touring Frames",
                                    "ProductKey": "493",
                                    "volProm": "VolProm",
                                    "prodQty": "6",
                                    "percProd": "26.09%"
                                },
                                {
                                    "EnglishProductCategoryName": "Components",
                                    "EnglishProductSubcategoryName": "Touring Frames",
                                    "ProductKey": "494",
                                    "volProm": "noVolProm",
                                    "prodQty": "17",
                                    "percProd": "73.91%"
                                },
                                {
                                    "EnglishProductCategoryName": "Components",
                                    "EnglishProductSubcategoryName": "Touring Frames",
                                    "ProductKey": "495",
                                    "volProm": "noVolProm",
                                    "prodQty": "17",
                                    "percProd": "73.91%"
                                },
                                {
                                    "EnglishProductCategoryName": "Components",
                                    "EnglishProductSubcategoryName": "Touring Frames",
                                    "ProductKey": "496",
                                    "volProm": "noVolProm",
                                    "prodQty": "17",
                                    "percProd": "73.91%"
                                },
                                {
                                    "EnglishProductCategoryName": "Components",
                                    "EnglishProductSubcategoryName": "Touring Frames",
                                    "ProductKey": "496",
                                    "volProm": "VolProm",
                                    "prodQty": "6",
                                    "percProd": "26.09%"
                                },
                                {
                                    "EnglishProductCategoryName": "Components",
                                    "EnglishProductSubcategoryName": "Touring Frames",
                                    "ProductKey": "497",
                                    "volProm": "noVolProm",
                                    "prodQty": "17",
                                    "percProd": "73.91%"
                                },
                                {
                                    "EnglishProductCategoryName": "Components",
                                    "EnglishProductSubcategoryName": "Touring Frames",
                                    "ProductKey": "498",
                                    "volProm": "noVolProm",
                                    "prodQty": "17",
                                    "percProd": "73.91%"
                                },
                                {
                                    "EnglishProductCategoryName": "Components",
                                    "EnglishProductSubcategoryName": "Touring Frames",
                                    "ProductKey": "499",
                                    "volProm": "noVolProm",
                                    "prodQty": "17",
                                    "percProd": "73.91%"
                                },
                                {
                                    "EnglishProductCategoryName": "Components",
                                    "EnglishProductSubcategoryName": "Touring Frames",
                                    "ProductKey": "499",
                                    "volProm": "VolProm",
                                    "prodQty": "6",
                                    "percProd": "26.09%"
                                },
                                {
                                    "EnglishProductCategoryName": "Components",
                                    "EnglishProductSubcategoryName": "Touring Frames",
                                    "ProductKey": "500",
                                    "volProm": "noVolProm",
                                    "prodQty": "17",
                                    "percProd": "73.91%"
                                },
                                {
                                    "EnglishProductCategoryName": "Components",
                                    "EnglishProductSubcategoryName": "Touring Frames",
                                    "ProductKey": "500",
                                    "volProm": "VolProm",
                                    "prodQty": "6",
                                    "percProd": "26.09%"
                                },
                                {
                                    "EnglishProductCategoryName": "Components",
                                    "EnglishProductSubcategoryName": "Derailleurs",
                                    "ProductKey": "501",
                                    "volProm": "noVolProm",
                                    "prodQty": "2",
                                    "percProd": "66.67%"
                                },
                                {
                                    "EnglishProductCategoryName": "Components",
                                    "EnglishProductSubcategoryName": "Touring Frames",
                                    "ProductKey": "502",
                                    "volProm": "noVolProm",
                                    "prodQty": "17",
                                    "percProd": "73.91%"
                                },
                                {
                                    "EnglishProductCategoryName": "Components",
                                    "EnglishProductSubcategoryName": "Touring Frames",
                                    "ProductKey": "503",
                                    "volProm": "noVolProm",
                                    "prodQty": "17",
                                    "percProd": "73.91%"
                                },
                                {
                                    "EnglishProductCategoryName": "Components",
                                    "EnglishProductSubcategoryName": "Touring Frames",
                                    "ProductKey": "504",
                                    "volProm": "noVolProm",
                                    "prodQty": "17",
                                    "percProd": "73.91%"
                                },
                                {
                                    "EnglishProductCategoryName": "Components",
                                    "EnglishProductSubcategoryName": "Touring Frames",
                                    "ProductKey": "505",
                                    "volProm": "noVolProm",
                                    "prodQty": "17",
                                    "percProd": "73.91%"
                                },
                                {
                                    "EnglishProductCategoryName": "Components",
                                    "EnglishProductSubcategoryName": "Touring Frames",
                                    "ProductKey": "506",
                                    "volProm": "noVolProm",
                                    "prodQty": "17",
                                    "percProd": "73.91%"
                                },
                                {
                                    "EnglishProductCategoryName": "Components",
                                    "EnglishProductSubcategoryName": "Touring Frames",
                                    "ProductKey": "506",
                                    "volProm": "VolProm",
                                    "prodQty": "6",
                                    "percProd": "26.09%"
                                },
                                {
                                    "EnglishProductCategoryName": "Components",
                                    "EnglishProductSubcategoryName": "Touring Frames",
                                    "ProductKey": "507",
                                    "volProm": "noVolProm",
                                    "prodQty": "17",
                                    "percProd": "73.91%"
                                },
                                {
                                    "EnglishProductCategoryName": "Components",
                                    "EnglishProductSubcategoryName": "Touring Frames",
                                    "ProductKey": "509",
                                    "volProm": "noVolProm",
                                    "prodQty": "17",
                                    "percProd": "73.91%"
                                },
                                {
                                    "EnglishProductCategoryName": "Components",
                                    "EnglishProductSubcategoryName": "Touring Frames",
                                    "ProductKey": "510",
                                    "volProm": "noVolProm",
                                    "prodQty": "17",
                                    "percProd": "73.91%"
                                },
                                {
                                    "EnglishProductCategoryName": "Components",
                                    "EnglishProductSubcategoryName": "Mountain Frames",
                                    "ProductKey": "511",
                                    "volProm": "noVolProm",
                                    "prodQty": "36",
                                    "percProd": "85.71%"
                                },
                                {
                                    "EnglishProductCategoryName": "Components",
                                    "EnglishProductSubcategoryName": "Mountain Frames",
                                    "ProductKey": "511",
                                    "volProm": "VolProm",
                                    "prodQty": "6",
                                    "percProd": "14.29%"
                                },
                                {
                                    "EnglishProductCategoryName": "Components",
                                    "EnglishProductSubcategoryName": "Mountain Frames",
                                    "ProductKey": "512",
                                    "volProm": "noVolProm",
                                    "prodQty": "36",
                                    "percProd": "85.71%"
                                },
                                {
                                    "EnglishProductCategoryName": "Components",
                                    "EnglishProductSubcategoryName": "Mountain Frames",
                                    "ProductKey": "513",
                                    "volProm": "noVolProm",
                                    "prodQty": "36",
                                    "percProd": "85.71%"
                                },
                                {
                                    "EnglishProductCategoryName": "Components",
                                    "EnglishProductSubcategoryName": "Brakes",
                                    "ProductKey": "514",
                                    "volProm": "noVolProm",
                                    "prodQty": "2",
                                    "percProd": "66.67%"
                                },
                                {
                                    "EnglishProductCategoryName": "Components",
                                    "EnglishProductSubcategoryName": "Saddles",
                                    "ProductKey": "515",
                                    "volProm": "noVolProm",
                                    "prodQty": "8",
                                    "percProd": "80.00%"
                                },
                                {
                                    "EnglishProductCategoryName": "Components",
                                    "EnglishProductSubcategoryName": "Saddles",
                                    "ProductKey": "515",
                                    "volProm": "VolProm",
                                    "prodQty": "2",
                                    "percProd": "20.00%"
                                },
                                {
                                    "EnglishProductCategoryName": "Components",
                                    "EnglishProductSubcategoryName": "Saddles",
                                    "ProductKey": "516",
                                    "volProm": "noVolProm",
                                    "prodQty": "8",
                                    "percProd": "80.00%"
                                },
                                {
                                    "EnglishProductCategoryName": "Components",
                                    "EnglishProductSubcategoryName": "Saddles",
                                    "ProductKey": "516",
                                    "volProm": "VolProm",
                                    "prodQty": "2",
                                    "percProd": "20.00%"
                                },
                                {
                                    "EnglishProductCategoryName": "Components",
                                    "EnglishProductSubcategoryName": "Saddles",
                                    "ProductKey": "517",
                                    "volProm": "noVolProm",
                                    "prodQty": "8",
                                    "percProd": "80.00%"
                                },
                                {
                                    "EnglishProductCategoryName": "Components",
                                    "EnglishProductSubcategoryName": "Saddles",
                                    "ProductKey": "518",
                                    "volProm": "noVolProm",
                                    "prodQty": "8",
                                    "percProd": "80.00%"
                                },
                                {
                                    "EnglishProductCategoryName": "Components",
                                    "EnglishProductSubcategoryName": "Saddles",
                                    "ProductKey": "520",
                                    "volProm": "noVolProm",
                                    "prodQty": "8",
                                    "percProd": "80.00%"
                                },
                                {
                                    "EnglishProductCategoryName": "Components",
                                    "EnglishProductSubcategoryName": "Saddles",
                                    "ProductKey": "521",
                                    "volProm": "noVolProm",
                                    "prodQty": "8",
                                    "percProd": "80.00%"
                                },
                                {
                                    "EnglishProductCategoryName": "Components",
                                    "EnglishProductSubcategoryName": "Saddles",
                                    "ProductKey": "522",
                                    "volProm": "noVolProm",
                                    "prodQty": "8",
                                    "percProd": "80.00%"
                                },
                                {
                                    "EnglishProductCategoryName": "Components",
                                    "EnglishProductSubcategoryName": "Saddles",
                                    "ProductKey": "523",
                                    "volProm": "noVolProm",
                                    "prodQty": "8",
                                    "percProd": "80.00%"
                                },
                                {
                                    "EnglishProductCategoryName": "Components",
                                    "EnglishProductSubcategoryName": "Mountain Frames",
                                    "ProductKey": "524",
                                    "volProm": "noVolProm",
                                    "prodQty": "36",
                                    "percProd": "85.71%"
                                },
                                {
                                    "EnglishProductCategoryName": "Components",
                                    "EnglishProductSubcategoryName": "Mountain Frames",
                                    "ProductKey": "524",
                                    "volProm": "VolProm",
                                    "prodQty": "6",
                                    "percProd": "14.29%"
                                },
                                {
                                    "EnglishProductCategoryName": "Components",
                                    "EnglishProductSubcategoryName": "Mountain Frames",
                                    "ProductKey": "525",
                                    "volProm": "noVolProm",
                                    "prodQty": "36",
                                    "percProd": "85.71%"
                                },
                                {
                                    "EnglishProductCategoryName": "Components",
                                    "EnglishProductSubcategoryName": "Mountain Frames",
                                    "ProductKey": "526",
                                    "volProm": "noVolProm",
                                    "prodQty": "36",
                                    "percProd": "85.71%"
                                },
                                {
                                    "EnglishProductCategoryName": "Components",
                                    "EnglishProductSubcategoryName": "Mountain Frames",
                                    "ProductKey": "527",
                                    "volProm": "noVolProm",
                                    "prodQty": "36",
                                    "percProd": "85.71%"
                                },
                                {
                                    "EnglishProductCategoryName": "Components",
                                    "EnglishProductSubcategoryName": "Mountain Frames",
                                    "ProductKey": "531",
                                    "volProm": "noVolProm",
                                    "prodQty": "36",
                                    "percProd": "85.71%"
                                },
                                {
                                    "EnglishProductCategoryName": "Components",
                                    "EnglishProductSubcategoryName": "Mountain Frames",
                                    "ProductKey": "532",
                                    "volProm": "noVolProm",
                                    "prodQty": "36",
                                    "percProd": "85.71%"
                                },
                                {
                                    "EnglishProductCategoryName": "Components",
                                    "EnglishProductSubcategoryName": "Mountain Frames",
                                    "ProductKey": "532",
                                    "volProm": "VolProm",
                                    "prodQty": "6",
                                    "percProd": "14.29%"
                                },
                                {
                                    "EnglishProductCategoryName": "Components",
                                    "EnglishProductSubcategoryName": "Mountain Frames",
                                    "ProductKey": "533",
                                    "volProm": "noVolProm",
                                    "prodQty": "36",
                                    "percProd": "85.71%"
                                },
                                {
                                    "EnglishProductCategoryName": "Components",
                                    "EnglishProductSubcategoryName": "Mountain Frames",
                                    "ProductKey": "534",
                                    "volProm": "noVolProm",
                                    "prodQty": "36",
                                    "percProd": "85.71%"
                                },
                                {
                                    "EnglishProductCategoryName": "Components",
                                    "EnglishProductSubcategoryName": "Pedals",
                                    "ProductKey": "542",
                                    "volProm": "noVolProm",
                                    "prodQty": "7",
                                    "percProd": "87.50%"
                                },
                                {
                                    "EnglishProductCategoryName": "Components",
                                    "EnglishProductSubcategoryName": "Pedals",
                                    "ProductKey": "543",
                                    "volProm": "noVolProm",
                                    "prodQty": "7",
                                    "percProd": "87.50%"
                                },
                                {
                                    "EnglishProductCategoryName": "Components",
                                    "EnglishProductSubcategoryName": "Pedals",
                                    "ProductKey": "544",
                                    "volProm": "noVolProm",
                                    "prodQty": "7",
                                    "percProd": "87.50%"
                                },
                                {
                                    "EnglishProductCategoryName": "Components",
                                    "EnglishProductSubcategoryName": "Pedals",
                                    "ProductKey": "544",
                                    "volProm": "VolProm",
                                    "prodQty": "1",
                                    "percProd": "12.50%"
                                },
                                {
                                    "EnglishProductCategoryName": "Components",
                                    "EnglishProductSubcategoryName": "Pedals",
                                    "ProductKey": "545",
                                    "volProm": "noVolProm",
                                    "prodQty": "7",
                                    "percProd": "87.50%"
                                },
                                {
                                    "EnglishProductCategoryName": "Components",
                                    "EnglishProductSubcategoryName": "Pedals",
                                    "ProductKey": "546",
                                    "volProm": "noVolProm",
                                    "prodQty": "7",
                                    "percProd": "87.50%"
                                },
                                {
                                    "EnglishProductCategoryName": "Components",
                                    "EnglishProductSubcategoryName": "Pedals",
                                    "ProductKey": "547",
                                    "volProm": "noVolProm",
                                    "prodQty": "7",
                                    "percProd": "87.50%"
                                },
                                {
                                    "EnglishProductCategoryName": "Components",
                                    "EnglishProductSubcategoryName": "Pedals",
                                    "ProductKey": "548",
                                    "volProm": "noVolProm",
                                    "prodQty": "7",
                                    "percProd": "87.50%"
                                },
                                {
                                    "EnglishProductCategoryName": "Components",
                                    "EnglishProductSubcategoryName": "Mountain Frames",
                                    "ProductKey": "549",
                                    "volProm": "noVolProm",
                                    "prodQty": "36",
                                    "percProd": "85.71%"
                                },
                                {
                                    "EnglishProductCategoryName": "Components",
                                    "EnglishProductSubcategoryName": "Mountain Frames",
                                    "ProductKey": "550",
                                    "volProm": "noVolProm",
                                    "prodQty": "36",
                                    "percProd": "85.71%"
                                },
                                {
                                    "EnglishProductCategoryName": "Components",
                                    "EnglishProductSubcategoryName": "Mountain Frames",
                                    "ProductKey": "551",
                                    "volProm": "noVolProm",
                                    "prodQty": "36",
                                    "percProd": "85.71%"
                                },
                                {
                                    "EnglishProductCategoryName": "Components",
                                    "EnglishProductSubcategoryName": "Mountain Frames",
                                    "ProductKey": "551",
                                    "volProm": "VolProm",
                                    "prodQty": "6",
                                    "percProd": "14.29%"
                                },
                                {
                                    "EnglishProductCategoryName": "Components",
                                    "EnglishProductSubcategoryName": "Derailleurs",
                                    "ProductKey": "552",
                                    "volProm": "noVolProm",
                                    "prodQty": "2",
                                    "percProd": "66.67%"
                                },
                                {
                                    "EnglishProductCategoryName": "Components",
                                    "EnglishProductSubcategoryName": "Derailleurs",
                                    "ProductKey": "552",
                                    "volProm": "VolProm",
                                    "prodQty": "1",
                                    "percProd": "33.33%"
                                },
                                {
                                    "EnglishProductCategoryName": "Components",
                                    "EnglishProductSubcategoryName": "Handlebars",
                                    "ProductKey": "553",
                                    "volProm": "noVolProm",
                                    "prodQty": "12",
                                    "percProd": "80.00%"
                                },
                                {
                                    "EnglishProductCategoryName": "Components",
                                    "EnglishProductSubcategoryName": "Handlebars",
                                    "ProductKey": "554",
                                    "volProm": "noVolProm",
                                    "prodQty": "12",
                                    "percProd": "80.00%"
                                },
                                {
                                    "EnglishProductCategoryName": "Components",
                                    "EnglishProductSubcategoryName": "Brakes",
                                    "ProductKey": "555",
                                    "volProm": "noVolProm",
                                    "prodQty": "2",
                                    "percProd": "66.67%"
                                },
                                {
                                    "EnglishProductCategoryName": "Components",
                                    "EnglishProductSubcategoryName": "Brakes",
                                    "ProductKey": "555",
                                    "volProm": "VolProm",
                                    "prodQty": "1",
                                    "percProd": "33.33%"
                                },
                                {
                                    "EnglishProductCategoryName": "Components",
                                    "EnglishProductSubcategoryName": "Cranksets",
                                    "ProductKey": "556",
                                    "volProm": "noVolProm",
                                    "prodQty": "3",
                                    "percProd": "75.00%"
                                },
                                {
                                    "EnglishProductCategoryName": "Components",
                                    "EnglishProductSubcategoryName": "Cranksets",
                                    "ProductKey": "557",
                                    "volProm": "noVolProm",
                                    "prodQty": "3",
                                    "percProd": "75.00%"
                                },
                                {
                                    "EnglishProductCategoryName": "Components",
                                    "EnglishProductSubcategoryName": "Cranksets",
                                    "ProductKey": "558",
                                    "volProm": "noVolProm",
                                    "prodQty": "3",
                                    "percProd": "75.00%"
                                },
                                {
                                    "EnglishProductCategoryName": "Components",
                                    "EnglishProductSubcategoryName": "Cranksets",
                                    "ProductKey": "558",
                                    "volProm": "VolProm",
                                    "prodQty": "1",
                                    "percProd": "25.00%"
                                },
                                {
                                    "EnglishProductCategoryName": "Components",
                                    "EnglishProductSubcategoryName": "Chains",
                                    "ProductKey": "559",
                                    "volProm": "noVolProm",
                                    "prodQty": "1",
                                    "percProd": "50.00%"
                                },
                                {
                                    "EnglishProductCategoryName": "Components",
                                    "EnglishProductSubcategoryName": "Chains",
                                    "ProductKey": "559",
                                    "volProm": "VolProm",
                                    "prodQty": "1",
                                    "percProd": "50.00%"
                                },
                                {
                                    "EnglishProductCategoryName": "Bikes",
                                    "EnglishProductSubcategoryName": "Touring Bikes",
                                    "ProductKey": "560",
                                    "volProm": "noVolProm",
                                    "prodQty": "22",
                                    "percProd": "68.75%"
                                },
                                {
                                    "EnglishProductCategoryName": "Bikes",
                                    "EnglishProductSubcategoryName": "Touring Bikes",
                                    "ProductKey": "560",
                                    "volProm": "VolProm",
                                    "prodQty": "10",
                                    "percProd": "31.25%"
                                },
                                {
                                    "EnglishProductCategoryName": "Bikes",
                                    "EnglishProductSubcategoryName": "Touring Bikes",
                                    "ProductKey": "561",
                                    "volProm": "noVolProm",
                                    "prodQty": "22",
                                    "percProd": "68.75%"
                                },
                                {
                                    "EnglishProductCategoryName": "Bikes",
                                    "EnglishProductSubcategoryName": "Touring Bikes",
                                    "ProductKey": "561",
                                    "volProm": "VolProm",
                                    "prodQty": "10",
                                    "percProd": "31.25%"
                                },
                                {
                                    "EnglishProductCategoryName": "Bikes",
                                    "EnglishProductSubcategoryName": "Touring Bikes",
                                    "ProductKey": "562",
                                    "volProm": "noVolProm",
                                    "prodQty": "22",
                                    "percProd": "68.75%"
                                },
                                {
                                    "EnglishProductCategoryName": "Bikes",
                                    "EnglishProductSubcategoryName": "Touring Bikes",
                                    "ProductKey": "563",
                                    "volProm": "noVolProm",
                                    "prodQty": "22",
                                    "percProd": "68.75%"
                                },
                                {
                                    "EnglishProductCategoryName": "Bikes",
                                    "EnglishProductSubcategoryName": "Touring Bikes",
                                    "ProductKey": "564",
                                    "volProm": "noVolProm",
                                    "prodQty": "22",
                                    "percProd": "68.75%"
                                },
                                {
                                    "EnglishProductCategoryName": "Bikes",
                                    "EnglishProductSubcategoryName": "Touring Bikes",
                                    "ProductKey": "564",
                                    "volProm": "VolProm",
                                    "prodQty": "10",
                                    "percProd": "31.25%"
                                },
                                {
                                    "EnglishProductCategoryName": "Bikes",
                                    "EnglishProductSubcategoryName": "Touring Bikes",
                                    "ProductKey": "565",
                                    "volProm": "noVolProm",
                                    "prodQty": "22",
                                    "percProd": "68.75%"
                                },
                                {
                                    "EnglishProductCategoryName": "Bikes",
                                    "EnglishProductSubcategoryName": "Touring Bikes",
                                    "ProductKey": "566",
                                    "volProm": "noVolProm",
                                    "prodQty": "22",
                                    "percProd": "68.75%"
                                },
                                {
                                    "EnglishProductCategoryName": "Bikes",
                                    "EnglishProductSubcategoryName": "Touring Bikes",
                                    "ProductKey": "567",
                                    "volProm": "noVolProm",
                                    "prodQty": "22",
                                    "percProd": "68.75%"
                                },
                                {
                                    "EnglishProductCategoryName": "Bikes",
                                    "EnglishProductSubcategoryName": "Touring Bikes",
                                    "ProductKey": "568",
                                    "volProm": "noVolProm",
                                    "prodQty": "22",
                                    "percProd": "68.75%"
                                },
                                {
                                    "EnglishProductCategoryName": "Bikes",
                                    "EnglishProductSubcategoryName": "Touring Bikes",
                                    "ProductKey": "568",
                                    "volProm": "VolProm",
                                    "prodQty": "10",
                                    "percProd": "31.25%"
                                },
                                {
                                    "EnglishProductCategoryName": "Bikes",
                                    "EnglishProductSubcategoryName": "Touring Bikes",
                                    "ProductKey": "569",
                                    "volProm": "noVolProm",
                                    "prodQty": "22",
                                    "percProd": "68.75%"
                                },
                                {
                                    "EnglishProductCategoryName": "Bikes",
                                    "EnglishProductSubcategoryName": "Touring Bikes",
                                    "ProductKey": "570",
                                    "volProm": "noVolProm",
                                    "prodQty": "22",
                                    "percProd": "68.75%"
                                },
                                {
                                    "EnglishProductCategoryName": "Bikes",
                                    "EnglishProductSubcategoryName": "Touring Bikes",
                                    "ProductKey": "571",
                                    "volProm": "noVolProm",
                                    "prodQty": "22",
                                    "percProd": "68.75%"
                                },
                                {
                                    "EnglishProductCategoryName": "Bikes",
                                    "EnglishProductSubcategoryName": "Touring Bikes",
                                    "ProductKey": "572",
                                    "volProm": "noVolProm",
                                    "prodQty": "22",
                                    "percProd": "68.75%"
                                },
                                {
                                    "EnglishProductCategoryName": "Bikes",
                                    "EnglishProductSubcategoryName": "Touring Bikes",
                                    "ProductKey": "572",
                                    "volProm": "VolProm",
                                    "prodQty": "10",
                                    "percProd": "31.25%"
                                },
                                {
                                    "EnglishProductCategoryName": "Bikes",
                                    "EnglishProductSubcategoryName": "Touring Bikes",
                                    "ProductKey": "573",
                                    "volProm": "noVolProm",
                                    "prodQty": "22",
                                    "percProd": "68.75%"
                                },
                                {
                                    "EnglishProductCategoryName": "Bikes",
                                    "EnglishProductSubcategoryName": "Touring Bikes",
                                    "ProductKey": "573",
                                    "volProm": "VolProm",
                                    "prodQty": "10",
                                    "percProd": "31.25%"
                                },
                                {
                                    "EnglishProductCategoryName": "Bikes",
                                    "EnglishProductSubcategoryName": "Touring Bikes",
                                    "ProductKey": "574",
                                    "volProm": "noVolProm",
                                    "prodQty": "22",
                                    "percProd": "68.75%"
                                },
                                {
                                    "EnglishProductCategoryName": "Bikes",
                                    "EnglishProductSubcategoryName": "Touring Bikes",
                                    "ProductKey": "575",
                                    "volProm": "noVolProm",
                                    "prodQty": "22",
                                    "percProd": "68.75%"
                                },
                                {
                                    "EnglishProductCategoryName": "Bikes",
                                    "EnglishProductSubcategoryName": "Touring Bikes",
                                    "ProductKey": "576",
                                    "volProm": "noVolProm",
                                    "prodQty": "22",
                                    "percProd": "68.75%"
                                },
                                {
                                    "EnglishProductCategoryName": "Bikes",
                                    "EnglishProductSubcategoryName": "Touring Bikes",
                                    "ProductKey": "576",
                                    "volProm": "VolProm",
                                    "prodQty": "10",
                                    "percProd": "31.25%"
                                },
                                {
                                    "EnglishProductCategoryName": "Bikes",
                                    "EnglishProductSubcategoryName": "Touring Bikes",
                                    "ProductKey": "577",
                                    "volProm": "noVolProm",
                                    "prodQty": "22",
                                    "percProd": "68.75%"
                                },
                                {
                                    "EnglishProductCategoryName": "Bikes",
                                    "EnglishProductSubcategoryName": "Touring Bikes",
                                    "ProductKey": "577",
                                    "volProm": "VolProm",
                                    "prodQty": "10",
                                    "percProd": "31.25%"
                                },
                                {
                                    "EnglishProductCategoryName": "Bikes",
                                    "EnglishProductSubcategoryName": "Touring Bikes",
                                    "ProductKey": "578",
                                    "volProm": "noVolProm",
                                    "prodQty": "22",
                                    "percProd": "68.75%"
                                },
                                {
                                    "EnglishProductCategoryName": "Bikes",
                                    "EnglishProductSubcategoryName": "Touring Bikes",
                                    "ProductKey": "579",
                                    "volProm": "noVolProm",
                                    "prodQty": "22",
                                    "percProd": "68.75%"
                                },
                                {
                                    "EnglishProductCategoryName": "Bikes",
                                    "EnglishProductSubcategoryName": "Touring Bikes",
                                    "ProductKey": "579",
                                    "volProm": "VolProm",
                                    "prodQty": "10",
                                    "percProd": "31.25%"
                                },
                                {
                                    "EnglishProductCategoryName": "Bikes",
                                    "EnglishProductSubcategoryName": "Road Bikes",
                                    "ProductKey": "580",
                                    "volProm": "noVolProm",
                                    "prodQty": "65",
                                    "percProd": "71.43%"
                                },
                                {
                                    "EnglishProductCategoryName": "Bikes",
                                    "EnglishProductSubcategoryName": "Road Bikes",
                                    "ProductKey": "580",
                                    "volProm": "VolProm",
                                    "prodQty": "26",
                                    "percProd": "28.57%"
                                },
                                {
                                    "EnglishProductCategoryName": "Bikes",
                                    "EnglishProductSubcategoryName": "Road Bikes",
                                    "ProductKey": "581",
                                    "volProm": "noVolProm",
                                    "prodQty": "65",
                                    "percProd": "71.43%"
                                },
                                {
                                    "EnglishProductCategoryName": "Bikes",
                                    "EnglishProductSubcategoryName": "Road Bikes",
                                    "ProductKey": "581",
                                    "volProm": "VolProm",
                                    "prodQty": "26",
                                    "percProd": "28.57%"
                                },
                                {
                                    "EnglishProductCategoryName": "Bikes",
                                    "EnglishProductSubcategoryName": "Road Bikes",
                                    "ProductKey": "582",
                                    "volProm": "noVolProm",
                                    "prodQty": "65",
                                    "percProd": "71.43%"
                                },
                                {
                                    "EnglishProductCategoryName": "Bikes",
                                    "EnglishProductSubcategoryName": "Road Bikes",
                                    "ProductKey": "583",
                                    "volProm": "noVolProm",
                                    "prodQty": "65",
                                    "percProd": "71.43%"
                                },
                                {
                                    "EnglishProductCategoryName": "Bikes",
                                    "EnglishProductSubcategoryName": "Road Bikes",
                                    "ProductKey": "583",
                                    "volProm": "VolProm",
                                    "prodQty": "26",
                                    "percProd": "28.57%"
                                },
                                {
                                    "EnglishProductCategoryName": "Bikes",
                                    "EnglishProductSubcategoryName": "Road Bikes",
                                    "ProductKey": "584",
                                    "volProm": "noVolProm",
                                    "prodQty": "65",
                                    "percProd": "71.43%"
                                },
                                {
                                    "EnglishProductCategoryName": "Bikes",
                                    "EnglishProductSubcategoryName": "Touring Bikes",
                                    "ProductKey": "585",
                                    "volProm": "noVolProm",
                                    "prodQty": "22",
                                    "percProd": "68.75%"
                                },
                                {
                                    "EnglishProductCategoryName": "Bikes",
                                    "EnglishProductSubcategoryName": "Touring Bikes",
                                    "ProductKey": "586",
                                    "volProm": "noVolProm",
                                    "prodQty": "22",
                                    "percProd": "68.75%"
                                },
                                {
                                    "EnglishProductCategoryName": "Bikes",
                                    "EnglishProductSubcategoryName": "Touring Bikes",
                                    "ProductKey": "586",
                                    "volProm": "VolProm",
                                    "prodQty": "10",
                                    "percProd": "31.25%"
                                },
                                {
                                    "EnglishProductCategoryName": "Bikes",
                                    "EnglishProductSubcategoryName": "Mountain Bikes",
                                    "ProductKey": "587",
                                    "volProm": "noVolProm",
                                    "prodQty": "38",
                                    "percProd": "63.33%"
                                },
                                {
                                    "EnglishProductCategoryName": "Bikes",
                                    "EnglishProductSubcategoryName": "Mountain Bikes",
                                    "ProductKey": "588",
                                    "volProm": "noVolProm",
                                    "prodQty": "38",
                                    "percProd": "63.33%"
                                },
                                {
                                    "EnglishProductCategoryName": "Bikes",
                                    "EnglishProductSubcategoryName": "Mountain Bikes",
                                    "ProductKey": "588",
                                    "volProm": "VolProm",
                                    "prodQty": "22",
                                    "percProd": "36.67%"
                                },
                                {
                                    "EnglishProductCategoryName": "Bikes",
                                    "EnglishProductSubcategoryName": "Mountain Bikes",
                                    "ProductKey": "589",
                                    "volProm": "noVolProm",
                                    "prodQty": "38",
                                    "percProd": "63.33%"
                                },
                                {
                                    "EnglishProductCategoryName": "Bikes",
                                    "EnglishProductSubcategoryName": "Mountain Bikes",
                                    "ProductKey": "590",
                                    "volProm": "noVolProm",
                                    "prodQty": "38",
                                    "percProd": "63.33%"
                                },
                                {
                                    "EnglishProductCategoryName": "Bikes",
                                    "EnglishProductSubcategoryName": "Mountain Bikes",
                                    "ProductKey": "590",
                                    "volProm": "VolProm",
                                    "prodQty": "22",
                                    "percProd": "36.67%"
                                },
                                {
                                    "EnglishProductCategoryName": "Bikes",
                                    "EnglishProductSubcategoryName": "Mountain Bikes",
                                    "ProductKey": "591",
                                    "volProm": "noVolProm",
                                    "prodQty": "38",
                                    "percProd": "63.33%"
                                },
                                {
                                    "EnglishProductCategoryName": "Bikes",
                                    "EnglishProductSubcategoryName": "Mountain Bikes",
                                    "ProductKey": "592",
                                    "volProm": "noVolProm",
                                    "prodQty": "38",
                                    "percProd": "63.33%"
                                },
                                {
                                    "EnglishProductCategoryName": "Bikes",
                                    "EnglishProductSubcategoryName": "Mountain Bikes",
                                    "ProductKey": "593",
                                    "volProm": "noVolProm",
                                    "prodQty": "38",
                                    "percProd": "63.33%"
                                },
                                {
                                    "EnglishProductCategoryName": "Bikes",
                                    "EnglishProductSubcategoryName": "Mountain Bikes",
                                    "ProductKey": "594",
                                    "volProm": "noVolProm",
                                    "prodQty": "38",
                                    "percProd": "63.33%"
                                },
                                {
                                    "EnglishProductCategoryName": "Bikes",
                                    "EnglishProductSubcategoryName": "Mountain Bikes",
                                    "ProductKey": "595",
                                    "volProm": "noVolProm",
                                    "prodQty": "38",
                                    "percProd": "63.33%"
                                },
                                {
                                    "EnglishProductCategoryName": "Bikes",
                                    "EnglishProductSubcategoryName": "Mountain Bikes",
                                    "ProductKey": "596",
                                    "volProm": "noVolProm",
                                    "prodQty": "38",
                                    "percProd": "63.33%"
                                },
                                {
                                    "EnglishProductCategoryName": "Bikes",
                                    "EnglishProductSubcategoryName": "Mountain Bikes",
                                    "ProductKey": "597",
                                    "volProm": "noVolProm",
                                    "prodQty": "38",
                                    "percProd": "63.33%"
                                },
                                {
                                    "EnglishProductCategoryName": "Bikes",
                                    "EnglishProductSubcategoryName": "Mountain Bikes",
                                    "ProductKey": "598",
                                    "volProm": "noVolProm",
                                    "prodQty": "38",
                                    "percProd": "63.33%"
                                },
                                {
                                    "EnglishProductCategoryName": "Bikes",
                                    "EnglishProductSubcategoryName": "Mountain Bikes",
                                    "ProductKey": "599",
                                    "volProm": "noVolProm",
                                    "prodQty": "38",
                                    "percProd": "63.33%"
                                },
                                {
                                    "EnglishProductCategoryName": "Bikes",
                                    "EnglishProductSubcategoryName": "Mountain Bikes",
                                    "ProductKey": "600",
                                    "volProm": "noVolProm",
                                    "prodQty": "38",
                                    "percProd": "63.33%"
                                },
                                {
                                    "EnglishProductCategoryName": "Components",
                                    "EnglishProductSubcategoryName": "Bottom Brackets",
                                    "ProductKey": "601",
                                    "volProm": "noVolProm",
                                    "prodQty": "2",
                                    "percProd": "100.00%"
                                },
                                {
                                    "EnglishProductCategoryName": "Components",
                                    "EnglishProductSubcategoryName": "Bottom Brackets",
                                    "ProductKey": "603",
                                    "volProm": "noVolProm",
                                    "prodQty": "2",
                                    "percProd": "100.00%"
                                },
                                {
                                    "EnglishProductCategoryName": "Bikes",
                                    "EnglishProductSubcategoryName": "Road Bikes",
                                    "ProductKey": "604",
                                    "volProm": "noVolProm",
                                    "prodQty": "65",
                                    "percProd": "71.43%"
                                },
                                {
                                    "EnglishProductCategoryName": "Bikes",
                                    "EnglishProductSubcategoryName": "Road Bikes",
                                    "ProductKey": "605",
                                    "volProm": "noVolProm",
                                    "prodQty": "65",
                                    "percProd": "71.43%"
                                },
                                {
                                    "EnglishProductCategoryName": "Bikes",
                                    "EnglishProductSubcategoryName": "Road Bikes",
                                    "ProductKey": "605",
                                    "volProm": "VolProm",
                                    "prodQty": "26",
                                    "percProd": "28.57%"
                                },
                                {
                                    "EnglishProductCategoryName": "Bikes",
                                    "EnglishProductSubcategoryName": "Road Bikes",
                                    "ProductKey": "606",
                                    "volProm": "noVolProm",
                                    "prodQty": "65",
                                    "percProd": "71.43%"
                                },
                                {
                                    "EnglishProductCategoryName": "Bikes",
                                    "EnglishProductSubcategoryName": "Road Bikes",
                                    "ProductKey": "606",
                                    "volProm": "VolProm",
                                    "prodQty": "26",
                                    "percProd": "28.57%"
                                }
                            ]
                        },
                        "text/html": [
                            "<table>",
                            "<tr><th>EnglishProductCategoryName</th><th>EnglishProductSubcategoryName</th><th>ProductKey</th><th>volProm</th><th>prodQty</th><th>percProd</th></tr>",
                            "<tr><td>Accessories</td><td>Helmets</td><td>212</td><td>noVolProm</td><td>9</td><td>52.94%</td></tr>",
                            "<tr><td>Accessories</td><td>Helmets</td><td>213</td><td>noVolProm</td><td>9</td><td>52.94%</td></tr>",
                            "<tr><td>Accessories</td><td>Helmets</td><td>213</td><td>VolProm</td><td>8</td><td>47.06%</td></tr>",
                            "<tr><td>Accessories</td><td>Helmets</td><td>214</td><td>noVolProm</td><td>9</td><td>52.94%</td></tr>",
                            "<tr><td>Accessories</td><td>Helmets</td><td>214</td><td>VolProm</td><td>8</td><td>47.06%</td></tr>",
                            "<tr><td>Accessories</td><td>Helmets</td><td>215</td><td>noVolProm</td><td>9</td><td>52.94%</td></tr>",
                            "<tr><td>Accessories</td><td>Helmets</td><td>215</td><td>VolProm</td><td>8</td><td>47.06%</td></tr>",
                            "<tr><td>Accessories</td><td>Helmets</td><td>216</td><td>noVolProm</td><td>9</td><td>52.94%</td></tr>",
                            "<tr><td>Accessories</td><td>Helmets</td><td>216</td><td>VolProm</td><td>8</td><td>47.06%</td></tr>",
                            "<tr><td>Accessories</td><td>Helmets</td><td>217</td><td>noVolProm</td><td>9</td><td>52.94%</td></tr>",
                            "<tr><td>Accessories</td><td>Helmets</td><td>217</td><td>VolProm</td><td>8</td><td>47.06%</td></tr>",
                            "<tr><td>Clothing</td><td>Socks</td><td>218</td><td>noVolProm</td><td>4</td><td>57.14%</td></tr>",
                            "<tr><td>Clothing</td><td>Socks</td><td>218</td><td>VolProm</td><td>3</td><td>42.86%</td></tr>",
                            "<tr><td>Clothing</td><td>Socks</td><td>219</td><td>noVolProm</td><td>4</td><td>57.14%</td></tr>",
                            "<tr><td>Accessories</td><td>Helmets</td><td>220</td><td>noVolProm</td><td>9</td><td>52.94%</td></tr>",
                            "<tr><td>Accessories</td><td>Helmets</td><td>220</td><td>VolProm</td><td>8</td><td>47.06%</td></tr>",
                            "<tr><td>Accessories</td><td>Helmets</td><td>221</td><td>noVolProm</td><td>9</td><td>52.94%</td></tr>",
                            "<tr><td>Accessories</td><td>Helmets</td><td>221</td><td>VolProm</td><td>8</td><td>47.06%</td></tr>",
                            "<tr><td>Accessories</td><td>Helmets</td><td>222</td><td>noVolProm</td><td>9</td><td>52.94%</td></tr>",
                            "<tr><td>Accessories</td><td>Helmets</td><td>222</td><td>VolProm</td><td>8</td><td>47.06%</td></tr>",
                            "<tr><td>Clothing</td><td>Caps</td><td>223</td><td>noVolProm</td><td>3</td><td>50.00%</td></tr>",
                            "<tr><td>Clothing</td><td>Caps</td><td>223</td><td>VolProm</td><td>3</td><td>50.00%</td></tr>",
                            "<tr><td>Clothing</td><td>Caps</td><td>224</td><td>noVolProm</td><td>3</td><td>50.00%</td></tr>",
                            "<tr><td>Clothing</td><td>Caps</td><td>224</td><td>VolProm</td><td>3</td><td>50.00%</td></tr>",
                            "<tr><td>Clothing</td><td>Caps</td><td>225</td><td>noVolProm</td><td>3</td><td>50.00%</td></tr>",
                            "<tr><td>Clothing</td><td>Caps</td><td>225</td><td>VolProm</td><td>3</td><td>50.00%</td></tr>",
                            "<tr><td>Clothing</td><td>Jerseys</td><td>229</td><td>noVolProm</td><td>12</td><td>54.55%</td></tr>",
                            "<tr><td>Clothing</td><td>Jerseys</td><td>230</td><td>noVolProm</td><td>12</td><td>54.55%</td></tr>",
                            "<tr><td>Clothing</td><td>Jerseys</td><td>230</td><td>VolProm</td><td>10</td><td>45.45%</td></tr>",
                            "<tr><td>Clothing</td><td>Jerseys</td><td>231</td><td>noVolProm</td><td>12</td><td>54.55%</td></tr>",
                            "<tr><td>Clothing</td><td>Jerseys</td><td>231</td><td>VolProm</td><td>10</td><td>45.45%</td></tr>",
                            "<tr><td>Clothing</td><td>Jerseys</td><td>232</td><td>noVolProm</td><td>12</td><td>54.55%</td></tr>",
                            "<tr><td>Clothing</td><td>Jerseys</td><td>232</td><td>VolProm</td><td>10</td><td>45.45%</td></tr>",
                            "<tr><td>Clothing</td><td>Jerseys</td><td>233</td><td>noVolProm</td><td>12</td><td>54.55%</td></tr>",
                            "<tr><td>Clothing</td><td>Jerseys</td><td>233</td><td>VolProm</td><td>10</td><td>45.45%</td></tr>",
                            "<tr><td>Clothing</td><td>Jerseys</td><td>234</td><td>noVolProm</td><td>12</td><td>54.55%</td></tr>",
                            "<tr><td>Clothing</td><td>Jerseys</td><td>234</td><td>VolProm</td><td>10</td><td>45.45%</td></tr>",
                            "<tr><td>Clothing</td><td>Jerseys</td><td>235</td><td>noVolProm</td><td>12</td><td>54.55%</td></tr>",
                            "<tr><td>Clothing</td><td>Jerseys</td><td>236</td><td>noVolProm</td><td>12</td><td>54.55%</td></tr>",
                            "<tr><td>Clothing</td><td>Jerseys</td><td>236</td><td>VolProm</td><td>10</td><td>45.45%</td></tr>",
                            "<tr><td>Clothing</td><td>Jerseys</td><td>237</td><td>noVolProm</td><td>12</td><td>54.55%</td></tr>",
                            "<tr><td>Clothing</td><td>Jerseys</td><td>237</td><td>VolProm</td><td>10</td><td>45.45%</td></tr>",
                            "<tr><td>Components</td><td>Road Frames</td><td>238</td><td>noVolProm</td><td>44</td><td>88.00%</td></tr>",
                            "<tr><td>Components</td><td>Road Frames</td><td>239</td><td>noVolProm</td><td>44</td><td>88.00%</td></tr>",
                            "<tr><td>Components</td><td>Road Frames</td><td>240</td><td>noVolProm</td><td>44</td><td>88.00%</td></tr>",
                            "<tr><td>Components</td><td>Road Frames</td><td>241</td><td>noVolProm</td><td>44</td><td>88.00%</td></tr>",
                            "<tr><td>Components</td><td>Road Frames</td><td>242</td><td>noVolProm</td><td>44</td><td>88.00%</td></tr>",
                            "<tr><td>Components</td><td>Road Frames</td><td>243</td><td>noVolProm</td><td>44</td><td>88.00%</td></tr>",
                            "<tr><td>Components</td><td>Road Frames</td><td>245</td><td>noVolProm</td><td>44</td><td>88.00%</td></tr>",
                            "<tr><td>Components</td><td>Road Frames</td><td>246</td><td>noVolProm</td><td>44</td><td>88.00%</td></tr>",
                            "<tr><td>Components</td><td>Road Frames</td><td>253</td><td>noVolProm</td><td>44</td><td>88.00%</td></tr>",
                            "<tr><td>Components</td><td>Road Frames</td><td>254</td><td>noVolProm</td><td>44</td><td>88.00%</td></tr>",
                            "<tr><td>Components</td><td>Road Frames</td><td>255</td><td>noVolProm</td><td>44</td><td>88.00%</td></tr>",
                            "<tr><td>Components</td><td>Road Frames</td><td>256</td><td>noVolProm</td><td>44</td><td>88.00%</td></tr>",
                            "<tr><td>Components</td><td>Road Frames</td><td>257</td><td>noVolProm</td><td>44</td><td>88.00%</td></tr>",
                            "<tr><td>Components</td><td>Road Frames</td><td>258</td><td>noVolProm</td><td>44</td><td>88.00%</td></tr>",
                            "<tr><td>Components</td><td>Road Frames</td><td>262</td><td>noVolProm</td><td>44</td><td>88.00%</td></tr>",
                            "<tr><td>Components</td><td>Road Frames</td><td>263</td><td>noVolProm</td><td>44</td><td>88.00%</td></tr>",
                            "<tr><td>Components</td><td>Road Frames</td><td>263</td><td>VolProm</td><td>6</td><td>12.00%</td></tr>",
                            "<tr><td>Components</td><td>Road Frames</td><td>264</td><td>noVolProm</td><td>44</td><td>88.00%</td></tr>",
                            "<tr><td>Components</td><td>Road Frames</td><td>265</td><td>noVolProm</td><td>44</td><td>88.00%</td></tr>",
                            "<tr><td>Components</td><td>Road Frames</td><td>266</td><td>noVolProm</td><td>44</td><td>88.00%</td></tr>",
                            "<tr><td>Components</td><td>Road Frames</td><td>267</td><td>noVolProm</td><td>44</td><td>88.00%</td></tr>",
                            "<tr><td>Components</td><td>Road Frames</td><td>270</td><td>noVolProm</td><td>44</td><td>88.00%</td></tr>",
                            "<tr><td>Components</td><td>Road Frames</td><td>271</td><td>noVolProm</td><td>44</td><td>88.00%</td></tr>",
                            "<tr><td>Components</td><td>Road Frames</td><td>272</td><td>noVolProm</td><td>44</td><td>88.00%</td></tr>",
                            "<tr><td>Components</td><td>Road Frames</td><td>273</td><td>noVolProm</td><td>44</td><td>88.00%</td></tr>",
                            "<tr><td>Components</td><td>Road Frames</td><td>273</td><td>VolProm</td><td>6</td><td>12.00%</td></tr>",
                            "<tr><td>Components</td><td>Road Frames</td><td>275</td><td>noVolProm</td><td>44</td><td>88.00%</td></tr>",
                            "<tr><td>Components</td><td>Road Frames</td><td>276</td><td>noVolProm</td><td>44</td><td>88.00%</td></tr>",
                            "<tr><td>Components</td><td>Road Frames</td><td>279</td><td>noVolProm</td><td>44</td><td>88.00%</td></tr>",
                            "<tr><td>Components</td><td>Road Frames</td><td>280</td><td>noVolProm</td><td>44</td><td>88.00%</td></tr>",
                            "<tr><td>Components</td><td>Road Frames</td><td>281</td><td>noVolProm</td><td>44</td><td>88.00%</td></tr>",
                            "<tr><td>Components</td><td>Road Frames</td><td>285</td><td>noVolProm</td><td>44</td><td>88.00%</td></tr>",
                            "<tr><td>Components</td><td>Road Frames</td><td>286</td><td>noVolProm</td><td>44</td><td>88.00%</td></tr>",
                            "<tr><td>Components</td><td>Road Frames</td><td>286</td><td>VolProm</td><td>6</td><td>12.00%</td></tr>",
                            "<tr><td>Components</td><td>Road Frames</td><td>287</td><td>noVolProm</td><td>44</td><td>88.00%</td></tr>",
                            "<tr><td>Components</td><td>Road Frames</td><td>287</td><td>VolProm</td><td>6</td><td>12.00%</td></tr>",
                            "<tr><td>Components</td><td>Mountain Frames</td><td>288</td><td>noVolProm</td><td>36</td><td>85.71%</td></tr>",
                            "<tr><td>Components</td><td>Mountain Frames</td><td>289</td><td>noVolProm</td><td>36</td><td>85.71%</td></tr>",
                            "<tr><td>Components</td><td>Mountain Frames</td><td>290</td><td>noVolProm</td><td>36</td><td>85.71%</td></tr>",
                            "<tr><td>Components</td><td>Mountain Frames</td><td>292</td><td>noVolProm</td><td>36</td><td>85.71%</td></tr>",
                            "<tr><td>Components</td><td>Mountain Frames</td><td>293</td><td>noVolProm</td><td>36</td><td>85.71%</td></tr>",
                            "<tr><td>Components</td><td>Mountain Frames</td><td>294</td><td>noVolProm</td><td>36</td><td>85.71%</td></tr>",
                            "<tr><td>Components</td><td>Mountain Frames</td><td>295</td><td>noVolProm</td><td>36</td><td>85.71%</td></tr>",
                            "<tr><td>Components</td><td>Mountain Frames</td><td>296</td><td>noVolProm</td><td>36</td><td>85.71%</td></tr>",
                            "<tr><td>Components</td><td>Mountain Frames</td><td>297</td><td>noVolProm</td><td>36</td><td>85.71%</td></tr>",
                            "<tr><td>Components</td><td>Mountain Frames</td><td>298</td><td>noVolProm</td><td>36</td><td>85.71%</td></tr>",
                            "<tr><td>Components</td><td>Mountain Frames</td><td>299</td><td>noVolProm</td><td>36</td><td>85.71%</td></tr>",
                            "<tr><td>Components</td><td>Mountain Frames</td><td>300</td><td>noVolProm</td><td>36</td><td>85.71%</td></tr>",
                            "<tr><td>Components</td><td>Mountain Frames</td><td>304</td><td>noVolProm</td><td>36</td><td>85.71%</td></tr>",
                            "<tr><td>Components</td><td>Mountain Frames</td><td>305</td><td>noVolProm</td><td>36</td><td>85.71%</td></tr>",
                            "<tr><td>Components</td><td>Mountain Frames</td><td>306</td><td>noVolProm</td><td>36</td><td>85.71%</td></tr>",
                            "<tr><td>Components</td><td>Mountain Frames</td><td>307</td><td>noVolProm</td><td>36</td><td>85.71%</td></tr>",
                            "<tr><td>Components</td><td>Mountain Frames</td><td>308</td><td>noVolProm</td><td>36</td><td>85.71%</td></tr>",
                            "<tr><td>Components</td><td>Mountain Frames</td><td>309</td><td>noVolProm</td><td>36</td><td>85.71%</td></tr>",
                            "<tr><td>Components</td><td>Mountain Frames</td><td>309</td><td>VolProm</td><td>6</td><td>14.29%</td></tr>",
                            "<tr><td>Bikes</td><td>Road Bikes</td><td>310</td><td>noVolProm</td><td>65</td><td>71.43%</td></tr>",
                            "<tr><td>Bikes</td><td>Road Bikes</td><td>311</td><td>noVolProm</td><td>65</td><td>71.43%</td></tr>",
                            "<tr><td>Bikes</td><td>Road Bikes</td><td>312</td><td>noVolProm</td><td>65</td><td>71.43%</td></tr>",
                            "<tr><td>Bikes</td><td>Road Bikes</td><td>313</td><td>noVolProm</td><td>65</td><td>71.43%</td></tr>",
                            "<tr><td>Bikes</td><td>Road Bikes</td><td>314</td><td>noVolProm</td><td>65</td><td>71.43%</td></tr>",
                            "<tr><td>Bikes</td><td>Road Bikes</td><td>315</td><td>noVolProm</td><td>65</td><td>71.43%</td></tr>",
                            "<tr><td>Bikes</td><td>Road Bikes</td><td>315</td><td>VolProm</td><td>26</td><td>28.57%</td></tr>",
                            "<tr><td>Bikes</td><td>Road Bikes</td><td>316</td><td>noVolProm</td><td>65</td><td>71.43%</td></tr>",
                            "<tr><td>Bikes</td><td>Road Bikes</td><td>317</td><td>noVolProm</td><td>65</td><td>71.43%</td></tr>",
                            "<tr><td>Bikes</td><td>Road Bikes</td><td>318</td><td>noVolProm</td><td>65</td><td>71.43%</td></tr>",
                            "<tr><td>Bikes</td><td>Road Bikes</td><td>319</td><td>noVolProm</td><td>65</td><td>71.43%</td></tr>",
                            "<tr><td>Bikes</td><td>Road Bikes</td><td>320</td><td>noVolProm</td><td>65</td><td>71.43%</td></tr>",
                            "<tr><td>Bikes</td><td>Road Bikes</td><td>321</td><td>noVolProm</td><td>65</td><td>71.43%</td></tr>",
                            "<tr><td>Bikes</td><td>Road Bikes</td><td>322</td><td>noVolProm</td><td>65</td><td>71.43%</td></tr>",
                            "<tr><td>Bikes</td><td>Road Bikes</td><td>322</td><td>VolProm</td><td>26</td><td>28.57%</td></tr>",
                            "<tr><td>Bikes</td><td>Road Bikes</td><td>323</td><td>noVolProm</td><td>65</td><td>71.43%</td></tr>",
                            "<tr><td>Bikes</td><td>Road Bikes</td><td>323</td><td>VolProm</td><td>26</td><td>28.57%</td></tr>",
                            "<tr><td>Bikes</td><td>Road Bikes</td><td>324</td><td>noVolProm</td><td>65</td><td>71.43%</td></tr>",
                            "<tr><td>Bikes</td><td>Road Bikes</td><td>325</td><td>noVolProm</td><td>65</td><td>71.43%</td></tr>",
                            "<tr><td>Bikes</td><td>Road Bikes</td><td>325</td><td>VolProm</td><td>26</td><td>28.57%</td></tr>",
                            "<tr><td>Bikes</td><td>Road Bikes</td><td>326</td><td>noVolProm</td><td>65</td><td>71.43%</td></tr>",
                            "<tr><td>Bikes</td><td>Road Bikes</td><td>327</td><td>noVolProm</td><td>65</td><td>71.43%</td></tr>",
                            "<tr><td>Bikes</td><td>Road Bikes</td><td>327</td><td>VolProm</td><td>26</td><td>28.57%</td></tr>",
                            "<tr><td>Bikes</td><td>Road Bikes</td><td>328</td><td>noVolProm</td><td>65</td><td>71.43%</td></tr>",
                            "<tr><td>Bikes</td><td>Road Bikes</td><td>329</td><td>noVolProm</td><td>65</td><td>71.43%</td></tr>",
                            "<tr><td>Bikes</td><td>Road Bikes</td><td>329</td><td>VolProm</td><td>26</td><td>28.57%</td></tr>",
                            "<tr><td>Bikes</td><td>Road Bikes</td><td>330</td><td>noVolProm</td><td>65</td><td>71.43%</td></tr>",
                            "<tr><td>Bikes</td><td>Road Bikes</td><td>331</td><td>noVolProm</td><td>65</td><td>71.43%</td></tr>",
                            "<tr><td>Bikes</td><td>Road Bikes</td><td>332</td><td>noVolProm</td><td>65</td><td>71.43%</td></tr>",
                            "<tr><td>Bikes</td><td>Road Bikes</td><td>333</td><td>noVolProm</td><td>65</td><td>71.43%</td></tr>",
                            "<tr><td>Bikes</td><td>Road Bikes</td><td>333</td><td>VolProm</td><td>26</td><td>28.57%</td></tr>",
                            "<tr><td>Bikes</td><td>Road Bikes</td><td>334</td><td>noVolProm</td><td>65</td><td>71.43%</td></tr>",
                            "<tr><td>Bikes</td><td>Road Bikes</td><td>335</td><td>noVolProm</td><td>65</td><td>71.43%</td></tr>",
                            "<tr><td>Bikes</td><td>Road Bikes</td><td>335</td><td>VolProm</td><td>26</td><td>28.57%</td></tr>",
                            "<tr><td>Bikes</td><td>Road Bikes</td><td>336</td><td>noVolProm</td><td>65</td><td>71.43%</td></tr>",
                            "<tr><td>Bikes</td><td>Road Bikes</td><td>337</td><td>noVolProm</td><td>65</td><td>71.43%</td></tr>",
                            "<tr><td>Bikes</td><td>Road Bikes</td><td>338</td><td>noVolProm</td><td>65</td><td>71.43%</td></tr>",
                            "<tr><td>Bikes</td><td>Road Bikes</td><td>339</td><td>noVolProm</td><td>65</td><td>71.43%</td></tr>",
                            "<tr><td>Bikes</td><td>Road Bikes</td><td>339</td><td>VolProm</td><td>26</td><td>28.57%</td></tr>",
                            "<tr><td>Bikes</td><td>Road Bikes</td><td>340</td><td>noVolProm</td><td>65</td><td>71.43%</td></tr>",
                            "<tr><td>Bikes</td><td>Road Bikes</td><td>341</td><td>noVolProm</td><td>65</td><td>71.43%</td></tr>",
                            "<tr><td>Bikes</td><td>Road Bikes</td><td>342</td><td>noVolProm</td><td>65</td><td>71.43%</td></tr>",
                            "<tr><td>Bikes</td><td>Road Bikes</td><td>342</td><td>VolProm</td><td>26</td><td>28.57%</td></tr>",
                            "<tr><td>Bikes</td><td>Road Bikes</td><td>343</td><td>noVolProm</td><td>65</td><td>71.43%</td></tr>",
                            "<tr><td>Bikes</td><td>Road Bikes</td><td>343</td><td>VolProm</td><td>26</td><td>28.57%</td></tr>",
                            "<tr><td>Bikes</td><td>Mountain Bikes</td><td>344</td><td>noVolProm</td><td>38</td><td>63.33%</td></tr>",
                            "<tr><td>Bikes</td><td>Mountain Bikes</td><td>345</td><td>noVolProm</td><td>38</td><td>63.33%</td></tr>",
                            "<tr><td>Bikes</td><td>Mountain Bikes</td><td>345</td><td>VolProm</td><td>22</td><td>36.67%</td></tr>",
                            "<tr><td>Bikes</td><td>Mountain Bikes</td><td>346</td><td>noVolProm</td><td>38</td><td>63.33%</td></tr>",
                            "<tr><td>Bikes</td><td>Mountain Bikes</td><td>346</td><td>VolProm</td><td>22</td><td>36.67%</td></tr>",
                            "<tr><td>Bikes</td><td>Mountain Bikes</td><td>347</td><td>noVolProm</td><td>38</td><td>63.33%</td></tr>",
                            "<tr><td>Bikes</td><td>Mountain Bikes</td><td>348</td><td>noVolProm</td><td>38</td><td>63.33%</td></tr>",
                            "<tr><td>Bikes</td><td>Mountain Bikes</td><td>348</td><td>VolProm</td><td>22</td><td>36.67%</td></tr>",
                            "<tr><td>Bikes</td><td>Mountain Bikes</td><td>349</td><td>noVolProm</td><td>38</td><td>63.33%</td></tr>",
                            "<tr><td>Bikes</td><td>Mountain Bikes</td><td>349</td><td>VolProm</td><td>22</td><td>36.67%</td></tr>",
                            "<tr><td>Bikes</td><td>Mountain Bikes</td><td>350</td><td>noVolProm</td><td>38</td><td>63.33%</td></tr>",
                            "<tr><td>Bikes</td><td>Mountain Bikes</td><td>350</td><td>VolProm</td><td>22</td><td>36.67%</td></tr>",
                            "<tr><td>Bikes</td><td>Mountain Bikes</td><td>351</td><td>noVolProm</td><td>38</td><td>63.33%</td></tr>",
                            "<tr><td>Bikes</td><td>Mountain Bikes</td><td>352</td><td>noVolProm</td><td>38</td><td>63.33%</td></tr>",
                            "<tr><td>Bikes</td><td>Mountain Bikes</td><td>352</td><td>VolProm</td><td>22</td><td>36.67%</td></tr>",
                            "<tr><td>Bikes</td><td>Mountain Bikes</td><td>353</td><td>noVolProm</td><td>38</td><td>63.33%</td></tr>",
                            "<tr><td>Bikes</td><td>Mountain Bikes</td><td>353</td><td>VolProm</td><td>22</td><td>36.67%</td></tr>",
                            "<tr><td>Bikes</td><td>Mountain Bikes</td><td>354</td><td>noVolProm</td><td>38</td><td>63.33%</td></tr>",
                            "<tr><td>Bikes</td><td>Mountain Bikes</td><td>354</td><td>VolProm</td><td>22</td><td>36.67%</td></tr>",
                            "<tr><td>Bikes</td><td>Mountain Bikes</td><td>355</td><td>noVolProm</td><td>38</td><td>63.33%</td></tr>",
                            "<tr><td>Bikes</td><td>Mountain Bikes</td><td>355</td><td>VolProm</td><td>22</td><td>36.67%</td></tr>",
                            "<tr><td>Bikes</td><td>Mountain Bikes</td><td>356</td><td>noVolProm</td><td>38</td><td>63.33%</td></tr>",
                            "<tr><td>Bikes</td><td>Mountain Bikes</td><td>356</td><td>VolProm</td><td>22</td><td>36.67%</td></tr>",
                            "<tr><td>Bikes</td><td>Mountain Bikes</td><td>357</td><td>noVolProm</td><td>38</td><td>63.33%</td></tr>",
                            "<tr><td>Bikes</td><td>Mountain Bikes</td><td>357</td><td>VolProm</td><td>22</td><td>36.67%</td></tr>",
                            "<tr><td>Bikes</td><td>Mountain Bikes</td><td>358</td><td>noVolProm</td><td>38</td><td>63.33%</td></tr>",
                            "<tr><td>Bikes</td><td>Mountain Bikes</td><td>358</td><td>VolProm</td><td>22</td><td>36.67%</td></tr>",
                            "<tr><td>Bikes</td><td>Mountain Bikes</td><td>359</td><td>noVolProm</td><td>38</td><td>63.33%</td></tr>",
                            "<tr><td>Bikes</td><td>Mountain Bikes</td><td>359</td><td>VolProm</td><td>22</td><td>36.67%</td></tr>",
                            "<tr><td>Bikes</td><td>Mountain Bikes</td><td>360</td><td>noVolProm</td><td>38</td><td>63.33%</td></tr>",
                            "<tr><td>Bikes</td><td>Mountain Bikes</td><td>360</td><td>VolProm</td><td>22</td><td>36.67%</td></tr>",
                            "<tr><td>Bikes</td><td>Mountain Bikes</td><td>361</td><td>noVolProm</td><td>38</td><td>63.33%</td></tr>",
                            "<tr><td>Bikes</td><td>Mountain Bikes</td><td>361</td><td>VolProm</td><td>22</td><td>36.67%</td></tr>",
                            "<tr><td>Bikes</td><td>Mountain Bikes</td><td>362</td><td>noVolProm</td><td>38</td><td>63.33%</td></tr>",
                            "<tr><td>Bikes</td><td>Mountain Bikes</td><td>362</td><td>VolProm</td><td>22</td><td>36.67%</td></tr>",
                            "<tr><td>Bikes</td><td>Mountain Bikes</td><td>363</td><td>noVolProm</td><td>38</td><td>63.33%</td></tr>",
                            "<tr><td>Bikes</td><td>Mountain Bikes</td><td>363</td><td>VolProm</td><td>22</td><td>36.67%</td></tr>",
                            "<tr><td>Bikes</td><td>Mountain Bikes</td><td>364</td><td>noVolProm</td><td>38</td><td>63.33%</td></tr>",
                            "<tr><td>Bikes</td><td>Mountain Bikes</td><td>364</td><td>VolProm</td><td>22</td><td>36.67%</td></tr>",
                            "<tr><td>Bikes</td><td>Mountain Bikes</td><td>365</td><td>noVolProm</td><td>38</td><td>63.33%</td></tr>",
                            "<tr><td>Bikes</td><td>Mountain Bikes</td><td>365</td><td>VolProm</td><td>22</td><td>36.67%</td></tr>",
                            "<tr><td>Bikes</td><td>Mountain Bikes</td><td>366</td><td>noVolProm</td><td>38</td><td>63.33%</td></tr>",
                            "<tr><td>Bikes</td><td>Mountain Bikes</td><td>367</td><td>noVolProm</td><td>38</td><td>63.33%</td></tr>",
                            "<tr><td>Bikes</td><td>Mountain Bikes</td><td>367</td><td>VolProm</td><td>22</td><td>36.67%</td></tr>",
                            "<tr><td>Bikes</td><td>Road Bikes</td><td>368</td><td>noVolProm</td><td>65</td><td>71.43%</td></tr>",
                            "<tr><td>Bikes</td><td>Road Bikes</td><td>368</td><td>VolProm</td><td>26</td><td>28.57%</td></tr>",
                            "<tr><td>Bikes</td><td>Road Bikes</td><td>369</td><td>noVolProm</td><td>65</td><td>71.43%</td></tr>",
                            "<tr><td>Bikes</td><td>Road Bikes</td><td>369</td><td>VolProm</td><td>26</td><td>28.57%</td></tr>",
                            "<tr><td>Bikes</td><td>Road Bikes</td><td>370</td><td>noVolProm</td><td>65</td><td>71.43%</td></tr>",
                            "<tr><td>Bikes</td><td>Road Bikes</td><td>371</td><td>noVolProm</td><td>65</td><td>71.43%</td></tr>",
                            "<tr><td>Bikes</td><td>Road Bikes</td><td>372</td><td>noVolProm</td><td>65</td><td>71.43%</td></tr>",
                            "<tr><td>Bikes</td><td>Road Bikes</td><td>373</td><td>noVolProm</td><td>65</td><td>71.43%</td></tr>",
                            "<tr><td>Bikes</td><td>Road Bikes</td><td>373</td><td>VolProm</td><td>26</td><td>28.57%</td></tr>",
                            "<tr><td>Bikes</td><td>Road Bikes</td><td>374</td><td>noVolProm</td><td>65</td><td>71.43%</td></tr>",
                            "<tr><td>Bikes</td><td>Road Bikes</td><td>375</td><td>noVolProm</td><td>65</td><td>71.43%</td></tr>",
                            "<tr><td>Bikes</td><td>Road Bikes</td><td>375</td><td>VolProm</td><td>26</td><td>28.57%</td></tr>",
                            "<tr><td>Bikes</td><td>Road Bikes</td><td>376</td><td>noVolProm</td><td>65</td><td>71.43%</td></tr>",
                            "<tr><td>Bikes</td><td>Road Bikes</td><td>376</td><td>VolProm</td><td>26</td><td>28.57%</td></tr>",
                            "<tr><td>Bikes</td><td>Road Bikes</td><td>377</td><td>noVolProm</td><td>65</td><td>71.43%</td></tr>",
                            "<tr><td>Bikes</td><td>Road Bikes</td><td>378</td><td>noVolProm</td><td>65</td><td>71.43%</td></tr>",
                            "<tr><td>Bikes</td><td>Road Bikes</td><td>379</td><td>noVolProm</td><td>65</td><td>71.43%</td></tr>",
                            "<tr><td>Bikes</td><td>Road Bikes</td><td>380</td><td>noVolProm</td><td>65</td><td>71.43%</td></tr>",
                            "<tr><td>Bikes</td><td>Road Bikes</td><td>381</td><td>noVolProm</td><td>65</td><td>71.43%</td></tr>",
                            "<tr><td>Bikes</td><td>Road Bikes</td><td>381</td><td>VolProm</td><td>26</td><td>28.57%</td></tr>",
                            "<tr><td>Bikes</td><td>Road Bikes</td><td>382</td><td>noVolProm</td><td>65</td><td>71.43%</td></tr>",
                            "<tr><td>Bikes</td><td>Road Bikes</td><td>382</td><td>VolProm</td><td>26</td><td>28.57%</td></tr>",
                            "<tr><td>Bikes</td><td>Road Bikes</td><td>383</td><td>noVolProm</td><td>65</td><td>71.43%</td></tr>",
                            "<tr><td>Bikes</td><td>Road Bikes</td><td>384</td><td>noVolProm</td><td>65</td><td>71.43%</td></tr>",
                            "<tr><td>Bikes</td><td>Road Bikes</td><td>384</td><td>VolProm</td><td>26</td><td>28.57%</td></tr>",
                            "<tr><td>Bikes</td><td>Road Bikes</td><td>385</td><td>noVolProm</td><td>65</td><td>71.43%</td></tr>",
                            "<tr><td>Bikes</td><td>Road Bikes</td><td>386</td><td>noVolProm</td><td>65</td><td>71.43%</td></tr>",
                            "<tr><td>Bikes</td><td>Road Bikes</td><td>387</td><td>noVolProm</td><td>65</td><td>71.43%</td></tr>",
                            "<tr><td>Bikes</td><td>Road Bikes</td><td>388</td><td>noVolProm</td><td>65</td><td>71.43%</td></tr>",
                            "<tr><td>Bikes</td><td>Road Bikes</td><td>389</td><td>noVolProm</td><td>65</td><td>71.43%</td></tr>",
                            "<tr><td>Bikes</td><td>Road Bikes</td><td>389</td><td>VolProm</td><td>26</td><td>28.57%</td></tr>",
                            "<tr><td>Bikes</td><td>Road Bikes</td><td>390</td><td>noVolProm</td><td>65</td><td>71.43%</td></tr>",
                            "<tr><td>Bikes</td><td>Road Bikes</td><td>390</td><td>VolProm</td><td>26</td><td>28.57%</td></tr>",
                            "<tr><td>Components</td><td>Forks</td><td>391</td><td>noVolProm</td><td>2</td><td>66.67%</td></tr>",
                            "<tr><td>Components</td><td>Forks</td><td>393</td><td>noVolProm</td><td>2</td><td>66.67%</td></tr>",
                            "<tr><td>Components</td><td>Forks</td><td>393</td><td>VolProm</td><td>1</td><td>33.33%</td></tr>",
                            "<tr><td>Components</td><td>Headsets</td><td>394</td><td>noVolProm</td><td>3</td><td>75.00%</td></tr>",
                            "<tr><td>Components</td><td>Headsets</td><td>395</td><td>noVolProm</td><td>3</td><td>75.00%</td></tr>",
                            "<tr><td>Components</td><td>Headsets</td><td>395</td><td>VolProm</td><td>1</td><td>25.00%</td></tr>",
                            "<tr><td>Components</td><td>Headsets</td><td>396</td><td>noVolProm</td><td>3</td><td>75.00%</td></tr>",
                            "<tr><td>Components</td><td>Handlebars</td><td>397</td><td>noVolProm</td><td>12</td><td>80.00%</td></tr>",
                            "<tr><td>Components</td><td>Handlebars</td><td>398</td><td>noVolProm</td><td>12</td><td>80.00%</td></tr>",
                            "<tr><td>Components</td><td>Handlebars</td><td>398</td><td>VolProm</td><td>3</td><td>20.00%</td></tr>",
                            "<tr><td>Components</td><td>Handlebars</td><td>399</td><td>noVolProm</td><td>12</td><td>80.00%</td></tr>",
                            "<tr><td>Components</td><td>Handlebars</td><td>399</td><td>VolProm</td><td>3</td><td>20.00%</td></tr>",
                            "<tr><td>Components</td><td>Handlebars</td><td>400</td><td>noVolProm</td><td>12</td><td>80.00%</td></tr>",
                            "<tr><td>Components</td><td>Handlebars</td><td>400</td><td>VolProm</td><td>3</td><td>20.00%</td></tr>",
                            "<tr><td>Components</td><td>Handlebars</td><td>401</td><td>noVolProm</td><td>12</td><td>80.00%</td></tr>",
                            "<tr><td>Components</td><td>Handlebars</td><td>402</td><td>noVolProm</td><td>12</td><td>80.00%</td></tr>",
                            "<tr><td>Components</td><td>Handlebars</td><td>403</td><td>noVolProm</td><td>12</td><td>80.00%</td></tr>",
                            "<tr><td>Components</td><td>Handlebars</td><td>404</td><td>noVolProm</td><td>12</td><td>80.00%</td></tr>",
                            "<tr><td>Components</td><td>Handlebars</td><td>407</td><td>noVolProm</td><td>12</td><td>80.00%</td></tr>",
                            "<tr><td>Components</td><td>Handlebars</td><td>408</td><td>noVolProm</td><td>12</td><td>80.00%</td></tr>",
                            "<tr><td>Components</td><td>Mountain Frames</td><td>409</td><td>noVolProm</td><td>36</td><td>85.71%</td></tr>",
                            "<tr><td>Components</td><td>Wheels</td><td>410</td><td>noVolProm</td><td>11</td><td>78.57%</td></tr>",
                            "<tr><td>Components</td><td>Wheels</td><td>410</td><td>VolProm</td><td>3</td><td>21.43%</td></tr>",
                            "<tr><td>Components</td><td>Wheels</td><td>411</td><td>noVolProm</td><td>11</td><td>78.57%</td></tr>",
                            "<tr><td>Components</td><td>Wheels</td><td>412</td><td>noVolProm</td><td>11</td><td>78.57%</td></tr>",
                            "<tr><td>Components</td><td>Wheels</td><td>414</td><td>noVolProm</td><td>11</td><td>78.57%</td></tr>",
                            "<tr><td>Components</td><td>Wheels</td><td>415</td><td>noVolProm</td><td>11</td><td>78.57%</td></tr>",
                            "<tr><td>Components</td><td>Road Frames</td><td>417</td><td>noVolProm</td><td>44</td><td>88.00%</td></tr>",
                            "<tr><td>Components</td><td>Road Frames</td><td>418</td><td>noVolProm</td><td>44</td><td>88.00%</td></tr>",
                            "<tr><td>Components</td><td>Wheels</td><td>419</td><td>noVolProm</td><td>11</td><td>78.57%</td></tr>",
                            "<tr><td>Components</td><td>Wheels</td><td>420</td><td>noVolProm</td><td>11</td><td>78.57%</td></tr>",
                            "<tr><td>Components</td><td>Wheels</td><td>420</td><td>VolProm</td><td>3</td><td>21.43%</td></tr>",
                            "<tr><td>Components</td><td>Wheels</td><td>421</td><td>noVolProm</td><td>11</td><td>78.57%</td></tr>",
                            "<tr><td>Components</td><td>Wheels</td><td>421</td><td>VolProm</td><td>3</td><td>21.43%</td></tr>",
                            "<tr><td>Components</td><td>Wheels</td><td>422</td><td>noVolProm</td><td>11</td><td>78.57%</td></tr>",
                            "<tr><td>Components</td><td>Wheels</td><td>423</td><td>noVolProm</td><td>11</td><td>78.57%</td></tr>",
                            "<tr><td>Components</td><td>Wheels</td><td>424</td><td>noVolProm</td><td>11</td><td>78.57%</td></tr>",
                            "<tr><td>Components</td><td>Mountain Frames</td><td>426</td><td>noVolProm</td><td>36</td><td>85.71%</td></tr>",
                            "<tr><td>Components</td><td>Mountain Frames</td><td>427</td><td>noVolProm</td><td>36</td><td>85.71%</td></tr>",
                            "<tr><td>Components</td><td>Mountain Frames</td><td>428</td><td>noVolProm</td><td>36</td><td>85.71%</td></tr>",
                            "<tr><td>Components</td><td>Mountain Frames</td><td>428</td><td>VolProm</td><td>6</td><td>14.29%</td></tr>",
                            "<tr><td>Components</td><td>Road Frames</td><td>429</td><td>noVolProm</td><td>44</td><td>88.00%</td></tr>",
                            "<tr><td>Components</td><td>Road Frames</td><td>430</td><td>noVolProm</td><td>44</td><td>88.00%</td></tr>",
                            "<tr><td>Components</td><td>Road Frames</td><td>433</td><td>noVolProm</td><td>44</td><td>88.00%</td></tr>",
                            "<tr><td>Components</td><td>Road Frames</td><td>433</td><td>VolProm</td><td>6</td><td>12.00%</td></tr>",
                            "<tr><td>Components</td><td>Road Frames</td><td>434</td><td>noVolProm</td><td>44</td><td>88.00%</td></tr>",
                            "<tr><td>Components</td><td>Road Frames</td><td>434</td><td>VolProm</td><td>6</td><td>12.00%</td></tr>",
                            "<tr><td>Components</td><td>Road Frames</td><td>435</td><td>noVolProm</td><td>44</td><td>88.00%</td></tr>",
                            "<tr><td>Components</td><td>Road Frames</td><td>436</td><td>noVolProm</td><td>44</td><td>88.00%</td></tr>",
                            "<tr><td>Components</td><td>Road Frames</td><td>439</td><td>noVolProm</td><td>44</td><td>88.00%</td></tr>",
                            "<tr><td>Components</td><td>Road Frames</td><td>440</td><td>noVolProm</td><td>44</td><td>88.00%</td></tr>",
                            "<tr><td>Components</td><td>Road Frames</td><td>441</td><td>noVolProm</td><td>44</td><td>88.00%</td></tr>",
                            "<tr><td>Components</td><td>Road Frames</td><td>442</td><td>noVolProm</td><td>44</td><td>88.00%</td></tr>",
                            "<tr><td>Clothing</td><td>Shorts</td><td>445</td><td>noVolProm</td><td>6</td><td>60.00%</td></tr>",
                            "<tr><td>Clothing</td><td>Shorts</td><td>445</td><td>VolProm</td><td>4</td><td>40.00%</td></tr>",
                            "<tr><td>Accessories</td><td>Locks</td><td>447</td><td>noVolProm</td><td>1</td><td>50.00%</td></tr>",
                            "<tr><td>Accessories</td><td>Locks</td><td>447</td><td>VolProm</td><td>1</td><td>50.00%</td></tr>",
                            "<tr><td>Accessories</td><td>Pumps</td><td>448</td><td>noVolProm</td><td>1</td><td>50.00%</td></tr>",
                            "<tr><td>Accessories</td><td>Pumps</td><td>448</td><td>VolProm</td><td>1</td><td>50.00%</td></tr>",
                            "<tr><td>Clothing</td><td>Shorts</td><td>453</td><td>noVolProm</td><td>6</td><td>60.00%</td></tr>",
                            "<tr><td>Clothing</td><td>Shorts</td><td>453</td><td>VolProm</td><td>4</td><td>40.00%</td></tr>",
                            "<tr><td>Clothing</td><td>Shorts</td><td>454</td><td>noVolProm</td><td>6</td><td>60.00%</td></tr>",
                            "<tr><td>Clothing</td><td>Tights</td><td>456</td><td>noVolProm</td><td>3</td><td>60.00%</td></tr>",
                            "<tr><td>Clothing</td><td>Tights</td><td>456</td><td>VolProm</td><td>2</td><td>40.00%</td></tr>",
                            "<tr><td>Clothing</td><td>Tights</td><td>457</td><td>noVolProm</td><td>3</td><td>60.00%</td></tr>",
                            "<tr><td>Clothing</td><td>Tights</td><td>458</td><td>noVolProm</td><td>3</td><td>60.00%</td></tr>",
                            "<tr><td>Clothing</td><td>Tights</td><td>458</td><td>VolProm</td><td>2</td><td>40.00%</td></tr>",
                            "<tr><td>Clothing</td><td>Bib-Shorts</td><td>459</td><td>noVolProm</td><td>3</td><td>60.00%</td></tr>",
                            "<tr><td>Clothing</td><td>Bib-Shorts</td><td>459</td><td>VolProm</td><td>2</td><td>40.00%</td></tr>",
                            "<tr><td>Clothing</td><td>Bib-Shorts</td><td>460</td><td>noVolProm</td><td>3</td><td>60.00%</td></tr>",
                            "<tr><td>Clothing</td><td>Bib-Shorts</td><td>460</td><td>VolProm</td><td>2</td><td>40.00%</td></tr>",
                            "<tr><td>Clothing</td><td>Bib-Shorts</td><td>461</td><td>noVolProm</td><td>3</td><td>60.00%</td></tr>",
                            "<tr><td>Clothing</td><td>Gloves</td><td>462</td><td>noVolProm</td><td>9</td><td>56.25%</td></tr>",
                            "<tr><td>Clothing</td><td>Gloves</td><td>462</td><td>VolProm</td><td>7</td><td>43.75%</td></tr>",
                            "<tr><td>Clothing</td><td>Gloves</td><td>463</td><td>noVolProm</td><td>9</td><td>56.25%</td></tr>",
                            "<tr><td>Clothing</td><td>Gloves</td><td>463</td><td>VolProm</td><td>7</td><td>43.75%</td></tr>",
                            "<tr><td>Clothing</td><td>Gloves</td><td>464</td><td>noVolProm</td><td>9</td><td>56.25%</td></tr>",
                            "<tr><td>Clothing</td><td>Gloves</td><td>464</td><td>VolProm</td><td>7</td><td>43.75%</td></tr>",
                            "<tr><td>Clothing</td><td>Gloves</td><td>465</td><td>noVolProm</td><td>9</td><td>56.25%</td></tr>",
                            "<tr><td>Clothing</td><td>Gloves</td><td>465</td><td>VolProm</td><td>7</td><td>43.75%</td></tr>",
                            "<tr><td>Clothing</td><td>Gloves</td><td>466</td><td>noVolProm</td><td>9</td><td>56.25%</td></tr>",
                            "<tr><td>Clothing</td><td>Gloves</td><td>467</td><td>noVolProm</td><td>9</td><td>56.25%</td></tr>",
                            "<tr><td>Clothing</td><td>Gloves</td><td>467</td><td>VolProm</td><td>7</td><td>43.75%</td></tr>",
                            "<tr><td>Clothing</td><td>Gloves</td><td>468</td><td>noVolProm</td><td>9</td><td>56.25%</td></tr>",
                            "<tr><td>Clothing</td><td>Gloves</td><td>469</td><td>noVolProm</td><td>9</td><td>56.25%</td></tr>",
                            "<tr><td>Clothing</td><td>Gloves</td><td>469</td><td>VolProm</td><td>7</td><td>43.75%</td></tr>",
                            "<tr><td>Clothing</td><td>Gloves</td><td>470</td><td>noVolProm</td><td>9</td><td>56.25%</td></tr>",
                            "<tr><td>Clothing</td><td>Gloves</td><td>470</td><td>VolProm</td><td>7</td><td>43.75%</td></tr>",
                            "<tr><td>Clothing</td><td>Vests</td><td>471</td><td>noVolProm</td><td>3</td><td>60.00%</td></tr>",
                            "<tr><td>Clothing</td><td>Vests</td><td>471</td><td>VolProm</td><td>2</td><td>40.00%</td></tr>",
                            "<tr><td>Clothing</td><td>Vests</td><td>472</td><td>noVolProm</td><td>3</td><td>60.00%</td></tr>",
                            "<tr><td>Clothing</td><td>Vests</td><td>472</td><td>VolProm</td><td>2</td><td>40.00%</td></tr>",
                            "<tr><td>Clothing</td><td>Vests</td><td>473</td><td>noVolProm</td><td>3</td><td>60.00%</td></tr>",
                            "<tr><td>Clothing</td><td>Shorts</td><td>474</td><td>noVolProm</td><td>6</td><td>60.00%</td></tr>",
                            "<tr><td>Clothing</td><td>Shorts</td><td>474</td><td>VolProm</td><td>4</td><td>40.00%</td></tr>",
                            "<tr><td>Clothing</td><td>Shorts</td><td>475</td><td>noVolProm</td><td>6</td><td>60.00%</td></tr>",
                            "<tr><td>Clothing</td><td>Shorts</td><td>476</td><td>noVolProm</td><td>6</td><td>60.00%</td></tr>",
                            "<tr><td>Clothing</td><td>Shorts</td><td>476</td><td>VolProm</td><td>4</td><td>40.00%</td></tr>",
                            "<tr><td>Accessories</td><td>Bottles and Cages</td><td>477</td><td>noVolProm</td><td>1</td><td>50.00%</td></tr>",
                            "<tr><td>Accessories</td><td>Bottles and Cages</td><td>477</td><td>VolProm</td><td>1</td><td>50.00%</td></tr>",
                            "<tr><td>Accessories</td><td>Tires and Tubes</td><td>480</td><td>noVolProm</td><td>1</td><td>50.00%</td></tr>",
                            "<tr><td>Accessories</td><td>Tires and Tubes</td><td>480</td><td>VolProm</td><td>1</td><td>50.00%</td></tr>",
                            "<tr><td>Clothing</td><td>Socks</td><td>481</td><td>noVolProm</td><td>4</td><td>57.14%</td></tr>",
                            "<tr><td>Clothing</td><td>Socks</td><td>481</td><td>VolProm</td><td>3</td><td>42.86%</td></tr>",
                            "<tr><td>Clothing</td><td>Socks</td><td>482</td><td>noVolProm</td><td>4</td><td>57.14%</td></tr>",
                            "<tr><td>Clothing</td><td>Socks</td><td>482</td><td>VolProm</td><td>3</td><td>42.86%</td></tr>",
                            "<tr><td>Accessories</td><td>Bike Racks</td><td>483</td><td>noVolProm</td><td>1</td><td>50.00%</td></tr>",
                            "<tr><td>Accessories</td><td>Bike Racks</td><td>483</td><td>VolProm</td><td>1</td><td>50.00%</td></tr>",
                            "<tr><td>Accessories</td><td>Cleaners</td><td>484</td><td>noVolProm</td><td>1</td><td>50.00%</td></tr>",
                            "<tr><td>Accessories</td><td>Cleaners</td><td>484</td><td>VolProm</td><td>1</td><td>50.00%</td></tr>",
                            "<tr><td>Accessories</td><td>Hydration Packs</td><td>487</td><td>noVolProm</td><td>1</td><td>50.00%</td></tr>",
                            "<tr><td>Accessories</td><td>Hydration Packs</td><td>487</td><td>VolProm</td><td>1</td><td>50.00%</td></tr>",
                            "<tr><td>Clothing</td><td>Jerseys</td><td>488</td><td>noVolProm</td><td>12</td><td>54.55%</td></tr>",
                            "<tr><td>Clothing</td><td>Jerseys</td><td>488</td><td>VolProm</td><td>10</td><td>45.45%</td></tr>",
                            "<tr><td>Clothing</td><td>Jerseys</td><td>490</td><td>noVolProm</td><td>12</td><td>54.55%</td></tr>",
                            "<tr><td>Clothing</td><td>Jerseys</td><td>490</td><td>VolProm</td><td>10</td><td>45.45%</td></tr>",
                            "<tr><td>Clothing</td><td>Jerseys</td><td>491</td><td>noVolProm</td><td>12</td><td>54.55%</td></tr>",
                            "<tr><td>Clothing</td><td>Jerseys</td><td>491</td><td>VolProm</td><td>10</td><td>45.45%</td></tr>",
                            "<tr><td>Components</td><td>Touring Frames</td><td>492</td><td>noVolProm</td><td>17</td><td>73.91%</td></tr>",
                            "<tr><td>Components</td><td>Touring Frames</td><td>492</td><td>VolProm</td><td>6</td><td>26.09%</td></tr>",
                            "<tr><td>Components</td><td>Touring Frames</td><td>493</td><td>noVolProm</td><td>17</td><td>73.91%</td></tr>",
                            "<tr><td>Components</td><td>Touring Frames</td><td>493</td><td>VolProm</td><td>6</td><td>26.09%</td></tr>",
                            "<tr><td>Components</td><td>Touring Frames</td><td>494</td><td>noVolProm</td><td>17</td><td>73.91%</td></tr>",
                            "<tr><td>Components</td><td>Touring Frames</td><td>495</td><td>noVolProm</td><td>17</td><td>73.91%</td></tr>",
                            "<tr><td>Components</td><td>Touring Frames</td><td>496</td><td>noVolProm</td><td>17</td><td>73.91%</td></tr>",
                            "<tr><td>Components</td><td>Touring Frames</td><td>496</td><td>VolProm</td><td>6</td><td>26.09%</td></tr>",
                            "<tr><td>Components</td><td>Touring Frames</td><td>497</td><td>noVolProm</td><td>17</td><td>73.91%</td></tr>",
                            "<tr><td>Components</td><td>Touring Frames</td><td>498</td><td>noVolProm</td><td>17</td><td>73.91%</td></tr>",
                            "<tr><td>Components</td><td>Touring Frames</td><td>499</td><td>noVolProm</td><td>17</td><td>73.91%</td></tr>",
                            "<tr><td>Components</td><td>Touring Frames</td><td>499</td><td>VolProm</td><td>6</td><td>26.09%</td></tr>",
                            "<tr><td>Components</td><td>Touring Frames</td><td>500</td><td>noVolProm</td><td>17</td><td>73.91%</td></tr>",
                            "<tr><td>Components</td><td>Touring Frames</td><td>500</td><td>VolProm</td><td>6</td><td>26.09%</td></tr>",
                            "<tr><td>Components</td><td>Derailleurs</td><td>501</td><td>noVolProm</td><td>2</td><td>66.67%</td></tr>",
                            "<tr><td>Components</td><td>Touring Frames</td><td>502</td><td>noVolProm</td><td>17</td><td>73.91%</td></tr>",
                            "<tr><td>Components</td><td>Touring Frames</td><td>503</td><td>noVolProm</td><td>17</td><td>73.91%</td></tr>",
                            "<tr><td>Components</td><td>Touring Frames</td><td>504</td><td>noVolProm</td><td>17</td><td>73.91%</td></tr>",
                            "<tr><td>Components</td><td>Touring Frames</td><td>505</td><td>noVolProm</td><td>17</td><td>73.91%</td></tr>",
                            "<tr><td>Components</td><td>Touring Frames</td><td>506</td><td>noVolProm</td><td>17</td><td>73.91%</td></tr>",
                            "<tr><td>Components</td><td>Touring Frames</td><td>506</td><td>VolProm</td><td>6</td><td>26.09%</td></tr>",
                            "<tr><td>Components</td><td>Touring Frames</td><td>507</td><td>noVolProm</td><td>17</td><td>73.91%</td></tr>",
                            "<tr><td>Components</td><td>Touring Frames</td><td>509</td><td>noVolProm</td><td>17</td><td>73.91%</td></tr>",
                            "<tr><td>Components</td><td>Touring Frames</td><td>510</td><td>noVolProm</td><td>17</td><td>73.91%</td></tr>",
                            "<tr><td>Components</td><td>Mountain Frames</td><td>511</td><td>noVolProm</td><td>36</td><td>85.71%</td></tr>",
                            "<tr><td>Components</td><td>Mountain Frames</td><td>511</td><td>VolProm</td><td>6</td><td>14.29%</td></tr>",
                            "<tr><td>Components</td><td>Mountain Frames</td><td>512</td><td>noVolProm</td><td>36</td><td>85.71%</td></tr>",
                            "<tr><td>Components</td><td>Mountain Frames</td><td>513</td><td>noVolProm</td><td>36</td><td>85.71%</td></tr>",
                            "<tr><td>Components</td><td>Brakes</td><td>514</td><td>noVolProm</td><td>2</td><td>66.67%</td></tr>",
                            "<tr><td>Components</td><td>Saddles</td><td>515</td><td>noVolProm</td><td>8</td><td>80.00%</td></tr>",
                            "<tr><td>Components</td><td>Saddles</td><td>515</td><td>VolProm</td><td>2</td><td>20.00%</td></tr>",
                            "<tr><td>Components</td><td>Saddles</td><td>516</td><td>noVolProm</td><td>8</td><td>80.00%</td></tr>",
                            "<tr><td>Components</td><td>Saddles</td><td>516</td><td>VolProm</td><td>2</td><td>20.00%</td></tr>",
                            "<tr><td>Components</td><td>Saddles</td><td>517</td><td>noVolProm</td><td>8</td><td>80.00%</td></tr>",
                            "<tr><td>Components</td><td>Saddles</td><td>518</td><td>noVolProm</td><td>8</td><td>80.00%</td></tr>",
                            "<tr><td>Components</td><td>Saddles</td><td>520</td><td>noVolProm</td><td>8</td><td>80.00%</td></tr>",
                            "<tr><td>Components</td><td>Saddles</td><td>521</td><td>noVolProm</td><td>8</td><td>80.00%</td></tr>",
                            "<tr><td>Components</td><td>Saddles</td><td>522</td><td>noVolProm</td><td>8</td><td>80.00%</td></tr>",
                            "<tr><td>Components</td><td>Saddles</td><td>523</td><td>noVolProm</td><td>8</td><td>80.00%</td></tr>",
                            "<tr><td>Components</td><td>Mountain Frames</td><td>524</td><td>noVolProm</td><td>36</td><td>85.71%</td></tr>",
                            "<tr><td>Components</td><td>Mountain Frames</td><td>524</td><td>VolProm</td><td>6</td><td>14.29%</td></tr>",
                            "<tr><td>Components</td><td>Mountain Frames</td><td>525</td><td>noVolProm</td><td>36</td><td>85.71%</td></tr>",
                            "<tr><td>Components</td><td>Mountain Frames</td><td>526</td><td>noVolProm</td><td>36</td><td>85.71%</td></tr>",
                            "<tr><td>Components</td><td>Mountain Frames</td><td>527</td><td>noVolProm</td><td>36</td><td>85.71%</td></tr>",
                            "<tr><td>Components</td><td>Mountain Frames</td><td>531</td><td>noVolProm</td><td>36</td><td>85.71%</td></tr>",
                            "<tr><td>Components</td><td>Mountain Frames</td><td>532</td><td>noVolProm</td><td>36</td><td>85.71%</td></tr>",
                            "<tr><td>Components</td><td>Mountain Frames</td><td>532</td><td>VolProm</td><td>6</td><td>14.29%</td></tr>",
                            "<tr><td>Components</td><td>Mountain Frames</td><td>533</td><td>noVolProm</td><td>36</td><td>85.71%</td></tr>",
                            "<tr><td>Components</td><td>Mountain Frames</td><td>534</td><td>noVolProm</td><td>36</td><td>85.71%</td></tr>",
                            "<tr><td>Components</td><td>Pedals</td><td>542</td><td>noVolProm</td><td>7</td><td>87.50%</td></tr>",
                            "<tr><td>Components</td><td>Pedals</td><td>543</td><td>noVolProm</td><td>7</td><td>87.50%</td></tr>",
                            "<tr><td>Components</td><td>Pedals</td><td>544</td><td>noVolProm</td><td>7</td><td>87.50%</td></tr>",
                            "<tr><td>Components</td><td>Pedals</td><td>544</td><td>VolProm</td><td>1</td><td>12.50%</td></tr>",
                            "<tr><td>Components</td><td>Pedals</td><td>545</td><td>noVolProm</td><td>7</td><td>87.50%</td></tr>",
                            "<tr><td>Components</td><td>Pedals</td><td>546</td><td>noVolProm</td><td>7</td><td>87.50%</td></tr>",
                            "<tr><td>Components</td><td>Pedals</td><td>547</td><td>noVolProm</td><td>7</td><td>87.50%</td></tr>",
                            "<tr><td>Components</td><td>Pedals</td><td>548</td><td>noVolProm</td><td>7</td><td>87.50%</td></tr>",
                            "<tr><td>Components</td><td>Mountain Frames</td><td>549</td><td>noVolProm</td><td>36</td><td>85.71%</td></tr>",
                            "<tr><td>Components</td><td>Mountain Frames</td><td>550</td><td>noVolProm</td><td>36</td><td>85.71%</td></tr>",
                            "<tr><td>Components</td><td>Mountain Frames</td><td>551</td><td>noVolProm</td><td>36</td><td>85.71%</td></tr>",
                            "<tr><td>Components</td><td>Mountain Frames</td><td>551</td><td>VolProm</td><td>6</td><td>14.29%</td></tr>",
                            "<tr><td>Components</td><td>Derailleurs</td><td>552</td><td>noVolProm</td><td>2</td><td>66.67%</td></tr>",
                            "<tr><td>Components</td><td>Derailleurs</td><td>552</td><td>VolProm</td><td>1</td><td>33.33%</td></tr>",
                            "<tr><td>Components</td><td>Handlebars</td><td>553</td><td>noVolProm</td><td>12</td><td>80.00%</td></tr>",
                            "<tr><td>Components</td><td>Handlebars</td><td>554</td><td>noVolProm</td><td>12</td><td>80.00%</td></tr>",
                            "<tr><td>Components</td><td>Brakes</td><td>555</td><td>noVolProm</td><td>2</td><td>66.67%</td></tr>",
                            "<tr><td>Components</td><td>Brakes</td><td>555</td><td>VolProm</td><td>1</td><td>33.33%</td></tr>",
                            "<tr><td>Components</td><td>Cranksets</td><td>556</td><td>noVolProm</td><td>3</td><td>75.00%</td></tr>",
                            "<tr><td>Components</td><td>Cranksets</td><td>557</td><td>noVolProm</td><td>3</td><td>75.00%</td></tr>",
                            "<tr><td>Components</td><td>Cranksets</td><td>558</td><td>noVolProm</td><td>3</td><td>75.00%</td></tr>",
                            "<tr><td>Components</td><td>Cranksets</td><td>558</td><td>VolProm</td><td>1</td><td>25.00%</td></tr>",
                            "<tr><td>Components</td><td>Chains</td><td>559</td><td>noVolProm</td><td>1</td><td>50.00%</td></tr>",
                            "<tr><td>Components</td><td>Chains</td><td>559</td><td>VolProm</td><td>1</td><td>50.00%</td></tr>",
                            "<tr><td>Bikes</td><td>Touring Bikes</td><td>560</td><td>noVolProm</td><td>22</td><td>68.75%</td></tr>",
                            "<tr><td>Bikes</td><td>Touring Bikes</td><td>560</td><td>VolProm</td><td>10</td><td>31.25%</td></tr>",
                            "<tr><td>Bikes</td><td>Touring Bikes</td><td>561</td><td>noVolProm</td><td>22</td><td>68.75%</td></tr>",
                            "<tr><td>Bikes</td><td>Touring Bikes</td><td>561</td><td>VolProm</td><td>10</td><td>31.25%</td></tr>",
                            "<tr><td>Bikes</td><td>Touring Bikes</td><td>562</td><td>noVolProm</td><td>22</td><td>68.75%</td></tr>",
                            "<tr><td>Bikes</td><td>Touring Bikes</td><td>563</td><td>noVolProm</td><td>22</td><td>68.75%</td></tr>",
                            "<tr><td>Bikes</td><td>Touring Bikes</td><td>564</td><td>noVolProm</td><td>22</td><td>68.75%</td></tr>",
                            "<tr><td>Bikes</td><td>Touring Bikes</td><td>564</td><td>VolProm</td><td>10</td><td>31.25%</td></tr>",
                            "<tr><td>Bikes</td><td>Touring Bikes</td><td>565</td><td>noVolProm</td><td>22</td><td>68.75%</td></tr>",
                            "<tr><td>Bikes</td><td>Touring Bikes</td><td>566</td><td>noVolProm</td><td>22</td><td>68.75%</td></tr>",
                            "<tr><td>Bikes</td><td>Touring Bikes</td><td>567</td><td>noVolProm</td><td>22</td><td>68.75%</td></tr>",
                            "<tr><td>Bikes</td><td>Touring Bikes</td><td>568</td><td>noVolProm</td><td>22</td><td>68.75%</td></tr>",
                            "<tr><td>Bikes</td><td>Touring Bikes</td><td>568</td><td>VolProm</td><td>10</td><td>31.25%</td></tr>",
                            "<tr><td>Bikes</td><td>Touring Bikes</td><td>569</td><td>noVolProm</td><td>22</td><td>68.75%</td></tr>",
                            "<tr><td>Bikes</td><td>Touring Bikes</td><td>570</td><td>noVolProm</td><td>22</td><td>68.75%</td></tr>",
                            "<tr><td>Bikes</td><td>Touring Bikes</td><td>571</td><td>noVolProm</td><td>22</td><td>68.75%</td></tr>",
                            "<tr><td>Bikes</td><td>Touring Bikes</td><td>572</td><td>noVolProm</td><td>22</td><td>68.75%</td></tr>",
                            "<tr><td>Bikes</td><td>Touring Bikes</td><td>572</td><td>VolProm</td><td>10</td><td>31.25%</td></tr>",
                            "<tr><td>Bikes</td><td>Touring Bikes</td><td>573</td><td>noVolProm</td><td>22</td><td>68.75%</td></tr>",
                            "<tr><td>Bikes</td><td>Touring Bikes</td><td>573</td><td>VolProm</td><td>10</td><td>31.25%</td></tr>",
                            "<tr><td>Bikes</td><td>Touring Bikes</td><td>574</td><td>noVolProm</td><td>22</td><td>68.75%</td></tr>",
                            "<tr><td>Bikes</td><td>Touring Bikes</td><td>575</td><td>noVolProm</td><td>22</td><td>68.75%</td></tr>",
                            "<tr><td>Bikes</td><td>Touring Bikes</td><td>576</td><td>noVolProm</td><td>22</td><td>68.75%</td></tr>",
                            "<tr><td>Bikes</td><td>Touring Bikes</td><td>576</td><td>VolProm</td><td>10</td><td>31.25%</td></tr>",
                            "<tr><td>Bikes</td><td>Touring Bikes</td><td>577</td><td>noVolProm</td><td>22</td><td>68.75%</td></tr>",
                            "<tr><td>Bikes</td><td>Touring Bikes</td><td>577</td><td>VolProm</td><td>10</td><td>31.25%</td></tr>",
                            "<tr><td>Bikes</td><td>Touring Bikes</td><td>578</td><td>noVolProm</td><td>22</td><td>68.75%</td></tr>",
                            "<tr><td>Bikes</td><td>Touring Bikes</td><td>579</td><td>noVolProm</td><td>22</td><td>68.75%</td></tr>",
                            "<tr><td>Bikes</td><td>Touring Bikes</td><td>579</td><td>VolProm</td><td>10</td><td>31.25%</td></tr>",
                            "<tr><td>Bikes</td><td>Road Bikes</td><td>580</td><td>noVolProm</td><td>65</td><td>71.43%</td></tr>",
                            "<tr><td>Bikes</td><td>Road Bikes</td><td>580</td><td>VolProm</td><td>26</td><td>28.57%</td></tr>",
                            "<tr><td>Bikes</td><td>Road Bikes</td><td>581</td><td>noVolProm</td><td>65</td><td>71.43%</td></tr>",
                            "<tr><td>Bikes</td><td>Road Bikes</td><td>581</td><td>VolProm</td><td>26</td><td>28.57%</td></tr>",
                            "<tr><td>Bikes</td><td>Road Bikes</td><td>582</td><td>noVolProm</td><td>65</td><td>71.43%</td></tr>",
                            "<tr><td>Bikes</td><td>Road Bikes</td><td>583</td><td>noVolProm</td><td>65</td><td>71.43%</td></tr>",
                            "<tr><td>Bikes</td><td>Road Bikes</td><td>583</td><td>VolProm</td><td>26</td><td>28.57%</td></tr>",
                            "<tr><td>Bikes</td><td>Road Bikes</td><td>584</td><td>noVolProm</td><td>65</td><td>71.43%</td></tr>",
                            "<tr><td>Bikes</td><td>Touring Bikes</td><td>585</td><td>noVolProm</td><td>22</td><td>68.75%</td></tr>",
                            "<tr><td>Bikes</td><td>Touring Bikes</td><td>586</td><td>noVolProm</td><td>22</td><td>68.75%</td></tr>",
                            "<tr><td>Bikes</td><td>Touring Bikes</td><td>586</td><td>VolProm</td><td>10</td><td>31.25%</td></tr>",
                            "<tr><td>Bikes</td><td>Mountain Bikes</td><td>587</td><td>noVolProm</td><td>38</td><td>63.33%</td></tr>",
                            "<tr><td>Bikes</td><td>Mountain Bikes</td><td>588</td><td>noVolProm</td><td>38</td><td>63.33%</td></tr>",
                            "<tr><td>Bikes</td><td>Mountain Bikes</td><td>588</td><td>VolProm</td><td>22</td><td>36.67%</td></tr>",
                            "<tr><td>Bikes</td><td>Mountain Bikes</td><td>589</td><td>noVolProm</td><td>38</td><td>63.33%</td></tr>",
                            "<tr><td>Bikes</td><td>Mountain Bikes</td><td>590</td><td>noVolProm</td><td>38</td><td>63.33%</td></tr>",
                            "<tr><td>Bikes</td><td>Mountain Bikes</td><td>590</td><td>VolProm</td><td>22</td><td>36.67%</td></tr>",
                            "<tr><td>Bikes</td><td>Mountain Bikes</td><td>591</td><td>noVolProm</td><td>38</td><td>63.33%</td></tr>",
                            "<tr><td>Bikes</td><td>Mountain Bikes</td><td>592</td><td>noVolProm</td><td>38</td><td>63.33%</td></tr>",
                            "<tr><td>Bikes</td><td>Mountain Bikes</td><td>593</td><td>noVolProm</td><td>38</td><td>63.33%</td></tr>",
                            "<tr><td>Bikes</td><td>Mountain Bikes</td><td>594</td><td>noVolProm</td><td>38</td><td>63.33%</td></tr>",
                            "<tr><td>Bikes</td><td>Mountain Bikes</td><td>595</td><td>noVolProm</td><td>38</td><td>63.33%</td></tr>",
                            "<tr><td>Bikes</td><td>Mountain Bikes</td><td>596</td><td>noVolProm</td><td>38</td><td>63.33%</td></tr>",
                            "<tr><td>Bikes</td><td>Mountain Bikes</td><td>597</td><td>noVolProm</td><td>38</td><td>63.33%</td></tr>",
                            "<tr><td>Bikes</td><td>Mountain Bikes</td><td>598</td><td>noVolProm</td><td>38</td><td>63.33%</td></tr>",
                            "<tr><td>Bikes</td><td>Mountain Bikes</td><td>599</td><td>noVolProm</td><td>38</td><td>63.33%</td></tr>",
                            "<tr><td>Bikes</td><td>Mountain Bikes</td><td>600</td><td>noVolProm</td><td>38</td><td>63.33%</td></tr>",
                            "<tr><td>Components</td><td>Bottom Brackets</td><td>601</td><td>noVolProm</td><td>2</td><td>100.00%</td></tr>",
                            "<tr><td>Components</td><td>Bottom Brackets</td><td>603</td><td>noVolProm</td><td>2</td><td>100.00%</td></tr>",
                            "<tr><td>Bikes</td><td>Road Bikes</td><td>604</td><td>noVolProm</td><td>65</td><td>71.43%</td></tr>",
                            "<tr><td>Bikes</td><td>Road Bikes</td><td>605</td><td>noVolProm</td><td>65</td><td>71.43%</td></tr>",
                            "<tr><td>Bikes</td><td>Road Bikes</td><td>605</td><td>VolProm</td><td>26</td><td>28.57%</td></tr>",
                            "<tr><td>Bikes</td><td>Road Bikes</td><td>606</td><td>noVolProm</td><td>65</td><td>71.43%</td></tr>",
                            "<tr><td>Bikes</td><td>Road Bikes</td><td>606</td><td>VolProm</td><td>26</td><td>28.57%</td></tr>",
                            "</table>"
                        ]
                    }
                }
            ],
            "execution_count": 34
        },
        {
            "cell_type": "code",
            "source": [
                "SELECT DISTINCT rs.ProductKey, pc.ProductCategoryKey, pc.EnglishProductCategoryName, ps.ProductSubcategoryKey, ps.EnglishProductSubcategoryName,PromotionKey\n",
                "--CASE WHEN PromotionKey IN(2,3,4,5,6) THEN 'VolProm' ELSE 'noVolProm' END volProm\n",
                "\n",
                "FROM AdventureWorksDW2019.dbo.FactResellerSales rs\n",
                "LEFT JOIN AdventureWorksDW2019.dbo.DimProduct dp\n",
                "ON rs.ProductKey = dp.ProductKey\n",
                "LEFT JOIN AdventureWorksDW2019.dbo.DimProductSubcategory ps\n",
                "ON dp.ProductSubcategoryKey = ps.ProductSubcategoryKey\n",
                "LEFT JOIN AdventureWorksDW2019.dbo.DimProductCategory pc \n",
                "ON ps.ProductCategoryKey = pc.ProductCategoryKey\n",
                "\n",
                "ORDER BY ProductKey"
            ],
            "metadata": {
                "language": "sql",
                "azdata_cell_guid": "c880a0dc-73f1-4fa0-8425-392364039dea"
            },
            "outputs": [
                {
                    "output_type": "display_data",
                    "data": {
                        "text/html": "(588 rows affected)"
                    },
                    "metadata": {}
                },
                {
                    "output_type": "display_data",
                    "data": {
                        "text/html": "Total execution time: 00:00:00.209"
                    },
                    "metadata": {}
                },
                {
                    "output_type": "execute_result",
                    "metadata": {},
                    "execution_count": 42,
                    "data": {
                        "application/vnd.dataresource+json": {
                            "schema": {
                                "fields": [
                                    {
                                        "name": "ProductKey"
                                    },
                                    {
                                        "name": "ProductCategoryKey"
                                    },
                                    {
                                        "name": "EnglishProductCategoryName"
                                    },
                                    {
                                        "name": "ProductSubcategoryKey"
                                    },
                                    {
                                        "name": "EnglishProductSubcategoryName"
                                    },
                                    {
                                        "name": "PromotionKey"
                                    }
                                ]
                            },
                            "data": [
                                {
                                    "ProductKey": "212",
                                    "ProductCategoryKey": "4",
                                    "EnglishProductCategoryName": "Accessories",
                                    "ProductSubcategoryKey": "31",
                                    "EnglishProductSubcategoryName": "Helmets",
                                    "PromotionKey": "1"
                                },
                                {
                                    "ProductKey": "213",
                                    "ProductCategoryKey": "4",
                                    "EnglishProductCategoryName": "Accessories",
                                    "ProductSubcategoryKey": "31",
                                    "EnglishProductSubcategoryName": "Helmets",
                                    "PromotionKey": "1"
                                },
                                {
                                    "ProductKey": "213",
                                    "ProductCategoryKey": "4",
                                    "EnglishProductCategoryName": "Accessories",
                                    "ProductSubcategoryKey": "31",
                                    "EnglishProductSubcategoryName": "Helmets",
                                    "PromotionKey": "2"
                                },
                                {
                                    "ProductKey": "213",
                                    "ProductCategoryKey": "4",
                                    "EnglishProductCategoryName": "Accessories",
                                    "ProductSubcategoryKey": "31",
                                    "EnglishProductSubcategoryName": "Helmets",
                                    "PromotionKey": "3"
                                },
                                {
                                    "ProductKey": "213",
                                    "ProductCategoryKey": "4",
                                    "EnglishProductCategoryName": "Accessories",
                                    "ProductSubcategoryKey": "31",
                                    "EnglishProductSubcategoryName": "Helmets",
                                    "PromotionKey": "8"
                                },
                                {
                                    "ProductKey": "214",
                                    "ProductCategoryKey": "4",
                                    "EnglishProductCategoryName": "Accessories",
                                    "ProductSubcategoryKey": "31",
                                    "EnglishProductSubcategoryName": "Helmets",
                                    "PromotionKey": "1"
                                },
                                {
                                    "ProductKey": "214",
                                    "ProductCategoryKey": "4",
                                    "EnglishProductCategoryName": "Accessories",
                                    "ProductSubcategoryKey": "31",
                                    "EnglishProductSubcategoryName": "Helmets",
                                    "PromotionKey": "2"
                                },
                                {
                                    "ProductKey": "214",
                                    "ProductCategoryKey": "4",
                                    "EnglishProductCategoryName": "Accessories",
                                    "ProductSubcategoryKey": "31",
                                    "EnglishProductSubcategoryName": "Helmets",
                                    "PromotionKey": "3"
                                },
                                {
                                    "ProductKey": "214",
                                    "ProductCategoryKey": "4",
                                    "EnglishProductCategoryName": "Accessories",
                                    "ProductSubcategoryKey": "31",
                                    "EnglishProductSubcategoryName": "Helmets",
                                    "PromotionKey": "11"
                                },
                                {
                                    "ProductKey": "215",
                                    "ProductCategoryKey": "4",
                                    "EnglishProductCategoryName": "Accessories",
                                    "ProductSubcategoryKey": "31",
                                    "EnglishProductSubcategoryName": "Helmets",
                                    "PromotionKey": "1"
                                },
                                {
                                    "ProductKey": "215",
                                    "ProductCategoryKey": "4",
                                    "EnglishProductCategoryName": "Accessories",
                                    "ProductSubcategoryKey": "31",
                                    "EnglishProductSubcategoryName": "Helmets",
                                    "PromotionKey": "2"
                                },
                                {
                                    "ProductKey": "216",
                                    "ProductCategoryKey": "4",
                                    "EnglishProductCategoryName": "Accessories",
                                    "ProductSubcategoryKey": "31",
                                    "EnglishProductSubcategoryName": "Helmets",
                                    "PromotionKey": "1"
                                },
                                {
                                    "ProductKey": "216",
                                    "ProductCategoryKey": "4",
                                    "EnglishProductCategoryName": "Accessories",
                                    "ProductSubcategoryKey": "31",
                                    "EnglishProductSubcategoryName": "Helmets",
                                    "PromotionKey": "2"
                                },
                                {
                                    "ProductKey": "216",
                                    "ProductCategoryKey": "4",
                                    "EnglishProductCategoryName": "Accessories",
                                    "ProductSubcategoryKey": "31",
                                    "EnglishProductSubcategoryName": "Helmets",
                                    "PromotionKey": "3"
                                },
                                {
                                    "ProductKey": "216",
                                    "ProductCategoryKey": "4",
                                    "EnglishProductCategoryName": "Accessories",
                                    "ProductSubcategoryKey": "31",
                                    "EnglishProductSubcategoryName": "Helmets",
                                    "PromotionKey": "8"
                                },
                                {
                                    "ProductKey": "217",
                                    "ProductCategoryKey": "4",
                                    "EnglishProductCategoryName": "Accessories",
                                    "ProductSubcategoryKey": "31",
                                    "EnglishProductSubcategoryName": "Helmets",
                                    "PromotionKey": "1"
                                },
                                {
                                    "ProductKey": "217",
                                    "ProductCategoryKey": "4",
                                    "EnglishProductCategoryName": "Accessories",
                                    "ProductSubcategoryKey": "31",
                                    "EnglishProductSubcategoryName": "Helmets",
                                    "PromotionKey": "2"
                                },
                                {
                                    "ProductKey": "217",
                                    "ProductCategoryKey": "4",
                                    "EnglishProductCategoryName": "Accessories",
                                    "ProductSubcategoryKey": "31",
                                    "EnglishProductSubcategoryName": "Helmets",
                                    "PromotionKey": "3"
                                },
                                {
                                    "ProductKey": "217",
                                    "ProductCategoryKey": "4",
                                    "EnglishProductCategoryName": "Accessories",
                                    "ProductSubcategoryKey": "31",
                                    "EnglishProductSubcategoryName": "Helmets",
                                    "PromotionKey": "11"
                                },
                                {
                                    "ProductKey": "218",
                                    "ProductCategoryKey": "3",
                                    "EnglishProductCategoryName": "Clothing",
                                    "ProductSubcategoryKey": "23",
                                    "EnglishProductSubcategoryName": "Socks",
                                    "PromotionKey": "1"
                                },
                                {
                                    "ProductKey": "218",
                                    "ProductCategoryKey": "3",
                                    "EnglishProductCategoryName": "Clothing",
                                    "ProductSubcategoryKey": "23",
                                    "EnglishProductSubcategoryName": "Socks",
                                    "PromotionKey": "2"
                                },
                                {
                                    "ProductKey": "218",
                                    "ProductCategoryKey": "3",
                                    "EnglishProductCategoryName": "Clothing",
                                    "ProductSubcategoryKey": "23",
                                    "EnglishProductSubcategoryName": "Socks",
                                    "PromotionKey": "3"
                                },
                                {
                                    "ProductKey": "218",
                                    "ProductCategoryKey": "3",
                                    "EnglishProductCategoryName": "Clothing",
                                    "ProductSubcategoryKey": "23",
                                    "EnglishProductSubcategoryName": "Socks",
                                    "PromotionKey": "4"
                                },
                                {
                                    "ProductKey": "219",
                                    "ProductCategoryKey": "3",
                                    "EnglishProductCategoryName": "Clothing",
                                    "ProductSubcategoryKey": "23",
                                    "EnglishProductSubcategoryName": "Socks",
                                    "PromotionKey": "1"
                                },
                                {
                                    "ProductKey": "220",
                                    "ProductCategoryKey": "4",
                                    "EnglishProductCategoryName": "Accessories",
                                    "ProductSubcategoryKey": "31",
                                    "EnglishProductSubcategoryName": "Helmets",
                                    "PromotionKey": "1"
                                },
                                {
                                    "ProductKey": "220",
                                    "ProductCategoryKey": "4",
                                    "EnglishProductCategoryName": "Accessories",
                                    "ProductSubcategoryKey": "31",
                                    "EnglishProductSubcategoryName": "Helmets",
                                    "PromotionKey": "2"
                                },
                                {
                                    "ProductKey": "221",
                                    "ProductCategoryKey": "4",
                                    "EnglishProductCategoryName": "Accessories",
                                    "ProductSubcategoryKey": "31",
                                    "EnglishProductSubcategoryName": "Helmets",
                                    "PromotionKey": "1"
                                },
                                {
                                    "ProductKey": "221",
                                    "ProductCategoryKey": "4",
                                    "EnglishProductCategoryName": "Accessories",
                                    "ProductSubcategoryKey": "31",
                                    "EnglishProductSubcategoryName": "Helmets",
                                    "PromotionKey": "2"
                                },
                                {
                                    "ProductKey": "221",
                                    "ProductCategoryKey": "4",
                                    "EnglishProductCategoryName": "Accessories",
                                    "ProductSubcategoryKey": "31",
                                    "EnglishProductSubcategoryName": "Helmets",
                                    "PromotionKey": "3"
                                },
                                {
                                    "ProductKey": "221",
                                    "ProductCategoryKey": "4",
                                    "EnglishProductCategoryName": "Accessories",
                                    "ProductSubcategoryKey": "31",
                                    "EnglishProductSubcategoryName": "Helmets",
                                    "PromotionKey": "8"
                                },
                                {
                                    "ProductKey": "222",
                                    "ProductCategoryKey": "4",
                                    "EnglishProductCategoryName": "Accessories",
                                    "ProductSubcategoryKey": "31",
                                    "EnglishProductSubcategoryName": "Helmets",
                                    "PromotionKey": "1"
                                },
                                {
                                    "ProductKey": "222",
                                    "ProductCategoryKey": "4",
                                    "EnglishProductCategoryName": "Accessories",
                                    "ProductSubcategoryKey": "31",
                                    "EnglishProductSubcategoryName": "Helmets",
                                    "PromotionKey": "2"
                                },
                                {
                                    "ProductKey": "222",
                                    "ProductCategoryKey": "4",
                                    "EnglishProductCategoryName": "Accessories",
                                    "ProductSubcategoryKey": "31",
                                    "EnglishProductSubcategoryName": "Helmets",
                                    "PromotionKey": "3"
                                },
                                {
                                    "ProductKey": "222",
                                    "ProductCategoryKey": "4",
                                    "EnglishProductCategoryName": "Accessories",
                                    "ProductSubcategoryKey": "31",
                                    "EnglishProductSubcategoryName": "Helmets",
                                    "PromotionKey": "11"
                                },
                                {
                                    "ProductKey": "223",
                                    "ProductCategoryKey": "3",
                                    "EnglishProductCategoryName": "Clothing",
                                    "ProductSubcategoryKey": "19",
                                    "EnglishProductSubcategoryName": "Caps",
                                    "PromotionKey": "1"
                                },
                                {
                                    "ProductKey": "223",
                                    "ProductCategoryKey": "3",
                                    "EnglishProductCategoryName": "Clothing",
                                    "ProductSubcategoryKey": "19",
                                    "EnglishProductSubcategoryName": "Caps",
                                    "PromotionKey": "2"
                                },
                                {
                                    "ProductKey": "223",
                                    "ProductCategoryKey": "3",
                                    "EnglishProductCategoryName": "Clothing",
                                    "ProductSubcategoryKey": "19",
                                    "EnglishProductSubcategoryName": "Caps",
                                    "PromotionKey": "3"
                                },
                                {
                                    "ProductKey": "224",
                                    "ProductCategoryKey": "3",
                                    "EnglishProductCategoryName": "Clothing",
                                    "ProductSubcategoryKey": "19",
                                    "EnglishProductSubcategoryName": "Caps",
                                    "PromotionKey": "1"
                                },
                                {
                                    "ProductKey": "224",
                                    "ProductCategoryKey": "3",
                                    "EnglishProductCategoryName": "Clothing",
                                    "ProductSubcategoryKey": "19",
                                    "EnglishProductSubcategoryName": "Caps",
                                    "PromotionKey": "2"
                                },
                                {
                                    "ProductKey": "224",
                                    "ProductCategoryKey": "3",
                                    "EnglishProductCategoryName": "Clothing",
                                    "ProductSubcategoryKey": "19",
                                    "EnglishProductSubcategoryName": "Caps",
                                    "PromotionKey": "3"
                                },
                                {
                                    "ProductKey": "224",
                                    "ProductCategoryKey": "3",
                                    "EnglishProductCategoryName": "Clothing",
                                    "ProductSubcategoryKey": "19",
                                    "EnglishProductSubcategoryName": "Caps",
                                    "PromotionKey": "4"
                                },
                                {
                                    "ProductKey": "225",
                                    "ProductCategoryKey": "3",
                                    "EnglishProductCategoryName": "Clothing",
                                    "ProductSubcategoryKey": "19",
                                    "EnglishProductSubcategoryName": "Caps",
                                    "PromotionKey": "1"
                                },
                                {
                                    "ProductKey": "225",
                                    "ProductCategoryKey": "3",
                                    "EnglishProductCategoryName": "Clothing",
                                    "ProductSubcategoryKey": "19",
                                    "EnglishProductSubcategoryName": "Caps",
                                    "PromotionKey": "2"
                                },
                                {
                                    "ProductKey": "225",
                                    "ProductCategoryKey": "3",
                                    "EnglishProductCategoryName": "Clothing",
                                    "ProductSubcategoryKey": "19",
                                    "EnglishProductSubcategoryName": "Caps",
                                    "PromotionKey": "3"
                                },
                                {
                                    "ProductKey": "225",
                                    "ProductCategoryKey": "3",
                                    "EnglishProductCategoryName": "Clothing",
                                    "ProductSubcategoryKey": "19",
                                    "EnglishProductSubcategoryName": "Caps",
                                    "PromotionKey": "4"
                                },
                                {
                                    "ProductKey": "229",
                                    "ProductCategoryKey": "3",
                                    "EnglishProductCategoryName": "Clothing",
                                    "ProductSubcategoryKey": "21",
                                    "EnglishProductSubcategoryName": "Jerseys",
                                    "PromotionKey": "1"
                                },
                                {
                                    "ProductKey": "230",
                                    "ProductCategoryKey": "3",
                                    "EnglishProductCategoryName": "Clothing",
                                    "ProductSubcategoryKey": "21",
                                    "EnglishProductSubcategoryName": "Jerseys",
                                    "PromotionKey": "1"
                                },
                                {
                                    "ProductKey": "230",
                                    "ProductCategoryKey": "3",
                                    "EnglishProductCategoryName": "Clothing",
                                    "ProductSubcategoryKey": "21",
                                    "EnglishProductSubcategoryName": "Jerseys",
                                    "PromotionKey": "2"
                                },
                                {
                                    "ProductKey": "231",
                                    "ProductCategoryKey": "3",
                                    "EnglishProductCategoryName": "Clothing",
                                    "ProductSubcategoryKey": "21",
                                    "EnglishProductSubcategoryName": "Jerseys",
                                    "PromotionKey": "1"
                                },
                                {
                                    "ProductKey": "231",
                                    "ProductCategoryKey": "3",
                                    "EnglishProductCategoryName": "Clothing",
                                    "ProductSubcategoryKey": "21",
                                    "EnglishProductSubcategoryName": "Jerseys",
                                    "PromotionKey": "2"
                                },
                                {
                                    "ProductKey": "231",
                                    "ProductCategoryKey": "3",
                                    "EnglishProductCategoryName": "Clothing",
                                    "ProductSubcategoryKey": "21",
                                    "EnglishProductSubcategoryName": "Jerseys",
                                    "PromotionKey": "3"
                                },
                                {
                                    "ProductKey": "232",
                                    "ProductCategoryKey": "3",
                                    "EnglishProductCategoryName": "Clothing",
                                    "ProductSubcategoryKey": "21",
                                    "EnglishProductSubcategoryName": "Jerseys",
                                    "PromotionKey": "1"
                                },
                                {
                                    "ProductKey": "232",
                                    "ProductCategoryKey": "3",
                                    "EnglishProductCategoryName": "Clothing",
                                    "ProductSubcategoryKey": "21",
                                    "EnglishProductSubcategoryName": "Jerseys",
                                    "PromotionKey": "2"
                                },
                                {
                                    "ProductKey": "232",
                                    "ProductCategoryKey": "3",
                                    "EnglishProductCategoryName": "Clothing",
                                    "ProductSubcategoryKey": "21",
                                    "EnglishProductSubcategoryName": "Jerseys",
                                    "PromotionKey": "3"
                                },
                                {
                                    "ProductKey": "233",
                                    "ProductCategoryKey": "3",
                                    "EnglishProductCategoryName": "Clothing",
                                    "ProductSubcategoryKey": "21",
                                    "EnglishProductSubcategoryName": "Jerseys",
                                    "PromotionKey": "1"
                                },
                                {
                                    "ProductKey": "233",
                                    "ProductCategoryKey": "3",
                                    "EnglishProductCategoryName": "Clothing",
                                    "ProductSubcategoryKey": "21",
                                    "EnglishProductSubcategoryName": "Jerseys",
                                    "PromotionKey": "2"
                                },
                                {
                                    "ProductKey": "233",
                                    "ProductCategoryKey": "3",
                                    "EnglishProductCategoryName": "Clothing",
                                    "ProductSubcategoryKey": "21",
                                    "EnglishProductSubcategoryName": "Jerseys",
                                    "PromotionKey": "3"
                                },
                                {
                                    "ProductKey": "233",
                                    "ProductCategoryKey": "3",
                                    "EnglishProductCategoryName": "Clothing",
                                    "ProductSubcategoryKey": "21",
                                    "EnglishProductSubcategoryName": "Jerseys",
                                    "PromotionKey": "4"
                                },
                                {
                                    "ProductKey": "234",
                                    "ProductCategoryKey": "3",
                                    "EnglishProductCategoryName": "Clothing",
                                    "ProductSubcategoryKey": "21",
                                    "EnglishProductSubcategoryName": "Jerseys",
                                    "PromotionKey": "1"
                                },
                                {
                                    "ProductKey": "234",
                                    "ProductCategoryKey": "3",
                                    "EnglishProductCategoryName": "Clothing",
                                    "ProductSubcategoryKey": "21",
                                    "EnglishProductSubcategoryName": "Jerseys",
                                    "PromotionKey": "2"
                                },
                                {
                                    "ProductKey": "234",
                                    "ProductCategoryKey": "3",
                                    "EnglishProductCategoryName": "Clothing",
                                    "ProductSubcategoryKey": "21",
                                    "EnglishProductSubcategoryName": "Jerseys",
                                    "PromotionKey": "3"
                                },
                                {
                                    "ProductKey": "235",
                                    "ProductCategoryKey": "3",
                                    "EnglishProductCategoryName": "Clothing",
                                    "ProductSubcategoryKey": "21",
                                    "EnglishProductSubcategoryName": "Jerseys",
                                    "PromotionKey": "1"
                                },
                                {
                                    "ProductKey": "236",
                                    "ProductCategoryKey": "3",
                                    "EnglishProductCategoryName": "Clothing",
                                    "ProductSubcategoryKey": "21",
                                    "EnglishProductSubcategoryName": "Jerseys",
                                    "PromotionKey": "1"
                                },
                                {
                                    "ProductKey": "236",
                                    "ProductCategoryKey": "3",
                                    "EnglishProductCategoryName": "Clothing",
                                    "ProductSubcategoryKey": "21",
                                    "EnglishProductSubcategoryName": "Jerseys",
                                    "PromotionKey": "2"
                                },
                                {
                                    "ProductKey": "237",
                                    "ProductCategoryKey": "3",
                                    "EnglishProductCategoryName": "Clothing",
                                    "ProductSubcategoryKey": "21",
                                    "EnglishProductSubcategoryName": "Jerseys",
                                    "PromotionKey": "1"
                                },
                                {
                                    "ProductKey": "237",
                                    "ProductCategoryKey": "3",
                                    "EnglishProductCategoryName": "Clothing",
                                    "ProductSubcategoryKey": "21",
                                    "EnglishProductSubcategoryName": "Jerseys",
                                    "PromotionKey": "2"
                                },
                                {
                                    "ProductKey": "238",
                                    "ProductCategoryKey": "2",
                                    "EnglishProductCategoryName": "Components",
                                    "ProductSubcategoryKey": "14",
                                    "EnglishProductSubcategoryName": "Road Frames",
                                    "PromotionKey": "1"
                                },
                                {
                                    "ProductKey": "239",
                                    "ProductCategoryKey": "2",
                                    "EnglishProductCategoryName": "Components",
                                    "ProductSubcategoryKey": "14",
                                    "EnglishProductSubcategoryName": "Road Frames",
                                    "PromotionKey": "1"
                                },
                                {
                                    "ProductKey": "240",
                                    "ProductCategoryKey": "2",
                                    "EnglishProductCategoryName": "Components",
                                    "ProductSubcategoryKey": "14",
                                    "EnglishProductSubcategoryName": "Road Frames",
                                    "PromotionKey": "1"
                                },
                                {
                                    "ProductKey": "241",
                                    "ProductCategoryKey": "2",
                                    "EnglishProductCategoryName": "Components",
                                    "ProductSubcategoryKey": "14",
                                    "EnglishProductSubcategoryName": "Road Frames",
                                    "PromotionKey": "1"
                                },
                                {
                                    "ProductKey": "242",
                                    "ProductCategoryKey": "2",
                                    "EnglishProductCategoryName": "Components",
                                    "ProductSubcategoryKey": "14",
                                    "EnglishProductSubcategoryName": "Road Frames",
                                    "PromotionKey": "1"
                                },
                                {
                                    "ProductKey": "243",
                                    "ProductCategoryKey": "2",
                                    "EnglishProductCategoryName": "Components",
                                    "ProductSubcategoryKey": "14",
                                    "EnglishProductSubcategoryName": "Road Frames",
                                    "PromotionKey": "1"
                                },
                                {
                                    "ProductKey": "245",
                                    "ProductCategoryKey": "2",
                                    "EnglishProductCategoryName": "Components",
                                    "ProductSubcategoryKey": "14",
                                    "EnglishProductSubcategoryName": "Road Frames",
                                    "PromotionKey": "1"
                                },
                                {
                                    "ProductKey": "246",
                                    "ProductCategoryKey": "2",
                                    "EnglishProductCategoryName": "Components",
                                    "ProductSubcategoryKey": "14",
                                    "EnglishProductSubcategoryName": "Road Frames",
                                    "PromotionKey": "1"
                                },
                                {
                                    "ProductKey": "253",
                                    "ProductCategoryKey": "2",
                                    "EnglishProductCategoryName": "Components",
                                    "ProductSubcategoryKey": "14",
                                    "EnglishProductSubcategoryName": "Road Frames",
                                    "PromotionKey": "1"
                                },
                                {
                                    "ProductKey": "254",
                                    "ProductCategoryKey": "2",
                                    "EnglishProductCategoryName": "Components",
                                    "ProductSubcategoryKey": "14",
                                    "EnglishProductSubcategoryName": "Road Frames",
                                    "PromotionKey": "1"
                                },
                                {
                                    "ProductKey": "255",
                                    "ProductCategoryKey": "2",
                                    "EnglishProductCategoryName": "Components",
                                    "ProductSubcategoryKey": "14",
                                    "EnglishProductSubcategoryName": "Road Frames",
                                    "PromotionKey": "1"
                                },
                                {
                                    "ProductKey": "256",
                                    "ProductCategoryKey": "2",
                                    "EnglishProductCategoryName": "Components",
                                    "ProductSubcategoryKey": "14",
                                    "EnglishProductSubcategoryName": "Road Frames",
                                    "PromotionKey": "1"
                                },
                                {
                                    "ProductKey": "257",
                                    "ProductCategoryKey": "2",
                                    "EnglishProductCategoryName": "Components",
                                    "ProductSubcategoryKey": "14",
                                    "EnglishProductSubcategoryName": "Road Frames",
                                    "PromotionKey": "1"
                                },
                                {
                                    "ProductKey": "258",
                                    "ProductCategoryKey": "2",
                                    "EnglishProductCategoryName": "Components",
                                    "ProductSubcategoryKey": "14",
                                    "EnglishProductSubcategoryName": "Road Frames",
                                    "PromotionKey": "1"
                                },
                                {
                                    "ProductKey": "262",
                                    "ProductCategoryKey": "2",
                                    "EnglishProductCategoryName": "Components",
                                    "ProductSubcategoryKey": "14",
                                    "EnglishProductSubcategoryName": "Road Frames",
                                    "PromotionKey": "1"
                                },
                                {
                                    "ProductKey": "263",
                                    "ProductCategoryKey": "2",
                                    "EnglishProductCategoryName": "Components",
                                    "ProductSubcategoryKey": "14",
                                    "EnglishProductSubcategoryName": "Road Frames",
                                    "PromotionKey": "1"
                                },
                                {
                                    "ProductKey": "263",
                                    "ProductCategoryKey": "2",
                                    "EnglishProductCategoryName": "Components",
                                    "ProductSubcategoryKey": "14",
                                    "EnglishProductSubcategoryName": "Road Frames",
                                    "PromotionKey": "2"
                                },
                                {
                                    "ProductKey": "264",
                                    "ProductCategoryKey": "2",
                                    "EnglishProductCategoryName": "Components",
                                    "ProductSubcategoryKey": "14",
                                    "EnglishProductSubcategoryName": "Road Frames",
                                    "PromotionKey": "1"
                                },
                                {
                                    "ProductKey": "265",
                                    "ProductCategoryKey": "2",
                                    "EnglishProductCategoryName": "Components",
                                    "ProductSubcategoryKey": "14",
                                    "EnglishProductSubcategoryName": "Road Frames",
                                    "PromotionKey": "1"
                                },
                                {
                                    "ProductKey": "266",
                                    "ProductCategoryKey": "2",
                                    "EnglishProductCategoryName": "Components",
                                    "ProductSubcategoryKey": "14",
                                    "EnglishProductSubcategoryName": "Road Frames",
                                    "PromotionKey": "1"
                                },
                                {
                                    "ProductKey": "267",
                                    "ProductCategoryKey": "2",
                                    "EnglishProductCategoryName": "Components",
                                    "ProductSubcategoryKey": "14",
                                    "EnglishProductSubcategoryName": "Road Frames",
                                    "PromotionKey": "1"
                                },
                                {
                                    "ProductKey": "270",
                                    "ProductCategoryKey": "2",
                                    "EnglishProductCategoryName": "Components",
                                    "ProductSubcategoryKey": "14",
                                    "EnglishProductSubcategoryName": "Road Frames",
                                    "PromotionKey": "1"
                                },
                                {
                                    "ProductKey": "271",
                                    "ProductCategoryKey": "2",
                                    "EnglishProductCategoryName": "Components",
                                    "ProductSubcategoryKey": "14",
                                    "EnglishProductSubcategoryName": "Road Frames",
                                    "PromotionKey": "1"
                                },
                                {
                                    "ProductKey": "272",
                                    "ProductCategoryKey": "2",
                                    "EnglishProductCategoryName": "Components",
                                    "ProductSubcategoryKey": "14",
                                    "EnglishProductSubcategoryName": "Road Frames",
                                    "PromotionKey": "1"
                                },
                                {
                                    "ProductKey": "273",
                                    "ProductCategoryKey": "2",
                                    "EnglishProductCategoryName": "Components",
                                    "ProductSubcategoryKey": "14",
                                    "EnglishProductSubcategoryName": "Road Frames",
                                    "PromotionKey": "1"
                                },
                                {
                                    "ProductKey": "273",
                                    "ProductCategoryKey": "2",
                                    "EnglishProductCategoryName": "Components",
                                    "ProductSubcategoryKey": "14",
                                    "EnglishProductSubcategoryName": "Road Frames",
                                    "PromotionKey": "2"
                                },
                                {
                                    "ProductKey": "275",
                                    "ProductCategoryKey": "2",
                                    "EnglishProductCategoryName": "Components",
                                    "ProductSubcategoryKey": "14",
                                    "EnglishProductSubcategoryName": "Road Frames",
                                    "PromotionKey": "1"
                                },
                                {
                                    "ProductKey": "276",
                                    "ProductCategoryKey": "2",
                                    "EnglishProductCategoryName": "Components",
                                    "ProductSubcategoryKey": "14",
                                    "EnglishProductSubcategoryName": "Road Frames",
                                    "PromotionKey": "1"
                                },
                                {
                                    "ProductKey": "279",
                                    "ProductCategoryKey": "2",
                                    "EnglishProductCategoryName": "Components",
                                    "ProductSubcategoryKey": "14",
                                    "EnglishProductSubcategoryName": "Road Frames",
                                    "PromotionKey": "1"
                                },
                                {
                                    "ProductKey": "280",
                                    "ProductCategoryKey": "2",
                                    "EnglishProductCategoryName": "Components",
                                    "ProductSubcategoryKey": "14",
                                    "EnglishProductSubcategoryName": "Road Frames",
                                    "PromotionKey": "1"
                                },
                                {
                                    "ProductKey": "281",
                                    "ProductCategoryKey": "2",
                                    "EnglishProductCategoryName": "Components",
                                    "ProductSubcategoryKey": "14",
                                    "EnglishProductSubcategoryName": "Road Frames",
                                    "PromotionKey": "1"
                                },
                                {
                                    "ProductKey": "285",
                                    "ProductCategoryKey": "2",
                                    "EnglishProductCategoryName": "Components",
                                    "ProductSubcategoryKey": "14",
                                    "EnglishProductSubcategoryName": "Road Frames",
                                    "PromotionKey": "1"
                                },
                                {
                                    "ProductKey": "286",
                                    "ProductCategoryKey": "2",
                                    "EnglishProductCategoryName": "Components",
                                    "ProductSubcategoryKey": "14",
                                    "EnglishProductSubcategoryName": "Road Frames",
                                    "PromotionKey": "1"
                                },
                                {
                                    "ProductKey": "286",
                                    "ProductCategoryKey": "2",
                                    "EnglishProductCategoryName": "Components",
                                    "ProductSubcategoryKey": "14",
                                    "EnglishProductSubcategoryName": "Road Frames",
                                    "PromotionKey": "2"
                                },
                                {
                                    "ProductKey": "287",
                                    "ProductCategoryKey": "2",
                                    "EnglishProductCategoryName": "Components",
                                    "ProductSubcategoryKey": "14",
                                    "EnglishProductSubcategoryName": "Road Frames",
                                    "PromotionKey": "1"
                                },
                                {
                                    "ProductKey": "287",
                                    "ProductCategoryKey": "2",
                                    "EnglishProductCategoryName": "Components",
                                    "ProductSubcategoryKey": "14",
                                    "EnglishProductSubcategoryName": "Road Frames",
                                    "PromotionKey": "2"
                                },
                                {
                                    "ProductKey": "288",
                                    "ProductCategoryKey": "2",
                                    "EnglishProductCategoryName": "Components",
                                    "ProductSubcategoryKey": "12",
                                    "EnglishProductSubcategoryName": "Mountain Frames",
                                    "PromotionKey": "1"
                                },
                                {
                                    "ProductKey": "289",
                                    "ProductCategoryKey": "2",
                                    "EnglishProductCategoryName": "Components",
                                    "ProductSubcategoryKey": "12",
                                    "EnglishProductSubcategoryName": "Mountain Frames",
                                    "PromotionKey": "1"
                                },
                                {
                                    "ProductKey": "290",
                                    "ProductCategoryKey": "2",
                                    "EnglishProductCategoryName": "Components",
                                    "ProductSubcategoryKey": "12",
                                    "EnglishProductSubcategoryName": "Mountain Frames",
                                    "PromotionKey": "1"
                                },
                                {
                                    "ProductKey": "292",
                                    "ProductCategoryKey": "2",
                                    "EnglishProductCategoryName": "Components",
                                    "ProductSubcategoryKey": "12",
                                    "EnglishProductSubcategoryName": "Mountain Frames",
                                    "PromotionKey": "1"
                                },
                                {
                                    "ProductKey": "293",
                                    "ProductCategoryKey": "2",
                                    "EnglishProductCategoryName": "Components",
                                    "ProductSubcategoryKey": "12",
                                    "EnglishProductSubcategoryName": "Mountain Frames",
                                    "PromotionKey": "1"
                                },
                                {
                                    "ProductKey": "294",
                                    "ProductCategoryKey": "2",
                                    "EnglishProductCategoryName": "Components",
                                    "ProductSubcategoryKey": "12",
                                    "EnglishProductSubcategoryName": "Mountain Frames",
                                    "PromotionKey": "1"
                                },
                                {
                                    "ProductKey": "295",
                                    "ProductCategoryKey": "2",
                                    "EnglishProductCategoryName": "Components",
                                    "ProductSubcategoryKey": "12",
                                    "EnglishProductSubcategoryName": "Mountain Frames",
                                    "PromotionKey": "1"
                                },
                                {
                                    "ProductKey": "296",
                                    "ProductCategoryKey": "2",
                                    "EnglishProductCategoryName": "Components",
                                    "ProductSubcategoryKey": "12",
                                    "EnglishProductSubcategoryName": "Mountain Frames",
                                    "PromotionKey": "1"
                                },
                                {
                                    "ProductKey": "297",
                                    "ProductCategoryKey": "2",
                                    "EnglishProductCategoryName": "Components",
                                    "ProductSubcategoryKey": "12",
                                    "EnglishProductSubcategoryName": "Mountain Frames",
                                    "PromotionKey": "1"
                                },
                                {
                                    "ProductKey": "298",
                                    "ProductCategoryKey": "2",
                                    "EnglishProductCategoryName": "Components",
                                    "ProductSubcategoryKey": "12",
                                    "EnglishProductSubcategoryName": "Mountain Frames",
                                    "PromotionKey": "1"
                                },
                                {
                                    "ProductKey": "299",
                                    "ProductCategoryKey": "2",
                                    "EnglishProductCategoryName": "Components",
                                    "ProductSubcategoryKey": "12",
                                    "EnglishProductSubcategoryName": "Mountain Frames",
                                    "PromotionKey": "1"
                                },
                                {
                                    "ProductKey": "300",
                                    "ProductCategoryKey": "2",
                                    "EnglishProductCategoryName": "Components",
                                    "ProductSubcategoryKey": "12",
                                    "EnglishProductSubcategoryName": "Mountain Frames",
                                    "PromotionKey": "1"
                                },
                                {
                                    "ProductKey": "304",
                                    "ProductCategoryKey": "2",
                                    "EnglishProductCategoryName": "Components",
                                    "ProductSubcategoryKey": "12",
                                    "EnglishProductSubcategoryName": "Mountain Frames",
                                    "PromotionKey": "1"
                                },
                                {
                                    "ProductKey": "305",
                                    "ProductCategoryKey": "2",
                                    "EnglishProductCategoryName": "Components",
                                    "ProductSubcategoryKey": "12",
                                    "EnglishProductSubcategoryName": "Mountain Frames",
                                    "PromotionKey": "1"
                                },
                                {
                                    "ProductKey": "306",
                                    "ProductCategoryKey": "2",
                                    "EnglishProductCategoryName": "Components",
                                    "ProductSubcategoryKey": "12",
                                    "EnglishProductSubcategoryName": "Mountain Frames",
                                    "PromotionKey": "1"
                                },
                                {
                                    "ProductKey": "307",
                                    "ProductCategoryKey": "2",
                                    "EnglishProductCategoryName": "Components",
                                    "ProductSubcategoryKey": "12",
                                    "EnglishProductSubcategoryName": "Mountain Frames",
                                    "PromotionKey": "1"
                                },
                                {
                                    "ProductKey": "308",
                                    "ProductCategoryKey": "2",
                                    "EnglishProductCategoryName": "Components",
                                    "ProductSubcategoryKey": "12",
                                    "EnglishProductSubcategoryName": "Mountain Frames",
                                    "PromotionKey": "1"
                                },
                                {
                                    "ProductKey": "309",
                                    "ProductCategoryKey": "2",
                                    "EnglishProductCategoryName": "Components",
                                    "ProductSubcategoryKey": "12",
                                    "EnglishProductSubcategoryName": "Mountain Frames",
                                    "PromotionKey": "1"
                                },
                                {
                                    "ProductKey": "309",
                                    "ProductCategoryKey": "2",
                                    "EnglishProductCategoryName": "Components",
                                    "ProductSubcategoryKey": "12",
                                    "EnglishProductSubcategoryName": "Mountain Frames",
                                    "PromotionKey": "2"
                                },
                                {
                                    "ProductKey": "310",
                                    "ProductCategoryKey": "1",
                                    "EnglishProductCategoryName": "Bikes",
                                    "ProductSubcategoryKey": "2",
                                    "EnglishProductSubcategoryName": "Road Bikes",
                                    "PromotionKey": "1"
                                },
                                {
                                    "ProductKey": "311",
                                    "ProductCategoryKey": "1",
                                    "EnglishProductCategoryName": "Bikes",
                                    "ProductSubcategoryKey": "2",
                                    "EnglishProductSubcategoryName": "Road Bikes",
                                    "PromotionKey": "1"
                                },
                                {
                                    "ProductKey": "312",
                                    "ProductCategoryKey": "1",
                                    "EnglishProductCategoryName": "Bikes",
                                    "ProductSubcategoryKey": "2",
                                    "EnglishProductSubcategoryName": "Road Bikes",
                                    "PromotionKey": "1"
                                },
                                {
                                    "ProductKey": "313",
                                    "ProductCategoryKey": "1",
                                    "EnglishProductCategoryName": "Bikes",
                                    "ProductSubcategoryKey": "2",
                                    "EnglishProductSubcategoryName": "Road Bikes",
                                    "PromotionKey": "1"
                                },
                                {
                                    "ProductKey": "314",
                                    "ProductCategoryKey": "1",
                                    "EnglishProductCategoryName": "Bikes",
                                    "ProductSubcategoryKey": "2",
                                    "EnglishProductSubcategoryName": "Road Bikes",
                                    "PromotionKey": "1"
                                },
                                {
                                    "ProductKey": "315",
                                    "ProductCategoryKey": "1",
                                    "EnglishProductCategoryName": "Bikes",
                                    "ProductSubcategoryKey": "2",
                                    "EnglishProductSubcategoryName": "Road Bikes",
                                    "PromotionKey": "1"
                                },
                                {
                                    "ProductKey": "315",
                                    "ProductCategoryKey": "1",
                                    "EnglishProductCategoryName": "Bikes",
                                    "ProductSubcategoryKey": "2",
                                    "EnglishProductSubcategoryName": "Road Bikes",
                                    "PromotionKey": "2"
                                },
                                {
                                    "ProductKey": "316",
                                    "ProductCategoryKey": "1",
                                    "EnglishProductCategoryName": "Bikes",
                                    "ProductSubcategoryKey": "2",
                                    "EnglishProductSubcategoryName": "Road Bikes",
                                    "PromotionKey": "1"
                                },
                                {
                                    "ProductKey": "317",
                                    "ProductCategoryKey": "1",
                                    "EnglishProductCategoryName": "Bikes",
                                    "ProductSubcategoryKey": "2",
                                    "EnglishProductSubcategoryName": "Road Bikes",
                                    "PromotionKey": "1"
                                },
                                {
                                    "ProductKey": "318",
                                    "ProductCategoryKey": "1",
                                    "EnglishProductCategoryName": "Bikes",
                                    "ProductSubcategoryKey": "2",
                                    "EnglishProductSubcategoryName": "Road Bikes",
                                    "PromotionKey": "1"
                                },
                                {
                                    "ProductKey": "319",
                                    "ProductCategoryKey": "1",
                                    "EnglishProductCategoryName": "Bikes",
                                    "ProductSubcategoryKey": "2",
                                    "EnglishProductSubcategoryName": "Road Bikes",
                                    "PromotionKey": "1"
                                },
                                {
                                    "ProductKey": "320",
                                    "ProductCategoryKey": "1",
                                    "EnglishProductCategoryName": "Bikes",
                                    "ProductSubcategoryKey": "2",
                                    "EnglishProductSubcategoryName": "Road Bikes",
                                    "PromotionKey": "1"
                                },
                                {
                                    "ProductKey": "321",
                                    "ProductCategoryKey": "1",
                                    "EnglishProductCategoryName": "Bikes",
                                    "ProductSubcategoryKey": "2",
                                    "EnglishProductSubcategoryName": "Road Bikes",
                                    "PromotionKey": "1"
                                },
                                {
                                    "ProductKey": "322",
                                    "ProductCategoryKey": "1",
                                    "EnglishProductCategoryName": "Bikes",
                                    "ProductSubcategoryKey": "2",
                                    "EnglishProductSubcategoryName": "Road Bikes",
                                    "PromotionKey": "1"
                                },
                                {
                                    "ProductKey": "322",
                                    "ProductCategoryKey": "1",
                                    "EnglishProductCategoryName": "Bikes",
                                    "ProductSubcategoryKey": "2",
                                    "EnglishProductSubcategoryName": "Road Bikes",
                                    "PromotionKey": "2"
                                },
                                {
                                    "ProductKey": "323",
                                    "ProductCategoryKey": "1",
                                    "EnglishProductCategoryName": "Bikes",
                                    "ProductSubcategoryKey": "2",
                                    "EnglishProductSubcategoryName": "Road Bikes",
                                    "PromotionKey": "1"
                                },
                                {
                                    "ProductKey": "323",
                                    "ProductCategoryKey": "1",
                                    "EnglishProductCategoryName": "Bikes",
                                    "ProductSubcategoryKey": "2",
                                    "EnglishProductSubcategoryName": "Road Bikes",
                                    "PromotionKey": "2"
                                },
                                {
                                    "ProductKey": "323",
                                    "ProductCategoryKey": "1",
                                    "EnglishProductCategoryName": "Bikes",
                                    "ProductSubcategoryKey": "2",
                                    "EnglishProductSubcategoryName": "Road Bikes",
                                    "PromotionKey": "3"
                                },
                                {
                                    "ProductKey": "324",
                                    "ProductCategoryKey": "1",
                                    "EnglishProductCategoryName": "Bikes",
                                    "ProductSubcategoryKey": "2",
                                    "EnglishProductSubcategoryName": "Road Bikes",
                                    "PromotionKey": "1"
                                },
                                {
                                    "ProductKey": "325",
                                    "ProductCategoryKey": "1",
                                    "EnglishProductCategoryName": "Bikes",
                                    "ProductSubcategoryKey": "2",
                                    "EnglishProductSubcategoryName": "Road Bikes",
                                    "PromotionKey": "1"
                                },
                                {
                                    "ProductKey": "325",
                                    "ProductCategoryKey": "1",
                                    "EnglishProductCategoryName": "Bikes",
                                    "ProductSubcategoryKey": "2",
                                    "EnglishProductSubcategoryName": "Road Bikes",
                                    "PromotionKey": "2"
                                },
                                {
                                    "ProductKey": "325",
                                    "ProductCategoryKey": "1",
                                    "EnglishProductCategoryName": "Bikes",
                                    "ProductSubcategoryKey": "2",
                                    "EnglishProductSubcategoryName": "Road Bikes",
                                    "PromotionKey": "3"
                                },
                                {
                                    "ProductKey": "326",
                                    "ProductCategoryKey": "1",
                                    "EnglishProductCategoryName": "Bikes",
                                    "ProductSubcategoryKey": "2",
                                    "EnglishProductSubcategoryName": "Road Bikes",
                                    "PromotionKey": "1"
                                },
                                {
                                    "ProductKey": "327",
                                    "ProductCategoryKey": "1",
                                    "EnglishProductCategoryName": "Bikes",
                                    "ProductSubcategoryKey": "2",
                                    "EnglishProductSubcategoryName": "Road Bikes",
                                    "PromotionKey": "1"
                                },
                                {
                                    "ProductKey": "327",
                                    "ProductCategoryKey": "1",
                                    "EnglishProductCategoryName": "Bikes",
                                    "ProductSubcategoryKey": "2",
                                    "EnglishProductSubcategoryName": "Road Bikes",
                                    "PromotionKey": "2"
                                },
                                {
                                    "ProductKey": "327",
                                    "ProductCategoryKey": "1",
                                    "EnglishProductCategoryName": "Bikes",
                                    "ProductSubcategoryKey": "2",
                                    "EnglishProductSubcategoryName": "Road Bikes",
                                    "PromotionKey": "3"
                                },
                                {
                                    "ProductKey": "327",
                                    "ProductCategoryKey": "1",
                                    "EnglishProductCategoryName": "Bikes",
                                    "ProductSubcategoryKey": "2",
                                    "EnglishProductSubcategoryName": "Road Bikes",
                                    "PromotionKey": "9"
                                },
                                {
                                    "ProductKey": "328",
                                    "ProductCategoryKey": "1",
                                    "EnglishProductCategoryName": "Bikes",
                                    "ProductSubcategoryKey": "2",
                                    "EnglishProductSubcategoryName": "Road Bikes",
                                    "PromotionKey": "1"
                                },
                                {
                                    "ProductKey": "329",
                                    "ProductCategoryKey": "1",
                                    "EnglishProductCategoryName": "Bikes",
                                    "ProductSubcategoryKey": "2",
                                    "EnglishProductSubcategoryName": "Road Bikes",
                                    "PromotionKey": "1"
                                },
                                {
                                    "ProductKey": "329",
                                    "ProductCategoryKey": "1",
                                    "EnglishProductCategoryName": "Bikes",
                                    "ProductSubcategoryKey": "2",
                                    "EnglishProductSubcategoryName": "Road Bikes",
                                    "PromotionKey": "2"
                                },
                                {
                                    "ProductKey": "329",
                                    "ProductCategoryKey": "1",
                                    "EnglishProductCategoryName": "Bikes",
                                    "ProductSubcategoryKey": "2",
                                    "EnglishProductSubcategoryName": "Road Bikes",
                                    "PromotionKey": "3"
                                },
                                {
                                    "ProductKey": "330",
                                    "ProductCategoryKey": "1",
                                    "EnglishProductCategoryName": "Bikes",
                                    "ProductSubcategoryKey": "2",
                                    "EnglishProductSubcategoryName": "Road Bikes",
                                    "PromotionKey": "1"
                                },
                                {
                                    "ProductKey": "331",
                                    "ProductCategoryKey": "1",
                                    "EnglishProductCategoryName": "Bikes",
                                    "ProductSubcategoryKey": "2",
                                    "EnglishProductSubcategoryName": "Road Bikes",
                                    "PromotionKey": "1"
                                },
                                {
                                    "ProductKey": "332",
                                    "ProductCategoryKey": "1",
                                    "EnglishProductCategoryName": "Bikes",
                                    "ProductSubcategoryKey": "2",
                                    "EnglishProductSubcategoryName": "Road Bikes",
                                    "PromotionKey": "1"
                                },
                                {
                                    "ProductKey": "333",
                                    "ProductCategoryKey": "1",
                                    "EnglishProductCategoryName": "Bikes",
                                    "ProductSubcategoryKey": "2",
                                    "EnglishProductSubcategoryName": "Road Bikes",
                                    "PromotionKey": "1"
                                },
                                {
                                    "ProductKey": "333",
                                    "ProductCategoryKey": "1",
                                    "EnglishProductCategoryName": "Bikes",
                                    "ProductSubcategoryKey": "2",
                                    "EnglishProductSubcategoryName": "Road Bikes",
                                    "PromotionKey": "2"
                                },
                                {
                                    "ProductKey": "333",
                                    "ProductCategoryKey": "1",
                                    "EnglishProductCategoryName": "Bikes",
                                    "ProductSubcategoryKey": "2",
                                    "EnglishProductSubcategoryName": "Road Bikes",
                                    "PromotionKey": "3"
                                },
                                {
                                    "ProductKey": "334",
                                    "ProductCategoryKey": "1",
                                    "EnglishProductCategoryName": "Bikes",
                                    "ProductSubcategoryKey": "2",
                                    "EnglishProductSubcategoryName": "Road Bikes",
                                    "PromotionKey": "1"
                                },
                                {
                                    "ProductKey": "335",
                                    "ProductCategoryKey": "1",
                                    "EnglishProductCategoryName": "Bikes",
                                    "ProductSubcategoryKey": "2",
                                    "EnglishProductSubcategoryName": "Road Bikes",
                                    "PromotionKey": "1"
                                },
                                {
                                    "ProductKey": "335",
                                    "ProductCategoryKey": "1",
                                    "EnglishProductCategoryName": "Bikes",
                                    "ProductSubcategoryKey": "2",
                                    "EnglishProductSubcategoryName": "Road Bikes",
                                    "PromotionKey": "2"
                                },
                                {
                                    "ProductKey": "336",
                                    "ProductCategoryKey": "1",
                                    "EnglishProductCategoryName": "Bikes",
                                    "ProductSubcategoryKey": "2",
                                    "EnglishProductSubcategoryName": "Road Bikes",
                                    "PromotionKey": "1"
                                },
                                {
                                    "ProductKey": "337",
                                    "ProductCategoryKey": "1",
                                    "EnglishProductCategoryName": "Bikes",
                                    "ProductSubcategoryKey": "2",
                                    "EnglishProductSubcategoryName": "Road Bikes",
                                    "PromotionKey": "1"
                                },
                                {
                                    "ProductKey": "338",
                                    "ProductCategoryKey": "1",
                                    "EnglishProductCategoryName": "Bikes",
                                    "ProductSubcategoryKey": "2",
                                    "EnglishProductSubcategoryName": "Road Bikes",
                                    "PromotionKey": "1"
                                },
                                {
                                    "ProductKey": "339",
                                    "ProductCategoryKey": "1",
                                    "EnglishProductCategoryName": "Bikes",
                                    "ProductSubcategoryKey": "2",
                                    "EnglishProductSubcategoryName": "Road Bikes",
                                    "PromotionKey": "1"
                                },
                                {
                                    "ProductKey": "339",
                                    "ProductCategoryKey": "1",
                                    "EnglishProductCategoryName": "Bikes",
                                    "ProductSubcategoryKey": "2",
                                    "EnglishProductSubcategoryName": "Road Bikes",
                                    "PromotionKey": "2"
                                },
                                {
                                    "ProductKey": "340",
                                    "ProductCategoryKey": "1",
                                    "EnglishProductCategoryName": "Bikes",
                                    "ProductSubcategoryKey": "2",
                                    "EnglishProductSubcategoryName": "Road Bikes",
                                    "PromotionKey": "1"
                                },
                                {
                                    "ProductKey": "341",
                                    "ProductCategoryKey": "1",
                                    "EnglishProductCategoryName": "Bikes",
                                    "ProductSubcategoryKey": "2",
                                    "EnglishProductSubcategoryName": "Road Bikes",
                                    "PromotionKey": "1"
                                },
                                {
                                    "ProductKey": "342",
                                    "ProductCategoryKey": "1",
                                    "EnglishProductCategoryName": "Bikes",
                                    "ProductSubcategoryKey": "2",
                                    "EnglishProductSubcategoryName": "Road Bikes",
                                    "PromotionKey": "1"
                                },
                                {
                                    "ProductKey": "342",
                                    "ProductCategoryKey": "1",
                                    "EnglishProductCategoryName": "Bikes",
                                    "ProductSubcategoryKey": "2",
                                    "EnglishProductSubcategoryName": "Road Bikes",
                                    "PromotionKey": "2"
                                },
                                {
                                    "ProductKey": "343",
                                    "ProductCategoryKey": "1",
                                    "EnglishProductCategoryName": "Bikes",
                                    "ProductSubcategoryKey": "2",
                                    "EnglishProductSubcategoryName": "Road Bikes",
                                    "PromotionKey": "1"
                                },
                                {
                                    "ProductKey": "343",
                                    "ProductCategoryKey": "1",
                                    "EnglishProductCategoryName": "Bikes",
                                    "ProductSubcategoryKey": "2",
                                    "EnglishProductSubcategoryName": "Road Bikes",
                                    "PromotionKey": "2"
                                },
                                {
                                    "ProductKey": "343",
                                    "ProductCategoryKey": "1",
                                    "EnglishProductCategoryName": "Bikes",
                                    "ProductSubcategoryKey": "2",
                                    "EnglishProductSubcategoryName": "Road Bikes",
                                    "PromotionKey": "3"
                                },
                                {
                                    "ProductKey": "344",
                                    "ProductCategoryKey": "1",
                                    "EnglishProductCategoryName": "Bikes",
                                    "ProductSubcategoryKey": "1",
                                    "EnglishProductSubcategoryName": "Mountain Bikes",
                                    "PromotionKey": "1"
                                },
                                {
                                    "ProductKey": "344",
                                    "ProductCategoryKey": "1",
                                    "EnglishProductCategoryName": "Bikes",
                                    "ProductSubcategoryKey": "1",
                                    "EnglishProductSubcategoryName": "Mountain Bikes",
                                    "PromotionKey": "7"
                                },
                                {
                                    "ProductKey": "345",
                                    "ProductCategoryKey": "1",
                                    "EnglishProductCategoryName": "Bikes",
                                    "ProductSubcategoryKey": "1",
                                    "EnglishProductSubcategoryName": "Mountain Bikes",
                                    "PromotionKey": "1"
                                },
                                {
                                    "ProductKey": "345",
                                    "ProductCategoryKey": "1",
                                    "EnglishProductCategoryName": "Bikes",
                                    "ProductSubcategoryKey": "1",
                                    "EnglishProductSubcategoryName": "Mountain Bikes",
                                    "PromotionKey": "2"
                                },
                                {
                                    "ProductKey": "345",
                                    "ProductCategoryKey": "1",
                                    "EnglishProductCategoryName": "Bikes",
                                    "ProductSubcategoryKey": "1",
                                    "EnglishProductSubcategoryName": "Mountain Bikes",
                                    "PromotionKey": "7"
                                },
                                {
                                    "ProductKey": "346",
                                    "ProductCategoryKey": "1",
                                    "EnglishProductCategoryName": "Bikes",
                                    "ProductSubcategoryKey": "1",
                                    "EnglishProductSubcategoryName": "Mountain Bikes",
                                    "PromotionKey": "1"
                                },
                                {
                                    "ProductKey": "346",
                                    "ProductCategoryKey": "1",
                                    "EnglishProductCategoryName": "Bikes",
                                    "ProductSubcategoryKey": "1",
                                    "EnglishProductSubcategoryName": "Mountain Bikes",
                                    "PromotionKey": "2"
                                },
                                {
                                    "ProductKey": "346",
                                    "ProductCategoryKey": "1",
                                    "EnglishProductCategoryName": "Bikes",
                                    "ProductSubcategoryKey": "1",
                                    "EnglishProductSubcategoryName": "Mountain Bikes",
                                    "PromotionKey": "7"
                                },
                                {
                                    "ProductKey": "347",
                                    "ProductCategoryKey": "1",
                                    "EnglishProductCategoryName": "Bikes",
                                    "ProductSubcategoryKey": "1",
                                    "EnglishProductSubcategoryName": "Mountain Bikes",
                                    "PromotionKey": "1"
                                },
                                {
                                    "ProductKey": "347",
                                    "ProductCategoryKey": "1",
                                    "EnglishProductCategoryName": "Bikes",
                                    "ProductSubcategoryKey": "1",
                                    "EnglishProductSubcategoryName": "Mountain Bikes",
                                    "PromotionKey": "7"
                                },
                                {
                                    "ProductKey": "348",
                                    "ProductCategoryKey": "1",
                                    "EnglishProductCategoryName": "Bikes",
                                    "ProductSubcategoryKey": "1",
                                    "EnglishProductSubcategoryName": "Mountain Bikes",
                                    "PromotionKey": "1"
                                },
                                {
                                    "ProductKey": "348",
                                    "ProductCategoryKey": "1",
                                    "EnglishProductCategoryName": "Bikes",
                                    "ProductSubcategoryKey": "1",
                                    "EnglishProductSubcategoryName": "Mountain Bikes",
                                    "PromotionKey": "2"
                                },
                                {
                                    "ProductKey": "348",
                                    "ProductCategoryKey": "1",
                                    "EnglishProductCategoryName": "Bikes",
                                    "ProductSubcategoryKey": "1",
                                    "EnglishProductSubcategoryName": "Mountain Bikes",
                                    "PromotionKey": "7"
                                },
                                {
                                    "ProductKey": "349",
                                    "ProductCategoryKey": "1",
                                    "EnglishProductCategoryName": "Bikes",
                                    "ProductSubcategoryKey": "1",
                                    "EnglishProductSubcategoryName": "Mountain Bikes",
                                    "PromotionKey": "1"
                                },
                                {
                                    "ProductKey": "349",
                                    "ProductCategoryKey": "1",
                                    "EnglishProductCategoryName": "Bikes",
                                    "ProductSubcategoryKey": "1",
                                    "EnglishProductSubcategoryName": "Mountain Bikes",
                                    "PromotionKey": "2"
                                },
                                {
                                    "ProductKey": "349",
                                    "ProductCategoryKey": "1",
                                    "EnglishProductCategoryName": "Bikes",
                                    "ProductSubcategoryKey": "1",
                                    "EnglishProductSubcategoryName": "Mountain Bikes",
                                    "PromotionKey": "7"
                                },
                                {
                                    "ProductKey": "350",
                                    "ProductCategoryKey": "1",
                                    "EnglishProductCategoryName": "Bikes",
                                    "ProductSubcategoryKey": "1",
                                    "EnglishProductSubcategoryName": "Mountain Bikes",
                                    "PromotionKey": "1"
                                },
                                {
                                    "ProductKey": "350",
                                    "ProductCategoryKey": "1",
                                    "EnglishProductCategoryName": "Bikes",
                                    "ProductSubcategoryKey": "1",
                                    "EnglishProductSubcategoryName": "Mountain Bikes",
                                    "PromotionKey": "2"
                                },
                                {
                                    "ProductKey": "350",
                                    "ProductCategoryKey": "1",
                                    "EnglishProductCategoryName": "Bikes",
                                    "ProductSubcategoryKey": "1",
                                    "EnglishProductSubcategoryName": "Mountain Bikes",
                                    "PromotionKey": "7"
                                },
                                {
                                    "ProductKey": "351",
                                    "ProductCategoryKey": "1",
                                    "EnglishProductCategoryName": "Bikes",
                                    "ProductSubcategoryKey": "1",
                                    "EnglishProductSubcategoryName": "Mountain Bikes",
                                    "PromotionKey": "1"
                                },
                                {
                                    "ProductKey": "351",
                                    "ProductCategoryKey": "1",
                                    "EnglishProductCategoryName": "Bikes",
                                    "ProductSubcategoryKey": "1",
                                    "EnglishProductSubcategoryName": "Mountain Bikes",
                                    "PromotionKey": "7"
                                },
                                {
                                    "ProductKey": "352",
                                    "ProductCategoryKey": "1",
                                    "EnglishProductCategoryName": "Bikes",
                                    "ProductSubcategoryKey": "1",
                                    "EnglishProductSubcategoryName": "Mountain Bikes",
                                    "PromotionKey": "1"
                                },
                                {
                                    "ProductKey": "352",
                                    "ProductCategoryKey": "1",
                                    "EnglishProductCategoryName": "Bikes",
                                    "ProductSubcategoryKey": "1",
                                    "EnglishProductSubcategoryName": "Mountain Bikes",
                                    "PromotionKey": "2"
                                },
                                {
                                    "ProductKey": "353",
                                    "ProductCategoryKey": "1",
                                    "EnglishProductCategoryName": "Bikes",
                                    "ProductSubcategoryKey": "1",
                                    "EnglishProductSubcategoryName": "Mountain Bikes",
                                    "PromotionKey": "1"
                                },
                                {
                                    "ProductKey": "353",
                                    "ProductCategoryKey": "1",
                                    "EnglishProductCategoryName": "Bikes",
                                    "ProductSubcategoryKey": "1",
                                    "EnglishProductSubcategoryName": "Mountain Bikes",
                                    "PromotionKey": "2"
                                },
                                {
                                    "ProductKey": "354",
                                    "ProductCategoryKey": "1",
                                    "EnglishProductCategoryName": "Bikes",
                                    "ProductSubcategoryKey": "1",
                                    "EnglishProductSubcategoryName": "Mountain Bikes",
                                    "PromotionKey": "1"
                                },
                                {
                                    "ProductKey": "354",
                                    "ProductCategoryKey": "1",
                                    "EnglishProductCategoryName": "Bikes",
                                    "ProductSubcategoryKey": "1",
                                    "EnglishProductSubcategoryName": "Mountain Bikes",
                                    "PromotionKey": "2"
                                },
                                {
                                    "ProductKey": "355",
                                    "ProductCategoryKey": "1",
                                    "EnglishProductCategoryName": "Bikes",
                                    "ProductSubcategoryKey": "1",
                                    "EnglishProductSubcategoryName": "Mountain Bikes",
                                    "PromotionKey": "1"
                                },
                                {
                                    "ProductKey": "355",
                                    "ProductCategoryKey": "1",
                                    "EnglishProductCategoryName": "Bikes",
                                    "ProductSubcategoryKey": "1",
                                    "EnglishProductSubcategoryName": "Mountain Bikes",
                                    "PromotionKey": "2"
                                },
                                {
                                    "ProductKey": "355",
                                    "ProductCategoryKey": "1",
                                    "EnglishProductCategoryName": "Bikes",
                                    "ProductSubcategoryKey": "1",
                                    "EnglishProductSubcategoryName": "Mountain Bikes",
                                    "PromotionKey": "3"
                                },
                                {
                                    "ProductKey": "356",
                                    "ProductCategoryKey": "1",
                                    "EnglishProductCategoryName": "Bikes",
                                    "ProductSubcategoryKey": "1",
                                    "EnglishProductSubcategoryName": "Mountain Bikes",
                                    "PromotionKey": "1"
                                },
                                {
                                    "ProductKey": "356",
                                    "ProductCategoryKey": "1",
                                    "EnglishProductCategoryName": "Bikes",
                                    "ProductSubcategoryKey": "1",
                                    "EnglishProductSubcategoryName": "Mountain Bikes",
                                    "PromotionKey": "2"
                                },
                                {
                                    "ProductKey": "357",
                                    "ProductCategoryKey": "1",
                                    "EnglishProductCategoryName": "Bikes",
                                    "ProductSubcategoryKey": "1",
                                    "EnglishProductSubcategoryName": "Mountain Bikes",
                                    "PromotionKey": "1"
                                },
                                {
                                    "ProductKey": "357",
                                    "ProductCategoryKey": "1",
                                    "EnglishProductCategoryName": "Bikes",
                                    "ProductSubcategoryKey": "1",
                                    "EnglishProductSubcategoryName": "Mountain Bikes",
                                    "PromotionKey": "2"
                                },
                                {
                                    "ProductKey": "358",
                                    "ProductCategoryKey": "1",
                                    "EnglishProductCategoryName": "Bikes",
                                    "ProductSubcategoryKey": "1",
                                    "EnglishProductSubcategoryName": "Mountain Bikes",
                                    "PromotionKey": "1"
                                },
                                {
                                    "ProductKey": "358",
                                    "ProductCategoryKey": "1",
                                    "EnglishProductCategoryName": "Bikes",
                                    "ProductSubcategoryKey": "1",
                                    "EnglishProductSubcategoryName": "Mountain Bikes",
                                    "PromotionKey": "2"
                                },
                                {
                                    "ProductKey": "359",
                                    "ProductCategoryKey": "1",
                                    "EnglishProductCategoryName": "Bikes",
                                    "ProductSubcategoryKey": "1",
                                    "EnglishProductSubcategoryName": "Mountain Bikes",
                                    "PromotionKey": "1"
                                },
                                {
                                    "ProductKey": "359",
                                    "ProductCategoryKey": "1",
                                    "EnglishProductCategoryName": "Bikes",
                                    "ProductSubcategoryKey": "1",
                                    "EnglishProductSubcategoryName": "Mountain Bikes",
                                    "PromotionKey": "2"
                                },
                                {
                                    "ProductKey": "359",
                                    "ProductCategoryKey": "1",
                                    "EnglishProductCategoryName": "Bikes",
                                    "ProductSubcategoryKey": "1",
                                    "EnglishProductSubcategoryName": "Mountain Bikes",
                                    "PromotionKey": "3"
                                },
                                {
                                    "ProductKey": "360",
                                    "ProductCategoryKey": "1",
                                    "EnglishProductCategoryName": "Bikes",
                                    "ProductSubcategoryKey": "1",
                                    "EnglishProductSubcategoryName": "Mountain Bikes",
                                    "PromotionKey": "1"
                                },
                                {
                                    "ProductKey": "360",
                                    "ProductCategoryKey": "1",
                                    "EnglishProductCategoryName": "Bikes",
                                    "ProductSubcategoryKey": "1",
                                    "EnglishProductSubcategoryName": "Mountain Bikes",
                                    "PromotionKey": "2"
                                },
                                {
                                    "ProductKey": "360",
                                    "ProductCategoryKey": "1",
                                    "EnglishProductCategoryName": "Bikes",
                                    "ProductSubcategoryKey": "1",
                                    "EnglishProductSubcategoryName": "Mountain Bikes",
                                    "PromotionKey": "3"
                                },
                                {
                                    "ProductKey": "361",
                                    "ProductCategoryKey": "1",
                                    "EnglishProductCategoryName": "Bikes",
                                    "ProductSubcategoryKey": "1",
                                    "EnglishProductSubcategoryName": "Mountain Bikes",
                                    "PromotionKey": "1"
                                },
                                {
                                    "ProductKey": "361",
                                    "ProductCategoryKey": "1",
                                    "EnglishProductCategoryName": "Bikes",
                                    "ProductSubcategoryKey": "1",
                                    "EnglishProductSubcategoryName": "Mountain Bikes",
                                    "PromotionKey": "2"
                                },
                                {
                                    "ProductKey": "361",
                                    "ProductCategoryKey": "1",
                                    "EnglishProductCategoryName": "Bikes",
                                    "ProductSubcategoryKey": "1",
                                    "EnglishProductSubcategoryName": "Mountain Bikes",
                                    "PromotionKey": "3"
                                },
                                {
                                    "ProductKey": "362",
                                    "ProductCategoryKey": "1",
                                    "EnglishProductCategoryName": "Bikes",
                                    "ProductSubcategoryKey": "1",
                                    "EnglishProductSubcategoryName": "Mountain Bikes",
                                    "PromotionKey": "1"
                                },
                                {
                                    "ProductKey": "362",
                                    "ProductCategoryKey": "1",
                                    "EnglishProductCategoryName": "Bikes",
                                    "ProductSubcategoryKey": "1",
                                    "EnglishProductSubcategoryName": "Mountain Bikes",
                                    "PromotionKey": "2"
                                },
                                {
                                    "ProductKey": "363",
                                    "ProductCategoryKey": "1",
                                    "EnglishProductCategoryName": "Bikes",
                                    "ProductSubcategoryKey": "1",
                                    "EnglishProductSubcategoryName": "Mountain Bikes",
                                    "PromotionKey": "1"
                                },
                                {
                                    "ProductKey": "363",
                                    "ProductCategoryKey": "1",
                                    "EnglishProductCategoryName": "Bikes",
                                    "ProductSubcategoryKey": "1",
                                    "EnglishProductSubcategoryName": "Mountain Bikes",
                                    "PromotionKey": "2"
                                },
                                {
                                    "ProductKey": "364",
                                    "ProductCategoryKey": "1",
                                    "EnglishProductCategoryName": "Bikes",
                                    "ProductSubcategoryKey": "1",
                                    "EnglishProductSubcategoryName": "Mountain Bikes",
                                    "PromotionKey": "1"
                                },
                                {
                                    "ProductKey": "364",
                                    "ProductCategoryKey": "1",
                                    "EnglishProductCategoryName": "Bikes",
                                    "ProductSubcategoryKey": "1",
                                    "EnglishProductSubcategoryName": "Mountain Bikes",
                                    "PromotionKey": "2"
                                },
                                {
                                    "ProductKey": "365",
                                    "ProductCategoryKey": "1",
                                    "EnglishProductCategoryName": "Bikes",
                                    "ProductSubcategoryKey": "1",
                                    "EnglishProductSubcategoryName": "Mountain Bikes",
                                    "PromotionKey": "1"
                                },
                                {
                                    "ProductKey": "365",
                                    "ProductCategoryKey": "1",
                                    "EnglishProductCategoryName": "Bikes",
                                    "ProductSubcategoryKey": "1",
                                    "EnglishProductSubcategoryName": "Mountain Bikes",
                                    "PromotionKey": "2"
                                },
                                {
                                    "ProductKey": "366",
                                    "ProductCategoryKey": "1",
                                    "EnglishProductCategoryName": "Bikes",
                                    "ProductSubcategoryKey": "1",
                                    "EnglishProductSubcategoryName": "Mountain Bikes",
                                    "PromotionKey": "1"
                                },
                                {
                                    "ProductKey": "367",
                                    "ProductCategoryKey": "1",
                                    "EnglishProductCategoryName": "Bikes",
                                    "ProductSubcategoryKey": "1",
                                    "EnglishProductSubcategoryName": "Mountain Bikes",
                                    "PromotionKey": "1"
                                },
                                {
                                    "ProductKey": "367",
                                    "ProductCategoryKey": "1",
                                    "EnglishProductCategoryName": "Bikes",
                                    "ProductSubcategoryKey": "1",
                                    "EnglishProductSubcategoryName": "Mountain Bikes",
                                    "PromotionKey": "2"
                                },
                                {
                                    "ProductKey": "368",
                                    "ProductCategoryKey": "1",
                                    "EnglishProductCategoryName": "Bikes",
                                    "ProductSubcategoryKey": "2",
                                    "EnglishProductSubcategoryName": "Road Bikes",
                                    "PromotionKey": "1"
                                },
                                {
                                    "ProductKey": "368",
                                    "ProductCategoryKey": "1",
                                    "EnglishProductCategoryName": "Bikes",
                                    "ProductSubcategoryKey": "2",
                                    "EnglishProductSubcategoryName": "Road Bikes",
                                    "PromotionKey": "2"
                                },
                                {
                                    "ProductKey": "368",
                                    "ProductCategoryKey": "1",
                                    "EnglishProductCategoryName": "Bikes",
                                    "ProductSubcategoryKey": "2",
                                    "EnglishProductSubcategoryName": "Road Bikes",
                                    "PromotionKey": "3"
                                },
                                {
                                    "ProductKey": "369",
                                    "ProductCategoryKey": "1",
                                    "EnglishProductCategoryName": "Bikes",
                                    "ProductSubcategoryKey": "2",
                                    "EnglishProductSubcategoryName": "Road Bikes",
                                    "PromotionKey": "1"
                                },
                                {
                                    "ProductKey": "369",
                                    "ProductCategoryKey": "1",
                                    "EnglishProductCategoryName": "Bikes",
                                    "ProductSubcategoryKey": "2",
                                    "EnglishProductSubcategoryName": "Road Bikes",
                                    "PromotionKey": "2"
                                },
                                {
                                    "ProductKey": "370",
                                    "ProductCategoryKey": "1",
                                    "EnglishProductCategoryName": "Bikes",
                                    "ProductSubcategoryKey": "2",
                                    "EnglishProductSubcategoryName": "Road Bikes",
                                    "PromotionKey": "1"
                                },
                                {
                                    "ProductKey": "371",
                                    "ProductCategoryKey": "1",
                                    "EnglishProductCategoryName": "Bikes",
                                    "ProductSubcategoryKey": "2",
                                    "EnglishProductSubcategoryName": "Road Bikes",
                                    "PromotionKey": "1"
                                },
                                {
                                    "ProductKey": "372",
                                    "ProductCategoryKey": "1",
                                    "EnglishProductCategoryName": "Bikes",
                                    "ProductSubcategoryKey": "2",
                                    "EnglishProductSubcategoryName": "Road Bikes",
                                    "PromotionKey": "1"
                                },
                                {
                                    "ProductKey": "373",
                                    "ProductCategoryKey": "1",
                                    "EnglishProductCategoryName": "Bikes",
                                    "ProductSubcategoryKey": "2",
                                    "EnglishProductSubcategoryName": "Road Bikes",
                                    "PromotionKey": "1"
                                },
                                {
                                    "ProductKey": "373",
                                    "ProductCategoryKey": "1",
                                    "EnglishProductCategoryName": "Bikes",
                                    "ProductSubcategoryKey": "2",
                                    "EnglishProductSubcategoryName": "Road Bikes",
                                    "PromotionKey": "2"
                                },
                                {
                                    "ProductKey": "374",
                                    "ProductCategoryKey": "1",
                                    "EnglishProductCategoryName": "Bikes",
                                    "ProductSubcategoryKey": "2",
                                    "EnglishProductSubcategoryName": "Road Bikes",
                                    "PromotionKey": "1"
                                },
                                {
                                    "ProductKey": "375",
                                    "ProductCategoryKey": "1",
                                    "EnglishProductCategoryName": "Bikes",
                                    "ProductSubcategoryKey": "2",
                                    "EnglishProductSubcategoryName": "Road Bikes",
                                    "PromotionKey": "1"
                                },
                                {
                                    "ProductKey": "375",
                                    "ProductCategoryKey": "1",
                                    "EnglishProductCategoryName": "Bikes",
                                    "ProductSubcategoryKey": "2",
                                    "EnglishProductSubcategoryName": "Road Bikes",
                                    "PromotionKey": "2"
                                },
                                {
                                    "ProductKey": "376",
                                    "ProductCategoryKey": "1",
                                    "EnglishProductCategoryName": "Bikes",
                                    "ProductSubcategoryKey": "2",
                                    "EnglishProductSubcategoryName": "Road Bikes",
                                    "PromotionKey": "1"
                                },
                                {
                                    "ProductKey": "376",
                                    "ProductCategoryKey": "1",
                                    "EnglishProductCategoryName": "Bikes",
                                    "ProductSubcategoryKey": "2",
                                    "EnglishProductSubcategoryName": "Road Bikes",
                                    "PromotionKey": "2"
                                },
                                {
                                    "ProductKey": "377",
                                    "ProductCategoryKey": "1",
                                    "EnglishProductCategoryName": "Bikes",
                                    "ProductSubcategoryKey": "2",
                                    "EnglishProductSubcategoryName": "Road Bikes",
                                    "PromotionKey": "1"
                                },
                                {
                                    "ProductKey": "378",
                                    "ProductCategoryKey": "1",
                                    "EnglishProductCategoryName": "Bikes",
                                    "ProductSubcategoryKey": "2",
                                    "EnglishProductSubcategoryName": "Road Bikes",
                                    "PromotionKey": "1"
                                },
                                {
                                    "ProductKey": "379",
                                    "ProductCategoryKey": "1",
                                    "EnglishProductCategoryName": "Bikes",
                                    "ProductSubcategoryKey": "2",
                                    "EnglishProductSubcategoryName": "Road Bikes",
                                    "PromotionKey": "1"
                                },
                                {
                                    "ProductKey": "380",
                                    "ProductCategoryKey": "1",
                                    "EnglishProductCategoryName": "Bikes",
                                    "ProductSubcategoryKey": "2",
                                    "EnglishProductSubcategoryName": "Road Bikes",
                                    "PromotionKey": "1"
                                },
                                {
                                    "ProductKey": "381",
                                    "ProductCategoryKey": "1",
                                    "EnglishProductCategoryName": "Bikes",
                                    "ProductSubcategoryKey": "2",
                                    "EnglishProductSubcategoryName": "Road Bikes",
                                    "PromotionKey": "1"
                                },
                                {
                                    "ProductKey": "381",
                                    "ProductCategoryKey": "1",
                                    "EnglishProductCategoryName": "Bikes",
                                    "ProductSubcategoryKey": "2",
                                    "EnglishProductSubcategoryName": "Road Bikes",
                                    "PromotionKey": "2"
                                },
                                {
                                    "ProductKey": "382",
                                    "ProductCategoryKey": "1",
                                    "EnglishProductCategoryName": "Bikes",
                                    "ProductSubcategoryKey": "2",
                                    "EnglishProductSubcategoryName": "Road Bikes",
                                    "PromotionKey": "1"
                                },
                                {
                                    "ProductKey": "382",
                                    "ProductCategoryKey": "1",
                                    "EnglishProductCategoryName": "Bikes",
                                    "ProductSubcategoryKey": "2",
                                    "EnglishProductSubcategoryName": "Road Bikes",
                                    "PromotionKey": "2"
                                },
                                {
                                    "ProductKey": "383",
                                    "ProductCategoryKey": "1",
                                    "EnglishProductCategoryName": "Bikes",
                                    "ProductSubcategoryKey": "2",
                                    "EnglishProductSubcategoryName": "Road Bikes",
                                    "PromotionKey": "1"
                                },
                                {
                                    "ProductKey": "384",
                                    "ProductCategoryKey": "1",
                                    "EnglishProductCategoryName": "Bikes",
                                    "ProductSubcategoryKey": "2",
                                    "EnglishProductSubcategoryName": "Road Bikes",
                                    "PromotionKey": "1"
                                },
                                {
                                    "ProductKey": "384",
                                    "ProductCategoryKey": "1",
                                    "EnglishProductCategoryName": "Bikes",
                                    "ProductSubcategoryKey": "2",
                                    "EnglishProductSubcategoryName": "Road Bikes",
                                    "PromotionKey": "2"
                                },
                                {
                                    "ProductKey": "385",
                                    "ProductCategoryKey": "1",
                                    "EnglishProductCategoryName": "Bikes",
                                    "ProductSubcategoryKey": "2",
                                    "EnglishProductSubcategoryName": "Road Bikes",
                                    "PromotionKey": "1"
                                },
                                {
                                    "ProductKey": "386",
                                    "ProductCategoryKey": "1",
                                    "EnglishProductCategoryName": "Bikes",
                                    "ProductSubcategoryKey": "2",
                                    "EnglishProductSubcategoryName": "Road Bikes",
                                    "PromotionKey": "1"
                                },
                                {
                                    "ProductKey": "387",
                                    "ProductCategoryKey": "1",
                                    "EnglishProductCategoryName": "Bikes",
                                    "ProductSubcategoryKey": "2",
                                    "EnglishProductSubcategoryName": "Road Bikes",
                                    "PromotionKey": "1"
                                },
                                {
                                    "ProductKey": "388",
                                    "ProductCategoryKey": "1",
                                    "EnglishProductCategoryName": "Bikes",
                                    "ProductSubcategoryKey": "2",
                                    "EnglishProductSubcategoryName": "Road Bikes",
                                    "PromotionKey": "1"
                                },
                                {
                                    "ProductKey": "389",
                                    "ProductCategoryKey": "1",
                                    "EnglishProductCategoryName": "Bikes",
                                    "ProductSubcategoryKey": "2",
                                    "EnglishProductSubcategoryName": "Road Bikes",
                                    "PromotionKey": "1"
                                },
                                {
                                    "ProductKey": "389",
                                    "ProductCategoryKey": "1",
                                    "EnglishProductCategoryName": "Bikes",
                                    "ProductSubcategoryKey": "2",
                                    "EnglishProductSubcategoryName": "Road Bikes",
                                    "PromotionKey": "2"
                                },
                                {
                                    "ProductKey": "389",
                                    "ProductCategoryKey": "1",
                                    "EnglishProductCategoryName": "Bikes",
                                    "ProductSubcategoryKey": "2",
                                    "EnglishProductSubcategoryName": "Road Bikes",
                                    "PromotionKey": "3"
                                },
                                {
                                    "ProductKey": "390",
                                    "ProductCategoryKey": "1",
                                    "EnglishProductCategoryName": "Bikes",
                                    "ProductSubcategoryKey": "2",
                                    "EnglishProductSubcategoryName": "Road Bikes",
                                    "PromotionKey": "1"
                                },
                                {
                                    "ProductKey": "390",
                                    "ProductCategoryKey": "1",
                                    "EnglishProductCategoryName": "Bikes",
                                    "ProductSubcategoryKey": "2",
                                    "EnglishProductSubcategoryName": "Road Bikes",
                                    "PromotionKey": "2"
                                },
                                {
                                    "ProductKey": "391",
                                    "ProductCategoryKey": "2",
                                    "EnglishProductCategoryName": "Components",
                                    "ProductSubcategoryKey": "10",
                                    "EnglishProductSubcategoryName": "Forks",
                                    "PromotionKey": "1"
                                },
                                {
                                    "ProductKey": "393",
                                    "ProductCategoryKey": "2",
                                    "EnglishProductCategoryName": "Components",
                                    "ProductSubcategoryKey": "10",
                                    "EnglishProductSubcategoryName": "Forks",
                                    "PromotionKey": "1"
                                },
                                {
                                    "ProductKey": "393",
                                    "ProductCategoryKey": "2",
                                    "EnglishProductCategoryName": "Components",
                                    "ProductSubcategoryKey": "10",
                                    "EnglishProductSubcategoryName": "Forks",
                                    "PromotionKey": "2"
                                },
                                {
                                    "ProductKey": "394",
                                    "ProductCategoryKey": "2",
                                    "EnglishProductCategoryName": "Components",
                                    "ProductSubcategoryKey": "11",
                                    "EnglishProductSubcategoryName": "Headsets",
                                    "PromotionKey": "1"
                                },
                                {
                                    "ProductKey": "395",
                                    "ProductCategoryKey": "2",
                                    "EnglishProductCategoryName": "Components",
                                    "ProductSubcategoryKey": "11",
                                    "EnglishProductSubcategoryName": "Headsets",
                                    "PromotionKey": "1"
                                },
                                {
                                    "ProductKey": "395",
                                    "ProductCategoryKey": "2",
                                    "EnglishProductCategoryName": "Components",
                                    "ProductSubcategoryKey": "11",
                                    "EnglishProductSubcategoryName": "Headsets",
                                    "PromotionKey": "2"
                                },
                                {
                                    "ProductKey": "395",
                                    "ProductCategoryKey": "2",
                                    "EnglishProductCategoryName": "Components",
                                    "ProductSubcategoryKey": "11",
                                    "EnglishProductSubcategoryName": "Headsets",
                                    "PromotionKey": "3"
                                },
                                {
                                    "ProductKey": "396",
                                    "ProductCategoryKey": "2",
                                    "EnglishProductCategoryName": "Components",
                                    "ProductSubcategoryKey": "11",
                                    "EnglishProductSubcategoryName": "Headsets",
                                    "PromotionKey": "1"
                                },
                                {
                                    "ProductKey": "397",
                                    "ProductCategoryKey": "2",
                                    "EnglishProductCategoryName": "Components",
                                    "ProductSubcategoryKey": "4",
                                    "EnglishProductSubcategoryName": "Handlebars",
                                    "PromotionKey": "1"
                                },
                                {
                                    "ProductKey": "398",
                                    "ProductCategoryKey": "2",
                                    "EnglishProductCategoryName": "Components",
                                    "ProductSubcategoryKey": "4",
                                    "EnglishProductSubcategoryName": "Handlebars",
                                    "PromotionKey": "1"
                                },
                                {
                                    "ProductKey": "398",
                                    "ProductCategoryKey": "2",
                                    "EnglishProductCategoryName": "Components",
                                    "ProductSubcategoryKey": "4",
                                    "EnglishProductSubcategoryName": "Handlebars",
                                    "PromotionKey": "2"
                                },
                                {
                                    "ProductKey": "398",
                                    "ProductCategoryKey": "2",
                                    "EnglishProductCategoryName": "Components",
                                    "ProductSubcategoryKey": "4",
                                    "EnglishProductSubcategoryName": "Handlebars",
                                    "PromotionKey": "3"
                                },
                                {
                                    "ProductKey": "399",
                                    "ProductCategoryKey": "2",
                                    "EnglishProductCategoryName": "Components",
                                    "ProductSubcategoryKey": "4",
                                    "EnglishProductSubcategoryName": "Handlebars",
                                    "PromotionKey": "1"
                                },
                                {
                                    "ProductKey": "399",
                                    "ProductCategoryKey": "2",
                                    "EnglishProductCategoryName": "Components",
                                    "ProductSubcategoryKey": "4",
                                    "EnglishProductSubcategoryName": "Handlebars",
                                    "PromotionKey": "2"
                                },
                                {
                                    "ProductKey": "400",
                                    "ProductCategoryKey": "2",
                                    "EnglishProductCategoryName": "Components",
                                    "ProductSubcategoryKey": "4",
                                    "EnglishProductSubcategoryName": "Handlebars",
                                    "PromotionKey": "1"
                                },
                                {
                                    "ProductKey": "400",
                                    "ProductCategoryKey": "2",
                                    "EnglishProductCategoryName": "Components",
                                    "ProductSubcategoryKey": "4",
                                    "EnglishProductSubcategoryName": "Handlebars",
                                    "PromotionKey": "2"
                                },
                                {
                                    "ProductKey": "401",
                                    "ProductCategoryKey": "2",
                                    "EnglishProductCategoryName": "Components",
                                    "ProductSubcategoryKey": "4",
                                    "EnglishProductSubcategoryName": "Handlebars",
                                    "PromotionKey": "1"
                                },
                                {
                                    "ProductKey": "402",
                                    "ProductCategoryKey": "2",
                                    "EnglishProductCategoryName": "Components",
                                    "ProductSubcategoryKey": "4",
                                    "EnglishProductSubcategoryName": "Handlebars",
                                    "PromotionKey": "1"
                                },
                                {
                                    "ProductKey": "403",
                                    "ProductCategoryKey": "2",
                                    "EnglishProductCategoryName": "Components",
                                    "ProductSubcategoryKey": "4",
                                    "EnglishProductSubcategoryName": "Handlebars",
                                    "PromotionKey": "1"
                                },
                                {
                                    "ProductKey": "404",
                                    "ProductCategoryKey": "2",
                                    "EnglishProductCategoryName": "Components",
                                    "ProductSubcategoryKey": "4",
                                    "EnglishProductSubcategoryName": "Handlebars",
                                    "PromotionKey": "1"
                                },
                                {
                                    "ProductKey": "407",
                                    "ProductCategoryKey": "2",
                                    "EnglishProductCategoryName": "Components",
                                    "ProductSubcategoryKey": "4",
                                    "EnglishProductSubcategoryName": "Handlebars",
                                    "PromotionKey": "1"
                                },
                                {
                                    "ProductKey": "408",
                                    "ProductCategoryKey": "2",
                                    "EnglishProductCategoryName": "Components",
                                    "ProductSubcategoryKey": "4",
                                    "EnglishProductSubcategoryName": "Handlebars",
                                    "PromotionKey": "1"
                                },
                                {
                                    "ProductKey": "409",
                                    "ProductCategoryKey": "2",
                                    "EnglishProductCategoryName": "Components",
                                    "ProductSubcategoryKey": "12",
                                    "EnglishProductSubcategoryName": "Mountain Frames",
                                    "PromotionKey": "1"
                                },
                                {
                                    "ProductKey": "410",
                                    "ProductCategoryKey": "2",
                                    "EnglishProductCategoryName": "Components",
                                    "ProductSubcategoryKey": "17",
                                    "EnglishProductSubcategoryName": "Wheels",
                                    "PromotionKey": "1"
                                },
                                {
                                    "ProductKey": "410",
                                    "ProductCategoryKey": "2",
                                    "EnglishProductCategoryName": "Components",
                                    "ProductSubcategoryKey": "17",
                                    "EnglishProductSubcategoryName": "Wheels",
                                    "PromotionKey": "2"
                                },
                                {
                                    "ProductKey": "411",
                                    "ProductCategoryKey": "2",
                                    "EnglishProductCategoryName": "Components",
                                    "ProductSubcategoryKey": "17",
                                    "EnglishProductSubcategoryName": "Wheels",
                                    "PromotionKey": "1"
                                },
                                {
                                    "ProductKey": "412",
                                    "ProductCategoryKey": "2",
                                    "EnglishProductCategoryName": "Components",
                                    "ProductSubcategoryKey": "17",
                                    "EnglishProductSubcategoryName": "Wheels",
                                    "PromotionKey": "1"
                                },
                                {
                                    "ProductKey": "414",
                                    "ProductCategoryKey": "2",
                                    "EnglishProductCategoryName": "Components",
                                    "ProductSubcategoryKey": "17",
                                    "EnglishProductSubcategoryName": "Wheels",
                                    "PromotionKey": "1"
                                },
                                {
                                    "ProductKey": "415",
                                    "ProductCategoryKey": "2",
                                    "EnglishProductCategoryName": "Components",
                                    "ProductSubcategoryKey": "17",
                                    "EnglishProductSubcategoryName": "Wheels",
                                    "PromotionKey": "1"
                                },
                                {
                                    "ProductKey": "417",
                                    "ProductCategoryKey": "2",
                                    "EnglishProductCategoryName": "Components",
                                    "ProductSubcategoryKey": "14",
                                    "EnglishProductSubcategoryName": "Road Frames",
                                    "PromotionKey": "1"
                                },
                                {
                                    "ProductKey": "418",
                                    "ProductCategoryKey": "2",
                                    "EnglishProductCategoryName": "Components",
                                    "ProductSubcategoryKey": "14",
                                    "EnglishProductSubcategoryName": "Road Frames",
                                    "PromotionKey": "1"
                                },
                                {
                                    "ProductKey": "419",
                                    "ProductCategoryKey": "2",
                                    "EnglishProductCategoryName": "Components",
                                    "ProductSubcategoryKey": "17",
                                    "EnglishProductSubcategoryName": "Wheels",
                                    "PromotionKey": "1"
                                },
                                {
                                    "ProductKey": "420",
                                    "ProductCategoryKey": "2",
                                    "EnglishProductCategoryName": "Components",
                                    "ProductSubcategoryKey": "17",
                                    "EnglishProductSubcategoryName": "Wheels",
                                    "PromotionKey": "1"
                                },
                                {
                                    "ProductKey": "420",
                                    "ProductCategoryKey": "2",
                                    "EnglishProductCategoryName": "Components",
                                    "ProductSubcategoryKey": "17",
                                    "EnglishProductSubcategoryName": "Wheels",
                                    "PromotionKey": "2"
                                },
                                {
                                    "ProductKey": "420",
                                    "ProductCategoryKey": "2",
                                    "EnglishProductCategoryName": "Components",
                                    "ProductSubcategoryKey": "17",
                                    "EnglishProductSubcategoryName": "Wheels",
                                    "PromotionKey": "3"
                                },
                                {
                                    "ProductKey": "421",
                                    "ProductCategoryKey": "2",
                                    "EnglishProductCategoryName": "Components",
                                    "ProductSubcategoryKey": "17",
                                    "EnglishProductSubcategoryName": "Wheels",
                                    "PromotionKey": "1"
                                },
                                {
                                    "ProductKey": "421",
                                    "ProductCategoryKey": "2",
                                    "EnglishProductCategoryName": "Components",
                                    "ProductSubcategoryKey": "17",
                                    "EnglishProductSubcategoryName": "Wheels",
                                    "PromotionKey": "2"
                                },
                                {
                                    "ProductKey": "421",
                                    "ProductCategoryKey": "2",
                                    "EnglishProductCategoryName": "Components",
                                    "ProductSubcategoryKey": "17",
                                    "EnglishProductSubcategoryName": "Wheels",
                                    "PromotionKey": "3"
                                },
                                {
                                    "ProductKey": "422",
                                    "ProductCategoryKey": "2",
                                    "EnglishProductCategoryName": "Components",
                                    "ProductSubcategoryKey": "17",
                                    "EnglishProductSubcategoryName": "Wheels",
                                    "PromotionKey": "1"
                                },
                                {
                                    "ProductKey": "423",
                                    "ProductCategoryKey": "2",
                                    "EnglishProductCategoryName": "Components",
                                    "ProductSubcategoryKey": "17",
                                    "EnglishProductSubcategoryName": "Wheels",
                                    "PromotionKey": "1"
                                },
                                {
                                    "ProductKey": "424",
                                    "ProductCategoryKey": "2",
                                    "EnglishProductCategoryName": "Components",
                                    "ProductSubcategoryKey": "17",
                                    "EnglishProductSubcategoryName": "Wheels",
                                    "PromotionKey": "1"
                                },
                                {
                                    "ProductKey": "426",
                                    "ProductCategoryKey": "2",
                                    "EnglishProductCategoryName": "Components",
                                    "ProductSubcategoryKey": "12",
                                    "EnglishProductSubcategoryName": "Mountain Frames",
                                    "PromotionKey": "1"
                                },
                                {
                                    "ProductKey": "427",
                                    "ProductCategoryKey": "2",
                                    "EnglishProductCategoryName": "Components",
                                    "ProductSubcategoryKey": "12",
                                    "EnglishProductSubcategoryName": "Mountain Frames",
                                    "PromotionKey": "1"
                                },
                                {
                                    "ProductKey": "428",
                                    "ProductCategoryKey": "2",
                                    "EnglishProductCategoryName": "Components",
                                    "ProductSubcategoryKey": "12",
                                    "EnglishProductSubcategoryName": "Mountain Frames",
                                    "PromotionKey": "1"
                                },
                                {
                                    "ProductKey": "428",
                                    "ProductCategoryKey": "2",
                                    "EnglishProductCategoryName": "Components",
                                    "ProductSubcategoryKey": "12",
                                    "EnglishProductSubcategoryName": "Mountain Frames",
                                    "PromotionKey": "2"
                                },
                                {
                                    "ProductKey": "429",
                                    "ProductCategoryKey": "2",
                                    "EnglishProductCategoryName": "Components",
                                    "ProductSubcategoryKey": "14",
                                    "EnglishProductSubcategoryName": "Road Frames",
                                    "PromotionKey": "1"
                                },
                                {
                                    "ProductKey": "430",
                                    "ProductCategoryKey": "2",
                                    "EnglishProductCategoryName": "Components",
                                    "ProductSubcategoryKey": "14",
                                    "EnglishProductSubcategoryName": "Road Frames",
                                    "PromotionKey": "1"
                                },
                                {
                                    "ProductKey": "433",
                                    "ProductCategoryKey": "2",
                                    "EnglishProductCategoryName": "Components",
                                    "ProductSubcategoryKey": "14",
                                    "EnglishProductSubcategoryName": "Road Frames",
                                    "PromotionKey": "1"
                                },
                                {
                                    "ProductKey": "433",
                                    "ProductCategoryKey": "2",
                                    "EnglishProductCategoryName": "Components",
                                    "ProductSubcategoryKey": "14",
                                    "EnglishProductSubcategoryName": "Road Frames",
                                    "PromotionKey": "2"
                                },
                                {
                                    "ProductKey": "434",
                                    "ProductCategoryKey": "2",
                                    "EnglishProductCategoryName": "Components",
                                    "ProductSubcategoryKey": "14",
                                    "EnglishProductSubcategoryName": "Road Frames",
                                    "PromotionKey": "1"
                                },
                                {
                                    "ProductKey": "434",
                                    "ProductCategoryKey": "2",
                                    "EnglishProductCategoryName": "Components",
                                    "ProductSubcategoryKey": "14",
                                    "EnglishProductSubcategoryName": "Road Frames",
                                    "PromotionKey": "3"
                                },
                                {
                                    "ProductKey": "435",
                                    "ProductCategoryKey": "2",
                                    "EnglishProductCategoryName": "Components",
                                    "ProductSubcategoryKey": "14",
                                    "EnglishProductSubcategoryName": "Road Frames",
                                    "PromotionKey": "1"
                                },
                                {
                                    "ProductKey": "436",
                                    "ProductCategoryKey": "2",
                                    "EnglishProductCategoryName": "Components",
                                    "ProductSubcategoryKey": "14",
                                    "EnglishProductSubcategoryName": "Road Frames",
                                    "PromotionKey": "1"
                                },
                                {
                                    "ProductKey": "439",
                                    "ProductCategoryKey": "2",
                                    "EnglishProductCategoryName": "Components",
                                    "ProductSubcategoryKey": "14",
                                    "EnglishProductSubcategoryName": "Road Frames",
                                    "PromotionKey": "1"
                                },
                                {
                                    "ProductKey": "440",
                                    "ProductCategoryKey": "2",
                                    "EnglishProductCategoryName": "Components",
                                    "ProductSubcategoryKey": "14",
                                    "EnglishProductSubcategoryName": "Road Frames",
                                    "PromotionKey": "1"
                                },
                                {
                                    "ProductKey": "441",
                                    "ProductCategoryKey": "2",
                                    "EnglishProductCategoryName": "Components",
                                    "ProductSubcategoryKey": "14",
                                    "EnglishProductSubcategoryName": "Road Frames",
                                    "PromotionKey": "1"
                                },
                                {
                                    "ProductKey": "442",
                                    "ProductCategoryKey": "2",
                                    "EnglishProductCategoryName": "Components",
                                    "ProductSubcategoryKey": "14",
                                    "EnglishProductSubcategoryName": "Road Frames",
                                    "PromotionKey": "1"
                                },
                                {
                                    "ProductKey": "445",
                                    "ProductCategoryKey": "3",
                                    "EnglishProductCategoryName": "Clothing",
                                    "ProductSubcategoryKey": "22",
                                    "EnglishProductSubcategoryName": "Shorts",
                                    "PromotionKey": "1"
                                },
                                {
                                    "ProductKey": "445",
                                    "ProductCategoryKey": "3",
                                    "EnglishProductCategoryName": "Clothing",
                                    "ProductSubcategoryKey": "22",
                                    "EnglishProductSubcategoryName": "Shorts",
                                    "PromotionKey": "2"
                                },
                                {
                                    "ProductKey": "447",
                                    "ProductCategoryKey": "4",
                                    "EnglishProductCategoryName": "Accessories",
                                    "ProductSubcategoryKey": "34",
                                    "EnglishProductSubcategoryName": "Locks",
                                    "PromotionKey": "1"
                                },
                                {
                                    "ProductKey": "447",
                                    "ProductCategoryKey": "4",
                                    "EnglishProductCategoryName": "Accessories",
                                    "ProductSubcategoryKey": "34",
                                    "EnglishProductSubcategoryName": "Locks",
                                    "PromotionKey": "2"
                                },
                                {
                                    "ProductKey": "448",
                                    "ProductCategoryKey": "4",
                                    "EnglishProductCategoryName": "Accessories",
                                    "ProductSubcategoryKey": "36",
                                    "EnglishProductSubcategoryName": "Pumps",
                                    "PromotionKey": "1"
                                },
                                {
                                    "ProductKey": "448",
                                    "ProductCategoryKey": "4",
                                    "EnglishProductCategoryName": "Accessories",
                                    "ProductSubcategoryKey": "36",
                                    "EnglishProductSubcategoryName": "Pumps",
                                    "PromotionKey": "2"
                                },
                                {
                                    "ProductKey": "453",
                                    "ProductCategoryKey": "3",
                                    "EnglishProductCategoryName": "Clothing",
                                    "ProductSubcategoryKey": "22",
                                    "EnglishProductSubcategoryName": "Shorts",
                                    "PromotionKey": "1"
                                },
                                {
                                    "ProductKey": "453",
                                    "ProductCategoryKey": "3",
                                    "EnglishProductCategoryName": "Clothing",
                                    "ProductSubcategoryKey": "22",
                                    "EnglishProductSubcategoryName": "Shorts",
                                    "PromotionKey": "2"
                                },
                                {
                                    "ProductKey": "453",
                                    "ProductCategoryKey": "3",
                                    "EnglishProductCategoryName": "Clothing",
                                    "ProductSubcategoryKey": "22",
                                    "EnglishProductSubcategoryName": "Shorts",
                                    "PromotionKey": "3"
                                },
                                {
                                    "ProductKey": "454",
                                    "ProductCategoryKey": "3",
                                    "EnglishProductCategoryName": "Clothing",
                                    "ProductSubcategoryKey": "22",
                                    "EnglishProductSubcategoryName": "Shorts",
                                    "PromotionKey": "1"
                                },
                                {
                                    "ProductKey": "456",
                                    "ProductCategoryKey": "3",
                                    "EnglishProductCategoryName": "Clothing",
                                    "ProductSubcategoryKey": "24",
                                    "EnglishProductSubcategoryName": "Tights",
                                    "PromotionKey": "1"
                                },
                                {
                                    "ProductKey": "456",
                                    "ProductCategoryKey": "3",
                                    "EnglishProductCategoryName": "Clothing",
                                    "ProductSubcategoryKey": "24",
                                    "EnglishProductSubcategoryName": "Tights",
                                    "PromotionKey": "2"
                                },
                                {
                                    "ProductKey": "456",
                                    "ProductCategoryKey": "3",
                                    "EnglishProductCategoryName": "Clothing",
                                    "ProductSubcategoryKey": "24",
                                    "EnglishProductSubcategoryName": "Tights",
                                    "PromotionKey": "3"
                                },
                                {
                                    "ProductKey": "456",
                                    "ProductCategoryKey": "3",
                                    "EnglishProductCategoryName": "Clothing",
                                    "ProductSubcategoryKey": "24",
                                    "EnglishProductSubcategoryName": "Tights",
                                    "PromotionKey": "4"
                                },
                                {
                                    "ProductKey": "457",
                                    "ProductCategoryKey": "3",
                                    "EnglishProductCategoryName": "Clothing",
                                    "ProductSubcategoryKey": "24",
                                    "EnglishProductSubcategoryName": "Tights",
                                    "PromotionKey": "1"
                                },
                                {
                                    "ProductKey": "458",
                                    "ProductCategoryKey": "3",
                                    "EnglishProductCategoryName": "Clothing",
                                    "ProductSubcategoryKey": "24",
                                    "EnglishProductSubcategoryName": "Tights",
                                    "PromotionKey": "1"
                                },
                                {
                                    "ProductKey": "458",
                                    "ProductCategoryKey": "3",
                                    "EnglishProductCategoryName": "Clothing",
                                    "ProductSubcategoryKey": "24",
                                    "EnglishProductSubcategoryName": "Tights",
                                    "PromotionKey": "2"
                                },
                                {
                                    "ProductKey": "458",
                                    "ProductCategoryKey": "3",
                                    "EnglishProductCategoryName": "Clothing",
                                    "ProductSubcategoryKey": "24",
                                    "EnglishProductSubcategoryName": "Tights",
                                    "PromotionKey": "3"
                                },
                                {
                                    "ProductKey": "459",
                                    "ProductCategoryKey": "3",
                                    "EnglishProductCategoryName": "Clothing",
                                    "ProductSubcategoryKey": "18",
                                    "EnglishProductSubcategoryName": "Bib-Shorts",
                                    "PromotionKey": "1"
                                },
                                {
                                    "ProductKey": "459",
                                    "ProductCategoryKey": "3",
                                    "EnglishProductCategoryName": "Clothing",
                                    "ProductSubcategoryKey": "18",
                                    "EnglishProductSubcategoryName": "Bib-Shorts",
                                    "PromotionKey": "2"
                                },
                                {
                                    "ProductKey": "460",
                                    "ProductCategoryKey": "3",
                                    "EnglishProductCategoryName": "Clothing",
                                    "ProductSubcategoryKey": "18",
                                    "EnglishProductSubcategoryName": "Bib-Shorts",
                                    "PromotionKey": "1"
                                },
                                {
                                    "ProductKey": "460",
                                    "ProductCategoryKey": "3",
                                    "EnglishProductCategoryName": "Clothing",
                                    "ProductSubcategoryKey": "18",
                                    "EnglishProductSubcategoryName": "Bib-Shorts",
                                    "PromotionKey": "2"
                                },
                                {
                                    "ProductKey": "460",
                                    "ProductCategoryKey": "3",
                                    "EnglishProductCategoryName": "Clothing",
                                    "ProductSubcategoryKey": "18",
                                    "EnglishProductSubcategoryName": "Bib-Shorts",
                                    "PromotionKey": "3"
                                },
                                {
                                    "ProductKey": "461",
                                    "ProductCategoryKey": "3",
                                    "EnglishProductCategoryName": "Clothing",
                                    "ProductSubcategoryKey": "18",
                                    "EnglishProductSubcategoryName": "Bib-Shorts",
                                    "PromotionKey": "1"
                                },
                                {
                                    "ProductKey": "462",
                                    "ProductCategoryKey": "3",
                                    "EnglishProductCategoryName": "Clothing",
                                    "ProductSubcategoryKey": "20",
                                    "EnglishProductSubcategoryName": "Gloves",
                                    "PromotionKey": "1"
                                },
                                {
                                    "ProductKey": "462",
                                    "ProductCategoryKey": "3",
                                    "EnglishProductCategoryName": "Clothing",
                                    "ProductSubcategoryKey": "20",
                                    "EnglishProductSubcategoryName": "Gloves",
                                    "PromotionKey": "2"
                                },
                                {
                                    "ProductKey": "463",
                                    "ProductCategoryKey": "3",
                                    "EnglishProductCategoryName": "Clothing",
                                    "ProductSubcategoryKey": "20",
                                    "EnglishProductSubcategoryName": "Gloves",
                                    "PromotionKey": "1"
                                },
                                {
                                    "ProductKey": "463",
                                    "ProductCategoryKey": "3",
                                    "EnglishProductCategoryName": "Clothing",
                                    "ProductSubcategoryKey": "20",
                                    "EnglishProductSubcategoryName": "Gloves",
                                    "PromotionKey": "2"
                                },
                                {
                                    "ProductKey": "463",
                                    "ProductCategoryKey": "3",
                                    "EnglishProductCategoryName": "Clothing",
                                    "ProductSubcategoryKey": "20",
                                    "EnglishProductSubcategoryName": "Gloves",
                                    "PromotionKey": "3"
                                },
                                {
                                    "ProductKey": "464",
                                    "ProductCategoryKey": "3",
                                    "EnglishProductCategoryName": "Clothing",
                                    "ProductSubcategoryKey": "20",
                                    "EnglishProductSubcategoryName": "Gloves",
                                    "PromotionKey": "1"
                                },
                                {
                                    "ProductKey": "464",
                                    "ProductCategoryKey": "3",
                                    "EnglishProductCategoryName": "Clothing",
                                    "ProductSubcategoryKey": "20",
                                    "EnglishProductSubcategoryName": "Gloves",
                                    "PromotionKey": "2"
                                },
                                {
                                    "ProductKey": "464",
                                    "ProductCategoryKey": "3",
                                    "EnglishProductCategoryName": "Clothing",
                                    "ProductSubcategoryKey": "20",
                                    "EnglishProductSubcategoryName": "Gloves",
                                    "PromotionKey": "3"
                                },
                                {
                                    "ProductKey": "465",
                                    "ProductCategoryKey": "3",
                                    "EnglishProductCategoryName": "Clothing",
                                    "ProductSubcategoryKey": "20",
                                    "EnglishProductSubcategoryName": "Gloves",
                                    "PromotionKey": "1"
                                },
                                {
                                    "ProductKey": "465",
                                    "ProductCategoryKey": "3",
                                    "EnglishProductCategoryName": "Clothing",
                                    "ProductSubcategoryKey": "20",
                                    "EnglishProductSubcategoryName": "Gloves",
                                    "PromotionKey": "2"
                                },
                                {
                                    "ProductKey": "465",
                                    "ProductCategoryKey": "3",
                                    "EnglishProductCategoryName": "Clothing",
                                    "ProductSubcategoryKey": "20",
                                    "EnglishProductSubcategoryName": "Gloves",
                                    "PromotionKey": "3"
                                },
                                {
                                    "ProductKey": "466",
                                    "ProductCategoryKey": "3",
                                    "EnglishProductCategoryName": "Clothing",
                                    "ProductSubcategoryKey": "20",
                                    "EnglishProductSubcategoryName": "Gloves",
                                    "PromotionKey": "1"
                                },
                                {
                                    "ProductKey": "467",
                                    "ProductCategoryKey": "3",
                                    "EnglishProductCategoryName": "Clothing",
                                    "ProductSubcategoryKey": "20",
                                    "EnglishProductSubcategoryName": "Gloves",
                                    "PromotionKey": "1"
                                },
                                {
                                    "ProductKey": "467",
                                    "ProductCategoryKey": "3",
                                    "EnglishProductCategoryName": "Clothing",
                                    "ProductSubcategoryKey": "20",
                                    "EnglishProductSubcategoryName": "Gloves",
                                    "PromotionKey": "2"
                                },
                                {
                                    "ProductKey": "468",
                                    "ProductCategoryKey": "3",
                                    "EnglishProductCategoryName": "Clothing",
                                    "ProductSubcategoryKey": "20",
                                    "EnglishProductSubcategoryName": "Gloves",
                                    "PromotionKey": "1"
                                },
                                {
                                    "ProductKey": "469",
                                    "ProductCategoryKey": "3",
                                    "EnglishProductCategoryName": "Clothing",
                                    "ProductSubcategoryKey": "20",
                                    "EnglishProductSubcategoryName": "Gloves",
                                    "PromotionKey": "1"
                                },
                                {
                                    "ProductKey": "469",
                                    "ProductCategoryKey": "3",
                                    "EnglishProductCategoryName": "Clothing",
                                    "ProductSubcategoryKey": "20",
                                    "EnglishProductSubcategoryName": "Gloves",
                                    "PromotionKey": "2"
                                },
                                {
                                    "ProductKey": "469",
                                    "ProductCategoryKey": "3",
                                    "EnglishProductCategoryName": "Clothing",
                                    "ProductSubcategoryKey": "20",
                                    "EnglishProductSubcategoryName": "Gloves",
                                    "PromotionKey": "3"
                                },
                                {
                                    "ProductKey": "469",
                                    "ProductCategoryKey": "3",
                                    "EnglishProductCategoryName": "Clothing",
                                    "ProductSubcategoryKey": "20",
                                    "EnglishProductSubcategoryName": "Gloves",
                                    "PromotionKey": "4"
                                },
                                {
                                    "ProductKey": "470",
                                    "ProductCategoryKey": "3",
                                    "EnglishProductCategoryName": "Clothing",
                                    "ProductSubcategoryKey": "20",
                                    "EnglishProductSubcategoryName": "Gloves",
                                    "PromotionKey": "1"
                                },
                                {
                                    "ProductKey": "470",
                                    "ProductCategoryKey": "3",
                                    "EnglishProductCategoryName": "Clothing",
                                    "ProductSubcategoryKey": "20",
                                    "EnglishProductSubcategoryName": "Gloves",
                                    "PromotionKey": "2"
                                },
                                {
                                    "ProductKey": "470",
                                    "ProductCategoryKey": "3",
                                    "EnglishProductCategoryName": "Clothing",
                                    "ProductSubcategoryKey": "20",
                                    "EnglishProductSubcategoryName": "Gloves",
                                    "PromotionKey": "3"
                                },
                                {
                                    "ProductKey": "470",
                                    "ProductCategoryKey": "3",
                                    "EnglishProductCategoryName": "Clothing",
                                    "ProductSubcategoryKey": "20",
                                    "EnglishProductSubcategoryName": "Gloves",
                                    "PromotionKey": "4"
                                },
                                {
                                    "ProductKey": "470",
                                    "ProductCategoryKey": "3",
                                    "EnglishProductCategoryName": "Clothing",
                                    "ProductSubcategoryKey": "20",
                                    "EnglishProductSubcategoryName": "Gloves",
                                    "PromotionKey": "5"
                                },
                                {
                                    "ProductKey": "471",
                                    "ProductCategoryKey": "3",
                                    "EnglishProductCategoryName": "Clothing",
                                    "ProductSubcategoryKey": "25",
                                    "EnglishProductSubcategoryName": "Vests",
                                    "PromotionKey": "1"
                                },
                                {
                                    "ProductKey": "471",
                                    "ProductCategoryKey": "3",
                                    "EnglishProductCategoryName": "Clothing",
                                    "ProductSubcategoryKey": "25",
                                    "EnglishProductSubcategoryName": "Vests",
                                    "PromotionKey": "2"
                                },
                                {
                                    "ProductKey": "471",
                                    "ProductCategoryKey": "3",
                                    "EnglishProductCategoryName": "Clothing",
                                    "ProductSubcategoryKey": "25",
                                    "EnglishProductSubcategoryName": "Vests",
                                    "PromotionKey": "3"
                                },
                                {
                                    "ProductKey": "471",
                                    "ProductCategoryKey": "3",
                                    "EnglishProductCategoryName": "Clothing",
                                    "ProductSubcategoryKey": "25",
                                    "EnglishProductSubcategoryName": "Vests",
                                    "PromotionKey": "4"
                                },
                                {
                                    "ProductKey": "472",
                                    "ProductCategoryKey": "3",
                                    "EnglishProductCategoryName": "Clothing",
                                    "ProductSubcategoryKey": "25",
                                    "EnglishProductSubcategoryName": "Vests",
                                    "PromotionKey": "1"
                                },
                                {
                                    "ProductKey": "472",
                                    "ProductCategoryKey": "3",
                                    "EnglishProductCategoryName": "Clothing",
                                    "ProductSubcategoryKey": "25",
                                    "EnglishProductSubcategoryName": "Vests",
                                    "PromotionKey": "2"
                                },
                                {
                                    "ProductKey": "472",
                                    "ProductCategoryKey": "3",
                                    "EnglishProductCategoryName": "Clothing",
                                    "ProductSubcategoryKey": "25",
                                    "EnglishProductSubcategoryName": "Vests",
                                    "PromotionKey": "3"
                                },
                                {
                                    "ProductKey": "473",
                                    "ProductCategoryKey": "3",
                                    "EnglishProductCategoryName": "Clothing",
                                    "ProductSubcategoryKey": "25",
                                    "EnglishProductSubcategoryName": "Vests",
                                    "PromotionKey": "1"
                                },
                                {
                                    "ProductKey": "474",
                                    "ProductCategoryKey": "3",
                                    "EnglishProductCategoryName": "Clothing",
                                    "ProductSubcategoryKey": "22",
                                    "EnglishProductSubcategoryName": "Shorts",
                                    "PromotionKey": "1"
                                },
                                {
                                    "ProductKey": "474",
                                    "ProductCategoryKey": "3",
                                    "EnglishProductCategoryName": "Clothing",
                                    "ProductSubcategoryKey": "22",
                                    "EnglishProductSubcategoryName": "Shorts",
                                    "PromotionKey": "2"
                                },
                                {
                                    "ProductKey": "474",
                                    "ProductCategoryKey": "3",
                                    "EnglishProductCategoryName": "Clothing",
                                    "ProductSubcategoryKey": "22",
                                    "EnglishProductSubcategoryName": "Shorts",
                                    "PromotionKey": "3"
                                },
                                {
                                    "ProductKey": "474",
                                    "ProductCategoryKey": "3",
                                    "EnglishProductCategoryName": "Clothing",
                                    "ProductSubcategoryKey": "22",
                                    "EnglishProductSubcategoryName": "Shorts",
                                    "PromotionKey": "4"
                                },
                                {
                                    "ProductKey": "475",
                                    "ProductCategoryKey": "3",
                                    "EnglishProductCategoryName": "Clothing",
                                    "ProductSubcategoryKey": "22",
                                    "EnglishProductSubcategoryName": "Shorts",
                                    "PromotionKey": "1"
                                },
                                {
                                    "ProductKey": "476",
                                    "ProductCategoryKey": "3",
                                    "EnglishProductCategoryName": "Clothing",
                                    "ProductSubcategoryKey": "22",
                                    "EnglishProductSubcategoryName": "Shorts",
                                    "PromotionKey": "1"
                                },
                                {
                                    "ProductKey": "476",
                                    "ProductCategoryKey": "3",
                                    "EnglishProductCategoryName": "Clothing",
                                    "ProductSubcategoryKey": "22",
                                    "EnglishProductSubcategoryName": "Shorts",
                                    "PromotionKey": "2"
                                },
                                {
                                    "ProductKey": "476",
                                    "ProductCategoryKey": "3",
                                    "EnglishProductCategoryName": "Clothing",
                                    "ProductSubcategoryKey": "22",
                                    "EnglishProductSubcategoryName": "Shorts",
                                    "PromotionKey": "3"
                                },
                                {
                                    "ProductKey": "476",
                                    "ProductCategoryKey": "3",
                                    "EnglishProductCategoryName": "Clothing",
                                    "ProductSubcategoryKey": "22",
                                    "EnglishProductSubcategoryName": "Shorts",
                                    "PromotionKey": "4"
                                },
                                {
                                    "ProductKey": "476",
                                    "ProductCategoryKey": "3",
                                    "EnglishProductCategoryName": "Clothing",
                                    "ProductSubcategoryKey": "22",
                                    "EnglishProductSubcategoryName": "Shorts",
                                    "PromotionKey": "5"
                                },
                                {
                                    "ProductKey": "477",
                                    "ProductCategoryKey": "4",
                                    "EnglishProductCategoryName": "Accessories",
                                    "ProductSubcategoryKey": "28",
                                    "EnglishProductSubcategoryName": "Bottles and Cages",
                                    "PromotionKey": "1"
                                },
                                {
                                    "ProductKey": "477",
                                    "ProductCategoryKey": "4",
                                    "EnglishProductCategoryName": "Accessories",
                                    "ProductSubcategoryKey": "28",
                                    "EnglishProductSubcategoryName": "Bottles and Cages",
                                    "PromotionKey": "2"
                                },
                                {
                                    "ProductKey": "477",
                                    "ProductCategoryKey": "4",
                                    "EnglishProductCategoryName": "Accessories",
                                    "ProductSubcategoryKey": "28",
                                    "EnglishProductSubcategoryName": "Bottles and Cages",
                                    "PromotionKey": "3"
                                },
                                {
                                    "ProductKey": "477",
                                    "ProductCategoryKey": "4",
                                    "EnglishProductCategoryName": "Accessories",
                                    "ProductSubcategoryKey": "28",
                                    "EnglishProductSubcategoryName": "Bottles and Cages",
                                    "PromotionKey": "4"
                                },
                                {
                                    "ProductKey": "480",
                                    "ProductCategoryKey": "4",
                                    "EnglishProductCategoryName": "Accessories",
                                    "ProductSubcategoryKey": "37",
                                    "EnglishProductSubcategoryName": "Tires and Tubes",
                                    "PromotionKey": "1"
                                },
                                {
                                    "ProductKey": "480",
                                    "ProductCategoryKey": "4",
                                    "EnglishProductCategoryName": "Accessories",
                                    "ProductSubcategoryKey": "37",
                                    "EnglishProductSubcategoryName": "Tires and Tubes",
                                    "PromotionKey": "2"
                                },
                                {
                                    "ProductKey": "481",
                                    "ProductCategoryKey": "3",
                                    "EnglishProductCategoryName": "Clothing",
                                    "ProductSubcategoryKey": "23",
                                    "EnglishProductSubcategoryName": "Socks",
                                    "PromotionKey": "1"
                                },
                                {
                                    "ProductKey": "481",
                                    "ProductCategoryKey": "3",
                                    "EnglishProductCategoryName": "Clothing",
                                    "ProductSubcategoryKey": "23",
                                    "EnglishProductSubcategoryName": "Socks",
                                    "PromotionKey": "2"
                                },
                                {
                                    "ProductKey": "482",
                                    "ProductCategoryKey": "3",
                                    "EnglishProductCategoryName": "Clothing",
                                    "ProductSubcategoryKey": "23",
                                    "EnglishProductSubcategoryName": "Socks",
                                    "PromotionKey": "1"
                                },
                                {
                                    "ProductKey": "482",
                                    "ProductCategoryKey": "3",
                                    "EnglishProductCategoryName": "Clothing",
                                    "ProductSubcategoryKey": "23",
                                    "EnglishProductSubcategoryName": "Socks",
                                    "PromotionKey": "2"
                                },
                                {
                                    "ProductKey": "482",
                                    "ProductCategoryKey": "3",
                                    "EnglishProductCategoryName": "Clothing",
                                    "ProductSubcategoryKey": "23",
                                    "EnglishProductSubcategoryName": "Socks",
                                    "PromotionKey": "3"
                                },
                                {
                                    "ProductKey": "482",
                                    "ProductCategoryKey": "3",
                                    "EnglishProductCategoryName": "Clothing",
                                    "ProductSubcategoryKey": "23",
                                    "EnglishProductSubcategoryName": "Socks",
                                    "PromotionKey": "4"
                                },
                                {
                                    "ProductKey": "483",
                                    "ProductCategoryKey": "4",
                                    "EnglishProductCategoryName": "Accessories",
                                    "ProductSubcategoryKey": "26",
                                    "EnglishProductSubcategoryName": "Bike Racks",
                                    "PromotionKey": "1"
                                },
                                {
                                    "ProductKey": "483",
                                    "ProductCategoryKey": "4",
                                    "EnglishProductCategoryName": "Accessories",
                                    "ProductSubcategoryKey": "26",
                                    "EnglishProductSubcategoryName": "Bike Racks",
                                    "PromotionKey": "2"
                                },
                                {
                                    "ProductKey": "483",
                                    "ProductCategoryKey": "4",
                                    "EnglishProductCategoryName": "Accessories",
                                    "ProductSubcategoryKey": "26",
                                    "EnglishProductSubcategoryName": "Bike Racks",
                                    "PromotionKey": "3"
                                },
                                {
                                    "ProductKey": "483",
                                    "ProductCategoryKey": "4",
                                    "EnglishProductCategoryName": "Accessories",
                                    "ProductSubcategoryKey": "26",
                                    "EnglishProductSubcategoryName": "Bike Racks",
                                    "PromotionKey": "4"
                                },
                                {
                                    "ProductKey": "484",
                                    "ProductCategoryKey": "4",
                                    "EnglishProductCategoryName": "Accessories",
                                    "ProductSubcategoryKey": "29",
                                    "EnglishProductSubcategoryName": "Cleaners",
                                    "PromotionKey": "1"
                                },
                                {
                                    "ProductKey": "484",
                                    "ProductCategoryKey": "4",
                                    "EnglishProductCategoryName": "Accessories",
                                    "ProductSubcategoryKey": "29",
                                    "EnglishProductSubcategoryName": "Cleaners",
                                    "PromotionKey": "2"
                                },
                                {
                                    "ProductKey": "484",
                                    "ProductCategoryKey": "4",
                                    "EnglishProductCategoryName": "Accessories",
                                    "ProductSubcategoryKey": "29",
                                    "EnglishProductSubcategoryName": "Cleaners",
                                    "PromotionKey": "3"
                                },
                                {
                                    "ProductKey": "484",
                                    "ProductCategoryKey": "4",
                                    "EnglishProductCategoryName": "Accessories",
                                    "ProductSubcategoryKey": "29",
                                    "EnglishProductSubcategoryName": "Cleaners",
                                    "PromotionKey": "4"
                                },
                                {
                                    "ProductKey": "487",
                                    "ProductCategoryKey": "4",
                                    "EnglishProductCategoryName": "Accessories",
                                    "ProductSubcategoryKey": "32",
                                    "EnglishProductSubcategoryName": "Hydration Packs",
                                    "PromotionKey": "1"
                                },
                                {
                                    "ProductKey": "487",
                                    "ProductCategoryKey": "4",
                                    "EnglishProductCategoryName": "Accessories",
                                    "ProductSubcategoryKey": "32",
                                    "EnglishProductSubcategoryName": "Hydration Packs",
                                    "PromotionKey": "2"
                                },
                                {
                                    "ProductKey": "487",
                                    "ProductCategoryKey": "4",
                                    "EnglishProductCategoryName": "Accessories",
                                    "ProductSubcategoryKey": "32",
                                    "EnglishProductSubcategoryName": "Hydration Packs",
                                    "PromotionKey": "3"
                                },
                                {
                                    "ProductKey": "488",
                                    "ProductCategoryKey": "3",
                                    "EnglishProductCategoryName": "Clothing",
                                    "ProductSubcategoryKey": "21",
                                    "EnglishProductSubcategoryName": "Jerseys",
                                    "PromotionKey": "1"
                                },
                                {
                                    "ProductKey": "488",
                                    "ProductCategoryKey": "3",
                                    "EnglishProductCategoryName": "Clothing",
                                    "ProductSubcategoryKey": "21",
                                    "EnglishProductSubcategoryName": "Jerseys",
                                    "PromotionKey": "2"
                                },
                                {
                                    "ProductKey": "488",
                                    "ProductCategoryKey": "3",
                                    "EnglishProductCategoryName": "Clothing",
                                    "ProductSubcategoryKey": "21",
                                    "EnglishProductSubcategoryName": "Jerseys",
                                    "PromotionKey": "3"
                                },
                                {
                                    "ProductKey": "490",
                                    "ProductCategoryKey": "3",
                                    "EnglishProductCategoryName": "Clothing",
                                    "ProductSubcategoryKey": "21",
                                    "EnglishProductSubcategoryName": "Jerseys",
                                    "PromotionKey": "1"
                                },
                                {
                                    "ProductKey": "490",
                                    "ProductCategoryKey": "3",
                                    "EnglishProductCategoryName": "Clothing",
                                    "ProductSubcategoryKey": "21",
                                    "EnglishProductSubcategoryName": "Jerseys",
                                    "PromotionKey": "2"
                                },
                                {
                                    "ProductKey": "490",
                                    "ProductCategoryKey": "3",
                                    "EnglishProductCategoryName": "Clothing",
                                    "ProductSubcategoryKey": "21",
                                    "EnglishProductSubcategoryName": "Jerseys",
                                    "PromotionKey": "3"
                                },
                                {
                                    "ProductKey": "491",
                                    "ProductCategoryKey": "3",
                                    "EnglishProductCategoryName": "Clothing",
                                    "ProductSubcategoryKey": "21",
                                    "EnglishProductSubcategoryName": "Jerseys",
                                    "PromotionKey": "1"
                                },
                                {
                                    "ProductKey": "491",
                                    "ProductCategoryKey": "3",
                                    "EnglishProductCategoryName": "Clothing",
                                    "ProductSubcategoryKey": "21",
                                    "EnglishProductSubcategoryName": "Jerseys",
                                    "PromotionKey": "2"
                                },
                                {
                                    "ProductKey": "491",
                                    "ProductCategoryKey": "3",
                                    "EnglishProductCategoryName": "Clothing",
                                    "ProductSubcategoryKey": "21",
                                    "EnglishProductSubcategoryName": "Jerseys",
                                    "PromotionKey": "3"
                                },
                                {
                                    "ProductKey": "491",
                                    "ProductCategoryKey": "3",
                                    "EnglishProductCategoryName": "Clothing",
                                    "ProductSubcategoryKey": "21",
                                    "EnglishProductSubcategoryName": "Jerseys",
                                    "PromotionKey": "4"
                                },
                                {
                                    "ProductKey": "492",
                                    "ProductCategoryKey": "2",
                                    "EnglishProductCategoryName": "Components",
                                    "ProductSubcategoryKey": "16",
                                    "EnglishProductSubcategoryName": "Touring Frames",
                                    "PromotionKey": "1"
                                },
                                {
                                    "ProductKey": "492",
                                    "ProductCategoryKey": "2",
                                    "EnglishProductCategoryName": "Components",
                                    "ProductSubcategoryKey": "16",
                                    "EnglishProductSubcategoryName": "Touring Frames",
                                    "PromotionKey": "2"
                                },
                                {
                                    "ProductKey": "493",
                                    "ProductCategoryKey": "2",
                                    "EnglishProductCategoryName": "Components",
                                    "ProductSubcategoryKey": "16",
                                    "EnglishProductSubcategoryName": "Touring Frames",
                                    "PromotionKey": "1"
                                },
                                {
                                    "ProductKey": "493",
                                    "ProductCategoryKey": "2",
                                    "EnglishProductCategoryName": "Components",
                                    "ProductSubcategoryKey": "16",
                                    "EnglishProductSubcategoryName": "Touring Frames",
                                    "PromotionKey": "3"
                                },
                                {
                                    "ProductKey": "494",
                                    "ProductCategoryKey": "2",
                                    "EnglishProductCategoryName": "Components",
                                    "ProductSubcategoryKey": "16",
                                    "EnglishProductSubcategoryName": "Touring Frames",
                                    "PromotionKey": "1"
                                },
                                {
                                    "ProductKey": "495",
                                    "ProductCategoryKey": "2",
                                    "EnglishProductCategoryName": "Components",
                                    "ProductSubcategoryKey": "16",
                                    "EnglishProductSubcategoryName": "Touring Frames",
                                    "PromotionKey": "1"
                                },
                                {
                                    "ProductKey": "496",
                                    "ProductCategoryKey": "2",
                                    "EnglishProductCategoryName": "Components",
                                    "ProductSubcategoryKey": "16",
                                    "EnglishProductSubcategoryName": "Touring Frames",
                                    "PromotionKey": "1"
                                },
                                {
                                    "ProductKey": "496",
                                    "ProductCategoryKey": "2",
                                    "EnglishProductCategoryName": "Components",
                                    "ProductSubcategoryKey": "16",
                                    "EnglishProductSubcategoryName": "Touring Frames",
                                    "PromotionKey": "2"
                                },
                                {
                                    "ProductKey": "497",
                                    "ProductCategoryKey": "2",
                                    "EnglishProductCategoryName": "Components",
                                    "ProductSubcategoryKey": "16",
                                    "EnglishProductSubcategoryName": "Touring Frames",
                                    "PromotionKey": "1"
                                },
                                {
                                    "ProductKey": "498",
                                    "ProductCategoryKey": "2",
                                    "EnglishProductCategoryName": "Components",
                                    "ProductSubcategoryKey": "16",
                                    "EnglishProductSubcategoryName": "Touring Frames",
                                    "PromotionKey": "1"
                                },
                                {
                                    "ProductKey": "499",
                                    "ProductCategoryKey": "2",
                                    "EnglishProductCategoryName": "Components",
                                    "ProductSubcategoryKey": "16",
                                    "EnglishProductSubcategoryName": "Touring Frames",
                                    "PromotionKey": "1"
                                },
                                {
                                    "ProductKey": "499",
                                    "ProductCategoryKey": "2",
                                    "EnglishProductCategoryName": "Components",
                                    "ProductSubcategoryKey": "16",
                                    "EnglishProductSubcategoryName": "Touring Frames",
                                    "PromotionKey": "2"
                                },
                                {
                                    "ProductKey": "499",
                                    "ProductCategoryKey": "2",
                                    "EnglishProductCategoryName": "Components",
                                    "ProductSubcategoryKey": "16",
                                    "EnglishProductSubcategoryName": "Touring Frames",
                                    "PromotionKey": "3"
                                },
                                {
                                    "ProductKey": "500",
                                    "ProductCategoryKey": "2",
                                    "EnglishProductCategoryName": "Components",
                                    "ProductSubcategoryKey": "16",
                                    "EnglishProductSubcategoryName": "Touring Frames",
                                    "PromotionKey": "1"
                                },
                                {
                                    "ProductKey": "500",
                                    "ProductCategoryKey": "2",
                                    "EnglishProductCategoryName": "Components",
                                    "ProductSubcategoryKey": "16",
                                    "EnglishProductSubcategoryName": "Touring Frames",
                                    "PromotionKey": "2"
                                },
                                {
                                    "ProductKey": "500",
                                    "ProductCategoryKey": "2",
                                    "EnglishProductCategoryName": "Components",
                                    "ProductSubcategoryKey": "16",
                                    "EnglishProductSubcategoryName": "Touring Frames",
                                    "PromotionKey": "3"
                                },
                                {
                                    "ProductKey": "501",
                                    "ProductCategoryKey": "2",
                                    "EnglishProductCategoryName": "Components",
                                    "ProductSubcategoryKey": "9",
                                    "EnglishProductSubcategoryName": "Derailleurs",
                                    "PromotionKey": "1"
                                },
                                {
                                    "ProductKey": "502",
                                    "ProductCategoryKey": "2",
                                    "EnglishProductCategoryName": "Components",
                                    "ProductSubcategoryKey": "16",
                                    "EnglishProductSubcategoryName": "Touring Frames",
                                    "PromotionKey": "1"
                                },
                                {
                                    "ProductKey": "503",
                                    "ProductCategoryKey": "2",
                                    "EnglishProductCategoryName": "Components",
                                    "ProductSubcategoryKey": "16",
                                    "EnglishProductSubcategoryName": "Touring Frames",
                                    "PromotionKey": "1"
                                },
                                {
                                    "ProductKey": "504",
                                    "ProductCategoryKey": "2",
                                    "EnglishProductCategoryName": "Components",
                                    "ProductSubcategoryKey": "16",
                                    "EnglishProductSubcategoryName": "Touring Frames",
                                    "PromotionKey": "1"
                                },
                                {
                                    "ProductKey": "505",
                                    "ProductCategoryKey": "2",
                                    "EnglishProductCategoryName": "Components",
                                    "ProductSubcategoryKey": "16",
                                    "EnglishProductSubcategoryName": "Touring Frames",
                                    "PromotionKey": "1"
                                },
                                {
                                    "ProductKey": "506",
                                    "ProductCategoryKey": "2",
                                    "EnglishProductCategoryName": "Components",
                                    "ProductSubcategoryKey": "16",
                                    "EnglishProductSubcategoryName": "Touring Frames",
                                    "PromotionKey": "1"
                                },
                                {
                                    "ProductKey": "506",
                                    "ProductCategoryKey": "2",
                                    "EnglishProductCategoryName": "Components",
                                    "ProductSubcategoryKey": "16",
                                    "EnglishProductSubcategoryName": "Touring Frames",
                                    "PromotionKey": "2"
                                },
                                {
                                    "ProductKey": "507",
                                    "ProductCategoryKey": "2",
                                    "EnglishProductCategoryName": "Components",
                                    "ProductSubcategoryKey": "16",
                                    "EnglishProductSubcategoryName": "Touring Frames",
                                    "PromotionKey": "1"
                                },
                                {
                                    "ProductKey": "509",
                                    "ProductCategoryKey": "2",
                                    "EnglishProductCategoryName": "Components",
                                    "ProductSubcategoryKey": "16",
                                    "EnglishProductSubcategoryName": "Touring Frames",
                                    "PromotionKey": "1"
                                },
                                {
                                    "ProductKey": "510",
                                    "ProductCategoryKey": "2",
                                    "EnglishProductCategoryName": "Components",
                                    "ProductSubcategoryKey": "16",
                                    "EnglishProductSubcategoryName": "Touring Frames",
                                    "PromotionKey": "1"
                                },
                                {
                                    "ProductKey": "511",
                                    "ProductCategoryKey": "2",
                                    "EnglishProductCategoryName": "Components",
                                    "ProductSubcategoryKey": "12",
                                    "EnglishProductSubcategoryName": "Mountain Frames",
                                    "PromotionKey": "1"
                                },
                                {
                                    "ProductKey": "511",
                                    "ProductCategoryKey": "2",
                                    "EnglishProductCategoryName": "Components",
                                    "ProductSubcategoryKey": "12",
                                    "EnglishProductSubcategoryName": "Mountain Frames",
                                    "PromotionKey": "2"
                                },
                                {
                                    "ProductKey": "512",
                                    "ProductCategoryKey": "2",
                                    "EnglishProductCategoryName": "Components",
                                    "ProductSubcategoryKey": "12",
                                    "EnglishProductSubcategoryName": "Mountain Frames",
                                    "PromotionKey": "1"
                                },
                                {
                                    "ProductKey": "513",
                                    "ProductCategoryKey": "2",
                                    "EnglishProductCategoryName": "Components",
                                    "ProductSubcategoryKey": "12",
                                    "EnglishProductSubcategoryName": "Mountain Frames",
                                    "PromotionKey": "1"
                                },
                                {
                                    "ProductKey": "514",
                                    "ProductCategoryKey": "2",
                                    "EnglishProductCategoryName": "Components",
                                    "ProductSubcategoryKey": "6",
                                    "EnglishProductSubcategoryName": "Brakes",
                                    "PromotionKey": "1"
                                },
                                {
                                    "ProductKey": "515",
                                    "ProductCategoryKey": "2",
                                    "EnglishProductCategoryName": "Components",
                                    "ProductSubcategoryKey": "15",
                                    "EnglishProductSubcategoryName": "Saddles",
                                    "PromotionKey": "1"
                                },
                                {
                                    "ProductKey": "515",
                                    "ProductCategoryKey": "2",
                                    "EnglishProductCategoryName": "Components",
                                    "ProductSubcategoryKey": "15",
                                    "EnglishProductSubcategoryName": "Saddles",
                                    "PromotionKey": "2"
                                },
                                {
                                    "ProductKey": "516",
                                    "ProductCategoryKey": "2",
                                    "EnglishProductCategoryName": "Components",
                                    "ProductSubcategoryKey": "15",
                                    "EnglishProductSubcategoryName": "Saddles",
                                    "PromotionKey": "1"
                                },
                                {
                                    "ProductKey": "516",
                                    "ProductCategoryKey": "2",
                                    "EnglishProductCategoryName": "Components",
                                    "ProductSubcategoryKey": "15",
                                    "EnglishProductSubcategoryName": "Saddles",
                                    "PromotionKey": "2"
                                },
                                {
                                    "ProductKey": "517",
                                    "ProductCategoryKey": "2",
                                    "EnglishProductCategoryName": "Components",
                                    "ProductSubcategoryKey": "15",
                                    "EnglishProductSubcategoryName": "Saddles",
                                    "PromotionKey": "1"
                                },
                                {
                                    "ProductKey": "518",
                                    "ProductCategoryKey": "2",
                                    "EnglishProductCategoryName": "Components",
                                    "ProductSubcategoryKey": "15",
                                    "EnglishProductSubcategoryName": "Saddles",
                                    "PromotionKey": "1"
                                },
                                {
                                    "ProductKey": "520",
                                    "ProductCategoryKey": "2",
                                    "EnglishProductCategoryName": "Components",
                                    "ProductSubcategoryKey": "15",
                                    "EnglishProductSubcategoryName": "Saddles",
                                    "PromotionKey": "1"
                                },
                                {
                                    "ProductKey": "521",
                                    "ProductCategoryKey": "2",
                                    "EnglishProductCategoryName": "Components",
                                    "ProductSubcategoryKey": "15",
                                    "EnglishProductSubcategoryName": "Saddles",
                                    "PromotionKey": "1"
                                },
                                {
                                    "ProductKey": "522",
                                    "ProductCategoryKey": "2",
                                    "EnglishProductCategoryName": "Components",
                                    "ProductSubcategoryKey": "15",
                                    "EnglishProductSubcategoryName": "Saddles",
                                    "PromotionKey": "1"
                                },
                                {
                                    "ProductKey": "523",
                                    "ProductCategoryKey": "2",
                                    "EnglishProductCategoryName": "Components",
                                    "ProductSubcategoryKey": "15",
                                    "EnglishProductSubcategoryName": "Saddles",
                                    "PromotionKey": "1"
                                },
                                {
                                    "ProductKey": "524",
                                    "ProductCategoryKey": "2",
                                    "EnglishProductCategoryName": "Components",
                                    "ProductSubcategoryKey": "12",
                                    "EnglishProductSubcategoryName": "Mountain Frames",
                                    "PromotionKey": "1"
                                },
                                {
                                    "ProductKey": "524",
                                    "ProductCategoryKey": "2",
                                    "EnglishProductCategoryName": "Components",
                                    "ProductSubcategoryKey": "12",
                                    "EnglishProductSubcategoryName": "Mountain Frames",
                                    "PromotionKey": "2"
                                },
                                {
                                    "ProductKey": "525",
                                    "ProductCategoryKey": "2",
                                    "EnglishProductCategoryName": "Components",
                                    "ProductSubcategoryKey": "12",
                                    "EnglishProductSubcategoryName": "Mountain Frames",
                                    "PromotionKey": "1"
                                },
                                {
                                    "ProductKey": "526",
                                    "ProductCategoryKey": "2",
                                    "EnglishProductCategoryName": "Components",
                                    "ProductSubcategoryKey": "12",
                                    "EnglishProductSubcategoryName": "Mountain Frames",
                                    "PromotionKey": "1"
                                },
                                {
                                    "ProductKey": "527",
                                    "ProductCategoryKey": "2",
                                    "EnglishProductCategoryName": "Components",
                                    "ProductSubcategoryKey": "12",
                                    "EnglishProductSubcategoryName": "Mountain Frames",
                                    "PromotionKey": "1"
                                },
                                {
                                    "ProductKey": "531",
                                    "ProductCategoryKey": "2",
                                    "EnglishProductCategoryName": "Components",
                                    "ProductSubcategoryKey": "12",
                                    "EnglishProductSubcategoryName": "Mountain Frames",
                                    "PromotionKey": "1"
                                },
                                {
                                    "ProductKey": "532",
                                    "ProductCategoryKey": "2",
                                    "EnglishProductCategoryName": "Components",
                                    "ProductSubcategoryKey": "12",
                                    "EnglishProductSubcategoryName": "Mountain Frames",
                                    "PromotionKey": "1"
                                },
                                {
                                    "ProductKey": "532",
                                    "ProductCategoryKey": "2",
                                    "EnglishProductCategoryName": "Components",
                                    "ProductSubcategoryKey": "12",
                                    "EnglishProductSubcategoryName": "Mountain Frames",
                                    "PromotionKey": "2"
                                },
                                {
                                    "ProductKey": "533",
                                    "ProductCategoryKey": "2",
                                    "EnglishProductCategoryName": "Components",
                                    "ProductSubcategoryKey": "12",
                                    "EnglishProductSubcategoryName": "Mountain Frames",
                                    "PromotionKey": "1"
                                },
                                {
                                    "ProductKey": "534",
                                    "ProductCategoryKey": "2",
                                    "EnglishProductCategoryName": "Components",
                                    "ProductSubcategoryKey": "12",
                                    "EnglishProductSubcategoryName": "Mountain Frames",
                                    "PromotionKey": "1"
                                },
                                {
                                    "ProductKey": "542",
                                    "ProductCategoryKey": "2",
                                    "EnglishProductCategoryName": "Components",
                                    "ProductSubcategoryKey": "13",
                                    "EnglishProductSubcategoryName": "Pedals",
                                    "PromotionKey": "1"
                                },
                                {
                                    "ProductKey": "543",
                                    "ProductCategoryKey": "2",
                                    "EnglishProductCategoryName": "Components",
                                    "ProductSubcategoryKey": "13",
                                    "EnglishProductSubcategoryName": "Pedals",
                                    "PromotionKey": "1"
                                },
                                {
                                    "ProductKey": "544",
                                    "ProductCategoryKey": "2",
                                    "EnglishProductCategoryName": "Components",
                                    "ProductSubcategoryKey": "13",
                                    "EnglishProductSubcategoryName": "Pedals",
                                    "PromotionKey": "1"
                                },
                                {
                                    "ProductKey": "544",
                                    "ProductCategoryKey": "2",
                                    "EnglishProductCategoryName": "Components",
                                    "ProductSubcategoryKey": "13",
                                    "EnglishProductSubcategoryName": "Pedals",
                                    "PromotionKey": "2"
                                },
                                {
                                    "ProductKey": "545",
                                    "ProductCategoryKey": "2",
                                    "EnglishProductCategoryName": "Components",
                                    "ProductSubcategoryKey": "13",
                                    "EnglishProductSubcategoryName": "Pedals",
                                    "PromotionKey": "1"
                                },
                                {
                                    "ProductKey": "546",
                                    "ProductCategoryKey": "2",
                                    "EnglishProductCategoryName": "Components",
                                    "ProductSubcategoryKey": "13",
                                    "EnglishProductSubcategoryName": "Pedals",
                                    "PromotionKey": "1"
                                },
                                {
                                    "ProductKey": "547",
                                    "ProductCategoryKey": "2",
                                    "EnglishProductCategoryName": "Components",
                                    "ProductSubcategoryKey": "13",
                                    "EnglishProductSubcategoryName": "Pedals",
                                    "PromotionKey": "1"
                                },
                                {
                                    "ProductKey": "548",
                                    "ProductCategoryKey": "2",
                                    "EnglishProductCategoryName": "Components",
                                    "ProductSubcategoryKey": "13",
                                    "EnglishProductSubcategoryName": "Pedals",
                                    "PromotionKey": "1"
                                },
                                {
                                    "ProductKey": "549",
                                    "ProductCategoryKey": "2",
                                    "EnglishProductCategoryName": "Components",
                                    "ProductSubcategoryKey": "12",
                                    "EnglishProductSubcategoryName": "Mountain Frames",
                                    "PromotionKey": "1"
                                },
                                {
                                    "ProductKey": "550",
                                    "ProductCategoryKey": "2",
                                    "EnglishProductCategoryName": "Components",
                                    "ProductSubcategoryKey": "12",
                                    "EnglishProductSubcategoryName": "Mountain Frames",
                                    "PromotionKey": "1"
                                },
                                {
                                    "ProductKey": "551",
                                    "ProductCategoryKey": "2",
                                    "EnglishProductCategoryName": "Components",
                                    "ProductSubcategoryKey": "12",
                                    "EnglishProductSubcategoryName": "Mountain Frames",
                                    "PromotionKey": "1"
                                },
                                {
                                    "ProductKey": "551",
                                    "ProductCategoryKey": "2",
                                    "EnglishProductCategoryName": "Components",
                                    "ProductSubcategoryKey": "12",
                                    "EnglishProductSubcategoryName": "Mountain Frames",
                                    "PromotionKey": "2"
                                },
                                {
                                    "ProductKey": "552",
                                    "ProductCategoryKey": "2",
                                    "EnglishProductCategoryName": "Components",
                                    "ProductSubcategoryKey": "9",
                                    "EnglishProductSubcategoryName": "Derailleurs",
                                    "PromotionKey": "1"
                                },
                                {
                                    "ProductKey": "552",
                                    "ProductCategoryKey": "2",
                                    "EnglishProductCategoryName": "Components",
                                    "ProductSubcategoryKey": "9",
                                    "EnglishProductSubcategoryName": "Derailleurs",
                                    "PromotionKey": "2"
                                },
                                {
                                    "ProductKey": "553",
                                    "ProductCategoryKey": "2",
                                    "EnglishProductCategoryName": "Components",
                                    "ProductSubcategoryKey": "4",
                                    "EnglishProductSubcategoryName": "Handlebars",
                                    "PromotionKey": "1"
                                },
                                {
                                    "ProductKey": "554",
                                    "ProductCategoryKey": "2",
                                    "EnglishProductCategoryName": "Components",
                                    "ProductSubcategoryKey": "4",
                                    "EnglishProductSubcategoryName": "Handlebars",
                                    "PromotionKey": "1"
                                },
                                {
                                    "ProductKey": "555",
                                    "ProductCategoryKey": "2",
                                    "EnglishProductCategoryName": "Components",
                                    "ProductSubcategoryKey": "6",
                                    "EnglishProductSubcategoryName": "Brakes",
                                    "PromotionKey": "1"
                                },
                                {
                                    "ProductKey": "555",
                                    "ProductCategoryKey": "2",
                                    "EnglishProductCategoryName": "Components",
                                    "ProductSubcategoryKey": "6",
                                    "EnglishProductSubcategoryName": "Brakes",
                                    "PromotionKey": "2"
                                },
                                {
                                    "ProductKey": "556",
                                    "ProductCategoryKey": "2",
                                    "EnglishProductCategoryName": "Components",
                                    "ProductSubcategoryKey": "8",
                                    "EnglishProductSubcategoryName": "Cranksets",
                                    "PromotionKey": "1"
                                },
                                {
                                    "ProductKey": "557",
                                    "ProductCategoryKey": "2",
                                    "EnglishProductCategoryName": "Components",
                                    "ProductSubcategoryKey": "8",
                                    "EnglishProductSubcategoryName": "Cranksets",
                                    "PromotionKey": "1"
                                },
                                {
                                    "ProductKey": "558",
                                    "ProductCategoryKey": "2",
                                    "EnglishProductCategoryName": "Components",
                                    "ProductSubcategoryKey": "8",
                                    "EnglishProductSubcategoryName": "Cranksets",
                                    "PromotionKey": "1"
                                },
                                {
                                    "ProductKey": "558",
                                    "ProductCategoryKey": "2",
                                    "EnglishProductCategoryName": "Components",
                                    "ProductSubcategoryKey": "8",
                                    "EnglishProductSubcategoryName": "Cranksets",
                                    "PromotionKey": "2"
                                },
                                {
                                    "ProductKey": "559",
                                    "ProductCategoryKey": "2",
                                    "EnglishProductCategoryName": "Components",
                                    "ProductSubcategoryKey": "7",
                                    "EnglishProductSubcategoryName": "Chains",
                                    "PromotionKey": "1"
                                },
                                {
                                    "ProductKey": "559",
                                    "ProductCategoryKey": "2",
                                    "EnglishProductCategoryName": "Components",
                                    "ProductSubcategoryKey": "7",
                                    "EnglishProductSubcategoryName": "Chains",
                                    "PromotionKey": "2"
                                },
                                {
                                    "ProductKey": "560",
                                    "ProductCategoryKey": "1",
                                    "EnglishProductCategoryName": "Bikes",
                                    "ProductSubcategoryKey": "3",
                                    "EnglishProductSubcategoryName": "Touring Bikes",
                                    "PromotionKey": "1"
                                },
                                {
                                    "ProductKey": "560",
                                    "ProductCategoryKey": "1",
                                    "EnglishProductCategoryName": "Bikes",
                                    "ProductSubcategoryKey": "3",
                                    "EnglishProductSubcategoryName": "Touring Bikes",
                                    "PromotionKey": "2"
                                },
                                {
                                    "ProductKey": "561",
                                    "ProductCategoryKey": "1",
                                    "EnglishProductCategoryName": "Bikes",
                                    "ProductSubcategoryKey": "3",
                                    "EnglishProductSubcategoryName": "Touring Bikes",
                                    "PromotionKey": "1"
                                },
                                {
                                    "ProductKey": "561",
                                    "ProductCategoryKey": "1",
                                    "EnglishProductCategoryName": "Bikes",
                                    "ProductSubcategoryKey": "3",
                                    "EnglishProductSubcategoryName": "Touring Bikes",
                                    "PromotionKey": "2"
                                },
                                {
                                    "ProductKey": "561",
                                    "ProductCategoryKey": "1",
                                    "EnglishProductCategoryName": "Bikes",
                                    "ProductSubcategoryKey": "3",
                                    "EnglishProductSubcategoryName": "Touring Bikes",
                                    "PromotionKey": "4"
                                },
                                {
                                    "ProductKey": "561",
                                    "ProductCategoryKey": "1",
                                    "EnglishProductCategoryName": "Bikes",
                                    "ProductSubcategoryKey": "3",
                                    "EnglishProductSubcategoryName": "Touring Bikes",
                                    "PromotionKey": "14"
                                },
                                {
                                    "ProductKey": "562",
                                    "ProductCategoryKey": "1",
                                    "EnglishProductCategoryName": "Bikes",
                                    "ProductSubcategoryKey": "3",
                                    "EnglishProductSubcategoryName": "Touring Bikes",
                                    "PromotionKey": "1"
                                },
                                {
                                    "ProductKey": "562",
                                    "ProductCategoryKey": "1",
                                    "EnglishProductCategoryName": "Bikes",
                                    "ProductSubcategoryKey": "3",
                                    "EnglishProductSubcategoryName": "Touring Bikes",
                                    "PromotionKey": "14"
                                },
                                {
                                    "ProductKey": "563",
                                    "ProductCategoryKey": "1",
                                    "EnglishProductCategoryName": "Bikes",
                                    "ProductSubcategoryKey": "3",
                                    "EnglishProductSubcategoryName": "Touring Bikes",
                                    "PromotionKey": "1"
                                },
                                {
                                    "ProductKey": "563",
                                    "ProductCategoryKey": "1",
                                    "EnglishProductCategoryName": "Bikes",
                                    "ProductSubcategoryKey": "3",
                                    "EnglishProductSubcategoryName": "Touring Bikes",
                                    "PromotionKey": "14"
                                },
                                {
                                    "ProductKey": "564",
                                    "ProductCategoryKey": "1",
                                    "EnglishProductCategoryName": "Bikes",
                                    "ProductSubcategoryKey": "3",
                                    "EnglishProductSubcategoryName": "Touring Bikes",
                                    "PromotionKey": "1"
                                },
                                {
                                    "ProductKey": "564",
                                    "ProductCategoryKey": "1",
                                    "EnglishProductCategoryName": "Bikes",
                                    "ProductSubcategoryKey": "3",
                                    "EnglishProductSubcategoryName": "Touring Bikes",
                                    "PromotionKey": "2"
                                },
                                {
                                    "ProductKey": "564",
                                    "ProductCategoryKey": "1",
                                    "EnglishProductCategoryName": "Bikes",
                                    "ProductSubcategoryKey": "3",
                                    "EnglishProductSubcategoryName": "Touring Bikes",
                                    "PromotionKey": "3"
                                },
                                {
                                    "ProductKey": "564",
                                    "ProductCategoryKey": "1",
                                    "EnglishProductCategoryName": "Bikes",
                                    "ProductSubcategoryKey": "3",
                                    "EnglishProductSubcategoryName": "Touring Bikes",
                                    "PromotionKey": "14"
                                },
                                {
                                    "ProductKey": "565",
                                    "ProductCategoryKey": "1",
                                    "EnglishProductCategoryName": "Bikes",
                                    "ProductSubcategoryKey": "3",
                                    "EnglishProductSubcategoryName": "Touring Bikes",
                                    "PromotionKey": "1"
                                },
                                {
                                    "ProductKey": "565",
                                    "ProductCategoryKey": "1",
                                    "EnglishProductCategoryName": "Bikes",
                                    "ProductSubcategoryKey": "3",
                                    "EnglishProductSubcategoryName": "Touring Bikes",
                                    "PromotionKey": "13"
                                },
                                {
                                    "ProductKey": "566",
                                    "ProductCategoryKey": "1",
                                    "EnglishProductCategoryName": "Bikes",
                                    "ProductSubcategoryKey": "3",
                                    "EnglishProductSubcategoryName": "Touring Bikes",
                                    "PromotionKey": "1"
                                },
                                {
                                    "ProductKey": "566",
                                    "ProductCategoryKey": "1",
                                    "EnglishProductCategoryName": "Bikes",
                                    "ProductSubcategoryKey": "3",
                                    "EnglishProductSubcategoryName": "Touring Bikes",
                                    "PromotionKey": "13"
                                },
                                {
                                    "ProductKey": "567",
                                    "ProductCategoryKey": "1",
                                    "EnglishProductCategoryName": "Bikes",
                                    "ProductSubcategoryKey": "3",
                                    "EnglishProductSubcategoryName": "Touring Bikes",
                                    "PromotionKey": "1"
                                },
                                {
                                    "ProductKey": "567",
                                    "ProductCategoryKey": "1",
                                    "EnglishProductCategoryName": "Bikes",
                                    "ProductSubcategoryKey": "3",
                                    "EnglishProductSubcategoryName": "Touring Bikes",
                                    "PromotionKey": "13"
                                },
                                {
                                    "ProductKey": "568",
                                    "ProductCategoryKey": "1",
                                    "EnglishProductCategoryName": "Bikes",
                                    "ProductSubcategoryKey": "3",
                                    "EnglishProductSubcategoryName": "Touring Bikes",
                                    "PromotionKey": "1"
                                },
                                {
                                    "ProductKey": "568",
                                    "ProductCategoryKey": "1",
                                    "EnglishProductCategoryName": "Bikes",
                                    "ProductSubcategoryKey": "3",
                                    "EnglishProductSubcategoryName": "Touring Bikes",
                                    "PromotionKey": "2"
                                },
                                {
                                    "ProductKey": "568",
                                    "ProductCategoryKey": "1",
                                    "EnglishProductCategoryName": "Bikes",
                                    "ProductSubcategoryKey": "3",
                                    "EnglishProductSubcategoryName": "Touring Bikes",
                                    "PromotionKey": "13"
                                },
                                {
                                    "ProductKey": "569",
                                    "ProductCategoryKey": "1",
                                    "EnglishProductCategoryName": "Bikes",
                                    "ProductSubcategoryKey": "3",
                                    "EnglishProductSubcategoryName": "Touring Bikes",
                                    "PromotionKey": "1"
                                },
                                {
                                    "ProductKey": "569",
                                    "ProductCategoryKey": "1",
                                    "EnglishProductCategoryName": "Bikes",
                                    "ProductSubcategoryKey": "3",
                                    "EnglishProductSubcategoryName": "Touring Bikes",
                                    "PromotionKey": "13"
                                },
                                {
                                    "ProductKey": "570",
                                    "ProductCategoryKey": "1",
                                    "EnglishProductCategoryName": "Bikes",
                                    "ProductSubcategoryKey": "3",
                                    "EnglishProductSubcategoryName": "Touring Bikes",
                                    "PromotionKey": "1"
                                },
                                {
                                    "ProductKey": "570",
                                    "ProductCategoryKey": "1",
                                    "EnglishProductCategoryName": "Bikes",
                                    "ProductSubcategoryKey": "3",
                                    "EnglishProductSubcategoryName": "Touring Bikes",
                                    "PromotionKey": "13"
                                },
                                {
                                    "ProductKey": "571",
                                    "ProductCategoryKey": "1",
                                    "EnglishProductCategoryName": "Bikes",
                                    "ProductSubcategoryKey": "3",
                                    "EnglishProductSubcategoryName": "Touring Bikes",
                                    "PromotionKey": "1"
                                },
                                {
                                    "ProductKey": "571",
                                    "ProductCategoryKey": "1",
                                    "EnglishProductCategoryName": "Bikes",
                                    "ProductSubcategoryKey": "3",
                                    "EnglishProductSubcategoryName": "Touring Bikes",
                                    "PromotionKey": "13"
                                },
                                {
                                    "ProductKey": "572",
                                    "ProductCategoryKey": "1",
                                    "EnglishProductCategoryName": "Bikes",
                                    "ProductSubcategoryKey": "3",
                                    "EnglishProductSubcategoryName": "Touring Bikes",
                                    "PromotionKey": "1"
                                },
                                {
                                    "ProductKey": "572",
                                    "ProductCategoryKey": "1",
                                    "EnglishProductCategoryName": "Bikes",
                                    "ProductSubcategoryKey": "3",
                                    "EnglishProductSubcategoryName": "Touring Bikes",
                                    "PromotionKey": "2"
                                },
                                {
                                    "ProductKey": "572",
                                    "ProductCategoryKey": "1",
                                    "EnglishProductCategoryName": "Bikes",
                                    "ProductSubcategoryKey": "3",
                                    "EnglishProductSubcategoryName": "Touring Bikes",
                                    "PromotionKey": "13"
                                },
                                {
                                    "ProductKey": "573",
                                    "ProductCategoryKey": "1",
                                    "EnglishProductCategoryName": "Bikes",
                                    "ProductSubcategoryKey": "3",
                                    "EnglishProductSubcategoryName": "Touring Bikes",
                                    "PromotionKey": "1"
                                },
                                {
                                    "ProductKey": "573",
                                    "ProductCategoryKey": "1",
                                    "EnglishProductCategoryName": "Bikes",
                                    "ProductSubcategoryKey": "3",
                                    "EnglishProductSubcategoryName": "Touring Bikes",
                                    "PromotionKey": "2"
                                },
                                {
                                    "ProductKey": "573",
                                    "ProductCategoryKey": "1",
                                    "EnglishProductCategoryName": "Bikes",
                                    "ProductSubcategoryKey": "3",
                                    "EnglishProductSubcategoryName": "Touring Bikes",
                                    "PromotionKey": "3"
                                },
                                {
                                    "ProductKey": "574",
                                    "ProductCategoryKey": "1",
                                    "EnglishProductCategoryName": "Bikes",
                                    "ProductSubcategoryKey": "3",
                                    "EnglishProductSubcategoryName": "Touring Bikes",
                                    "PromotionKey": "1"
                                },
                                {
                                    "ProductKey": "575",
                                    "ProductCategoryKey": "1",
                                    "EnglishProductCategoryName": "Bikes",
                                    "ProductSubcategoryKey": "3",
                                    "EnglishProductSubcategoryName": "Touring Bikes",
                                    "PromotionKey": "1"
                                },
                                {
                                    "ProductKey": "576",
                                    "ProductCategoryKey": "1",
                                    "EnglishProductCategoryName": "Bikes",
                                    "ProductSubcategoryKey": "3",
                                    "EnglishProductSubcategoryName": "Touring Bikes",
                                    "PromotionKey": "1"
                                },
                                {
                                    "ProductKey": "576",
                                    "ProductCategoryKey": "1",
                                    "EnglishProductCategoryName": "Bikes",
                                    "ProductSubcategoryKey": "3",
                                    "EnglishProductSubcategoryName": "Touring Bikes",
                                    "PromotionKey": "2"
                                },
                                {
                                    "ProductKey": "576",
                                    "ProductCategoryKey": "1",
                                    "EnglishProductCategoryName": "Bikes",
                                    "ProductSubcategoryKey": "3",
                                    "EnglishProductSubcategoryName": "Touring Bikes",
                                    "PromotionKey": "3"
                                },
                                {
                                    "ProductKey": "577",
                                    "ProductCategoryKey": "1",
                                    "EnglishProductCategoryName": "Bikes",
                                    "ProductSubcategoryKey": "3",
                                    "EnglishProductSubcategoryName": "Touring Bikes",
                                    "PromotionKey": "1"
                                },
                                {
                                    "ProductKey": "577",
                                    "ProductCategoryKey": "1",
                                    "EnglishProductCategoryName": "Bikes",
                                    "ProductSubcategoryKey": "3",
                                    "EnglishProductSubcategoryName": "Touring Bikes",
                                    "PromotionKey": "2"
                                },
                                {
                                    "ProductKey": "578",
                                    "ProductCategoryKey": "1",
                                    "EnglishProductCategoryName": "Bikes",
                                    "ProductSubcategoryKey": "3",
                                    "EnglishProductSubcategoryName": "Touring Bikes",
                                    "PromotionKey": "1"
                                },
                                {
                                    "ProductKey": "579",
                                    "ProductCategoryKey": "1",
                                    "EnglishProductCategoryName": "Bikes",
                                    "ProductSubcategoryKey": "3",
                                    "EnglishProductSubcategoryName": "Touring Bikes",
                                    "PromotionKey": "1"
                                },
                                {
                                    "ProductKey": "579",
                                    "ProductCategoryKey": "1",
                                    "EnglishProductCategoryName": "Bikes",
                                    "ProductSubcategoryKey": "3",
                                    "EnglishProductSubcategoryName": "Touring Bikes",
                                    "PromotionKey": "2"
                                },
                                {
                                    "ProductKey": "579",
                                    "ProductCategoryKey": "1",
                                    "EnglishProductCategoryName": "Bikes",
                                    "ProductSubcategoryKey": "3",
                                    "EnglishProductSubcategoryName": "Touring Bikes",
                                    "PromotionKey": "3"
                                },
                                {
                                    "ProductKey": "580",
                                    "ProductCategoryKey": "1",
                                    "EnglishProductCategoryName": "Bikes",
                                    "ProductSubcategoryKey": "2",
                                    "EnglishProductSubcategoryName": "Road Bikes",
                                    "PromotionKey": "1"
                                },
                                {
                                    "ProductKey": "580",
                                    "ProductCategoryKey": "1",
                                    "EnglishProductCategoryName": "Bikes",
                                    "ProductSubcategoryKey": "2",
                                    "EnglishProductSubcategoryName": "Road Bikes",
                                    "PromotionKey": "2"
                                },
                                {
                                    "ProductKey": "580",
                                    "ProductCategoryKey": "1",
                                    "EnglishProductCategoryName": "Bikes",
                                    "ProductSubcategoryKey": "2",
                                    "EnglishProductSubcategoryName": "Road Bikes",
                                    "PromotionKey": "3"
                                },
                                {
                                    "ProductKey": "581",
                                    "ProductCategoryKey": "1",
                                    "EnglishProductCategoryName": "Bikes",
                                    "ProductSubcategoryKey": "2",
                                    "EnglishProductSubcategoryName": "Road Bikes",
                                    "PromotionKey": "1"
                                },
                                {
                                    "ProductKey": "581",
                                    "ProductCategoryKey": "1",
                                    "EnglishProductCategoryName": "Bikes",
                                    "ProductSubcategoryKey": "2",
                                    "EnglishProductSubcategoryName": "Road Bikes",
                                    "PromotionKey": "2"
                                },
                                {
                                    "ProductKey": "581",
                                    "ProductCategoryKey": "1",
                                    "EnglishProductCategoryName": "Bikes",
                                    "ProductSubcategoryKey": "2",
                                    "EnglishProductSubcategoryName": "Road Bikes",
                                    "PromotionKey": "3"
                                },
                                {
                                    "ProductKey": "582",
                                    "ProductCategoryKey": "1",
                                    "EnglishProductCategoryName": "Bikes",
                                    "ProductSubcategoryKey": "2",
                                    "EnglishProductSubcategoryName": "Road Bikes",
                                    "PromotionKey": "1"
                                },
                                {
                                    "ProductKey": "583",
                                    "ProductCategoryKey": "1",
                                    "EnglishProductCategoryName": "Bikes",
                                    "ProductSubcategoryKey": "2",
                                    "EnglishProductSubcategoryName": "Road Bikes",
                                    "PromotionKey": "1"
                                },
                                {
                                    "ProductKey": "583",
                                    "ProductCategoryKey": "1",
                                    "EnglishProductCategoryName": "Bikes",
                                    "ProductSubcategoryKey": "2",
                                    "EnglishProductSubcategoryName": "Road Bikes",
                                    "PromotionKey": "2"
                                },
                                {
                                    "ProductKey": "583",
                                    "ProductCategoryKey": "1",
                                    "EnglishProductCategoryName": "Bikes",
                                    "ProductSubcategoryKey": "2",
                                    "EnglishProductSubcategoryName": "Road Bikes",
                                    "PromotionKey": "3"
                                },
                                {
                                    "ProductKey": "583",
                                    "ProductCategoryKey": "1",
                                    "EnglishProductCategoryName": "Bikes",
                                    "ProductSubcategoryKey": "2",
                                    "EnglishProductSubcategoryName": "Road Bikes",
                                    "PromotionKey": "4"
                                },
                                {
                                    "ProductKey": "584",
                                    "ProductCategoryKey": "1",
                                    "EnglishProductCategoryName": "Bikes",
                                    "ProductSubcategoryKey": "2",
                                    "EnglishProductSubcategoryName": "Road Bikes",
                                    "PromotionKey": "1"
                                },
                                {
                                    "ProductKey": "585",
                                    "ProductCategoryKey": "1",
                                    "EnglishProductCategoryName": "Bikes",
                                    "ProductSubcategoryKey": "3",
                                    "EnglishProductSubcategoryName": "Touring Bikes",
                                    "PromotionKey": "1"
                                },
                                {
                                    "ProductKey": "585",
                                    "ProductCategoryKey": "1",
                                    "EnglishProductCategoryName": "Bikes",
                                    "ProductSubcategoryKey": "3",
                                    "EnglishProductSubcategoryName": "Touring Bikes",
                                    "PromotionKey": "13"
                                },
                                {
                                    "ProductKey": "586",
                                    "ProductCategoryKey": "1",
                                    "EnglishProductCategoryName": "Bikes",
                                    "ProductSubcategoryKey": "3",
                                    "EnglishProductSubcategoryName": "Touring Bikes",
                                    "PromotionKey": "1"
                                },
                                {
                                    "ProductKey": "586",
                                    "ProductCategoryKey": "1",
                                    "EnglishProductCategoryName": "Bikes",
                                    "ProductSubcategoryKey": "3",
                                    "EnglishProductSubcategoryName": "Touring Bikes",
                                    "PromotionKey": "2"
                                },
                                {
                                    "ProductKey": "586",
                                    "ProductCategoryKey": "1",
                                    "EnglishProductCategoryName": "Bikes",
                                    "ProductSubcategoryKey": "3",
                                    "EnglishProductSubcategoryName": "Touring Bikes",
                                    "PromotionKey": "3"
                                },
                                {
                                    "ProductKey": "586",
                                    "ProductCategoryKey": "1",
                                    "EnglishProductCategoryName": "Bikes",
                                    "ProductSubcategoryKey": "3",
                                    "EnglishProductSubcategoryName": "Touring Bikes",
                                    "PromotionKey": "13"
                                },
                                {
                                    "ProductKey": "587",
                                    "ProductCategoryKey": "1",
                                    "EnglishProductCategoryName": "Bikes",
                                    "ProductSubcategoryKey": "1",
                                    "EnglishProductSubcategoryName": "Mountain Bikes",
                                    "PromotionKey": "1"
                                },
                                {
                                    "ProductKey": "588",
                                    "ProductCategoryKey": "1",
                                    "EnglishProductCategoryName": "Bikes",
                                    "ProductSubcategoryKey": "1",
                                    "EnglishProductSubcategoryName": "Mountain Bikes",
                                    "PromotionKey": "1"
                                },
                                {
                                    "ProductKey": "588",
                                    "ProductCategoryKey": "1",
                                    "EnglishProductCategoryName": "Bikes",
                                    "ProductSubcategoryKey": "1",
                                    "EnglishProductSubcategoryName": "Mountain Bikes",
                                    "PromotionKey": "2"
                                },
                                {
                                    "ProductKey": "589",
                                    "ProductCategoryKey": "1",
                                    "EnglishProductCategoryName": "Bikes",
                                    "ProductSubcategoryKey": "1",
                                    "EnglishProductSubcategoryName": "Mountain Bikes",
                                    "PromotionKey": "1"
                                },
                                {
                                    "ProductKey": "590",
                                    "ProductCategoryKey": "1",
                                    "EnglishProductCategoryName": "Bikes",
                                    "ProductSubcategoryKey": "1",
                                    "EnglishProductSubcategoryName": "Mountain Bikes",
                                    "PromotionKey": "1"
                                },
                                {
                                    "ProductKey": "590",
                                    "ProductCategoryKey": "1",
                                    "EnglishProductCategoryName": "Bikes",
                                    "ProductSubcategoryKey": "1",
                                    "EnglishProductSubcategoryName": "Mountain Bikes",
                                    "PromotionKey": "2"
                                },
                                {
                                    "ProductKey": "591",
                                    "ProductCategoryKey": "1",
                                    "EnglishProductCategoryName": "Bikes",
                                    "ProductSubcategoryKey": "1",
                                    "EnglishProductSubcategoryName": "Mountain Bikes",
                                    "PromotionKey": "1"
                                },
                                {
                                    "ProductKey": "591",
                                    "ProductCategoryKey": "1",
                                    "EnglishProductCategoryName": "Bikes",
                                    "ProductSubcategoryKey": "1",
                                    "EnglishProductSubcategoryName": "Mountain Bikes",
                                    "PromotionKey": "16"
                                },
                                {
                                    "ProductKey": "592",
                                    "ProductCategoryKey": "1",
                                    "EnglishProductCategoryName": "Bikes",
                                    "ProductSubcategoryKey": "1",
                                    "EnglishProductSubcategoryName": "Mountain Bikes",
                                    "PromotionKey": "1"
                                },
                                {
                                    "ProductKey": "592",
                                    "ProductCategoryKey": "1",
                                    "EnglishProductCategoryName": "Bikes",
                                    "ProductSubcategoryKey": "1",
                                    "EnglishProductSubcategoryName": "Mountain Bikes",
                                    "PromotionKey": "16"
                                },
                                {
                                    "ProductKey": "593",
                                    "ProductCategoryKey": "1",
                                    "EnglishProductCategoryName": "Bikes",
                                    "ProductSubcategoryKey": "1",
                                    "EnglishProductSubcategoryName": "Mountain Bikes",
                                    "PromotionKey": "1"
                                },
                                {
                                    "ProductKey": "593",
                                    "ProductCategoryKey": "1",
                                    "EnglishProductCategoryName": "Bikes",
                                    "ProductSubcategoryKey": "1",
                                    "EnglishProductSubcategoryName": "Mountain Bikes",
                                    "PromotionKey": "16"
                                },
                                {
                                    "ProductKey": "594",
                                    "ProductCategoryKey": "1",
                                    "EnglishProductCategoryName": "Bikes",
                                    "ProductSubcategoryKey": "1",
                                    "EnglishProductSubcategoryName": "Mountain Bikes",
                                    "PromotionKey": "1"
                                },
                                {
                                    "ProductKey": "594",
                                    "ProductCategoryKey": "1",
                                    "EnglishProductCategoryName": "Bikes",
                                    "ProductSubcategoryKey": "1",
                                    "EnglishProductSubcategoryName": "Mountain Bikes",
                                    "PromotionKey": "16"
                                },
                                {
                                    "ProductKey": "595",
                                    "ProductCategoryKey": "1",
                                    "EnglishProductCategoryName": "Bikes",
                                    "ProductSubcategoryKey": "1",
                                    "EnglishProductSubcategoryName": "Mountain Bikes",
                                    "PromotionKey": "1"
                                },
                                {
                                    "ProductKey": "595",
                                    "ProductCategoryKey": "1",
                                    "EnglishProductCategoryName": "Bikes",
                                    "ProductSubcategoryKey": "1",
                                    "EnglishProductSubcategoryName": "Mountain Bikes",
                                    "PromotionKey": "16"
                                },
                                {
                                    "ProductKey": "596",
                                    "ProductCategoryKey": "1",
                                    "EnglishProductCategoryName": "Bikes",
                                    "ProductSubcategoryKey": "1",
                                    "EnglishProductSubcategoryName": "Mountain Bikes",
                                    "PromotionKey": "1"
                                },
                                {
                                    "ProductKey": "597",
                                    "ProductCategoryKey": "1",
                                    "EnglishProductCategoryName": "Bikes",
                                    "ProductSubcategoryKey": "1",
                                    "EnglishProductSubcategoryName": "Mountain Bikes",
                                    "PromotionKey": "1"
                                },
                                {
                                    "ProductKey": "598",
                                    "ProductCategoryKey": "1",
                                    "EnglishProductCategoryName": "Bikes",
                                    "ProductSubcategoryKey": "1",
                                    "EnglishProductSubcategoryName": "Mountain Bikes",
                                    "PromotionKey": "1"
                                },
                                {
                                    "ProductKey": "599",
                                    "ProductCategoryKey": "1",
                                    "EnglishProductCategoryName": "Bikes",
                                    "ProductSubcategoryKey": "1",
                                    "EnglishProductSubcategoryName": "Mountain Bikes",
                                    "PromotionKey": "1"
                                },
                                {
                                    "ProductKey": "600",
                                    "ProductCategoryKey": "1",
                                    "EnglishProductCategoryName": "Bikes",
                                    "ProductSubcategoryKey": "1",
                                    "EnglishProductSubcategoryName": "Mountain Bikes",
                                    "PromotionKey": "1"
                                },
                                {
                                    "ProductKey": "601",
                                    "ProductCategoryKey": "2",
                                    "EnglishProductCategoryName": "Components",
                                    "ProductSubcategoryKey": "5",
                                    "EnglishProductSubcategoryName": "Bottom Brackets",
                                    "PromotionKey": "1"
                                },
                                {
                                    "ProductKey": "603",
                                    "ProductCategoryKey": "2",
                                    "EnglishProductCategoryName": "Components",
                                    "ProductSubcategoryKey": "5",
                                    "EnglishProductSubcategoryName": "Bottom Brackets",
                                    "PromotionKey": "1"
                                },
                                {
                                    "ProductKey": "604",
                                    "ProductCategoryKey": "1",
                                    "EnglishProductCategoryName": "Bikes",
                                    "ProductSubcategoryKey": "2",
                                    "EnglishProductSubcategoryName": "Road Bikes",
                                    "PromotionKey": "1"
                                },
                                {
                                    "ProductKey": "605",
                                    "ProductCategoryKey": "1",
                                    "EnglishProductCategoryName": "Bikes",
                                    "ProductSubcategoryKey": "2",
                                    "EnglishProductSubcategoryName": "Road Bikes",
                                    "PromotionKey": "1"
                                },
                                {
                                    "ProductKey": "605",
                                    "ProductCategoryKey": "1",
                                    "EnglishProductCategoryName": "Bikes",
                                    "ProductSubcategoryKey": "2",
                                    "EnglishProductSubcategoryName": "Road Bikes",
                                    "PromotionKey": "2"
                                },
                                {
                                    "ProductKey": "605",
                                    "ProductCategoryKey": "1",
                                    "EnglishProductCategoryName": "Bikes",
                                    "ProductSubcategoryKey": "2",
                                    "EnglishProductSubcategoryName": "Road Bikes",
                                    "PromotionKey": "3"
                                },
                                {
                                    "ProductKey": "606",
                                    "ProductCategoryKey": "1",
                                    "EnglishProductCategoryName": "Bikes",
                                    "ProductSubcategoryKey": "2",
                                    "EnglishProductSubcategoryName": "Road Bikes",
                                    "PromotionKey": "1"
                                },
                                {
                                    "ProductKey": "606",
                                    "ProductCategoryKey": "1",
                                    "EnglishProductCategoryName": "Bikes",
                                    "ProductSubcategoryKey": "2",
                                    "EnglishProductSubcategoryName": "Road Bikes",
                                    "PromotionKey": "2"
                                }
                            ]
                        },
                        "text/html": [
                            "<table>",
                            "<tr><th>ProductKey</th><th>ProductCategoryKey</th><th>EnglishProductCategoryName</th><th>ProductSubcategoryKey</th><th>EnglishProductSubcategoryName</th><th>PromotionKey</th></tr>",
                            "<tr><td>212</td><td>4</td><td>Accessories</td><td>31</td><td>Helmets</td><td>1</td></tr>",
                            "<tr><td>213</td><td>4</td><td>Accessories</td><td>31</td><td>Helmets</td><td>1</td></tr>",
                            "<tr><td>213</td><td>4</td><td>Accessories</td><td>31</td><td>Helmets</td><td>2</td></tr>",
                            "<tr><td>213</td><td>4</td><td>Accessories</td><td>31</td><td>Helmets</td><td>3</td></tr>",
                            "<tr><td>213</td><td>4</td><td>Accessories</td><td>31</td><td>Helmets</td><td>8</td></tr>",
                            "<tr><td>214</td><td>4</td><td>Accessories</td><td>31</td><td>Helmets</td><td>1</td></tr>",
                            "<tr><td>214</td><td>4</td><td>Accessories</td><td>31</td><td>Helmets</td><td>2</td></tr>",
                            "<tr><td>214</td><td>4</td><td>Accessories</td><td>31</td><td>Helmets</td><td>3</td></tr>",
                            "<tr><td>214</td><td>4</td><td>Accessories</td><td>31</td><td>Helmets</td><td>11</td></tr>",
                            "<tr><td>215</td><td>4</td><td>Accessories</td><td>31</td><td>Helmets</td><td>1</td></tr>",
                            "<tr><td>215</td><td>4</td><td>Accessories</td><td>31</td><td>Helmets</td><td>2</td></tr>",
                            "<tr><td>216</td><td>4</td><td>Accessories</td><td>31</td><td>Helmets</td><td>1</td></tr>",
                            "<tr><td>216</td><td>4</td><td>Accessories</td><td>31</td><td>Helmets</td><td>2</td></tr>",
                            "<tr><td>216</td><td>4</td><td>Accessories</td><td>31</td><td>Helmets</td><td>3</td></tr>",
                            "<tr><td>216</td><td>4</td><td>Accessories</td><td>31</td><td>Helmets</td><td>8</td></tr>",
                            "<tr><td>217</td><td>4</td><td>Accessories</td><td>31</td><td>Helmets</td><td>1</td></tr>",
                            "<tr><td>217</td><td>4</td><td>Accessories</td><td>31</td><td>Helmets</td><td>2</td></tr>",
                            "<tr><td>217</td><td>4</td><td>Accessories</td><td>31</td><td>Helmets</td><td>3</td></tr>",
                            "<tr><td>217</td><td>4</td><td>Accessories</td><td>31</td><td>Helmets</td><td>11</td></tr>",
                            "<tr><td>218</td><td>3</td><td>Clothing</td><td>23</td><td>Socks</td><td>1</td></tr>",
                            "<tr><td>218</td><td>3</td><td>Clothing</td><td>23</td><td>Socks</td><td>2</td></tr>",
                            "<tr><td>218</td><td>3</td><td>Clothing</td><td>23</td><td>Socks</td><td>3</td></tr>",
                            "<tr><td>218</td><td>3</td><td>Clothing</td><td>23</td><td>Socks</td><td>4</td></tr>",
                            "<tr><td>219</td><td>3</td><td>Clothing</td><td>23</td><td>Socks</td><td>1</td></tr>",
                            "<tr><td>220</td><td>4</td><td>Accessories</td><td>31</td><td>Helmets</td><td>1</td></tr>",
                            "<tr><td>220</td><td>4</td><td>Accessories</td><td>31</td><td>Helmets</td><td>2</td></tr>",
                            "<tr><td>221</td><td>4</td><td>Accessories</td><td>31</td><td>Helmets</td><td>1</td></tr>",
                            "<tr><td>221</td><td>4</td><td>Accessories</td><td>31</td><td>Helmets</td><td>2</td></tr>",
                            "<tr><td>221</td><td>4</td><td>Accessories</td><td>31</td><td>Helmets</td><td>3</td></tr>",
                            "<tr><td>221</td><td>4</td><td>Accessories</td><td>31</td><td>Helmets</td><td>8</td></tr>",
                            "<tr><td>222</td><td>4</td><td>Accessories</td><td>31</td><td>Helmets</td><td>1</td></tr>",
                            "<tr><td>222</td><td>4</td><td>Accessories</td><td>31</td><td>Helmets</td><td>2</td></tr>",
                            "<tr><td>222</td><td>4</td><td>Accessories</td><td>31</td><td>Helmets</td><td>3</td></tr>",
                            "<tr><td>222</td><td>4</td><td>Accessories</td><td>31</td><td>Helmets</td><td>11</td></tr>",
                            "<tr><td>223</td><td>3</td><td>Clothing</td><td>19</td><td>Caps</td><td>1</td></tr>",
                            "<tr><td>223</td><td>3</td><td>Clothing</td><td>19</td><td>Caps</td><td>2</td></tr>",
                            "<tr><td>223</td><td>3</td><td>Clothing</td><td>19</td><td>Caps</td><td>3</td></tr>",
                            "<tr><td>224</td><td>3</td><td>Clothing</td><td>19</td><td>Caps</td><td>1</td></tr>",
                            "<tr><td>224</td><td>3</td><td>Clothing</td><td>19</td><td>Caps</td><td>2</td></tr>",
                            "<tr><td>224</td><td>3</td><td>Clothing</td><td>19</td><td>Caps</td><td>3</td></tr>",
                            "<tr><td>224</td><td>3</td><td>Clothing</td><td>19</td><td>Caps</td><td>4</td></tr>",
                            "<tr><td>225</td><td>3</td><td>Clothing</td><td>19</td><td>Caps</td><td>1</td></tr>",
                            "<tr><td>225</td><td>3</td><td>Clothing</td><td>19</td><td>Caps</td><td>2</td></tr>",
                            "<tr><td>225</td><td>3</td><td>Clothing</td><td>19</td><td>Caps</td><td>3</td></tr>",
                            "<tr><td>225</td><td>3</td><td>Clothing</td><td>19</td><td>Caps</td><td>4</td></tr>",
                            "<tr><td>229</td><td>3</td><td>Clothing</td><td>21</td><td>Jerseys</td><td>1</td></tr>",
                            "<tr><td>230</td><td>3</td><td>Clothing</td><td>21</td><td>Jerseys</td><td>1</td></tr>",
                            "<tr><td>230</td><td>3</td><td>Clothing</td><td>21</td><td>Jerseys</td><td>2</td></tr>",
                            "<tr><td>231</td><td>3</td><td>Clothing</td><td>21</td><td>Jerseys</td><td>1</td></tr>",
                            "<tr><td>231</td><td>3</td><td>Clothing</td><td>21</td><td>Jerseys</td><td>2</td></tr>",
                            "<tr><td>231</td><td>3</td><td>Clothing</td><td>21</td><td>Jerseys</td><td>3</td></tr>",
                            "<tr><td>232</td><td>3</td><td>Clothing</td><td>21</td><td>Jerseys</td><td>1</td></tr>",
                            "<tr><td>232</td><td>3</td><td>Clothing</td><td>21</td><td>Jerseys</td><td>2</td></tr>",
                            "<tr><td>232</td><td>3</td><td>Clothing</td><td>21</td><td>Jerseys</td><td>3</td></tr>",
                            "<tr><td>233</td><td>3</td><td>Clothing</td><td>21</td><td>Jerseys</td><td>1</td></tr>",
                            "<tr><td>233</td><td>3</td><td>Clothing</td><td>21</td><td>Jerseys</td><td>2</td></tr>",
                            "<tr><td>233</td><td>3</td><td>Clothing</td><td>21</td><td>Jerseys</td><td>3</td></tr>",
                            "<tr><td>233</td><td>3</td><td>Clothing</td><td>21</td><td>Jerseys</td><td>4</td></tr>",
                            "<tr><td>234</td><td>3</td><td>Clothing</td><td>21</td><td>Jerseys</td><td>1</td></tr>",
                            "<tr><td>234</td><td>3</td><td>Clothing</td><td>21</td><td>Jerseys</td><td>2</td></tr>",
                            "<tr><td>234</td><td>3</td><td>Clothing</td><td>21</td><td>Jerseys</td><td>3</td></tr>",
                            "<tr><td>235</td><td>3</td><td>Clothing</td><td>21</td><td>Jerseys</td><td>1</td></tr>",
                            "<tr><td>236</td><td>3</td><td>Clothing</td><td>21</td><td>Jerseys</td><td>1</td></tr>",
                            "<tr><td>236</td><td>3</td><td>Clothing</td><td>21</td><td>Jerseys</td><td>2</td></tr>",
                            "<tr><td>237</td><td>3</td><td>Clothing</td><td>21</td><td>Jerseys</td><td>1</td></tr>",
                            "<tr><td>237</td><td>3</td><td>Clothing</td><td>21</td><td>Jerseys</td><td>2</td></tr>",
                            "<tr><td>238</td><td>2</td><td>Components</td><td>14</td><td>Road Frames</td><td>1</td></tr>",
                            "<tr><td>239</td><td>2</td><td>Components</td><td>14</td><td>Road Frames</td><td>1</td></tr>",
                            "<tr><td>240</td><td>2</td><td>Components</td><td>14</td><td>Road Frames</td><td>1</td></tr>",
                            "<tr><td>241</td><td>2</td><td>Components</td><td>14</td><td>Road Frames</td><td>1</td></tr>",
                            "<tr><td>242</td><td>2</td><td>Components</td><td>14</td><td>Road Frames</td><td>1</td></tr>",
                            "<tr><td>243</td><td>2</td><td>Components</td><td>14</td><td>Road Frames</td><td>1</td></tr>",
                            "<tr><td>245</td><td>2</td><td>Components</td><td>14</td><td>Road Frames</td><td>1</td></tr>",
                            "<tr><td>246</td><td>2</td><td>Components</td><td>14</td><td>Road Frames</td><td>1</td></tr>",
                            "<tr><td>253</td><td>2</td><td>Components</td><td>14</td><td>Road Frames</td><td>1</td></tr>",
                            "<tr><td>254</td><td>2</td><td>Components</td><td>14</td><td>Road Frames</td><td>1</td></tr>",
                            "<tr><td>255</td><td>2</td><td>Components</td><td>14</td><td>Road Frames</td><td>1</td></tr>",
                            "<tr><td>256</td><td>2</td><td>Components</td><td>14</td><td>Road Frames</td><td>1</td></tr>",
                            "<tr><td>257</td><td>2</td><td>Components</td><td>14</td><td>Road Frames</td><td>1</td></tr>",
                            "<tr><td>258</td><td>2</td><td>Components</td><td>14</td><td>Road Frames</td><td>1</td></tr>",
                            "<tr><td>262</td><td>2</td><td>Components</td><td>14</td><td>Road Frames</td><td>1</td></tr>",
                            "<tr><td>263</td><td>2</td><td>Components</td><td>14</td><td>Road Frames</td><td>1</td></tr>",
                            "<tr><td>263</td><td>2</td><td>Components</td><td>14</td><td>Road Frames</td><td>2</td></tr>",
                            "<tr><td>264</td><td>2</td><td>Components</td><td>14</td><td>Road Frames</td><td>1</td></tr>",
                            "<tr><td>265</td><td>2</td><td>Components</td><td>14</td><td>Road Frames</td><td>1</td></tr>",
                            "<tr><td>266</td><td>2</td><td>Components</td><td>14</td><td>Road Frames</td><td>1</td></tr>",
                            "<tr><td>267</td><td>2</td><td>Components</td><td>14</td><td>Road Frames</td><td>1</td></tr>",
                            "<tr><td>270</td><td>2</td><td>Components</td><td>14</td><td>Road Frames</td><td>1</td></tr>",
                            "<tr><td>271</td><td>2</td><td>Components</td><td>14</td><td>Road Frames</td><td>1</td></tr>",
                            "<tr><td>272</td><td>2</td><td>Components</td><td>14</td><td>Road Frames</td><td>1</td></tr>",
                            "<tr><td>273</td><td>2</td><td>Components</td><td>14</td><td>Road Frames</td><td>1</td></tr>",
                            "<tr><td>273</td><td>2</td><td>Components</td><td>14</td><td>Road Frames</td><td>2</td></tr>",
                            "<tr><td>275</td><td>2</td><td>Components</td><td>14</td><td>Road Frames</td><td>1</td></tr>",
                            "<tr><td>276</td><td>2</td><td>Components</td><td>14</td><td>Road Frames</td><td>1</td></tr>",
                            "<tr><td>279</td><td>2</td><td>Components</td><td>14</td><td>Road Frames</td><td>1</td></tr>",
                            "<tr><td>280</td><td>2</td><td>Components</td><td>14</td><td>Road Frames</td><td>1</td></tr>",
                            "<tr><td>281</td><td>2</td><td>Components</td><td>14</td><td>Road Frames</td><td>1</td></tr>",
                            "<tr><td>285</td><td>2</td><td>Components</td><td>14</td><td>Road Frames</td><td>1</td></tr>",
                            "<tr><td>286</td><td>2</td><td>Components</td><td>14</td><td>Road Frames</td><td>1</td></tr>",
                            "<tr><td>286</td><td>2</td><td>Components</td><td>14</td><td>Road Frames</td><td>2</td></tr>",
                            "<tr><td>287</td><td>2</td><td>Components</td><td>14</td><td>Road Frames</td><td>1</td></tr>",
                            "<tr><td>287</td><td>2</td><td>Components</td><td>14</td><td>Road Frames</td><td>2</td></tr>",
                            "<tr><td>288</td><td>2</td><td>Components</td><td>12</td><td>Mountain Frames</td><td>1</td></tr>",
                            "<tr><td>289</td><td>2</td><td>Components</td><td>12</td><td>Mountain Frames</td><td>1</td></tr>",
                            "<tr><td>290</td><td>2</td><td>Components</td><td>12</td><td>Mountain Frames</td><td>1</td></tr>",
                            "<tr><td>292</td><td>2</td><td>Components</td><td>12</td><td>Mountain Frames</td><td>1</td></tr>",
                            "<tr><td>293</td><td>2</td><td>Components</td><td>12</td><td>Mountain Frames</td><td>1</td></tr>",
                            "<tr><td>294</td><td>2</td><td>Components</td><td>12</td><td>Mountain Frames</td><td>1</td></tr>",
                            "<tr><td>295</td><td>2</td><td>Components</td><td>12</td><td>Mountain Frames</td><td>1</td></tr>",
                            "<tr><td>296</td><td>2</td><td>Components</td><td>12</td><td>Mountain Frames</td><td>1</td></tr>",
                            "<tr><td>297</td><td>2</td><td>Components</td><td>12</td><td>Mountain Frames</td><td>1</td></tr>",
                            "<tr><td>298</td><td>2</td><td>Components</td><td>12</td><td>Mountain Frames</td><td>1</td></tr>",
                            "<tr><td>299</td><td>2</td><td>Components</td><td>12</td><td>Mountain Frames</td><td>1</td></tr>",
                            "<tr><td>300</td><td>2</td><td>Components</td><td>12</td><td>Mountain Frames</td><td>1</td></tr>",
                            "<tr><td>304</td><td>2</td><td>Components</td><td>12</td><td>Mountain Frames</td><td>1</td></tr>",
                            "<tr><td>305</td><td>2</td><td>Components</td><td>12</td><td>Mountain Frames</td><td>1</td></tr>",
                            "<tr><td>306</td><td>2</td><td>Components</td><td>12</td><td>Mountain Frames</td><td>1</td></tr>",
                            "<tr><td>307</td><td>2</td><td>Components</td><td>12</td><td>Mountain Frames</td><td>1</td></tr>",
                            "<tr><td>308</td><td>2</td><td>Components</td><td>12</td><td>Mountain Frames</td><td>1</td></tr>",
                            "<tr><td>309</td><td>2</td><td>Components</td><td>12</td><td>Mountain Frames</td><td>1</td></tr>",
                            "<tr><td>309</td><td>2</td><td>Components</td><td>12</td><td>Mountain Frames</td><td>2</td></tr>",
                            "<tr><td>310</td><td>1</td><td>Bikes</td><td>2</td><td>Road Bikes</td><td>1</td></tr>",
                            "<tr><td>311</td><td>1</td><td>Bikes</td><td>2</td><td>Road Bikes</td><td>1</td></tr>",
                            "<tr><td>312</td><td>1</td><td>Bikes</td><td>2</td><td>Road Bikes</td><td>1</td></tr>",
                            "<tr><td>313</td><td>1</td><td>Bikes</td><td>2</td><td>Road Bikes</td><td>1</td></tr>",
                            "<tr><td>314</td><td>1</td><td>Bikes</td><td>2</td><td>Road Bikes</td><td>1</td></tr>",
                            "<tr><td>315</td><td>1</td><td>Bikes</td><td>2</td><td>Road Bikes</td><td>1</td></tr>",
                            "<tr><td>315</td><td>1</td><td>Bikes</td><td>2</td><td>Road Bikes</td><td>2</td></tr>",
                            "<tr><td>316</td><td>1</td><td>Bikes</td><td>2</td><td>Road Bikes</td><td>1</td></tr>",
                            "<tr><td>317</td><td>1</td><td>Bikes</td><td>2</td><td>Road Bikes</td><td>1</td></tr>",
                            "<tr><td>318</td><td>1</td><td>Bikes</td><td>2</td><td>Road Bikes</td><td>1</td></tr>",
                            "<tr><td>319</td><td>1</td><td>Bikes</td><td>2</td><td>Road Bikes</td><td>1</td></tr>",
                            "<tr><td>320</td><td>1</td><td>Bikes</td><td>2</td><td>Road Bikes</td><td>1</td></tr>",
                            "<tr><td>321</td><td>1</td><td>Bikes</td><td>2</td><td>Road Bikes</td><td>1</td></tr>",
                            "<tr><td>322</td><td>1</td><td>Bikes</td><td>2</td><td>Road Bikes</td><td>1</td></tr>",
                            "<tr><td>322</td><td>1</td><td>Bikes</td><td>2</td><td>Road Bikes</td><td>2</td></tr>",
                            "<tr><td>323</td><td>1</td><td>Bikes</td><td>2</td><td>Road Bikes</td><td>1</td></tr>",
                            "<tr><td>323</td><td>1</td><td>Bikes</td><td>2</td><td>Road Bikes</td><td>2</td></tr>",
                            "<tr><td>323</td><td>1</td><td>Bikes</td><td>2</td><td>Road Bikes</td><td>3</td></tr>",
                            "<tr><td>324</td><td>1</td><td>Bikes</td><td>2</td><td>Road Bikes</td><td>1</td></tr>",
                            "<tr><td>325</td><td>1</td><td>Bikes</td><td>2</td><td>Road Bikes</td><td>1</td></tr>",
                            "<tr><td>325</td><td>1</td><td>Bikes</td><td>2</td><td>Road Bikes</td><td>2</td></tr>",
                            "<tr><td>325</td><td>1</td><td>Bikes</td><td>2</td><td>Road Bikes</td><td>3</td></tr>",
                            "<tr><td>326</td><td>1</td><td>Bikes</td><td>2</td><td>Road Bikes</td><td>1</td></tr>",
                            "<tr><td>327</td><td>1</td><td>Bikes</td><td>2</td><td>Road Bikes</td><td>1</td></tr>",
                            "<tr><td>327</td><td>1</td><td>Bikes</td><td>2</td><td>Road Bikes</td><td>2</td></tr>",
                            "<tr><td>327</td><td>1</td><td>Bikes</td><td>2</td><td>Road Bikes</td><td>3</td></tr>",
                            "<tr><td>327</td><td>1</td><td>Bikes</td><td>2</td><td>Road Bikes</td><td>9</td></tr>",
                            "<tr><td>328</td><td>1</td><td>Bikes</td><td>2</td><td>Road Bikes</td><td>1</td></tr>",
                            "<tr><td>329</td><td>1</td><td>Bikes</td><td>2</td><td>Road Bikes</td><td>1</td></tr>",
                            "<tr><td>329</td><td>1</td><td>Bikes</td><td>2</td><td>Road Bikes</td><td>2</td></tr>",
                            "<tr><td>329</td><td>1</td><td>Bikes</td><td>2</td><td>Road Bikes</td><td>3</td></tr>",
                            "<tr><td>330</td><td>1</td><td>Bikes</td><td>2</td><td>Road Bikes</td><td>1</td></tr>",
                            "<tr><td>331</td><td>1</td><td>Bikes</td><td>2</td><td>Road Bikes</td><td>1</td></tr>",
                            "<tr><td>332</td><td>1</td><td>Bikes</td><td>2</td><td>Road Bikes</td><td>1</td></tr>",
                            "<tr><td>333</td><td>1</td><td>Bikes</td><td>2</td><td>Road Bikes</td><td>1</td></tr>",
                            "<tr><td>333</td><td>1</td><td>Bikes</td><td>2</td><td>Road Bikes</td><td>2</td></tr>",
                            "<tr><td>333</td><td>1</td><td>Bikes</td><td>2</td><td>Road Bikes</td><td>3</td></tr>",
                            "<tr><td>334</td><td>1</td><td>Bikes</td><td>2</td><td>Road Bikes</td><td>1</td></tr>",
                            "<tr><td>335</td><td>1</td><td>Bikes</td><td>2</td><td>Road Bikes</td><td>1</td></tr>",
                            "<tr><td>335</td><td>1</td><td>Bikes</td><td>2</td><td>Road Bikes</td><td>2</td></tr>",
                            "<tr><td>336</td><td>1</td><td>Bikes</td><td>2</td><td>Road Bikes</td><td>1</td></tr>",
                            "<tr><td>337</td><td>1</td><td>Bikes</td><td>2</td><td>Road Bikes</td><td>1</td></tr>",
                            "<tr><td>338</td><td>1</td><td>Bikes</td><td>2</td><td>Road Bikes</td><td>1</td></tr>",
                            "<tr><td>339</td><td>1</td><td>Bikes</td><td>2</td><td>Road Bikes</td><td>1</td></tr>",
                            "<tr><td>339</td><td>1</td><td>Bikes</td><td>2</td><td>Road Bikes</td><td>2</td></tr>",
                            "<tr><td>340</td><td>1</td><td>Bikes</td><td>2</td><td>Road Bikes</td><td>1</td></tr>",
                            "<tr><td>341</td><td>1</td><td>Bikes</td><td>2</td><td>Road Bikes</td><td>1</td></tr>",
                            "<tr><td>342</td><td>1</td><td>Bikes</td><td>2</td><td>Road Bikes</td><td>1</td></tr>",
                            "<tr><td>342</td><td>1</td><td>Bikes</td><td>2</td><td>Road Bikes</td><td>2</td></tr>",
                            "<tr><td>343</td><td>1</td><td>Bikes</td><td>2</td><td>Road Bikes</td><td>1</td></tr>",
                            "<tr><td>343</td><td>1</td><td>Bikes</td><td>2</td><td>Road Bikes</td><td>2</td></tr>",
                            "<tr><td>343</td><td>1</td><td>Bikes</td><td>2</td><td>Road Bikes</td><td>3</td></tr>",
                            "<tr><td>344</td><td>1</td><td>Bikes</td><td>1</td><td>Mountain Bikes</td><td>1</td></tr>",
                            "<tr><td>344</td><td>1</td><td>Bikes</td><td>1</td><td>Mountain Bikes</td><td>7</td></tr>",
                            "<tr><td>345</td><td>1</td><td>Bikes</td><td>1</td><td>Mountain Bikes</td><td>1</td></tr>",
                            "<tr><td>345</td><td>1</td><td>Bikes</td><td>1</td><td>Mountain Bikes</td><td>2</td></tr>",
                            "<tr><td>345</td><td>1</td><td>Bikes</td><td>1</td><td>Mountain Bikes</td><td>7</td></tr>",
                            "<tr><td>346</td><td>1</td><td>Bikes</td><td>1</td><td>Mountain Bikes</td><td>1</td></tr>",
                            "<tr><td>346</td><td>1</td><td>Bikes</td><td>1</td><td>Mountain Bikes</td><td>2</td></tr>",
                            "<tr><td>346</td><td>1</td><td>Bikes</td><td>1</td><td>Mountain Bikes</td><td>7</td></tr>",
                            "<tr><td>347</td><td>1</td><td>Bikes</td><td>1</td><td>Mountain Bikes</td><td>1</td></tr>",
                            "<tr><td>347</td><td>1</td><td>Bikes</td><td>1</td><td>Mountain Bikes</td><td>7</td></tr>",
                            "<tr><td>348</td><td>1</td><td>Bikes</td><td>1</td><td>Mountain Bikes</td><td>1</td></tr>",
                            "<tr><td>348</td><td>1</td><td>Bikes</td><td>1</td><td>Mountain Bikes</td><td>2</td></tr>",
                            "<tr><td>348</td><td>1</td><td>Bikes</td><td>1</td><td>Mountain Bikes</td><td>7</td></tr>",
                            "<tr><td>349</td><td>1</td><td>Bikes</td><td>1</td><td>Mountain Bikes</td><td>1</td></tr>",
                            "<tr><td>349</td><td>1</td><td>Bikes</td><td>1</td><td>Mountain Bikes</td><td>2</td></tr>",
                            "<tr><td>349</td><td>1</td><td>Bikes</td><td>1</td><td>Mountain Bikes</td><td>7</td></tr>",
                            "<tr><td>350</td><td>1</td><td>Bikes</td><td>1</td><td>Mountain Bikes</td><td>1</td></tr>",
                            "<tr><td>350</td><td>1</td><td>Bikes</td><td>1</td><td>Mountain Bikes</td><td>2</td></tr>",
                            "<tr><td>350</td><td>1</td><td>Bikes</td><td>1</td><td>Mountain Bikes</td><td>7</td></tr>",
                            "<tr><td>351</td><td>1</td><td>Bikes</td><td>1</td><td>Mountain Bikes</td><td>1</td></tr>",
                            "<tr><td>351</td><td>1</td><td>Bikes</td><td>1</td><td>Mountain Bikes</td><td>7</td></tr>",
                            "<tr><td>352</td><td>1</td><td>Bikes</td><td>1</td><td>Mountain Bikes</td><td>1</td></tr>",
                            "<tr><td>352</td><td>1</td><td>Bikes</td><td>1</td><td>Mountain Bikes</td><td>2</td></tr>",
                            "<tr><td>353</td><td>1</td><td>Bikes</td><td>1</td><td>Mountain Bikes</td><td>1</td></tr>",
                            "<tr><td>353</td><td>1</td><td>Bikes</td><td>1</td><td>Mountain Bikes</td><td>2</td></tr>",
                            "<tr><td>354</td><td>1</td><td>Bikes</td><td>1</td><td>Mountain Bikes</td><td>1</td></tr>",
                            "<tr><td>354</td><td>1</td><td>Bikes</td><td>1</td><td>Mountain Bikes</td><td>2</td></tr>",
                            "<tr><td>355</td><td>1</td><td>Bikes</td><td>1</td><td>Mountain Bikes</td><td>1</td></tr>",
                            "<tr><td>355</td><td>1</td><td>Bikes</td><td>1</td><td>Mountain Bikes</td><td>2</td></tr>",
                            "<tr><td>355</td><td>1</td><td>Bikes</td><td>1</td><td>Mountain Bikes</td><td>3</td></tr>",
                            "<tr><td>356</td><td>1</td><td>Bikes</td><td>1</td><td>Mountain Bikes</td><td>1</td></tr>",
                            "<tr><td>356</td><td>1</td><td>Bikes</td><td>1</td><td>Mountain Bikes</td><td>2</td></tr>",
                            "<tr><td>357</td><td>1</td><td>Bikes</td><td>1</td><td>Mountain Bikes</td><td>1</td></tr>",
                            "<tr><td>357</td><td>1</td><td>Bikes</td><td>1</td><td>Mountain Bikes</td><td>2</td></tr>",
                            "<tr><td>358</td><td>1</td><td>Bikes</td><td>1</td><td>Mountain Bikes</td><td>1</td></tr>",
                            "<tr><td>358</td><td>1</td><td>Bikes</td><td>1</td><td>Mountain Bikes</td><td>2</td></tr>",
                            "<tr><td>359</td><td>1</td><td>Bikes</td><td>1</td><td>Mountain Bikes</td><td>1</td></tr>",
                            "<tr><td>359</td><td>1</td><td>Bikes</td><td>1</td><td>Mountain Bikes</td><td>2</td></tr>",
                            "<tr><td>359</td><td>1</td><td>Bikes</td><td>1</td><td>Mountain Bikes</td><td>3</td></tr>",
                            "<tr><td>360</td><td>1</td><td>Bikes</td><td>1</td><td>Mountain Bikes</td><td>1</td></tr>",
                            "<tr><td>360</td><td>1</td><td>Bikes</td><td>1</td><td>Mountain Bikes</td><td>2</td></tr>",
                            "<tr><td>360</td><td>1</td><td>Bikes</td><td>1</td><td>Mountain Bikes</td><td>3</td></tr>",
                            "<tr><td>361</td><td>1</td><td>Bikes</td><td>1</td><td>Mountain Bikes</td><td>1</td></tr>",
                            "<tr><td>361</td><td>1</td><td>Bikes</td><td>1</td><td>Mountain Bikes</td><td>2</td></tr>",
                            "<tr><td>361</td><td>1</td><td>Bikes</td><td>1</td><td>Mountain Bikes</td><td>3</td></tr>",
                            "<tr><td>362</td><td>1</td><td>Bikes</td><td>1</td><td>Mountain Bikes</td><td>1</td></tr>",
                            "<tr><td>362</td><td>1</td><td>Bikes</td><td>1</td><td>Mountain Bikes</td><td>2</td></tr>",
                            "<tr><td>363</td><td>1</td><td>Bikes</td><td>1</td><td>Mountain Bikes</td><td>1</td></tr>",
                            "<tr><td>363</td><td>1</td><td>Bikes</td><td>1</td><td>Mountain Bikes</td><td>2</td></tr>",
                            "<tr><td>364</td><td>1</td><td>Bikes</td><td>1</td><td>Mountain Bikes</td><td>1</td></tr>",
                            "<tr><td>364</td><td>1</td><td>Bikes</td><td>1</td><td>Mountain Bikes</td><td>2</td></tr>",
                            "<tr><td>365</td><td>1</td><td>Bikes</td><td>1</td><td>Mountain Bikes</td><td>1</td></tr>",
                            "<tr><td>365</td><td>1</td><td>Bikes</td><td>1</td><td>Mountain Bikes</td><td>2</td></tr>",
                            "<tr><td>366</td><td>1</td><td>Bikes</td><td>1</td><td>Mountain Bikes</td><td>1</td></tr>",
                            "<tr><td>367</td><td>1</td><td>Bikes</td><td>1</td><td>Mountain Bikes</td><td>1</td></tr>",
                            "<tr><td>367</td><td>1</td><td>Bikes</td><td>1</td><td>Mountain Bikes</td><td>2</td></tr>",
                            "<tr><td>368</td><td>1</td><td>Bikes</td><td>2</td><td>Road Bikes</td><td>1</td></tr>",
                            "<tr><td>368</td><td>1</td><td>Bikes</td><td>2</td><td>Road Bikes</td><td>2</td></tr>",
                            "<tr><td>368</td><td>1</td><td>Bikes</td><td>2</td><td>Road Bikes</td><td>3</td></tr>",
                            "<tr><td>369</td><td>1</td><td>Bikes</td><td>2</td><td>Road Bikes</td><td>1</td></tr>",
                            "<tr><td>369</td><td>1</td><td>Bikes</td><td>2</td><td>Road Bikes</td><td>2</td></tr>",
                            "<tr><td>370</td><td>1</td><td>Bikes</td><td>2</td><td>Road Bikes</td><td>1</td></tr>",
                            "<tr><td>371</td><td>1</td><td>Bikes</td><td>2</td><td>Road Bikes</td><td>1</td></tr>",
                            "<tr><td>372</td><td>1</td><td>Bikes</td><td>2</td><td>Road Bikes</td><td>1</td></tr>",
                            "<tr><td>373</td><td>1</td><td>Bikes</td><td>2</td><td>Road Bikes</td><td>1</td></tr>",
                            "<tr><td>373</td><td>1</td><td>Bikes</td><td>2</td><td>Road Bikes</td><td>2</td></tr>",
                            "<tr><td>374</td><td>1</td><td>Bikes</td><td>2</td><td>Road Bikes</td><td>1</td></tr>",
                            "<tr><td>375</td><td>1</td><td>Bikes</td><td>2</td><td>Road Bikes</td><td>1</td></tr>",
                            "<tr><td>375</td><td>1</td><td>Bikes</td><td>2</td><td>Road Bikes</td><td>2</td></tr>",
                            "<tr><td>376</td><td>1</td><td>Bikes</td><td>2</td><td>Road Bikes</td><td>1</td></tr>",
                            "<tr><td>376</td><td>1</td><td>Bikes</td><td>2</td><td>Road Bikes</td><td>2</td></tr>",
                            "<tr><td>377</td><td>1</td><td>Bikes</td><td>2</td><td>Road Bikes</td><td>1</td></tr>",
                            "<tr><td>378</td><td>1</td><td>Bikes</td><td>2</td><td>Road Bikes</td><td>1</td></tr>",
                            "<tr><td>379</td><td>1</td><td>Bikes</td><td>2</td><td>Road Bikes</td><td>1</td></tr>",
                            "<tr><td>380</td><td>1</td><td>Bikes</td><td>2</td><td>Road Bikes</td><td>1</td></tr>",
                            "<tr><td>381</td><td>1</td><td>Bikes</td><td>2</td><td>Road Bikes</td><td>1</td></tr>",
                            "<tr><td>381</td><td>1</td><td>Bikes</td><td>2</td><td>Road Bikes</td><td>2</td></tr>",
                            "<tr><td>382</td><td>1</td><td>Bikes</td><td>2</td><td>Road Bikes</td><td>1</td></tr>",
                            "<tr><td>382</td><td>1</td><td>Bikes</td><td>2</td><td>Road Bikes</td><td>2</td></tr>",
                            "<tr><td>383</td><td>1</td><td>Bikes</td><td>2</td><td>Road Bikes</td><td>1</td></tr>",
                            "<tr><td>384</td><td>1</td><td>Bikes</td><td>2</td><td>Road Bikes</td><td>1</td></tr>",
                            "<tr><td>384</td><td>1</td><td>Bikes</td><td>2</td><td>Road Bikes</td><td>2</td></tr>",
                            "<tr><td>385</td><td>1</td><td>Bikes</td><td>2</td><td>Road Bikes</td><td>1</td></tr>",
                            "<tr><td>386</td><td>1</td><td>Bikes</td><td>2</td><td>Road Bikes</td><td>1</td></tr>",
                            "<tr><td>387</td><td>1</td><td>Bikes</td><td>2</td><td>Road Bikes</td><td>1</td></tr>",
                            "<tr><td>388</td><td>1</td><td>Bikes</td><td>2</td><td>Road Bikes</td><td>1</td></tr>",
                            "<tr><td>389</td><td>1</td><td>Bikes</td><td>2</td><td>Road Bikes</td><td>1</td></tr>",
                            "<tr><td>389</td><td>1</td><td>Bikes</td><td>2</td><td>Road Bikes</td><td>2</td></tr>",
                            "<tr><td>389</td><td>1</td><td>Bikes</td><td>2</td><td>Road Bikes</td><td>3</td></tr>",
                            "<tr><td>390</td><td>1</td><td>Bikes</td><td>2</td><td>Road Bikes</td><td>1</td></tr>",
                            "<tr><td>390</td><td>1</td><td>Bikes</td><td>2</td><td>Road Bikes</td><td>2</td></tr>",
                            "<tr><td>391</td><td>2</td><td>Components</td><td>10</td><td>Forks</td><td>1</td></tr>",
                            "<tr><td>393</td><td>2</td><td>Components</td><td>10</td><td>Forks</td><td>1</td></tr>",
                            "<tr><td>393</td><td>2</td><td>Components</td><td>10</td><td>Forks</td><td>2</td></tr>",
                            "<tr><td>394</td><td>2</td><td>Components</td><td>11</td><td>Headsets</td><td>1</td></tr>",
                            "<tr><td>395</td><td>2</td><td>Components</td><td>11</td><td>Headsets</td><td>1</td></tr>",
                            "<tr><td>395</td><td>2</td><td>Components</td><td>11</td><td>Headsets</td><td>2</td></tr>",
                            "<tr><td>395</td><td>2</td><td>Components</td><td>11</td><td>Headsets</td><td>3</td></tr>",
                            "<tr><td>396</td><td>2</td><td>Components</td><td>11</td><td>Headsets</td><td>1</td></tr>",
                            "<tr><td>397</td><td>2</td><td>Components</td><td>4</td><td>Handlebars</td><td>1</td></tr>",
                            "<tr><td>398</td><td>2</td><td>Components</td><td>4</td><td>Handlebars</td><td>1</td></tr>",
                            "<tr><td>398</td><td>2</td><td>Components</td><td>4</td><td>Handlebars</td><td>2</td></tr>",
                            "<tr><td>398</td><td>2</td><td>Components</td><td>4</td><td>Handlebars</td><td>3</td></tr>",
                            "<tr><td>399</td><td>2</td><td>Components</td><td>4</td><td>Handlebars</td><td>1</td></tr>",
                            "<tr><td>399</td><td>2</td><td>Components</td><td>4</td><td>Handlebars</td><td>2</td></tr>",
                            "<tr><td>400</td><td>2</td><td>Components</td><td>4</td><td>Handlebars</td><td>1</td></tr>",
                            "<tr><td>400</td><td>2</td><td>Components</td><td>4</td><td>Handlebars</td><td>2</td></tr>",
                            "<tr><td>401</td><td>2</td><td>Components</td><td>4</td><td>Handlebars</td><td>1</td></tr>",
                            "<tr><td>402</td><td>2</td><td>Components</td><td>4</td><td>Handlebars</td><td>1</td></tr>",
                            "<tr><td>403</td><td>2</td><td>Components</td><td>4</td><td>Handlebars</td><td>1</td></tr>",
                            "<tr><td>404</td><td>2</td><td>Components</td><td>4</td><td>Handlebars</td><td>1</td></tr>",
                            "<tr><td>407</td><td>2</td><td>Components</td><td>4</td><td>Handlebars</td><td>1</td></tr>",
                            "<tr><td>408</td><td>2</td><td>Components</td><td>4</td><td>Handlebars</td><td>1</td></tr>",
                            "<tr><td>409</td><td>2</td><td>Components</td><td>12</td><td>Mountain Frames</td><td>1</td></tr>",
                            "<tr><td>410</td><td>2</td><td>Components</td><td>17</td><td>Wheels</td><td>1</td></tr>",
                            "<tr><td>410</td><td>2</td><td>Components</td><td>17</td><td>Wheels</td><td>2</td></tr>",
                            "<tr><td>411</td><td>2</td><td>Components</td><td>17</td><td>Wheels</td><td>1</td></tr>",
                            "<tr><td>412</td><td>2</td><td>Components</td><td>17</td><td>Wheels</td><td>1</td></tr>",
                            "<tr><td>414</td><td>2</td><td>Components</td><td>17</td><td>Wheels</td><td>1</td></tr>",
                            "<tr><td>415</td><td>2</td><td>Components</td><td>17</td><td>Wheels</td><td>1</td></tr>",
                            "<tr><td>417</td><td>2</td><td>Components</td><td>14</td><td>Road Frames</td><td>1</td></tr>",
                            "<tr><td>418</td><td>2</td><td>Components</td><td>14</td><td>Road Frames</td><td>1</td></tr>",
                            "<tr><td>419</td><td>2</td><td>Components</td><td>17</td><td>Wheels</td><td>1</td></tr>",
                            "<tr><td>420</td><td>2</td><td>Components</td><td>17</td><td>Wheels</td><td>1</td></tr>",
                            "<tr><td>420</td><td>2</td><td>Components</td><td>17</td><td>Wheels</td><td>2</td></tr>",
                            "<tr><td>420</td><td>2</td><td>Components</td><td>17</td><td>Wheels</td><td>3</td></tr>",
                            "<tr><td>421</td><td>2</td><td>Components</td><td>17</td><td>Wheels</td><td>1</td></tr>",
                            "<tr><td>421</td><td>2</td><td>Components</td><td>17</td><td>Wheels</td><td>2</td></tr>",
                            "<tr><td>421</td><td>2</td><td>Components</td><td>17</td><td>Wheels</td><td>3</td></tr>",
                            "<tr><td>422</td><td>2</td><td>Components</td><td>17</td><td>Wheels</td><td>1</td></tr>",
                            "<tr><td>423</td><td>2</td><td>Components</td><td>17</td><td>Wheels</td><td>1</td></tr>",
                            "<tr><td>424</td><td>2</td><td>Components</td><td>17</td><td>Wheels</td><td>1</td></tr>",
                            "<tr><td>426</td><td>2</td><td>Components</td><td>12</td><td>Mountain Frames</td><td>1</td></tr>",
                            "<tr><td>427</td><td>2</td><td>Components</td><td>12</td><td>Mountain Frames</td><td>1</td></tr>",
                            "<tr><td>428</td><td>2</td><td>Components</td><td>12</td><td>Mountain Frames</td><td>1</td></tr>",
                            "<tr><td>428</td><td>2</td><td>Components</td><td>12</td><td>Mountain Frames</td><td>2</td></tr>",
                            "<tr><td>429</td><td>2</td><td>Components</td><td>14</td><td>Road Frames</td><td>1</td></tr>",
                            "<tr><td>430</td><td>2</td><td>Components</td><td>14</td><td>Road Frames</td><td>1</td></tr>",
                            "<tr><td>433</td><td>2</td><td>Components</td><td>14</td><td>Road Frames</td><td>1</td></tr>",
                            "<tr><td>433</td><td>2</td><td>Components</td><td>14</td><td>Road Frames</td><td>2</td></tr>",
                            "<tr><td>434</td><td>2</td><td>Components</td><td>14</td><td>Road Frames</td><td>1</td></tr>",
                            "<tr><td>434</td><td>2</td><td>Components</td><td>14</td><td>Road Frames</td><td>3</td></tr>",
                            "<tr><td>435</td><td>2</td><td>Components</td><td>14</td><td>Road Frames</td><td>1</td></tr>",
                            "<tr><td>436</td><td>2</td><td>Components</td><td>14</td><td>Road Frames</td><td>1</td></tr>",
                            "<tr><td>439</td><td>2</td><td>Components</td><td>14</td><td>Road Frames</td><td>1</td></tr>",
                            "<tr><td>440</td><td>2</td><td>Components</td><td>14</td><td>Road Frames</td><td>1</td></tr>",
                            "<tr><td>441</td><td>2</td><td>Components</td><td>14</td><td>Road Frames</td><td>1</td></tr>",
                            "<tr><td>442</td><td>2</td><td>Components</td><td>14</td><td>Road Frames</td><td>1</td></tr>",
                            "<tr><td>445</td><td>3</td><td>Clothing</td><td>22</td><td>Shorts</td><td>1</td></tr>",
                            "<tr><td>445</td><td>3</td><td>Clothing</td><td>22</td><td>Shorts</td><td>2</td></tr>",
                            "<tr><td>447</td><td>4</td><td>Accessories</td><td>34</td><td>Locks</td><td>1</td></tr>",
                            "<tr><td>447</td><td>4</td><td>Accessories</td><td>34</td><td>Locks</td><td>2</td></tr>",
                            "<tr><td>448</td><td>4</td><td>Accessories</td><td>36</td><td>Pumps</td><td>1</td></tr>",
                            "<tr><td>448</td><td>4</td><td>Accessories</td><td>36</td><td>Pumps</td><td>2</td></tr>",
                            "<tr><td>453</td><td>3</td><td>Clothing</td><td>22</td><td>Shorts</td><td>1</td></tr>",
                            "<tr><td>453</td><td>3</td><td>Clothing</td><td>22</td><td>Shorts</td><td>2</td></tr>",
                            "<tr><td>453</td><td>3</td><td>Clothing</td><td>22</td><td>Shorts</td><td>3</td></tr>",
                            "<tr><td>454</td><td>3</td><td>Clothing</td><td>22</td><td>Shorts</td><td>1</td></tr>",
                            "<tr><td>456</td><td>3</td><td>Clothing</td><td>24</td><td>Tights</td><td>1</td></tr>",
                            "<tr><td>456</td><td>3</td><td>Clothing</td><td>24</td><td>Tights</td><td>2</td></tr>",
                            "<tr><td>456</td><td>3</td><td>Clothing</td><td>24</td><td>Tights</td><td>3</td></tr>",
                            "<tr><td>456</td><td>3</td><td>Clothing</td><td>24</td><td>Tights</td><td>4</td></tr>",
                            "<tr><td>457</td><td>3</td><td>Clothing</td><td>24</td><td>Tights</td><td>1</td></tr>",
                            "<tr><td>458</td><td>3</td><td>Clothing</td><td>24</td><td>Tights</td><td>1</td></tr>",
                            "<tr><td>458</td><td>3</td><td>Clothing</td><td>24</td><td>Tights</td><td>2</td></tr>",
                            "<tr><td>458</td><td>3</td><td>Clothing</td><td>24</td><td>Tights</td><td>3</td></tr>",
                            "<tr><td>459</td><td>3</td><td>Clothing</td><td>18</td><td>Bib-Shorts</td><td>1</td></tr>",
                            "<tr><td>459</td><td>3</td><td>Clothing</td><td>18</td><td>Bib-Shorts</td><td>2</td></tr>",
                            "<tr><td>460</td><td>3</td><td>Clothing</td><td>18</td><td>Bib-Shorts</td><td>1</td></tr>",
                            "<tr><td>460</td><td>3</td><td>Clothing</td><td>18</td><td>Bib-Shorts</td><td>2</td></tr>",
                            "<tr><td>460</td><td>3</td><td>Clothing</td><td>18</td><td>Bib-Shorts</td><td>3</td></tr>",
                            "<tr><td>461</td><td>3</td><td>Clothing</td><td>18</td><td>Bib-Shorts</td><td>1</td></tr>",
                            "<tr><td>462</td><td>3</td><td>Clothing</td><td>20</td><td>Gloves</td><td>1</td></tr>",
                            "<tr><td>462</td><td>3</td><td>Clothing</td><td>20</td><td>Gloves</td><td>2</td></tr>",
                            "<tr><td>463</td><td>3</td><td>Clothing</td><td>20</td><td>Gloves</td><td>1</td></tr>",
                            "<tr><td>463</td><td>3</td><td>Clothing</td><td>20</td><td>Gloves</td><td>2</td></tr>",
                            "<tr><td>463</td><td>3</td><td>Clothing</td><td>20</td><td>Gloves</td><td>3</td></tr>",
                            "<tr><td>464</td><td>3</td><td>Clothing</td><td>20</td><td>Gloves</td><td>1</td></tr>",
                            "<tr><td>464</td><td>3</td><td>Clothing</td><td>20</td><td>Gloves</td><td>2</td></tr>",
                            "<tr><td>464</td><td>3</td><td>Clothing</td><td>20</td><td>Gloves</td><td>3</td></tr>",
                            "<tr><td>465</td><td>3</td><td>Clothing</td><td>20</td><td>Gloves</td><td>1</td></tr>",
                            "<tr><td>465</td><td>3</td><td>Clothing</td><td>20</td><td>Gloves</td><td>2</td></tr>",
                            "<tr><td>465</td><td>3</td><td>Clothing</td><td>20</td><td>Gloves</td><td>3</td></tr>",
                            "<tr><td>466</td><td>3</td><td>Clothing</td><td>20</td><td>Gloves</td><td>1</td></tr>",
                            "<tr><td>467</td><td>3</td><td>Clothing</td><td>20</td><td>Gloves</td><td>1</td></tr>",
                            "<tr><td>467</td><td>3</td><td>Clothing</td><td>20</td><td>Gloves</td><td>2</td></tr>",
                            "<tr><td>468</td><td>3</td><td>Clothing</td><td>20</td><td>Gloves</td><td>1</td></tr>",
                            "<tr><td>469</td><td>3</td><td>Clothing</td><td>20</td><td>Gloves</td><td>1</td></tr>",
                            "<tr><td>469</td><td>3</td><td>Clothing</td><td>20</td><td>Gloves</td><td>2</td></tr>",
                            "<tr><td>469</td><td>3</td><td>Clothing</td><td>20</td><td>Gloves</td><td>3</td></tr>",
                            "<tr><td>469</td><td>3</td><td>Clothing</td><td>20</td><td>Gloves</td><td>4</td></tr>",
                            "<tr><td>470</td><td>3</td><td>Clothing</td><td>20</td><td>Gloves</td><td>1</td></tr>",
                            "<tr><td>470</td><td>3</td><td>Clothing</td><td>20</td><td>Gloves</td><td>2</td></tr>",
                            "<tr><td>470</td><td>3</td><td>Clothing</td><td>20</td><td>Gloves</td><td>3</td></tr>",
                            "<tr><td>470</td><td>3</td><td>Clothing</td><td>20</td><td>Gloves</td><td>4</td></tr>",
                            "<tr><td>470</td><td>3</td><td>Clothing</td><td>20</td><td>Gloves</td><td>5</td></tr>",
                            "<tr><td>471</td><td>3</td><td>Clothing</td><td>25</td><td>Vests</td><td>1</td></tr>",
                            "<tr><td>471</td><td>3</td><td>Clothing</td><td>25</td><td>Vests</td><td>2</td></tr>",
                            "<tr><td>471</td><td>3</td><td>Clothing</td><td>25</td><td>Vests</td><td>3</td></tr>",
                            "<tr><td>471</td><td>3</td><td>Clothing</td><td>25</td><td>Vests</td><td>4</td></tr>",
                            "<tr><td>472</td><td>3</td><td>Clothing</td><td>25</td><td>Vests</td><td>1</td></tr>",
                            "<tr><td>472</td><td>3</td><td>Clothing</td><td>25</td><td>Vests</td><td>2</td></tr>",
                            "<tr><td>472</td><td>3</td><td>Clothing</td><td>25</td><td>Vests</td><td>3</td></tr>",
                            "<tr><td>473</td><td>3</td><td>Clothing</td><td>25</td><td>Vests</td><td>1</td></tr>",
                            "<tr><td>474</td><td>3</td><td>Clothing</td><td>22</td><td>Shorts</td><td>1</td></tr>",
                            "<tr><td>474</td><td>3</td><td>Clothing</td><td>22</td><td>Shorts</td><td>2</td></tr>",
                            "<tr><td>474</td><td>3</td><td>Clothing</td><td>22</td><td>Shorts</td><td>3</td></tr>",
                            "<tr><td>474</td><td>3</td><td>Clothing</td><td>22</td><td>Shorts</td><td>4</td></tr>",
                            "<tr><td>475</td><td>3</td><td>Clothing</td><td>22</td><td>Shorts</td><td>1</td></tr>",
                            "<tr><td>476</td><td>3</td><td>Clothing</td><td>22</td><td>Shorts</td><td>1</td></tr>",
                            "<tr><td>476</td><td>3</td><td>Clothing</td><td>22</td><td>Shorts</td><td>2</td></tr>",
                            "<tr><td>476</td><td>3</td><td>Clothing</td><td>22</td><td>Shorts</td><td>3</td></tr>",
                            "<tr><td>476</td><td>3</td><td>Clothing</td><td>22</td><td>Shorts</td><td>4</td></tr>",
                            "<tr><td>476</td><td>3</td><td>Clothing</td><td>22</td><td>Shorts</td><td>5</td></tr>",
                            "<tr><td>477</td><td>4</td><td>Accessories</td><td>28</td><td>Bottles and Cages</td><td>1</td></tr>",
                            "<tr><td>477</td><td>4</td><td>Accessories</td><td>28</td><td>Bottles and Cages</td><td>2</td></tr>",
                            "<tr><td>477</td><td>4</td><td>Accessories</td><td>28</td><td>Bottles and Cages</td><td>3</td></tr>",
                            "<tr><td>477</td><td>4</td><td>Accessories</td><td>28</td><td>Bottles and Cages</td><td>4</td></tr>",
                            "<tr><td>480</td><td>4</td><td>Accessories</td><td>37</td><td>Tires and Tubes</td><td>1</td></tr>",
                            "<tr><td>480</td><td>4</td><td>Accessories</td><td>37</td><td>Tires and Tubes</td><td>2</td></tr>",
                            "<tr><td>481</td><td>3</td><td>Clothing</td><td>23</td><td>Socks</td><td>1</td></tr>",
                            "<tr><td>481</td><td>3</td><td>Clothing</td><td>23</td><td>Socks</td><td>2</td></tr>",
                            "<tr><td>482</td><td>3</td><td>Clothing</td><td>23</td><td>Socks</td><td>1</td></tr>",
                            "<tr><td>482</td><td>3</td><td>Clothing</td><td>23</td><td>Socks</td><td>2</td></tr>",
                            "<tr><td>482</td><td>3</td><td>Clothing</td><td>23</td><td>Socks</td><td>3</td></tr>",
                            "<tr><td>482</td><td>3</td><td>Clothing</td><td>23</td><td>Socks</td><td>4</td></tr>",
                            "<tr><td>483</td><td>4</td><td>Accessories</td><td>26</td><td>Bike Racks</td><td>1</td></tr>",
                            "<tr><td>483</td><td>4</td><td>Accessories</td><td>26</td><td>Bike Racks</td><td>2</td></tr>",
                            "<tr><td>483</td><td>4</td><td>Accessories</td><td>26</td><td>Bike Racks</td><td>3</td></tr>",
                            "<tr><td>483</td><td>4</td><td>Accessories</td><td>26</td><td>Bike Racks</td><td>4</td></tr>",
                            "<tr><td>484</td><td>4</td><td>Accessories</td><td>29</td><td>Cleaners</td><td>1</td></tr>",
                            "<tr><td>484</td><td>4</td><td>Accessories</td><td>29</td><td>Cleaners</td><td>2</td></tr>",
                            "<tr><td>484</td><td>4</td><td>Accessories</td><td>29</td><td>Cleaners</td><td>3</td></tr>",
                            "<tr><td>484</td><td>4</td><td>Accessories</td><td>29</td><td>Cleaners</td><td>4</td></tr>",
                            "<tr><td>487</td><td>4</td><td>Accessories</td><td>32</td><td>Hydration Packs</td><td>1</td></tr>",
                            "<tr><td>487</td><td>4</td><td>Accessories</td><td>32</td><td>Hydration Packs</td><td>2</td></tr>",
                            "<tr><td>487</td><td>4</td><td>Accessories</td><td>32</td><td>Hydration Packs</td><td>3</td></tr>",
                            "<tr><td>488</td><td>3</td><td>Clothing</td><td>21</td><td>Jerseys</td><td>1</td></tr>",
                            "<tr><td>488</td><td>3</td><td>Clothing</td><td>21</td><td>Jerseys</td><td>2</td></tr>",
                            "<tr><td>488</td><td>3</td><td>Clothing</td><td>21</td><td>Jerseys</td><td>3</td></tr>",
                            "<tr><td>490</td><td>3</td><td>Clothing</td><td>21</td><td>Jerseys</td><td>1</td></tr>",
                            "<tr><td>490</td><td>3</td><td>Clothing</td><td>21</td><td>Jerseys</td><td>2</td></tr>",
                            "<tr><td>490</td><td>3</td><td>Clothing</td><td>21</td><td>Jerseys</td><td>3</td></tr>",
                            "<tr><td>491</td><td>3</td><td>Clothing</td><td>21</td><td>Jerseys</td><td>1</td></tr>",
                            "<tr><td>491</td><td>3</td><td>Clothing</td><td>21</td><td>Jerseys</td><td>2</td></tr>",
                            "<tr><td>491</td><td>3</td><td>Clothing</td><td>21</td><td>Jerseys</td><td>3</td></tr>",
                            "<tr><td>491</td><td>3</td><td>Clothing</td><td>21</td><td>Jerseys</td><td>4</td></tr>",
                            "<tr><td>492</td><td>2</td><td>Components</td><td>16</td><td>Touring Frames</td><td>1</td></tr>",
                            "<tr><td>492</td><td>2</td><td>Components</td><td>16</td><td>Touring Frames</td><td>2</td></tr>",
                            "<tr><td>493</td><td>2</td><td>Components</td><td>16</td><td>Touring Frames</td><td>1</td></tr>",
                            "<tr><td>493</td><td>2</td><td>Components</td><td>16</td><td>Touring Frames</td><td>3</td></tr>",
                            "<tr><td>494</td><td>2</td><td>Components</td><td>16</td><td>Touring Frames</td><td>1</td></tr>",
                            "<tr><td>495</td><td>2</td><td>Components</td><td>16</td><td>Touring Frames</td><td>1</td></tr>",
                            "<tr><td>496</td><td>2</td><td>Components</td><td>16</td><td>Touring Frames</td><td>1</td></tr>",
                            "<tr><td>496</td><td>2</td><td>Components</td><td>16</td><td>Touring Frames</td><td>2</td></tr>",
                            "<tr><td>497</td><td>2</td><td>Components</td><td>16</td><td>Touring Frames</td><td>1</td></tr>",
                            "<tr><td>498</td><td>2</td><td>Components</td><td>16</td><td>Touring Frames</td><td>1</td></tr>",
                            "<tr><td>499</td><td>2</td><td>Components</td><td>16</td><td>Touring Frames</td><td>1</td></tr>",
                            "<tr><td>499</td><td>2</td><td>Components</td><td>16</td><td>Touring Frames</td><td>2</td></tr>",
                            "<tr><td>499</td><td>2</td><td>Components</td><td>16</td><td>Touring Frames</td><td>3</td></tr>",
                            "<tr><td>500</td><td>2</td><td>Components</td><td>16</td><td>Touring Frames</td><td>1</td></tr>",
                            "<tr><td>500</td><td>2</td><td>Components</td><td>16</td><td>Touring Frames</td><td>2</td></tr>",
                            "<tr><td>500</td><td>2</td><td>Components</td><td>16</td><td>Touring Frames</td><td>3</td></tr>",
                            "<tr><td>501</td><td>2</td><td>Components</td><td>9</td><td>Derailleurs</td><td>1</td></tr>",
                            "<tr><td>502</td><td>2</td><td>Components</td><td>16</td><td>Touring Frames</td><td>1</td></tr>",
                            "<tr><td>503</td><td>2</td><td>Components</td><td>16</td><td>Touring Frames</td><td>1</td></tr>",
                            "<tr><td>504</td><td>2</td><td>Components</td><td>16</td><td>Touring Frames</td><td>1</td></tr>",
                            "<tr><td>505</td><td>2</td><td>Components</td><td>16</td><td>Touring Frames</td><td>1</td></tr>",
                            "<tr><td>506</td><td>2</td><td>Components</td><td>16</td><td>Touring Frames</td><td>1</td></tr>",
                            "<tr><td>506</td><td>2</td><td>Components</td><td>16</td><td>Touring Frames</td><td>2</td></tr>",
                            "<tr><td>507</td><td>2</td><td>Components</td><td>16</td><td>Touring Frames</td><td>1</td></tr>",
                            "<tr><td>509</td><td>2</td><td>Components</td><td>16</td><td>Touring Frames</td><td>1</td></tr>",
                            "<tr><td>510</td><td>2</td><td>Components</td><td>16</td><td>Touring Frames</td><td>1</td></tr>",
                            "<tr><td>511</td><td>2</td><td>Components</td><td>12</td><td>Mountain Frames</td><td>1</td></tr>",
                            "<tr><td>511</td><td>2</td><td>Components</td><td>12</td><td>Mountain Frames</td><td>2</td></tr>",
                            "<tr><td>512</td><td>2</td><td>Components</td><td>12</td><td>Mountain Frames</td><td>1</td></tr>",
                            "<tr><td>513</td><td>2</td><td>Components</td><td>12</td><td>Mountain Frames</td><td>1</td></tr>",
                            "<tr><td>514</td><td>2</td><td>Components</td><td>6</td><td>Brakes</td><td>1</td></tr>",
                            "<tr><td>515</td><td>2</td><td>Components</td><td>15</td><td>Saddles</td><td>1</td></tr>",
                            "<tr><td>515</td><td>2</td><td>Components</td><td>15</td><td>Saddles</td><td>2</td></tr>",
                            "<tr><td>516</td><td>2</td><td>Components</td><td>15</td><td>Saddles</td><td>1</td></tr>",
                            "<tr><td>516</td><td>2</td><td>Components</td><td>15</td><td>Saddles</td><td>2</td></tr>",
                            "<tr><td>517</td><td>2</td><td>Components</td><td>15</td><td>Saddles</td><td>1</td></tr>",
                            "<tr><td>518</td><td>2</td><td>Components</td><td>15</td><td>Saddles</td><td>1</td></tr>",
                            "<tr><td>520</td><td>2</td><td>Components</td><td>15</td><td>Saddles</td><td>1</td></tr>",
                            "<tr><td>521</td><td>2</td><td>Components</td><td>15</td><td>Saddles</td><td>1</td></tr>",
                            "<tr><td>522</td><td>2</td><td>Components</td><td>15</td><td>Saddles</td><td>1</td></tr>",
                            "<tr><td>523</td><td>2</td><td>Components</td><td>15</td><td>Saddles</td><td>1</td></tr>",
                            "<tr><td>524</td><td>2</td><td>Components</td><td>12</td><td>Mountain Frames</td><td>1</td></tr>",
                            "<tr><td>524</td><td>2</td><td>Components</td><td>12</td><td>Mountain Frames</td><td>2</td></tr>",
                            "<tr><td>525</td><td>2</td><td>Components</td><td>12</td><td>Mountain Frames</td><td>1</td></tr>",
                            "<tr><td>526</td><td>2</td><td>Components</td><td>12</td><td>Mountain Frames</td><td>1</td></tr>",
                            "<tr><td>527</td><td>2</td><td>Components</td><td>12</td><td>Mountain Frames</td><td>1</td></tr>",
                            "<tr><td>531</td><td>2</td><td>Components</td><td>12</td><td>Mountain Frames</td><td>1</td></tr>",
                            "<tr><td>532</td><td>2</td><td>Components</td><td>12</td><td>Mountain Frames</td><td>1</td></tr>",
                            "<tr><td>532</td><td>2</td><td>Components</td><td>12</td><td>Mountain Frames</td><td>2</td></tr>",
                            "<tr><td>533</td><td>2</td><td>Components</td><td>12</td><td>Mountain Frames</td><td>1</td></tr>",
                            "<tr><td>534</td><td>2</td><td>Components</td><td>12</td><td>Mountain Frames</td><td>1</td></tr>",
                            "<tr><td>542</td><td>2</td><td>Components</td><td>13</td><td>Pedals</td><td>1</td></tr>",
                            "<tr><td>543</td><td>2</td><td>Components</td><td>13</td><td>Pedals</td><td>1</td></tr>",
                            "<tr><td>544</td><td>2</td><td>Components</td><td>13</td><td>Pedals</td><td>1</td></tr>",
                            "<tr><td>544</td><td>2</td><td>Components</td><td>13</td><td>Pedals</td><td>2</td></tr>",
                            "<tr><td>545</td><td>2</td><td>Components</td><td>13</td><td>Pedals</td><td>1</td></tr>",
                            "<tr><td>546</td><td>2</td><td>Components</td><td>13</td><td>Pedals</td><td>1</td></tr>",
                            "<tr><td>547</td><td>2</td><td>Components</td><td>13</td><td>Pedals</td><td>1</td></tr>",
                            "<tr><td>548</td><td>2</td><td>Components</td><td>13</td><td>Pedals</td><td>1</td></tr>",
                            "<tr><td>549</td><td>2</td><td>Components</td><td>12</td><td>Mountain Frames</td><td>1</td></tr>",
                            "<tr><td>550</td><td>2</td><td>Components</td><td>12</td><td>Mountain Frames</td><td>1</td></tr>",
                            "<tr><td>551</td><td>2</td><td>Components</td><td>12</td><td>Mountain Frames</td><td>1</td></tr>",
                            "<tr><td>551</td><td>2</td><td>Components</td><td>12</td><td>Mountain Frames</td><td>2</td></tr>",
                            "<tr><td>552</td><td>2</td><td>Components</td><td>9</td><td>Derailleurs</td><td>1</td></tr>",
                            "<tr><td>552</td><td>2</td><td>Components</td><td>9</td><td>Derailleurs</td><td>2</td></tr>",
                            "<tr><td>553</td><td>2</td><td>Components</td><td>4</td><td>Handlebars</td><td>1</td></tr>",
                            "<tr><td>554</td><td>2</td><td>Components</td><td>4</td><td>Handlebars</td><td>1</td></tr>",
                            "<tr><td>555</td><td>2</td><td>Components</td><td>6</td><td>Brakes</td><td>1</td></tr>",
                            "<tr><td>555</td><td>2</td><td>Components</td><td>6</td><td>Brakes</td><td>2</td></tr>",
                            "<tr><td>556</td><td>2</td><td>Components</td><td>8</td><td>Cranksets</td><td>1</td></tr>",
                            "<tr><td>557</td><td>2</td><td>Components</td><td>8</td><td>Cranksets</td><td>1</td></tr>",
                            "<tr><td>558</td><td>2</td><td>Components</td><td>8</td><td>Cranksets</td><td>1</td></tr>",
                            "<tr><td>558</td><td>2</td><td>Components</td><td>8</td><td>Cranksets</td><td>2</td></tr>",
                            "<tr><td>559</td><td>2</td><td>Components</td><td>7</td><td>Chains</td><td>1</td></tr>",
                            "<tr><td>559</td><td>2</td><td>Components</td><td>7</td><td>Chains</td><td>2</td></tr>",
                            "<tr><td>560</td><td>1</td><td>Bikes</td><td>3</td><td>Touring Bikes</td><td>1</td></tr>",
                            "<tr><td>560</td><td>1</td><td>Bikes</td><td>3</td><td>Touring Bikes</td><td>2</td></tr>",
                            "<tr><td>561</td><td>1</td><td>Bikes</td><td>3</td><td>Touring Bikes</td><td>1</td></tr>",
                            "<tr><td>561</td><td>1</td><td>Bikes</td><td>3</td><td>Touring Bikes</td><td>2</td></tr>",
                            "<tr><td>561</td><td>1</td><td>Bikes</td><td>3</td><td>Touring Bikes</td><td>4</td></tr>",
                            "<tr><td>561</td><td>1</td><td>Bikes</td><td>3</td><td>Touring Bikes</td><td>14</td></tr>",
                            "<tr><td>562</td><td>1</td><td>Bikes</td><td>3</td><td>Touring Bikes</td><td>1</td></tr>",
                            "<tr><td>562</td><td>1</td><td>Bikes</td><td>3</td><td>Touring Bikes</td><td>14</td></tr>",
                            "<tr><td>563</td><td>1</td><td>Bikes</td><td>3</td><td>Touring Bikes</td><td>1</td></tr>",
                            "<tr><td>563</td><td>1</td><td>Bikes</td><td>3</td><td>Touring Bikes</td><td>14</td></tr>",
                            "<tr><td>564</td><td>1</td><td>Bikes</td><td>3</td><td>Touring Bikes</td><td>1</td></tr>",
                            "<tr><td>564</td><td>1</td><td>Bikes</td><td>3</td><td>Touring Bikes</td><td>2</td></tr>",
                            "<tr><td>564</td><td>1</td><td>Bikes</td><td>3</td><td>Touring Bikes</td><td>3</td></tr>",
                            "<tr><td>564</td><td>1</td><td>Bikes</td><td>3</td><td>Touring Bikes</td><td>14</td></tr>",
                            "<tr><td>565</td><td>1</td><td>Bikes</td><td>3</td><td>Touring Bikes</td><td>1</td></tr>",
                            "<tr><td>565</td><td>1</td><td>Bikes</td><td>3</td><td>Touring Bikes</td><td>13</td></tr>",
                            "<tr><td>566</td><td>1</td><td>Bikes</td><td>3</td><td>Touring Bikes</td><td>1</td></tr>",
                            "<tr><td>566</td><td>1</td><td>Bikes</td><td>3</td><td>Touring Bikes</td><td>13</td></tr>",
                            "<tr><td>567</td><td>1</td><td>Bikes</td><td>3</td><td>Touring Bikes</td><td>1</td></tr>",
                            "<tr><td>567</td><td>1</td><td>Bikes</td><td>3</td><td>Touring Bikes</td><td>13</td></tr>",
                            "<tr><td>568</td><td>1</td><td>Bikes</td><td>3</td><td>Touring Bikes</td><td>1</td></tr>",
                            "<tr><td>568</td><td>1</td><td>Bikes</td><td>3</td><td>Touring Bikes</td><td>2</td></tr>",
                            "<tr><td>568</td><td>1</td><td>Bikes</td><td>3</td><td>Touring Bikes</td><td>13</td></tr>",
                            "<tr><td>569</td><td>1</td><td>Bikes</td><td>3</td><td>Touring Bikes</td><td>1</td></tr>",
                            "<tr><td>569</td><td>1</td><td>Bikes</td><td>3</td><td>Touring Bikes</td><td>13</td></tr>",
                            "<tr><td>570</td><td>1</td><td>Bikes</td><td>3</td><td>Touring Bikes</td><td>1</td></tr>",
                            "<tr><td>570</td><td>1</td><td>Bikes</td><td>3</td><td>Touring Bikes</td><td>13</td></tr>",
                            "<tr><td>571</td><td>1</td><td>Bikes</td><td>3</td><td>Touring Bikes</td><td>1</td></tr>",
                            "<tr><td>571</td><td>1</td><td>Bikes</td><td>3</td><td>Touring Bikes</td><td>13</td></tr>",
                            "<tr><td>572</td><td>1</td><td>Bikes</td><td>3</td><td>Touring Bikes</td><td>1</td></tr>",
                            "<tr><td>572</td><td>1</td><td>Bikes</td><td>3</td><td>Touring Bikes</td><td>2</td></tr>",
                            "<tr><td>572</td><td>1</td><td>Bikes</td><td>3</td><td>Touring Bikes</td><td>13</td></tr>",
                            "<tr><td>573</td><td>1</td><td>Bikes</td><td>3</td><td>Touring Bikes</td><td>1</td></tr>",
                            "<tr><td>573</td><td>1</td><td>Bikes</td><td>3</td><td>Touring Bikes</td><td>2</td></tr>",
                            "<tr><td>573</td><td>1</td><td>Bikes</td><td>3</td><td>Touring Bikes</td><td>3</td></tr>",
                            "<tr><td>574</td><td>1</td><td>Bikes</td><td>3</td><td>Touring Bikes</td><td>1</td></tr>",
                            "<tr><td>575</td><td>1</td><td>Bikes</td><td>3</td><td>Touring Bikes</td><td>1</td></tr>",
                            "<tr><td>576</td><td>1</td><td>Bikes</td><td>3</td><td>Touring Bikes</td><td>1</td></tr>",
                            "<tr><td>576</td><td>1</td><td>Bikes</td><td>3</td><td>Touring Bikes</td><td>2</td></tr>",
                            "<tr><td>576</td><td>1</td><td>Bikes</td><td>3</td><td>Touring Bikes</td><td>3</td></tr>",
                            "<tr><td>577</td><td>1</td><td>Bikes</td><td>3</td><td>Touring Bikes</td><td>1</td></tr>",
                            "<tr><td>577</td><td>1</td><td>Bikes</td><td>3</td><td>Touring Bikes</td><td>2</td></tr>",
                            "<tr><td>578</td><td>1</td><td>Bikes</td><td>3</td><td>Touring Bikes</td><td>1</td></tr>",
                            "<tr><td>579</td><td>1</td><td>Bikes</td><td>3</td><td>Touring Bikes</td><td>1</td></tr>",
                            "<tr><td>579</td><td>1</td><td>Bikes</td><td>3</td><td>Touring Bikes</td><td>2</td></tr>",
                            "<tr><td>579</td><td>1</td><td>Bikes</td><td>3</td><td>Touring Bikes</td><td>3</td></tr>",
                            "<tr><td>580</td><td>1</td><td>Bikes</td><td>2</td><td>Road Bikes</td><td>1</td></tr>",
                            "<tr><td>580</td><td>1</td><td>Bikes</td><td>2</td><td>Road Bikes</td><td>2</td></tr>",
                            "<tr><td>580</td><td>1</td><td>Bikes</td><td>2</td><td>Road Bikes</td><td>3</td></tr>",
                            "<tr><td>581</td><td>1</td><td>Bikes</td><td>2</td><td>Road Bikes</td><td>1</td></tr>",
                            "<tr><td>581</td><td>1</td><td>Bikes</td><td>2</td><td>Road Bikes</td><td>2</td></tr>",
                            "<tr><td>581</td><td>1</td><td>Bikes</td><td>2</td><td>Road Bikes</td><td>3</td></tr>",
                            "<tr><td>582</td><td>1</td><td>Bikes</td><td>2</td><td>Road Bikes</td><td>1</td></tr>",
                            "<tr><td>583</td><td>1</td><td>Bikes</td><td>2</td><td>Road Bikes</td><td>1</td></tr>",
                            "<tr><td>583</td><td>1</td><td>Bikes</td><td>2</td><td>Road Bikes</td><td>2</td></tr>",
                            "<tr><td>583</td><td>1</td><td>Bikes</td><td>2</td><td>Road Bikes</td><td>3</td></tr>",
                            "<tr><td>583</td><td>1</td><td>Bikes</td><td>2</td><td>Road Bikes</td><td>4</td></tr>",
                            "<tr><td>584</td><td>1</td><td>Bikes</td><td>2</td><td>Road Bikes</td><td>1</td></tr>",
                            "<tr><td>585</td><td>1</td><td>Bikes</td><td>3</td><td>Touring Bikes</td><td>1</td></tr>",
                            "<tr><td>585</td><td>1</td><td>Bikes</td><td>3</td><td>Touring Bikes</td><td>13</td></tr>",
                            "<tr><td>586</td><td>1</td><td>Bikes</td><td>3</td><td>Touring Bikes</td><td>1</td></tr>",
                            "<tr><td>586</td><td>1</td><td>Bikes</td><td>3</td><td>Touring Bikes</td><td>2</td></tr>",
                            "<tr><td>586</td><td>1</td><td>Bikes</td><td>3</td><td>Touring Bikes</td><td>3</td></tr>",
                            "<tr><td>586</td><td>1</td><td>Bikes</td><td>3</td><td>Touring Bikes</td><td>13</td></tr>",
                            "<tr><td>587</td><td>1</td><td>Bikes</td><td>1</td><td>Mountain Bikes</td><td>1</td></tr>",
                            "<tr><td>588</td><td>1</td><td>Bikes</td><td>1</td><td>Mountain Bikes</td><td>1</td></tr>",
                            "<tr><td>588</td><td>1</td><td>Bikes</td><td>1</td><td>Mountain Bikes</td><td>2</td></tr>",
                            "<tr><td>589</td><td>1</td><td>Bikes</td><td>1</td><td>Mountain Bikes</td><td>1</td></tr>",
                            "<tr><td>590</td><td>1</td><td>Bikes</td><td>1</td><td>Mountain Bikes</td><td>1</td></tr>",
                            "<tr><td>590</td><td>1</td><td>Bikes</td><td>1</td><td>Mountain Bikes</td><td>2</td></tr>",
                            "<tr><td>591</td><td>1</td><td>Bikes</td><td>1</td><td>Mountain Bikes</td><td>1</td></tr>",
                            "<tr><td>591</td><td>1</td><td>Bikes</td><td>1</td><td>Mountain Bikes</td><td>16</td></tr>",
                            "<tr><td>592</td><td>1</td><td>Bikes</td><td>1</td><td>Mountain Bikes</td><td>1</td></tr>",
                            "<tr><td>592</td><td>1</td><td>Bikes</td><td>1</td><td>Mountain Bikes</td><td>16</td></tr>",
                            "<tr><td>593</td><td>1</td><td>Bikes</td><td>1</td><td>Mountain Bikes</td><td>1</td></tr>",
                            "<tr><td>593</td><td>1</td><td>Bikes</td><td>1</td><td>Mountain Bikes</td><td>16</td></tr>",
                            "<tr><td>594</td><td>1</td><td>Bikes</td><td>1</td><td>Mountain Bikes</td><td>1</td></tr>",
                            "<tr><td>594</td><td>1</td><td>Bikes</td><td>1</td><td>Mountain Bikes</td><td>16</td></tr>",
                            "<tr><td>595</td><td>1</td><td>Bikes</td><td>1</td><td>Mountain Bikes</td><td>1</td></tr>",
                            "<tr><td>595</td><td>1</td><td>Bikes</td><td>1</td><td>Mountain Bikes</td><td>16</td></tr>",
                            "<tr><td>596</td><td>1</td><td>Bikes</td><td>1</td><td>Mountain Bikes</td><td>1</td></tr>",
                            "<tr><td>597</td><td>1</td><td>Bikes</td><td>1</td><td>Mountain Bikes</td><td>1</td></tr>",
                            "<tr><td>598</td><td>1</td><td>Bikes</td><td>1</td><td>Mountain Bikes</td><td>1</td></tr>",
                            "<tr><td>599</td><td>1</td><td>Bikes</td><td>1</td><td>Mountain Bikes</td><td>1</td></tr>",
                            "<tr><td>600</td><td>1</td><td>Bikes</td><td>1</td><td>Mountain Bikes</td><td>1</td></tr>",
                            "<tr><td>601</td><td>2</td><td>Components</td><td>5</td><td>Bottom Brackets</td><td>1</td></tr>",
                            "<tr><td>603</td><td>2</td><td>Components</td><td>5</td><td>Bottom Brackets</td><td>1</td></tr>",
                            "<tr><td>604</td><td>1</td><td>Bikes</td><td>2</td><td>Road Bikes</td><td>1</td></tr>",
                            "<tr><td>605</td><td>1</td><td>Bikes</td><td>2</td><td>Road Bikes</td><td>1</td></tr>",
                            "<tr><td>605</td><td>1</td><td>Bikes</td><td>2</td><td>Road Bikes</td><td>2</td></tr>",
                            "<tr><td>605</td><td>1</td><td>Bikes</td><td>2</td><td>Road Bikes</td><td>3</td></tr>",
                            "<tr><td>606</td><td>1</td><td>Bikes</td><td>2</td><td>Road Bikes</td><td>1</td></tr>",
                            "<tr><td>606</td><td>1</td><td>Bikes</td><td>2</td><td>Road Bikes</td><td>2</td></tr>",
                            "</table>"
                        ]
                    }
                }
            ],
            "execution_count": 42
        },
        {
            "cell_type": "markdown",
            "source": [
                "Productos en promo"
            ],
            "metadata": {
                "azdata_cell_guid": "39274c16-a7ca-4fe1-994e-f9f6768f42de"
            },
            "attachments": {}
        },
        {
            "cell_type": "code",
            "source": [
                "SELECT DISTINCT rs.ProductKey, PromotionKey, DiscountAmount, OrderDate, OrderQuantity,\n",
                "CASE WHEN PromotionKey IN(2,3,4,5,6) THEN 'VolProm' ELSE 'noVolProm' END volProm\n",
                "FROM AdventureWorksDW2019.dbo.FactResellerSales rs\n",
                "WHERE ProductKey = 213\n",
                "ORDER BY OrderDate, ProductKey\n",
                "\n",
                "\n",
                ""
            ],
            "metadata": {
                "language": "sql",
                "azdata_cell_guid": "d98692c0-1388-4077-afdd-957368e39230"
            },
            "outputs": [
                {
                    "output_type": "display_data",
                    "data": {
                        "text/html": "(112 rows affected)"
                    },
                    "metadata": {}
                },
                {
                    "output_type": "display_data",
                    "data": {
                        "text/html": "Total execution time: 00:00:00.033"
                    },
                    "metadata": {}
                },
                {
                    "output_type": "execute_result",
                    "metadata": {},
                    "execution_count": 54,
                    "data": {
                        "application/vnd.dataresource+json": {
                            "schema": {
                                "fields": [
                                    {
                                        "name": "ProductKey"
                                    },
                                    {
                                        "name": "PromotionKey"
                                    },
                                    {
                                        "name": "DiscountAmount"
                                    },
                                    {
                                        "name": "OrderDate"
                                    },
                                    {
                                        "name": "OrderQuantity"
                                    },
                                    {
                                        "name": "volProm"
                                    }
                                ]
                            },
                            "data": [
                                {
                                    "ProductKey": "213",
                                    "PromotionKey": "8",
                                    "DiscountAmount": "1,6822",
                                    "OrderDate": "2011-12-29 00:00:00.000",
                                    "OrderQuantity": "1",
                                    "volProm": "noVolProm"
                                },
                                {
                                    "ProductKey": "213",
                                    "PromotionKey": "8",
                                    "DiscountAmount": "3,3644",
                                    "OrderDate": "2011-12-29 00:00:00.000",
                                    "OrderQuantity": "2",
                                    "volProm": "noVolProm"
                                },
                                {
                                    "ProductKey": "213",
                                    "PromotionKey": "8",
                                    "DiscountAmount": "5,0466",
                                    "OrderDate": "2011-12-29 00:00:00.000",
                                    "OrderQuantity": "3",
                                    "volProm": "noVolProm"
                                },
                                {
                                    "ProductKey": "213",
                                    "PromotionKey": "8",
                                    "DiscountAmount": "6,7288",
                                    "OrderDate": "2011-12-29 00:00:00.000",
                                    "OrderQuantity": "4",
                                    "volProm": "noVolProm"
                                },
                                {
                                    "ProductKey": "213",
                                    "PromotionKey": "8",
                                    "DiscountAmount": "8,4111",
                                    "OrderDate": "2011-12-29 00:00:00.000",
                                    "OrderQuantity": "5",
                                    "volProm": "noVolProm"
                                },
                                {
                                    "ProductKey": "213",
                                    "PromotionKey": "8",
                                    "DiscountAmount": "10,0933",
                                    "OrderDate": "2011-12-29 00:00:00.000",
                                    "OrderQuantity": "6",
                                    "volProm": "noVolProm"
                                },
                                {
                                    "ProductKey": "213",
                                    "PromotionKey": "8",
                                    "DiscountAmount": "13,4577",
                                    "OrderDate": "2011-12-29 00:00:00.000",
                                    "OrderQuantity": "8",
                                    "volProm": "noVolProm"
                                },
                                {
                                    "ProductKey": "213",
                                    "PromotionKey": "8",
                                    "DiscountAmount": "16,8221",
                                    "OrderDate": "2011-12-29 00:00:00.000",
                                    "OrderQuantity": "10",
                                    "volProm": "noVolProm"
                                },
                                {
                                    "ProductKey": "213",
                                    "PromotionKey": "1",
                                    "DiscountAmount": "0",
                                    "OrderDate": "2012-01-29 00:00:00.000",
                                    "OrderQuantity": "1",
                                    "volProm": "noVolProm"
                                },
                                {
                                    "ProductKey": "213",
                                    "PromotionKey": "1",
                                    "DiscountAmount": "0",
                                    "OrderDate": "2012-01-29 00:00:00.000",
                                    "OrderQuantity": "2",
                                    "volProm": "noVolProm"
                                },
                                {
                                    "ProductKey": "213",
                                    "PromotionKey": "1",
                                    "DiscountAmount": "0",
                                    "OrderDate": "2012-01-29 00:00:00.000",
                                    "OrderQuantity": "3",
                                    "volProm": "noVolProm"
                                },
                                {
                                    "ProductKey": "213",
                                    "PromotionKey": "1",
                                    "DiscountAmount": "0",
                                    "OrderDate": "2012-01-29 00:00:00.000",
                                    "OrderQuantity": "4",
                                    "volProm": "noVolProm"
                                },
                                {
                                    "ProductKey": "213",
                                    "PromotionKey": "1",
                                    "DiscountAmount": "0",
                                    "OrderDate": "2012-01-29 00:00:00.000",
                                    "OrderQuantity": "5",
                                    "volProm": "noVolProm"
                                },
                                {
                                    "ProductKey": "213",
                                    "PromotionKey": "1",
                                    "DiscountAmount": "0",
                                    "OrderDate": "2012-01-29 00:00:00.000",
                                    "OrderQuantity": "6",
                                    "volProm": "noVolProm"
                                },
                                {
                                    "ProductKey": "213",
                                    "PromotionKey": "1",
                                    "DiscountAmount": "0",
                                    "OrderDate": "2012-01-29 00:00:00.000",
                                    "OrderQuantity": "7",
                                    "volProm": "noVolProm"
                                },
                                {
                                    "ProductKey": "213",
                                    "PromotionKey": "1",
                                    "DiscountAmount": "0",
                                    "OrderDate": "2012-01-29 00:00:00.000",
                                    "OrderQuantity": "8",
                                    "volProm": "noVolProm"
                                },
                                {
                                    "ProductKey": "213",
                                    "PromotionKey": "1",
                                    "DiscountAmount": "0",
                                    "OrderDate": "2012-01-29 00:00:00.000",
                                    "OrderQuantity": "10",
                                    "volProm": "noVolProm"
                                },
                                {
                                    "ProductKey": "213",
                                    "PromotionKey": "2",
                                    "DiscountAmount": "5,4638",
                                    "OrderDate": "2012-01-29 00:00:00.000",
                                    "OrderQuantity": "14",
                                    "volProm": "VolProm"
                                },
                                {
                                    "ProductKey": "213",
                                    "PromotionKey": "1",
                                    "DiscountAmount": "0",
                                    "OrderDate": "2012-02-29 00:00:00.000",
                                    "OrderQuantity": "1",
                                    "volProm": "noVolProm"
                                },
                                {
                                    "ProductKey": "213",
                                    "PromotionKey": "1",
                                    "DiscountAmount": "0",
                                    "OrderDate": "2012-02-29 00:00:00.000",
                                    "OrderQuantity": "2",
                                    "volProm": "noVolProm"
                                },
                                {
                                    "ProductKey": "213",
                                    "PromotionKey": "1",
                                    "DiscountAmount": "0",
                                    "OrderDate": "2012-02-29 00:00:00.000",
                                    "OrderQuantity": "3",
                                    "volProm": "noVolProm"
                                },
                                {
                                    "ProductKey": "213",
                                    "PromotionKey": "1",
                                    "DiscountAmount": "0",
                                    "OrderDate": "2012-02-29 00:00:00.000",
                                    "OrderQuantity": "4",
                                    "volProm": "noVolProm"
                                },
                                {
                                    "ProductKey": "213",
                                    "PromotionKey": "1",
                                    "DiscountAmount": "0",
                                    "OrderDate": "2012-02-29 00:00:00.000",
                                    "OrderQuantity": "5",
                                    "volProm": "noVolProm"
                                },
                                {
                                    "ProductKey": "213",
                                    "PromotionKey": "1",
                                    "DiscountAmount": "0",
                                    "OrderDate": "2012-02-29 00:00:00.000",
                                    "OrderQuantity": "6",
                                    "volProm": "noVolProm"
                                },
                                {
                                    "ProductKey": "213",
                                    "PromotionKey": "1",
                                    "DiscountAmount": "0",
                                    "OrderDate": "2012-02-29 00:00:00.000",
                                    "OrderQuantity": "8",
                                    "volProm": "noVolProm"
                                },
                                {
                                    "ProductKey": "213",
                                    "PromotionKey": "1",
                                    "DiscountAmount": "0",
                                    "OrderDate": "2012-02-29 00:00:00.000",
                                    "OrderQuantity": "10",
                                    "volProm": "noVolProm"
                                },
                                {
                                    "ProductKey": "213",
                                    "PromotionKey": "2",
                                    "DiscountAmount": "4,293",
                                    "OrderDate": "2012-02-29 00:00:00.000",
                                    "OrderQuantity": "11",
                                    "volProm": "VolProm"
                                },
                                {
                                    "ProductKey": "213",
                                    "PromotionKey": "2",
                                    "DiscountAmount": "4,6833",
                                    "OrderDate": "2012-02-29 00:00:00.000",
                                    "OrderQuantity": "12",
                                    "volProm": "VolProm"
                                },
                                {
                                    "ProductKey": "213",
                                    "PromotionKey": "2",
                                    "DiscountAmount": "5,4638",
                                    "OrderDate": "2012-02-29 00:00:00.000",
                                    "OrderQuantity": "14",
                                    "volProm": "VolProm"
                                },
                                {
                                    "ProductKey": "213",
                                    "PromotionKey": "3",
                                    "DiscountAmount": "22,2052",
                                    "OrderDate": "2012-02-29 00:00:00.000",
                                    "OrderQuantity": "24",
                                    "volProm": "VolProm"
                                },
                                {
                                    "ProductKey": "213",
                                    "PromotionKey": "1",
                                    "DiscountAmount": "0",
                                    "OrderDate": "2012-03-30 00:00:00.000",
                                    "OrderQuantity": "1",
                                    "volProm": "noVolProm"
                                },
                                {
                                    "ProductKey": "213",
                                    "PromotionKey": "1",
                                    "DiscountAmount": "0",
                                    "OrderDate": "2012-03-30 00:00:00.000",
                                    "OrderQuantity": "2",
                                    "volProm": "noVolProm"
                                },
                                {
                                    "ProductKey": "213",
                                    "PromotionKey": "1",
                                    "DiscountAmount": "0",
                                    "OrderDate": "2012-03-30 00:00:00.000",
                                    "OrderQuantity": "3",
                                    "volProm": "noVolProm"
                                },
                                {
                                    "ProductKey": "213",
                                    "PromotionKey": "1",
                                    "DiscountAmount": "0",
                                    "OrderDate": "2012-03-30 00:00:00.000",
                                    "OrderQuantity": "4",
                                    "volProm": "noVolProm"
                                },
                                {
                                    "ProductKey": "213",
                                    "PromotionKey": "1",
                                    "DiscountAmount": "0",
                                    "OrderDate": "2012-03-30 00:00:00.000",
                                    "OrderQuantity": "5",
                                    "volProm": "noVolProm"
                                },
                                {
                                    "ProductKey": "213",
                                    "PromotionKey": "1",
                                    "DiscountAmount": "0",
                                    "OrderDate": "2012-03-30 00:00:00.000",
                                    "OrderQuantity": "6",
                                    "volProm": "noVolProm"
                                },
                                {
                                    "ProductKey": "213",
                                    "PromotionKey": "1",
                                    "DiscountAmount": "0",
                                    "OrderDate": "2012-03-30 00:00:00.000",
                                    "OrderQuantity": "7",
                                    "volProm": "noVolProm"
                                },
                                {
                                    "ProductKey": "213",
                                    "PromotionKey": "1",
                                    "DiscountAmount": "0",
                                    "OrderDate": "2012-03-30 00:00:00.000",
                                    "OrderQuantity": "8",
                                    "volProm": "noVolProm"
                                },
                                {
                                    "ProductKey": "213",
                                    "PromotionKey": "1",
                                    "DiscountAmount": "0",
                                    "OrderDate": "2012-03-30 00:00:00.000",
                                    "OrderQuantity": "9",
                                    "volProm": "noVolProm"
                                },
                                {
                                    "ProductKey": "213",
                                    "PromotionKey": "2",
                                    "DiscountAmount": "4,6833",
                                    "OrderDate": "2012-03-30 00:00:00.000",
                                    "OrderQuantity": "12",
                                    "volProm": "VolProm"
                                },
                                {
                                    "ProductKey": "213",
                                    "PromotionKey": "1",
                                    "DiscountAmount": "0",
                                    "OrderDate": "2012-04-30 00:00:00.000",
                                    "OrderQuantity": "1",
                                    "volProm": "noVolProm"
                                },
                                {
                                    "ProductKey": "213",
                                    "PromotionKey": "1",
                                    "DiscountAmount": "0",
                                    "OrderDate": "2012-04-30 00:00:00.000",
                                    "OrderQuantity": "2",
                                    "volProm": "noVolProm"
                                },
                                {
                                    "ProductKey": "213",
                                    "PromotionKey": "1",
                                    "DiscountAmount": "0",
                                    "OrderDate": "2012-04-30 00:00:00.000",
                                    "OrderQuantity": "3",
                                    "volProm": "noVolProm"
                                },
                                {
                                    "ProductKey": "213",
                                    "PromotionKey": "1",
                                    "DiscountAmount": "0",
                                    "OrderDate": "2012-04-30 00:00:00.000",
                                    "OrderQuantity": "4",
                                    "volProm": "noVolProm"
                                },
                                {
                                    "ProductKey": "213",
                                    "PromotionKey": "1",
                                    "DiscountAmount": "0",
                                    "OrderDate": "2012-04-30 00:00:00.000",
                                    "OrderQuantity": "5",
                                    "volProm": "noVolProm"
                                },
                                {
                                    "ProductKey": "213",
                                    "PromotionKey": "1",
                                    "DiscountAmount": "0",
                                    "OrderDate": "2012-04-30 00:00:00.000",
                                    "OrderQuantity": "6",
                                    "volProm": "noVolProm"
                                },
                                {
                                    "ProductKey": "213",
                                    "PromotionKey": "1",
                                    "DiscountAmount": "0",
                                    "OrderDate": "2012-04-30 00:00:00.000",
                                    "OrderQuantity": "8",
                                    "volProm": "noVolProm"
                                },
                                {
                                    "ProductKey": "213",
                                    "PromotionKey": "1",
                                    "DiscountAmount": "0",
                                    "OrderDate": "2012-04-30 00:00:00.000",
                                    "OrderQuantity": "9",
                                    "volProm": "noVolProm"
                                },
                                {
                                    "ProductKey": "213",
                                    "PromotionKey": "2",
                                    "DiscountAmount": "4,293",
                                    "OrderDate": "2012-04-30 00:00:00.000",
                                    "OrderQuantity": "11",
                                    "volProm": "VolProm"
                                },
                                {
                                    "ProductKey": "213",
                                    "PromotionKey": "1",
                                    "DiscountAmount": "0",
                                    "OrderDate": "2012-05-30 00:00:00.000",
                                    "OrderQuantity": "1",
                                    "volProm": "noVolProm"
                                },
                                {
                                    "ProductKey": "213",
                                    "PromotionKey": "1",
                                    "DiscountAmount": "0",
                                    "OrderDate": "2012-05-30 00:00:00.000",
                                    "OrderQuantity": "2",
                                    "volProm": "noVolProm"
                                },
                                {
                                    "ProductKey": "213",
                                    "PromotionKey": "1",
                                    "DiscountAmount": "0",
                                    "OrderDate": "2012-05-30 00:00:00.000",
                                    "OrderQuantity": "3",
                                    "volProm": "noVolProm"
                                },
                                {
                                    "ProductKey": "213",
                                    "PromotionKey": "1",
                                    "DiscountAmount": "0",
                                    "OrderDate": "2012-05-30 00:00:00.000",
                                    "OrderQuantity": "4",
                                    "volProm": "noVolProm"
                                },
                                {
                                    "ProductKey": "213",
                                    "PromotionKey": "1",
                                    "DiscountAmount": "0",
                                    "OrderDate": "2012-05-30 00:00:00.000",
                                    "OrderQuantity": "5",
                                    "volProm": "noVolProm"
                                },
                                {
                                    "ProductKey": "213",
                                    "PromotionKey": "1",
                                    "DiscountAmount": "0",
                                    "OrderDate": "2012-05-30 00:00:00.000",
                                    "OrderQuantity": "6",
                                    "volProm": "noVolProm"
                                },
                                {
                                    "ProductKey": "213",
                                    "PromotionKey": "1",
                                    "DiscountAmount": "0",
                                    "OrderDate": "2012-05-30 00:00:00.000",
                                    "OrderQuantity": "7",
                                    "volProm": "noVolProm"
                                },
                                {
                                    "ProductKey": "213",
                                    "PromotionKey": "1",
                                    "DiscountAmount": "0",
                                    "OrderDate": "2012-05-30 00:00:00.000",
                                    "OrderQuantity": "8",
                                    "volProm": "noVolProm"
                                },
                                {
                                    "ProductKey": "213",
                                    "PromotionKey": "1",
                                    "DiscountAmount": "0",
                                    "OrderDate": "2012-05-30 00:00:00.000",
                                    "OrderQuantity": "10",
                                    "volProm": "noVolProm"
                                },
                                {
                                    "ProductKey": "213",
                                    "PromotionKey": "2",
                                    "DiscountAmount": "4,6833",
                                    "OrderDate": "2012-05-30 00:00:00.000",
                                    "OrderQuantity": "12",
                                    "volProm": "VolProm"
                                },
                                {
                                    "ProductKey": "213",
                                    "PromotionKey": "1",
                                    "DiscountAmount": "0",
                                    "OrderDate": "2012-06-30 00:00:00.000",
                                    "OrderQuantity": "1",
                                    "volProm": "noVolProm"
                                },
                                {
                                    "ProductKey": "213",
                                    "PromotionKey": "1",
                                    "DiscountAmount": "0",
                                    "OrderDate": "2012-06-30 00:00:00.000",
                                    "OrderQuantity": "2",
                                    "volProm": "noVolProm"
                                },
                                {
                                    "ProductKey": "213",
                                    "PromotionKey": "1",
                                    "DiscountAmount": "0",
                                    "OrderDate": "2012-06-30 00:00:00.000",
                                    "OrderQuantity": "3",
                                    "volProm": "noVolProm"
                                },
                                {
                                    "ProductKey": "213",
                                    "PromotionKey": "1",
                                    "DiscountAmount": "0",
                                    "OrderDate": "2012-06-30 00:00:00.000",
                                    "OrderQuantity": "4",
                                    "volProm": "noVolProm"
                                },
                                {
                                    "ProductKey": "213",
                                    "PromotionKey": "1",
                                    "DiscountAmount": "0",
                                    "OrderDate": "2012-06-30 00:00:00.000",
                                    "OrderQuantity": "5",
                                    "volProm": "noVolProm"
                                },
                                {
                                    "ProductKey": "213",
                                    "PromotionKey": "1",
                                    "DiscountAmount": "0",
                                    "OrderDate": "2012-06-30 00:00:00.000",
                                    "OrderQuantity": "6",
                                    "volProm": "noVolProm"
                                },
                                {
                                    "ProductKey": "213",
                                    "PromotionKey": "1",
                                    "DiscountAmount": "0",
                                    "OrderDate": "2012-06-30 00:00:00.000",
                                    "OrderQuantity": "7",
                                    "volProm": "noVolProm"
                                },
                                {
                                    "ProductKey": "213",
                                    "PromotionKey": "1",
                                    "DiscountAmount": "0",
                                    "OrderDate": "2012-07-31 00:00:00.000",
                                    "OrderQuantity": "1",
                                    "volProm": "noVolProm"
                                },
                                {
                                    "ProductKey": "213",
                                    "PromotionKey": "1",
                                    "DiscountAmount": "0",
                                    "OrderDate": "2012-07-31 00:00:00.000",
                                    "OrderQuantity": "2",
                                    "volProm": "noVolProm"
                                },
                                {
                                    "ProductKey": "213",
                                    "PromotionKey": "1",
                                    "DiscountAmount": "0",
                                    "OrderDate": "2012-07-31 00:00:00.000",
                                    "OrderQuantity": "3",
                                    "volProm": "noVolProm"
                                },
                                {
                                    "ProductKey": "213",
                                    "PromotionKey": "1",
                                    "DiscountAmount": "0",
                                    "OrderDate": "2012-07-31 00:00:00.000",
                                    "OrderQuantity": "4",
                                    "volProm": "noVolProm"
                                },
                                {
                                    "ProductKey": "213",
                                    "PromotionKey": "1",
                                    "DiscountAmount": "0",
                                    "OrderDate": "2012-07-31 00:00:00.000",
                                    "OrderQuantity": "5",
                                    "volProm": "noVolProm"
                                },
                                {
                                    "ProductKey": "213",
                                    "PromotionKey": "1",
                                    "DiscountAmount": "0",
                                    "OrderDate": "2012-07-31 00:00:00.000",
                                    "OrderQuantity": "6",
                                    "volProm": "noVolProm"
                                },
                                {
                                    "ProductKey": "213",
                                    "PromotionKey": "1",
                                    "DiscountAmount": "0",
                                    "OrderDate": "2012-07-31 00:00:00.000",
                                    "OrderQuantity": "8",
                                    "volProm": "noVolProm"
                                },
                                {
                                    "ProductKey": "213",
                                    "PromotionKey": "1",
                                    "DiscountAmount": "0",
                                    "OrderDate": "2012-08-28 00:00:00.000",
                                    "OrderQuantity": "1",
                                    "volProm": "noVolProm"
                                },
                                {
                                    "ProductKey": "213",
                                    "PromotionKey": "1",
                                    "DiscountAmount": "0",
                                    "OrderDate": "2012-08-28 00:00:00.000",
                                    "OrderQuantity": "2",
                                    "volProm": "noVolProm"
                                },
                                {
                                    "ProductKey": "213",
                                    "PromotionKey": "1",
                                    "DiscountAmount": "0",
                                    "OrderDate": "2012-08-28 00:00:00.000",
                                    "OrderQuantity": "3",
                                    "volProm": "noVolProm"
                                },
                                {
                                    "ProductKey": "213",
                                    "PromotionKey": "1",
                                    "DiscountAmount": "0",
                                    "OrderDate": "2012-08-28 00:00:00.000",
                                    "OrderQuantity": "4",
                                    "volProm": "noVolProm"
                                },
                                {
                                    "ProductKey": "213",
                                    "PromotionKey": "1",
                                    "DiscountAmount": "0",
                                    "OrderDate": "2012-08-28 00:00:00.000",
                                    "OrderQuantity": "5",
                                    "volProm": "noVolProm"
                                },
                                {
                                    "ProductKey": "213",
                                    "PromotionKey": "1",
                                    "DiscountAmount": "0",
                                    "OrderDate": "2012-08-28 00:00:00.000",
                                    "OrderQuantity": "6",
                                    "volProm": "noVolProm"
                                },
                                {
                                    "ProductKey": "213",
                                    "PromotionKey": "1",
                                    "DiscountAmount": "0",
                                    "OrderDate": "2012-08-28 00:00:00.000",
                                    "OrderQuantity": "10",
                                    "volProm": "noVolProm"
                                },
                                {
                                    "ProductKey": "213",
                                    "PromotionKey": "1",
                                    "DiscountAmount": "0",
                                    "OrderDate": "2012-09-28 00:00:00.000",
                                    "OrderQuantity": "1",
                                    "volProm": "noVolProm"
                                },
                                {
                                    "ProductKey": "213",
                                    "PromotionKey": "1",
                                    "DiscountAmount": "0",
                                    "OrderDate": "2012-09-28 00:00:00.000",
                                    "OrderQuantity": "2",
                                    "volProm": "noVolProm"
                                },
                                {
                                    "ProductKey": "213",
                                    "PromotionKey": "1",
                                    "DiscountAmount": "0",
                                    "OrderDate": "2012-09-28 00:00:00.000",
                                    "OrderQuantity": "3",
                                    "volProm": "noVolProm"
                                },
                                {
                                    "ProductKey": "213",
                                    "PromotionKey": "1",
                                    "DiscountAmount": "0",
                                    "OrderDate": "2012-09-28 00:00:00.000",
                                    "OrderQuantity": "4",
                                    "volProm": "noVolProm"
                                },
                                {
                                    "ProductKey": "213",
                                    "PromotionKey": "1",
                                    "DiscountAmount": "0",
                                    "OrderDate": "2012-09-28 00:00:00.000",
                                    "OrderQuantity": "5",
                                    "volProm": "noVolProm"
                                },
                                {
                                    "ProductKey": "213",
                                    "PromotionKey": "1",
                                    "DiscountAmount": "0",
                                    "OrderDate": "2012-09-28 00:00:00.000",
                                    "OrderQuantity": "6",
                                    "volProm": "noVolProm"
                                },
                                {
                                    "ProductKey": "213",
                                    "PromotionKey": "1",
                                    "DiscountAmount": "0",
                                    "OrderDate": "2012-09-28 00:00:00.000",
                                    "OrderQuantity": "7",
                                    "volProm": "noVolProm"
                                },
                                {
                                    "ProductKey": "213",
                                    "PromotionKey": "1",
                                    "DiscountAmount": "0",
                                    "OrderDate": "2012-09-28 00:00:00.000",
                                    "OrderQuantity": "8",
                                    "volProm": "noVolProm"
                                },
                                {
                                    "ProductKey": "213",
                                    "PromotionKey": "2",
                                    "DiscountAmount": "5,4638",
                                    "OrderDate": "2012-09-28 00:00:00.000",
                                    "OrderQuantity": "14",
                                    "volProm": "VolProm"
                                },
                                {
                                    "ProductKey": "213",
                                    "PromotionKey": "3",
                                    "DiscountAmount": "13,8782",
                                    "OrderDate": "2012-09-28 00:00:00.000",
                                    "OrderQuantity": "15",
                                    "volProm": "VolProm"
                                },
                                {
                                    "ProductKey": "213",
                                    "PromotionKey": "1",
                                    "DiscountAmount": "0",
                                    "OrderDate": "2012-10-28 00:00:00.000",
                                    "OrderQuantity": "1",
                                    "volProm": "noVolProm"
                                },
                                {
                                    "ProductKey": "213",
                                    "PromotionKey": "1",
                                    "DiscountAmount": "0",
                                    "OrderDate": "2012-10-28 00:00:00.000",
                                    "OrderQuantity": "2",
                                    "volProm": "noVolProm"
                                },
                                {
                                    "ProductKey": "213",
                                    "PromotionKey": "1",
                                    "DiscountAmount": "0",
                                    "OrderDate": "2012-10-28 00:00:00.000",
                                    "OrderQuantity": "3",
                                    "volProm": "noVolProm"
                                },
                                {
                                    "ProductKey": "213",
                                    "PromotionKey": "1",
                                    "DiscountAmount": "0",
                                    "OrderDate": "2012-10-28 00:00:00.000",
                                    "OrderQuantity": "4",
                                    "volProm": "noVolProm"
                                },
                                {
                                    "ProductKey": "213",
                                    "PromotionKey": "1",
                                    "DiscountAmount": "0",
                                    "OrderDate": "2012-10-28 00:00:00.000",
                                    "OrderQuantity": "5",
                                    "volProm": "noVolProm"
                                },
                                {
                                    "ProductKey": "213",
                                    "PromotionKey": "1",
                                    "DiscountAmount": "0",
                                    "OrderDate": "2012-10-28 00:00:00.000",
                                    "OrderQuantity": "6",
                                    "volProm": "noVolProm"
                                },
                                {
                                    "ProductKey": "213",
                                    "PromotionKey": "1",
                                    "DiscountAmount": "0",
                                    "OrderDate": "2012-10-28 00:00:00.000",
                                    "OrderQuantity": "7",
                                    "volProm": "noVolProm"
                                },
                                {
                                    "ProductKey": "213",
                                    "PromotionKey": "1",
                                    "DiscountAmount": "0",
                                    "OrderDate": "2012-10-28 00:00:00.000",
                                    "OrderQuantity": "8",
                                    "volProm": "noVolProm"
                                },
                                {
                                    "ProductKey": "213",
                                    "PromotionKey": "1",
                                    "DiscountAmount": "0",
                                    "OrderDate": "2012-10-28 00:00:00.000",
                                    "OrderQuantity": "9",
                                    "volProm": "noVolProm"
                                },
                                {
                                    "ProductKey": "213",
                                    "PromotionKey": "2",
                                    "DiscountAmount": "4,6833",
                                    "OrderDate": "2012-10-28 00:00:00.000",
                                    "OrderQuantity": "12",
                                    "volProm": "VolProm"
                                },
                                {
                                    "ProductKey": "213",
                                    "PromotionKey": "1",
                                    "DiscountAmount": "0",
                                    "OrderDate": "2012-11-28 00:00:00.000",
                                    "OrderQuantity": "1",
                                    "volProm": "noVolProm"
                                },
                                {
                                    "ProductKey": "213",
                                    "PromotionKey": "1",
                                    "DiscountAmount": "0",
                                    "OrderDate": "2012-11-28 00:00:00.000",
                                    "OrderQuantity": "2",
                                    "volProm": "noVolProm"
                                },
                                {
                                    "ProductKey": "213",
                                    "PromotionKey": "1",
                                    "DiscountAmount": "0",
                                    "OrderDate": "2012-11-28 00:00:00.000",
                                    "OrderQuantity": "3",
                                    "volProm": "noVolProm"
                                },
                                {
                                    "ProductKey": "213",
                                    "PromotionKey": "1",
                                    "DiscountAmount": "0",
                                    "OrderDate": "2012-11-28 00:00:00.000",
                                    "OrderQuantity": "4",
                                    "volProm": "noVolProm"
                                },
                                {
                                    "ProductKey": "213",
                                    "PromotionKey": "1",
                                    "DiscountAmount": "0",
                                    "OrderDate": "2012-11-28 00:00:00.000",
                                    "OrderQuantity": "5",
                                    "volProm": "noVolProm"
                                },
                                {
                                    "ProductKey": "213",
                                    "PromotionKey": "1",
                                    "DiscountAmount": "0",
                                    "OrderDate": "2012-11-28 00:00:00.000",
                                    "OrderQuantity": "7",
                                    "volProm": "noVolProm"
                                },
                                {
                                    "ProductKey": "213",
                                    "PromotionKey": "1",
                                    "DiscountAmount": "0",
                                    "OrderDate": "2012-11-28 00:00:00.000",
                                    "OrderQuantity": "8",
                                    "volProm": "noVolProm"
                                },
                                {
                                    "ProductKey": "213",
                                    "PromotionKey": "1",
                                    "DiscountAmount": "0",
                                    "OrderDate": "2012-11-28 00:00:00.000",
                                    "OrderQuantity": "9",
                                    "volProm": "noVolProm"
                                },
                                {
                                    "ProductKey": "213",
                                    "PromotionKey": "1",
                                    "DiscountAmount": "0",
                                    "OrderDate": "2012-11-28 00:00:00.000",
                                    "OrderQuantity": "10",
                                    "volProm": "noVolProm"
                                },
                                {
                                    "ProductKey": "213",
                                    "PromotionKey": "2",
                                    "DiscountAmount": "4,293",
                                    "OrderDate": "2012-11-28 00:00:00.000",
                                    "OrderQuantity": "11",
                                    "volProm": "VolProm"
                                },
                                {
                                    "ProductKey": "213",
                                    "PromotionKey": "2",
                                    "DiscountAmount": "4,6833",
                                    "OrderDate": "2012-11-28 00:00:00.000",
                                    "OrderQuantity": "12",
                                    "volProm": "VolProm"
                                },
                                {
                                    "ProductKey": "213",
                                    "PromotionKey": "3",
                                    "DiscountAmount": "15,7287",
                                    "OrderDate": "2012-11-28 00:00:00.000",
                                    "OrderQuantity": "17",
                                    "volProm": "VolProm"
                                }
                            ]
                        },
                        "text/html": [
                            "<table>",
                            "<tr><th>ProductKey</th><th>PromotionKey</th><th>DiscountAmount</th><th>OrderDate</th><th>OrderQuantity</th><th>volProm</th></tr>",
                            "<tr><td>213</td><td>8</td><td>1,6822</td><td>2011-12-29 00:00:00.000</td><td>1</td><td>noVolProm</td></tr>",
                            "<tr><td>213</td><td>8</td><td>3,3644</td><td>2011-12-29 00:00:00.000</td><td>2</td><td>noVolProm</td></tr>",
                            "<tr><td>213</td><td>8</td><td>5,0466</td><td>2011-12-29 00:00:00.000</td><td>3</td><td>noVolProm</td></tr>",
                            "<tr><td>213</td><td>8</td><td>6,7288</td><td>2011-12-29 00:00:00.000</td><td>4</td><td>noVolProm</td></tr>",
                            "<tr><td>213</td><td>8</td><td>8,4111</td><td>2011-12-29 00:00:00.000</td><td>5</td><td>noVolProm</td></tr>",
                            "<tr><td>213</td><td>8</td><td>10,0933</td><td>2011-12-29 00:00:00.000</td><td>6</td><td>noVolProm</td></tr>",
                            "<tr><td>213</td><td>8</td><td>13,4577</td><td>2011-12-29 00:00:00.000</td><td>8</td><td>noVolProm</td></tr>",
                            "<tr><td>213</td><td>8</td><td>16,8221</td><td>2011-12-29 00:00:00.000</td><td>10</td><td>noVolProm</td></tr>",
                            "<tr><td>213</td><td>1</td><td>0</td><td>2012-01-29 00:00:00.000</td><td>1</td><td>noVolProm</td></tr>",
                            "<tr><td>213</td><td>1</td><td>0</td><td>2012-01-29 00:00:00.000</td><td>2</td><td>noVolProm</td></tr>",
                            "<tr><td>213</td><td>1</td><td>0</td><td>2012-01-29 00:00:00.000</td><td>3</td><td>noVolProm</td></tr>",
                            "<tr><td>213</td><td>1</td><td>0</td><td>2012-01-29 00:00:00.000</td><td>4</td><td>noVolProm</td></tr>",
                            "<tr><td>213</td><td>1</td><td>0</td><td>2012-01-29 00:00:00.000</td><td>5</td><td>noVolProm</td></tr>",
                            "<tr><td>213</td><td>1</td><td>0</td><td>2012-01-29 00:00:00.000</td><td>6</td><td>noVolProm</td></tr>",
                            "<tr><td>213</td><td>1</td><td>0</td><td>2012-01-29 00:00:00.000</td><td>7</td><td>noVolProm</td></tr>",
                            "<tr><td>213</td><td>1</td><td>0</td><td>2012-01-29 00:00:00.000</td><td>8</td><td>noVolProm</td></tr>",
                            "<tr><td>213</td><td>1</td><td>0</td><td>2012-01-29 00:00:00.000</td><td>10</td><td>noVolProm</td></tr>",
                            "<tr><td>213</td><td>2</td><td>5,4638</td><td>2012-01-29 00:00:00.000</td><td>14</td><td>VolProm</td></tr>",
                            "<tr><td>213</td><td>1</td><td>0</td><td>2012-02-29 00:00:00.000</td><td>1</td><td>noVolProm</td></tr>",
                            "<tr><td>213</td><td>1</td><td>0</td><td>2012-02-29 00:00:00.000</td><td>2</td><td>noVolProm</td></tr>",
                            "<tr><td>213</td><td>1</td><td>0</td><td>2012-02-29 00:00:00.000</td><td>3</td><td>noVolProm</td></tr>",
                            "<tr><td>213</td><td>1</td><td>0</td><td>2012-02-29 00:00:00.000</td><td>4</td><td>noVolProm</td></tr>",
                            "<tr><td>213</td><td>1</td><td>0</td><td>2012-02-29 00:00:00.000</td><td>5</td><td>noVolProm</td></tr>",
                            "<tr><td>213</td><td>1</td><td>0</td><td>2012-02-29 00:00:00.000</td><td>6</td><td>noVolProm</td></tr>",
                            "<tr><td>213</td><td>1</td><td>0</td><td>2012-02-29 00:00:00.000</td><td>8</td><td>noVolProm</td></tr>",
                            "<tr><td>213</td><td>1</td><td>0</td><td>2012-02-29 00:00:00.000</td><td>10</td><td>noVolProm</td></tr>",
                            "<tr><td>213</td><td>2</td><td>4,293</td><td>2012-02-29 00:00:00.000</td><td>11</td><td>VolProm</td></tr>",
                            "<tr><td>213</td><td>2</td><td>4,6833</td><td>2012-02-29 00:00:00.000</td><td>12</td><td>VolProm</td></tr>",
                            "<tr><td>213</td><td>2</td><td>5,4638</td><td>2012-02-29 00:00:00.000</td><td>14</td><td>VolProm</td></tr>",
                            "<tr><td>213</td><td>3</td><td>22,2052</td><td>2012-02-29 00:00:00.000</td><td>24</td><td>VolProm</td></tr>",
                            "<tr><td>213</td><td>1</td><td>0</td><td>2012-03-30 00:00:00.000</td><td>1</td><td>noVolProm</td></tr>",
                            "<tr><td>213</td><td>1</td><td>0</td><td>2012-03-30 00:00:00.000</td><td>2</td><td>noVolProm</td></tr>",
                            "<tr><td>213</td><td>1</td><td>0</td><td>2012-03-30 00:00:00.000</td><td>3</td><td>noVolProm</td></tr>",
                            "<tr><td>213</td><td>1</td><td>0</td><td>2012-03-30 00:00:00.000</td><td>4</td><td>noVolProm</td></tr>",
                            "<tr><td>213</td><td>1</td><td>0</td><td>2012-03-30 00:00:00.000</td><td>5</td><td>noVolProm</td></tr>",
                            "<tr><td>213</td><td>1</td><td>0</td><td>2012-03-30 00:00:00.000</td><td>6</td><td>noVolProm</td></tr>",
                            "<tr><td>213</td><td>1</td><td>0</td><td>2012-03-30 00:00:00.000</td><td>7</td><td>noVolProm</td></tr>",
                            "<tr><td>213</td><td>1</td><td>0</td><td>2012-03-30 00:00:00.000</td><td>8</td><td>noVolProm</td></tr>",
                            "<tr><td>213</td><td>1</td><td>0</td><td>2012-03-30 00:00:00.000</td><td>9</td><td>noVolProm</td></tr>",
                            "<tr><td>213</td><td>2</td><td>4,6833</td><td>2012-03-30 00:00:00.000</td><td>12</td><td>VolProm</td></tr>",
                            "<tr><td>213</td><td>1</td><td>0</td><td>2012-04-30 00:00:00.000</td><td>1</td><td>noVolProm</td></tr>",
                            "<tr><td>213</td><td>1</td><td>0</td><td>2012-04-30 00:00:00.000</td><td>2</td><td>noVolProm</td></tr>",
                            "<tr><td>213</td><td>1</td><td>0</td><td>2012-04-30 00:00:00.000</td><td>3</td><td>noVolProm</td></tr>",
                            "<tr><td>213</td><td>1</td><td>0</td><td>2012-04-30 00:00:00.000</td><td>4</td><td>noVolProm</td></tr>",
                            "<tr><td>213</td><td>1</td><td>0</td><td>2012-04-30 00:00:00.000</td><td>5</td><td>noVolProm</td></tr>",
                            "<tr><td>213</td><td>1</td><td>0</td><td>2012-04-30 00:00:00.000</td><td>6</td><td>noVolProm</td></tr>",
                            "<tr><td>213</td><td>1</td><td>0</td><td>2012-04-30 00:00:00.000</td><td>8</td><td>noVolProm</td></tr>",
                            "<tr><td>213</td><td>1</td><td>0</td><td>2012-04-30 00:00:00.000</td><td>9</td><td>noVolProm</td></tr>",
                            "<tr><td>213</td><td>2</td><td>4,293</td><td>2012-04-30 00:00:00.000</td><td>11</td><td>VolProm</td></tr>",
                            "<tr><td>213</td><td>1</td><td>0</td><td>2012-05-30 00:00:00.000</td><td>1</td><td>noVolProm</td></tr>",
                            "<tr><td>213</td><td>1</td><td>0</td><td>2012-05-30 00:00:00.000</td><td>2</td><td>noVolProm</td></tr>",
                            "<tr><td>213</td><td>1</td><td>0</td><td>2012-05-30 00:00:00.000</td><td>3</td><td>noVolProm</td></tr>",
                            "<tr><td>213</td><td>1</td><td>0</td><td>2012-05-30 00:00:00.000</td><td>4</td><td>noVolProm</td></tr>",
                            "<tr><td>213</td><td>1</td><td>0</td><td>2012-05-30 00:00:00.000</td><td>5</td><td>noVolProm</td></tr>",
                            "<tr><td>213</td><td>1</td><td>0</td><td>2012-05-30 00:00:00.000</td><td>6</td><td>noVolProm</td></tr>",
                            "<tr><td>213</td><td>1</td><td>0</td><td>2012-05-30 00:00:00.000</td><td>7</td><td>noVolProm</td></tr>",
                            "<tr><td>213</td><td>1</td><td>0</td><td>2012-05-30 00:00:00.000</td><td>8</td><td>noVolProm</td></tr>",
                            "<tr><td>213</td><td>1</td><td>0</td><td>2012-05-30 00:00:00.000</td><td>10</td><td>noVolProm</td></tr>",
                            "<tr><td>213</td><td>2</td><td>4,6833</td><td>2012-05-30 00:00:00.000</td><td>12</td><td>VolProm</td></tr>",
                            "<tr><td>213</td><td>1</td><td>0</td><td>2012-06-30 00:00:00.000</td><td>1</td><td>noVolProm</td></tr>",
                            "<tr><td>213</td><td>1</td><td>0</td><td>2012-06-30 00:00:00.000</td><td>2</td><td>noVolProm</td></tr>",
                            "<tr><td>213</td><td>1</td><td>0</td><td>2012-06-30 00:00:00.000</td><td>3</td><td>noVolProm</td></tr>",
                            "<tr><td>213</td><td>1</td><td>0</td><td>2012-06-30 00:00:00.000</td><td>4</td><td>noVolProm</td></tr>",
                            "<tr><td>213</td><td>1</td><td>0</td><td>2012-06-30 00:00:00.000</td><td>5</td><td>noVolProm</td></tr>",
                            "<tr><td>213</td><td>1</td><td>0</td><td>2012-06-30 00:00:00.000</td><td>6</td><td>noVolProm</td></tr>",
                            "<tr><td>213</td><td>1</td><td>0</td><td>2012-06-30 00:00:00.000</td><td>7</td><td>noVolProm</td></tr>",
                            "<tr><td>213</td><td>1</td><td>0</td><td>2012-07-31 00:00:00.000</td><td>1</td><td>noVolProm</td></tr>",
                            "<tr><td>213</td><td>1</td><td>0</td><td>2012-07-31 00:00:00.000</td><td>2</td><td>noVolProm</td></tr>",
                            "<tr><td>213</td><td>1</td><td>0</td><td>2012-07-31 00:00:00.000</td><td>3</td><td>noVolProm</td></tr>",
                            "<tr><td>213</td><td>1</td><td>0</td><td>2012-07-31 00:00:00.000</td><td>4</td><td>noVolProm</td></tr>",
                            "<tr><td>213</td><td>1</td><td>0</td><td>2012-07-31 00:00:00.000</td><td>5</td><td>noVolProm</td></tr>",
                            "<tr><td>213</td><td>1</td><td>0</td><td>2012-07-31 00:00:00.000</td><td>6</td><td>noVolProm</td></tr>",
                            "<tr><td>213</td><td>1</td><td>0</td><td>2012-07-31 00:00:00.000</td><td>8</td><td>noVolProm</td></tr>",
                            "<tr><td>213</td><td>1</td><td>0</td><td>2012-08-28 00:00:00.000</td><td>1</td><td>noVolProm</td></tr>",
                            "<tr><td>213</td><td>1</td><td>0</td><td>2012-08-28 00:00:00.000</td><td>2</td><td>noVolProm</td></tr>",
                            "<tr><td>213</td><td>1</td><td>0</td><td>2012-08-28 00:00:00.000</td><td>3</td><td>noVolProm</td></tr>",
                            "<tr><td>213</td><td>1</td><td>0</td><td>2012-08-28 00:00:00.000</td><td>4</td><td>noVolProm</td></tr>",
                            "<tr><td>213</td><td>1</td><td>0</td><td>2012-08-28 00:00:00.000</td><td>5</td><td>noVolProm</td></tr>",
                            "<tr><td>213</td><td>1</td><td>0</td><td>2012-08-28 00:00:00.000</td><td>6</td><td>noVolProm</td></tr>",
                            "<tr><td>213</td><td>1</td><td>0</td><td>2012-08-28 00:00:00.000</td><td>10</td><td>noVolProm</td></tr>",
                            "<tr><td>213</td><td>1</td><td>0</td><td>2012-09-28 00:00:00.000</td><td>1</td><td>noVolProm</td></tr>",
                            "<tr><td>213</td><td>1</td><td>0</td><td>2012-09-28 00:00:00.000</td><td>2</td><td>noVolProm</td></tr>",
                            "<tr><td>213</td><td>1</td><td>0</td><td>2012-09-28 00:00:00.000</td><td>3</td><td>noVolProm</td></tr>",
                            "<tr><td>213</td><td>1</td><td>0</td><td>2012-09-28 00:00:00.000</td><td>4</td><td>noVolProm</td></tr>",
                            "<tr><td>213</td><td>1</td><td>0</td><td>2012-09-28 00:00:00.000</td><td>5</td><td>noVolProm</td></tr>",
                            "<tr><td>213</td><td>1</td><td>0</td><td>2012-09-28 00:00:00.000</td><td>6</td><td>noVolProm</td></tr>",
                            "<tr><td>213</td><td>1</td><td>0</td><td>2012-09-28 00:00:00.000</td><td>7</td><td>noVolProm</td></tr>",
                            "<tr><td>213</td><td>1</td><td>0</td><td>2012-09-28 00:00:00.000</td><td>8</td><td>noVolProm</td></tr>",
                            "<tr><td>213</td><td>2</td><td>5,4638</td><td>2012-09-28 00:00:00.000</td><td>14</td><td>VolProm</td></tr>",
                            "<tr><td>213</td><td>3</td><td>13,8782</td><td>2012-09-28 00:00:00.000</td><td>15</td><td>VolProm</td></tr>",
                            "<tr><td>213</td><td>1</td><td>0</td><td>2012-10-28 00:00:00.000</td><td>1</td><td>noVolProm</td></tr>",
                            "<tr><td>213</td><td>1</td><td>0</td><td>2012-10-28 00:00:00.000</td><td>2</td><td>noVolProm</td></tr>",
                            "<tr><td>213</td><td>1</td><td>0</td><td>2012-10-28 00:00:00.000</td><td>3</td><td>noVolProm</td></tr>",
                            "<tr><td>213</td><td>1</td><td>0</td><td>2012-10-28 00:00:00.000</td><td>4</td><td>noVolProm</td></tr>",
                            "<tr><td>213</td><td>1</td><td>0</td><td>2012-10-28 00:00:00.000</td><td>5</td><td>noVolProm</td></tr>",
                            "<tr><td>213</td><td>1</td><td>0</td><td>2012-10-28 00:00:00.000</td><td>6</td><td>noVolProm</td></tr>",
                            "<tr><td>213</td><td>1</td><td>0</td><td>2012-10-28 00:00:00.000</td><td>7</td><td>noVolProm</td></tr>",
                            "<tr><td>213</td><td>1</td><td>0</td><td>2012-10-28 00:00:00.000</td><td>8</td><td>noVolProm</td></tr>",
                            "<tr><td>213</td><td>1</td><td>0</td><td>2012-10-28 00:00:00.000</td><td>9</td><td>noVolProm</td></tr>",
                            "<tr><td>213</td><td>2</td><td>4,6833</td><td>2012-10-28 00:00:00.000</td><td>12</td><td>VolProm</td></tr>",
                            "<tr><td>213</td><td>1</td><td>0</td><td>2012-11-28 00:00:00.000</td><td>1</td><td>noVolProm</td></tr>",
                            "<tr><td>213</td><td>1</td><td>0</td><td>2012-11-28 00:00:00.000</td><td>2</td><td>noVolProm</td></tr>",
                            "<tr><td>213</td><td>1</td><td>0</td><td>2012-11-28 00:00:00.000</td><td>3</td><td>noVolProm</td></tr>",
                            "<tr><td>213</td><td>1</td><td>0</td><td>2012-11-28 00:00:00.000</td><td>4</td><td>noVolProm</td></tr>",
                            "<tr><td>213</td><td>1</td><td>0</td><td>2012-11-28 00:00:00.000</td><td>5</td><td>noVolProm</td></tr>",
                            "<tr><td>213</td><td>1</td><td>0</td><td>2012-11-28 00:00:00.000</td><td>7</td><td>noVolProm</td></tr>",
                            "<tr><td>213</td><td>1</td><td>0</td><td>2012-11-28 00:00:00.000</td><td>8</td><td>noVolProm</td></tr>",
                            "<tr><td>213</td><td>1</td><td>0</td><td>2012-11-28 00:00:00.000</td><td>9</td><td>noVolProm</td></tr>",
                            "<tr><td>213</td><td>1</td><td>0</td><td>2012-11-28 00:00:00.000</td><td>10</td><td>noVolProm</td></tr>",
                            "<tr><td>213</td><td>2</td><td>4,293</td><td>2012-11-28 00:00:00.000</td><td>11</td><td>VolProm</td></tr>",
                            "<tr><td>213</td><td>2</td><td>4,6833</td><td>2012-11-28 00:00:00.000</td><td>12</td><td>VolProm</td></tr>",
                            "<tr><td>213</td><td>3</td><td>15,7287</td><td>2012-11-28 00:00:00.000</td><td>17</td><td>VolProm</td></tr>",
                            "</table>"
                        ]
                    }
                }
            ],
            "execution_count": 54
        },
        {
            "cell_type": "code",
            "source": [
                "WITH CTE AS (SELECT rs.ProductKey, CASE WHEN PromotionKey IN(2,3,4,5,6) THEN 'VolProm' ELSE 'noVolProm' END volProm\n",
                "FROM AdventureWorksDW2019.dbo.FactResellerSales rs)\n",
                "SELECT DISTINCT CTE.ProductKey\n",
                "FROM CTE\n",
                "WHERE volProm = 'VolProm'\n",
                ""
            ],
            "metadata": {
                "language": "sql",
                "azdata_cell_guid": "db4b9bff-c6b7-460a-a48b-887553abd6bb"
            },
            "outputs": [
                {
                    "output_type": "display_data",
                    "data": {
                        "text/html": "(139 rows affected)"
                    },
                    "metadata": {}
                },
                {
                    "output_type": "display_data",
                    "data": {
                        "text/html": "Total execution time: 00:00:00.067"
                    },
                    "metadata": {}
                },
                {
                    "output_type": "execute_result",
                    "metadata": {},
                    "execution_count": 55,
                    "data": {
                        "application/vnd.dataresource+json": {
                            "schema": {
                                "fields": [
                                    {
                                        "name": "ProductKey"
                                    }
                                ]
                            },
                            "data": [
                                {
                                    "ProductKey": "355"
                                },
                                {
                                    "ProductKey": "215"
                                },
                                {
                                    "ProductKey": "524"
                                },
                                {
                                    "ProductKey": "384"
                                },
                                {
                                    "ProductKey": "232"
                                },
                                {
                                    "ProductKey": "576"
                                },
                                {
                                    "ProductKey": "361"
                                },
                                {
                                    "ProductKey": "564"
                                },
                                {
                                    "ProductKey": "315"
                                },
                                {
                                    "ProductKey": "470"
                                },
                                {
                                    "ProductKey": "221"
                                },
                                {
                                    "ProductKey": "464"
                                },
                                {
                                    "ProductKey": "487"
                                },
                                {
                                    "ProductKey": "458"
                                },
                                {
                                    "ProductKey": "481"
                                },
                                {
                                    "ProductKey": "544"
                                },
                                {
                                    "ProductKey": "493"
                                },
                                {
                                    "ProductKey": "335"
                                },
                                {
                                    "ProductKey": "381"
                                },
                                {
                                    "ProductKey": "358"
                                },
                                {
                                    "ProductKey": "421"
                                },
                                {
                                    "ProductKey": "410"
                                },
                                {
                                    "ProductKey": "218"
                                },
                                {
                                    "ProductKey": "375"
                                },
                                {
                                    "ProductKey": "364"
                                },
                                {
                                    "ProductKey": "327"
                                },
                                {
                                    "ProductKey": "573"
                                },
                                {
                                    "ProductKey": "467"
                                },
                                {
                                    "ProductKey": "367"
                                },
                                {
                                    "ProductKey": "390"
                                },
                                {
                                    "ProductKey": "484"
                                },
                                {
                                    "ProductKey": "398"
                                },
                                {
                                    "ProductKey": "590"
                                },
                                {
                                    "ProductKey": "447"
                                },
                                {
                                    "ProductKey": "490"
                                },
                                {
                                    "ProductKey": "213"
                                },
                                {
                                    "ProductKey": "476"
                                },
                                {
                                    "ProductKey": "499"
                                },
                                {
                                    "ProductKey": "353"
                                },
                                {
                                    "ProductKey": "359"
                                },
                                {
                                    "ProductKey": "453"
                                },
                                {
                                    "ProductKey": "236"
                                },
                                {
                                    "ProductKey": "382"
                                },
                                {
                                    "ProductKey": "516"
                                },
                                {
                                    "ProductKey": "230"
                                },
                                {
                                    "ProductKey": "376"
                                },
                                {
                                    "ProductKey": "322"
                                },
                                {
                                    "ProductKey": "568"
                                },
                                {
                                    "ProductKey": "273"
                                },
                                {
                                    "ProductKey": "605"
                                },
                                {
                                    "ProductKey": "462"
                                },
                                {
                                    "ProductKey": "579"
                                },
                                {
                                    "ProductKey": "350"
                                },
                                {
                                    "ProductKey": "399"
                                },
                                {
                                    "ProductKey": "342"
                                },
                                {
                                    "ProductKey": "393"
                                },
                                {
                                    "ProductKey": "356"
                                },
                                {
                                    "ProductKey": "216"
                                },
                                {
                                    "ProductKey": "287"
                                },
                                {
                                    "ProductKey": "233"
                                },
                                {
                                    "ProductKey": "333"
                                },
                                {
                                    "ProductKey": "456"
                                },
                                {
                                    "ProductKey": "362"
                                },
                                {
                                    "ProductKey": "373"
                                },
                                {
                                    "ProductKey": "465"
                                },
                                {
                                    "ProductKey": "224"
                                },
                                {
                                    "ProductKey": "488"
                                },
                                {
                                    "ProductKey": "559"
                                },
                                {
                                    "ProductKey": "459"
                                },
                                {
                                    "ProductKey": "482"
                                },
                                {
                                    "ProductKey": "433"
                                },
                                {
                                    "ProductKey": "445"
                                },
                                {
                                    "ProductKey": "588"
                                },
                                {
                                    "ProductKey": "551"
                                },
                                {
                                    "ProductKey": "339"
                                },
                                {
                                    "ProductKey": "496"
                                },
                                {
                                    "ProductKey": "428"
                                },
                                {
                                    "ProductKey": "474"
                                },
                                {
                                    "ProductKey": "234"
                                },
                                {
                                    "ProductKey": "357"
                                },
                                {
                                    "ProductKey": "480"
                                },
                                {
                                    "ProductKey": "365"
                                },
                                {
                                    "ProductKey": "420"
                                },
                                {
                                    "ProductKey": "368"
                                },
                                {
                                    "ProductKey": "583"
                                },
                                {
                                    "ProductKey": "560"
                                },
                                {
                                    "ProductKey": "511"
                                },
                                {
                                    "ProductKey": "460"
                                },
                                {
                                    "ProductKey": "483"
                                },
                                {
                                    "ProductKey": "577"
                                },
                                {
                                    "ProductKey": "434"
                                },
                                {
                                    "ProductKey": "448"
                                },
                                {
                                    "ProductKey": "348"
                                },
                                {
                                    "ProductKey": "491"
                                },
                                {
                                    "ProductKey": "500"
                                },
                                {
                                    "ProductKey": "354"
                                },
                                {
                                    "ProductKey": "477"
                                },
                                {
                                    "ProductKey": "231"
                                },
                                {
                                    "ProductKey": "325"
                                },
                                {
                                    "ProductKey": "471"
                                },
                                {
                                    "ProductKey": "222"
                                },
                                {
                                    "ProductKey": "463"
                                },
                                {
                                    "ProductKey": "225"
                                },
                                {
                                    "ProductKey": "606"
                                },
                                {
                                    "ProductKey": "580"
                                },
                                {
                                    "ProductKey": "586"
                                },
                                {
                                    "ProductKey": "400"
                                },
                                {
                                    "ProductKey": "345"
                                },
                                {
                                    "ProductKey": "309"
                                },
                                {
                                    "ProductKey": "286"
                                },
                                {
                                    "ProductKey": "263"
                                },
                                {
                                    "ProductKey": "572"
                                },
                                {
                                    "ProductKey": "363"
                                },
                                {
                                    "ProductKey": "223"
                                },
                                {
                                    "ProductKey": "472"
                                },
                                {
                                    "ProductKey": "217"
                                },
                                {
                                    "ProductKey": "558"
                                },
                                {
                                    "ProductKey": "581"
                                },
                                {
                                    "ProductKey": "532"
                                },
                                {
                                    "ProductKey": "552"
                                },
                                {
                                    "ProductKey": "352"
                                },
                                {
                                    "ProductKey": "389"
                                },
                                {
                                    "ProductKey": "395"
                                },
                                {
                                    "ProductKey": "346"
                                },
                                {
                                    "ProductKey": "214"
                                },
                                {
                                    "ProductKey": "237"
                                },
                                {
                                    "ProductKey": "329"
                                },
                                {
                                    "ProductKey": "360"
                                },
                                {
                                    "ProductKey": "220"
                                },
                                {
                                    "ProductKey": "469"
                                },
                                {
                                    "ProductKey": "561"
                                },
                                {
                                    "ProductKey": "323"
                                },
                                {
                                    "ProductKey": "515"
                                },
                                {
                                    "ProductKey": "369"
                                },
                                {
                                    "ProductKey": "555"
                                },
                                {
                                    "ProductKey": "506"
                                },
                                {
                                    "ProductKey": "349"
                                },
                                {
                                    "ProductKey": "343"
                                },
                                {
                                    "ProductKey": "492"
                                }
                            ]
                        },
                        "text/html": [
                            "<table>",
                            "<tr><th>ProductKey</th></tr>",
                            "<tr><td>355</td></tr>",
                            "<tr><td>215</td></tr>",
                            "<tr><td>524</td></tr>",
                            "<tr><td>384</td></tr>",
                            "<tr><td>232</td></tr>",
                            "<tr><td>576</td></tr>",
                            "<tr><td>361</td></tr>",
                            "<tr><td>564</td></tr>",
                            "<tr><td>315</td></tr>",
                            "<tr><td>470</td></tr>",
                            "<tr><td>221</td></tr>",
                            "<tr><td>464</td></tr>",
                            "<tr><td>487</td></tr>",
                            "<tr><td>458</td></tr>",
                            "<tr><td>481</td></tr>",
                            "<tr><td>544</td></tr>",
                            "<tr><td>493</td></tr>",
                            "<tr><td>335</td></tr>",
                            "<tr><td>381</td></tr>",
                            "<tr><td>358</td></tr>",
                            "<tr><td>421</td></tr>",
                            "<tr><td>410</td></tr>",
                            "<tr><td>218</td></tr>",
                            "<tr><td>375</td></tr>",
                            "<tr><td>364</td></tr>",
                            "<tr><td>327</td></tr>",
                            "<tr><td>573</td></tr>",
                            "<tr><td>467</td></tr>",
                            "<tr><td>367</td></tr>",
                            "<tr><td>390</td></tr>",
                            "<tr><td>484</td></tr>",
                            "<tr><td>398</td></tr>",
                            "<tr><td>590</td></tr>",
                            "<tr><td>447</td></tr>",
                            "<tr><td>490</td></tr>",
                            "<tr><td>213</td></tr>",
                            "<tr><td>476</td></tr>",
                            "<tr><td>499</td></tr>",
                            "<tr><td>353</td></tr>",
                            "<tr><td>359</td></tr>",
                            "<tr><td>453</td></tr>",
                            "<tr><td>236</td></tr>",
                            "<tr><td>382</td></tr>",
                            "<tr><td>516</td></tr>",
                            "<tr><td>230</td></tr>",
                            "<tr><td>376</td></tr>",
                            "<tr><td>322</td></tr>",
                            "<tr><td>568</td></tr>",
                            "<tr><td>273</td></tr>",
                            "<tr><td>605</td></tr>",
                            "<tr><td>462</td></tr>",
                            "<tr><td>579</td></tr>",
                            "<tr><td>350</td></tr>",
                            "<tr><td>399</td></tr>",
                            "<tr><td>342</td></tr>",
                            "<tr><td>393</td></tr>",
                            "<tr><td>356</td></tr>",
                            "<tr><td>216</td></tr>",
                            "<tr><td>287</td></tr>",
                            "<tr><td>233</td></tr>",
                            "<tr><td>333</td></tr>",
                            "<tr><td>456</td></tr>",
                            "<tr><td>362</td></tr>",
                            "<tr><td>373</td></tr>",
                            "<tr><td>465</td></tr>",
                            "<tr><td>224</td></tr>",
                            "<tr><td>488</td></tr>",
                            "<tr><td>559</td></tr>",
                            "<tr><td>459</td></tr>",
                            "<tr><td>482</td></tr>",
                            "<tr><td>433</td></tr>",
                            "<tr><td>445</td></tr>",
                            "<tr><td>588</td></tr>",
                            "<tr><td>551</td></tr>",
                            "<tr><td>339</td></tr>",
                            "<tr><td>496</td></tr>",
                            "<tr><td>428</td></tr>",
                            "<tr><td>474</td></tr>",
                            "<tr><td>234</td></tr>",
                            "<tr><td>357</td></tr>",
                            "<tr><td>480</td></tr>",
                            "<tr><td>365</td></tr>",
                            "<tr><td>420</td></tr>",
                            "<tr><td>368</td></tr>",
                            "<tr><td>583</td></tr>",
                            "<tr><td>560</td></tr>",
                            "<tr><td>511</td></tr>",
                            "<tr><td>460</td></tr>",
                            "<tr><td>483</td></tr>",
                            "<tr><td>577</td></tr>",
                            "<tr><td>434</td></tr>",
                            "<tr><td>448</td></tr>",
                            "<tr><td>348</td></tr>",
                            "<tr><td>491</td></tr>",
                            "<tr><td>500</td></tr>",
                            "<tr><td>354</td></tr>",
                            "<tr><td>477</td></tr>",
                            "<tr><td>231</td></tr>",
                            "<tr><td>325</td></tr>",
                            "<tr><td>471</td></tr>",
                            "<tr><td>222</td></tr>",
                            "<tr><td>463</td></tr>",
                            "<tr><td>225</td></tr>",
                            "<tr><td>606</td></tr>",
                            "<tr><td>580</td></tr>",
                            "<tr><td>586</td></tr>",
                            "<tr><td>400</td></tr>",
                            "<tr><td>345</td></tr>",
                            "<tr><td>309</td></tr>",
                            "<tr><td>286</td></tr>",
                            "<tr><td>263</td></tr>",
                            "<tr><td>572</td></tr>",
                            "<tr><td>363</td></tr>",
                            "<tr><td>223</td></tr>",
                            "<tr><td>472</td></tr>",
                            "<tr><td>217</td></tr>",
                            "<tr><td>558</td></tr>",
                            "<tr><td>581</td></tr>",
                            "<tr><td>532</td></tr>",
                            "<tr><td>552</td></tr>",
                            "<tr><td>352</td></tr>",
                            "<tr><td>389</td></tr>",
                            "<tr><td>395</td></tr>",
                            "<tr><td>346</td></tr>",
                            "<tr><td>214</td></tr>",
                            "<tr><td>237</td></tr>",
                            "<tr><td>329</td></tr>",
                            "<tr><td>360</td></tr>",
                            "<tr><td>220</td></tr>",
                            "<tr><td>469</td></tr>",
                            "<tr><td>561</td></tr>",
                            "<tr><td>323</td></tr>",
                            "<tr><td>515</td></tr>",
                            "<tr><td>369</td></tr>",
                            "<tr><td>555</td></tr>",
                            "<tr><td>506</td></tr>",
                            "<tr><td>349</td></tr>",
                            "<tr><td>343</td></tr>",
                            "<tr><td>492</td></tr>",
                            "</table>"
                        ]
                    }
                }
            ],
            "execution_count": 55
        },
        {
            "cell_type": "code",
            "source": [
                "SELECT *\n",
                "FROM AdventureWorksDW2019.dbo.DimPromotion\n",
                ""
            ],
            "metadata": {
                "language": "sql",
                "azdata_cell_guid": "54399244-7c6c-426d-ab6f-52b8333a50b1"
            },
            "outputs": [
                {
                    "output_type": "display_data",
                    "data": {
                        "text/html": "(16 rows affected)"
                    },
                    "metadata": {}
                },
                {
                    "output_type": "display_data",
                    "data": {
                        "text/html": "Total execution time: 00:00:00.064"
                    },
                    "metadata": {}
                },
                {
                    "output_type": "execute_result",
                    "metadata": {},
                    "execution_count": 47,
                    "data": {
                        "application/vnd.dataresource+json": {
                            "schema": {
                                "fields": [
                                    {
                                        "name": "PromotionKey"
                                    },
                                    {
                                        "name": "PromotionAlternateKey"
                                    },
                                    {
                                        "name": "EnglishPromotionName"
                                    },
                                    {
                                        "name": "SpanishPromotionName"
                                    },
                                    {
                                        "name": "FrenchPromotionName"
                                    },
                                    {
                                        "name": "DiscountPct"
                                    },
                                    {
                                        "name": "EnglishPromotionType"
                                    },
                                    {
                                        "name": "SpanishPromotionType"
                                    },
                                    {
                                        "name": "FrenchPromotionType"
                                    },
                                    {
                                        "name": "EnglishPromotionCategory"
                                    },
                                    {
                                        "name": "SpanishPromotionCategory"
                                    },
                                    {
                                        "name": "FrenchPromotionCategory"
                                    },
                                    {
                                        "name": "StartDate"
                                    },
                                    {
                                        "name": "EndDate"
                                    },
                                    {
                                        "name": "MinQty"
                                    },
                                    {
                                        "name": "MaxQty"
                                    }
                                ]
                            },
                            "data": [
                                {
                                    "PromotionKey": "1",
                                    "PromotionAlternateKey": "1",
                                    "EnglishPromotionName": "No Discount",
                                    "SpanishPromotionName": "Sin descuento",
                                    "FrenchPromotionName": "Aucune remise",
                                    "DiscountPct": "0",
                                    "EnglishPromotionType": "No Discount",
                                    "SpanishPromotionType": "Sin descuento",
                                    "FrenchPromotionType": "Aucune remise",
                                    "EnglishPromotionCategory": "No Discount",
                                    "SpanishPromotionCategory": "Sin descuento",
                                    "FrenchPromotionCategory": "Aucune remise",
                                    "StartDate": "2010-11-29 00:00:00.000",
                                    "EndDate": "2014-06-30 00:00:00.000",
                                    "MinQty": "0",
                                    "MaxQty": "NULL"
                                },
                                {
                                    "PromotionKey": "2",
                                    "PromotionAlternateKey": "2",
                                    "EnglishPromotionName": "Volume Discount 11 to 14",
                                    "SpanishPromotionName": "Descuento por volumen (entre 11 y 14)",
                                    "FrenchPromotionName": "Remise sur quantité (de 11 à 14)",
                                    "DiscountPct": "0,02",
                                    "EnglishPromotionType": "Volume Discount",
                                    "SpanishPromotionType": "Descuento por volumen",
                                    "FrenchPromotionType": "Remise sur quantité",
                                    "EnglishPromotionCategory": "Reseller",
                                    "SpanishPromotionCategory": "Distribuidor",
                                    "FrenchPromotionCategory": "Revendeur",
                                    "StartDate": "2010-12-29 00:00:00.000",
                                    "EndDate": "2013-12-28 00:00:00.000",
                                    "MinQty": "11",
                                    "MaxQty": "14"
                                },
                                {
                                    "PromotionKey": "3",
                                    "PromotionAlternateKey": "3",
                                    "EnglishPromotionName": "Volume Discount 15 to 24",
                                    "SpanishPromotionName": "Descuento por volumen (entre 15 y 24)",
                                    "FrenchPromotionName": "Remise sur quantité (de 15 à 24)",
                                    "DiscountPct": "0,05",
                                    "EnglishPromotionType": "Volume Discount",
                                    "SpanishPromotionType": "Descuento por volumen",
                                    "FrenchPromotionType": "Remise sur quantité",
                                    "EnglishPromotionCategory": "Reseller",
                                    "SpanishPromotionCategory": "Distribuidor",
                                    "FrenchPromotionCategory": "Revendeur",
                                    "StartDate": "2010-12-29 00:00:00.000",
                                    "EndDate": "2013-12-28 00:00:00.000",
                                    "MinQty": "15",
                                    "MaxQty": "24"
                                },
                                {
                                    "PromotionKey": "4",
                                    "PromotionAlternateKey": "4",
                                    "EnglishPromotionName": "Volume Discount 25 to 40",
                                    "SpanishPromotionName": "Descuento por volumen (entre 25 y 40)",
                                    "FrenchPromotionName": "Remise sur quantité (de 25 à 40)",
                                    "DiscountPct": "0,1",
                                    "EnglishPromotionType": "Volume Discount",
                                    "SpanishPromotionType": "Descuento por volumen",
                                    "FrenchPromotionType": "Remise sur quantité",
                                    "EnglishPromotionCategory": "Reseller",
                                    "SpanishPromotionCategory": "Distribuidor",
                                    "FrenchPromotionCategory": "Revendeur",
                                    "StartDate": "2010-12-29 00:00:00.000",
                                    "EndDate": "2013-12-28 00:00:00.000",
                                    "MinQty": "25",
                                    "MaxQty": "40"
                                },
                                {
                                    "PromotionKey": "5",
                                    "PromotionAlternateKey": "5",
                                    "EnglishPromotionName": "Volume Discount 41 to 60",
                                    "SpanishPromotionName": "Descuento por volumen (entre 41 y 60)",
                                    "FrenchPromotionName": "Remise sur quantité (de 41 à 60)",
                                    "DiscountPct": "0,15",
                                    "EnglishPromotionType": "Volume Discount",
                                    "SpanishPromotionType": "Descuento por volumen",
                                    "FrenchPromotionType": "Remise sur quantité",
                                    "EnglishPromotionCategory": "Reseller",
                                    "SpanishPromotionCategory": "Distribuidor",
                                    "FrenchPromotionCategory": "Revendeur",
                                    "StartDate": "2010-12-29 00:00:00.000",
                                    "EndDate": "2013-12-28 00:00:00.000",
                                    "MinQty": "41",
                                    "MaxQty": "60"
                                },
                                {
                                    "PromotionKey": "6",
                                    "PromotionAlternateKey": "6",
                                    "EnglishPromotionName": "Volume Discount over 60",
                                    "SpanishPromotionName": "Descuento por volumen (más de 60)",
                                    "FrenchPromotionName": "Remise sur quantité (au-delà de 60)",
                                    "DiscountPct": "0,2",
                                    "EnglishPromotionType": "Volume Discount",
                                    "SpanishPromotionType": "Descuento por volumen",
                                    "FrenchPromotionType": "Remise sur quantité",
                                    "EnglishPromotionCategory": "Reseller",
                                    "SpanishPromotionCategory": "Distribuidor",
                                    "FrenchPromotionCategory": "Revendeur",
                                    "StartDate": "2010-12-29 00:00:00.000",
                                    "EndDate": "2013-12-28 00:00:00.000",
                                    "MinQty": "61",
                                    "MaxQty": "NULL"
                                },
                                {
                                    "PromotionKey": "7",
                                    "PromotionAlternateKey": "7",
                                    "EnglishPromotionName": "Mountain-100 Clearance Sale",
                                    "SpanishPromotionName": "Liquidación de bicicleta de montaña, 100",
                                    "FrenchPromotionName": "Liquidation VTT 100",
                                    "DiscountPct": "0,35",
                                    "EnglishPromotionType": "Discontinued Product",
                                    "SpanishPromotionType": "Descatalogado",
                                    "FrenchPromotionType": "Ce produit n'est plus commercialisé",
                                    "EnglishPromotionCategory": "Reseller",
                                    "SpanishPromotionCategory": "Distribuidor",
                                    "FrenchPromotionCategory": "Revendeur",
                                    "StartDate": "2011-11-12 00:00:00.000",
                                    "EndDate": "2011-12-28 00:00:00.000",
                                    "MinQty": "0",
                                    "MaxQty": "NULL"
                                },
                                {
                                    "PromotionKey": "8",
                                    "PromotionAlternateKey": "8",
                                    "EnglishPromotionName": "Sport Helmet Discount-2002",
                                    "SpanishPromotionName": "Casco deportivo, descuento: 2002",
                                    "FrenchPromotionName": "Remise sur les casques sport - 2002",
                                    "DiscountPct": "0,1",
                                    "EnglishPromotionType": "Seasonal Discount",
                                    "SpanishPromotionType": "Descuento de temporada",
                                    "FrenchPromotionType": "Remise saisonnière",
                                    "EnglishPromotionCategory": "Reseller",
                                    "SpanishPromotionCategory": "Distribuidor",
                                    "FrenchPromotionCategory": "Revendeur",
                                    "StartDate": "2011-12-29 00:00:00.000",
                                    "EndDate": "2012-01-28 00:00:00.000",
                                    "MinQty": "0",
                                    "MaxQty": "NULL"
                                },
                                {
                                    "PromotionKey": "9",
                                    "PromotionAlternateKey": "9",
                                    "EnglishPromotionName": "Road-650 Overstock",
                                    "SpanishPromotionName": "Bicicleta de carretera: 650, oferta especial",
                                    "FrenchPromotionName": "Déstockage Vélo de route 650",
                                    "DiscountPct": "0,3",
                                    "EnglishPromotionType": "Excess Inventory",
                                    "SpanishPromotionType": "Inventario excedente",
                                    "FrenchPromotionType": "Déstockage",
                                    "EnglishPromotionCategory": "Reseller",
                                    "SpanishPromotionCategory": "Distribuidor",
                                    "FrenchPromotionCategory": "Revendeur",
                                    "StartDate": "2011-12-29 00:00:00.000",
                                    "EndDate": "2012-02-28 00:00:00.000",
                                    "MinQty": "0",
                                    "MaxQty": "NULL"
                                },
                                {
                                    "PromotionKey": "10",
                                    "PromotionAlternateKey": "10",
                                    "EnglishPromotionName": "Mountain Tire Sale",
                                    "SpanishPromotionName": "Oferta de cubierta de montaña",
                                    "FrenchPromotionName": "Vente de pneus de VTT",
                                    "DiscountPct": "0,5",
                                    "EnglishPromotionType": "Excess Inventory",
                                    "SpanishPromotionType": "Inventario excedente",
                                    "FrenchPromotionType": "Déstockage",
                                    "EnglishPromotionCategory": "Customer",
                                    "SpanishPromotionCategory": "Cliente",
                                    "FrenchPromotionCategory": "Client",
                                    "StartDate": "2012-12-12 00:00:00.000",
                                    "EndDate": "2013-02-26 00:00:00.000",
                                    "MinQty": "0",
                                    "MaxQty": "NULL"
                                },
                                {
                                    "PromotionKey": "11",
                                    "PromotionAlternateKey": "11",
                                    "EnglishPromotionName": "Sport Helmet Discount-2003",
                                    "SpanishPromotionName": "Casco deportivo, descuento: 2003",
                                    "FrenchPromotionName": "Remise sur les casques sport - 2003",
                                    "DiscountPct": "0,15",
                                    "EnglishPromotionType": "Seasonal Discount",
                                    "SpanishPromotionType": "Descuento de temporada",
                                    "FrenchPromotionType": "Remise saisonnière",
                                    "EnglishPromotionCategory": "Reseller",
                                    "SpanishPromotionCategory": "Distribuidor",
                                    "FrenchPromotionCategory": "Revendeur",
                                    "StartDate": "2012-12-28 00:00:00.000",
                                    "EndDate": "2013-01-27 00:00:00.000",
                                    "MinQty": "0",
                                    "MaxQty": "NULL"
                                },
                                {
                                    "PromotionKey": "12",
                                    "PromotionAlternateKey": "12",
                                    "EnglishPromotionName": "LL Road Frame Sale",
                                    "SpanishPromotionName": "Oferta de cuadro de carretera GB",
                                    "FrenchPromotionName": "Vente de cadres de vélo de route LL",
                                    "DiscountPct": "0,35",
                                    "EnglishPromotionType": "Excess Inventory",
                                    "SpanishPromotionType": "Inventario excedente",
                                    "FrenchPromotionType": "Déstockage",
                                    "EnglishPromotionCategory": "Reseller",
                                    "SpanishPromotionCategory": "Distribuidor",
                                    "FrenchPromotionCategory": "Revendeur",
                                    "StartDate": "2012-12-28 00:00:00.000",
                                    "EndDate": "2013-02-11 00:00:00.000",
                                    "MinQty": "0",
                                    "MaxQty": "NULL"
                                },
                                {
                                    "PromotionKey": "13",
                                    "PromotionAlternateKey": "13",
                                    "EnglishPromotionName": "Touring-3000 Promotion",
                                    "SpanishPromotionName": "Promoción ‘Touring-3000’",
                                    "FrenchPromotionName": "Promotion “Touring-3000”",
                                    "DiscountPct": "0,15",
                                    "EnglishPromotionType": "New Product",
                                    "SpanishPromotionType": "Producto Nuevo",
                                    "FrenchPromotionType": "Nouveau produit",
                                    "EnglishPromotionCategory": "Reseller",
                                    "SpanishPromotionCategory": "Distribuidor",
                                    "FrenchPromotionCategory": "Revendeur",
                                    "StartDate": "2012-12-28 00:00:00.000",
                                    "EndDate": "2013-03-29 00:00:00.000",
                                    "MinQty": "0",
                                    "MaxQty": "NULL"
                                },
                                {
                                    "PromotionKey": "14",
                                    "PromotionAlternateKey": "14",
                                    "EnglishPromotionName": "Touring-1000 Promotion",
                                    "SpanishPromotionName": "Promoción ‘Touring-1000’",
                                    "FrenchPromotionName": "Promotion “Touring-1000”",
                                    "DiscountPct": "0,2",
                                    "EnglishPromotionType": "New Product",
                                    "SpanishPromotionType": "Producto Nuevo",
                                    "FrenchPromotionType": "Nouveau produit",
                                    "EnglishPromotionCategory": "Reseller",
                                    "SpanishPromotionCategory": "Distribuidor",
                                    "FrenchPromotionCategory": "Revendeur",
                                    "StartDate": "2012-12-28 00:00:00.000",
                                    "EndDate": "2013-03-29 00:00:00.000",
                                    "MinQty": "0",
                                    "MaxQty": "NULL"
                                },
                                {
                                    "PromotionKey": "15",
                                    "PromotionAlternateKey": "15",
                                    "EnglishPromotionName": "Half-Price Pedal Sale",
                                    "SpanishPromotionName": "Venta de pedales a mitad de precio",
                                    "FrenchPromotionName": "Pédales à moitié prix",
                                    "DiscountPct": "0,5",
                                    "EnglishPromotionType": "Seasonal Discount",
                                    "SpanishPromotionType": "Descuento de temporada",
                                    "FrenchPromotionType": "Remise saisonnière",
                                    "EnglishPromotionCategory": "Customer",
                                    "SpanishPromotionCategory": "Cliente",
                                    "FrenchPromotionCategory": "Client",
                                    "StartDate": "2013-02-11 00:00:00.000",
                                    "EndDate": "2013-03-14 00:00:00.000",
                                    "MinQty": "0",
                                    "MaxQty": "NULL"
                                },
                                {
                                    "PromotionKey": "16",
                                    "PromotionAlternateKey": "16",
                                    "EnglishPromotionName": "Mountain-500 Silver Clearance Sale",
                                    "SpanishPromotionName": "Liquidación de bicicleta de montaña, 500, plateada",
                                    "FrenchPromotionName": "Liquidation VTT 500 argent",
                                    "DiscountPct": "0,4",
                                    "EnglishPromotionType": "Discontinued Product",
                                    "SpanishPromotionType": "Descatalogado",
                                    "FrenchPromotionType": "Ce produit n'est plus commercialisé",
                                    "EnglishPromotionCategory": "Reseller",
                                    "SpanishPromotionCategory": "Distribuidor",
                                    "FrenchPromotionCategory": "Revendeur",
                                    "StartDate": "2013-10-29 00:00:00.000",
                                    "EndDate": "2013-12-28 00:00:00.000",
                                    "MinQty": "0",
                                    "MaxQty": "NULL"
                                }
                            ]
                        },
                        "text/html": [
                            "<table>",
                            "<tr><th>PromotionKey</th><th>PromotionAlternateKey</th><th>EnglishPromotionName</th><th>SpanishPromotionName</th><th>FrenchPromotionName</th><th>DiscountPct</th><th>EnglishPromotionType</th><th>SpanishPromotionType</th><th>FrenchPromotionType</th><th>EnglishPromotionCategory</th><th>SpanishPromotionCategory</th><th>FrenchPromotionCategory</th><th>StartDate</th><th>EndDate</th><th>MinQty</th><th>MaxQty</th></tr>",
                            "<tr><td>1</td><td>1</td><td>No Discount</td><td>Sin descuento</td><td>Aucune remise</td><td>0</td><td>No Discount</td><td>Sin descuento</td><td>Aucune remise</td><td>No Discount</td><td>Sin descuento</td><td>Aucune remise</td><td>2010-11-29 00:00:00.000</td><td>2014-06-30 00:00:00.000</td><td>0</td><td>NULL</td></tr>",
                            "<tr><td>2</td><td>2</td><td>Volume Discount 11 to 14</td><td>Descuento por volumen (entre 11 y 14)</td><td>Remise sur quantité (de 11 à 14)</td><td>0,02</td><td>Volume Discount</td><td>Descuento por volumen</td><td>Remise sur quantité</td><td>Reseller</td><td>Distribuidor</td><td>Revendeur</td><td>2010-12-29 00:00:00.000</td><td>2013-12-28 00:00:00.000</td><td>11</td><td>14</td></tr>",
                            "<tr><td>3</td><td>3</td><td>Volume Discount 15 to 24</td><td>Descuento por volumen (entre 15 y 24)</td><td>Remise sur quantité (de 15 à 24)</td><td>0,05</td><td>Volume Discount</td><td>Descuento por volumen</td><td>Remise sur quantité</td><td>Reseller</td><td>Distribuidor</td><td>Revendeur</td><td>2010-12-29 00:00:00.000</td><td>2013-12-28 00:00:00.000</td><td>15</td><td>24</td></tr>",
                            "<tr><td>4</td><td>4</td><td>Volume Discount 25 to 40</td><td>Descuento por volumen (entre 25 y 40)</td><td>Remise sur quantité (de 25 à 40)</td><td>0,1</td><td>Volume Discount</td><td>Descuento por volumen</td><td>Remise sur quantité</td><td>Reseller</td><td>Distribuidor</td><td>Revendeur</td><td>2010-12-29 00:00:00.000</td><td>2013-12-28 00:00:00.000</td><td>25</td><td>40</td></tr>",
                            "<tr><td>5</td><td>5</td><td>Volume Discount 41 to 60</td><td>Descuento por volumen (entre 41 y 60)</td><td>Remise sur quantité (de 41 à 60)</td><td>0,15</td><td>Volume Discount</td><td>Descuento por volumen</td><td>Remise sur quantité</td><td>Reseller</td><td>Distribuidor</td><td>Revendeur</td><td>2010-12-29 00:00:00.000</td><td>2013-12-28 00:00:00.000</td><td>41</td><td>60</td></tr>",
                            "<tr><td>6</td><td>6</td><td>Volume Discount over 60</td><td>Descuento por volumen (más de 60)</td><td>Remise sur quantité (au-delà de 60)</td><td>0,2</td><td>Volume Discount</td><td>Descuento por volumen</td><td>Remise sur quantité</td><td>Reseller</td><td>Distribuidor</td><td>Revendeur</td><td>2010-12-29 00:00:00.000</td><td>2013-12-28 00:00:00.000</td><td>61</td><td>NULL</td></tr>",
                            "<tr><td>7</td><td>7</td><td>Mountain-100 Clearance Sale</td><td>Liquidación de bicicleta de montaña, 100</td><td>Liquidation VTT 100</td><td>0,35</td><td>Discontinued Product</td><td>Descatalogado</td><td>Ce produit n'est plus commercialisé</td><td>Reseller</td><td>Distribuidor</td><td>Revendeur</td><td>2011-11-12 00:00:00.000</td><td>2011-12-28 00:00:00.000</td><td>0</td><td>NULL</td></tr>",
                            "<tr><td>8</td><td>8</td><td>Sport Helmet Discount-2002</td><td>Casco deportivo, descuento: 2002</td><td>Remise sur les casques sport - 2002</td><td>0,1</td><td>Seasonal Discount</td><td>Descuento de temporada</td><td>Remise saisonnière</td><td>Reseller</td><td>Distribuidor</td><td>Revendeur</td><td>2011-12-29 00:00:00.000</td><td>2012-01-28 00:00:00.000</td><td>0</td><td>NULL</td></tr>",
                            "<tr><td>9</td><td>9</td><td>Road-650 Overstock</td><td>Bicicleta de carretera: 650, oferta especial</td><td>Déstockage Vélo de route 650</td><td>0,3</td><td>Excess Inventory</td><td>Inventario excedente</td><td>Déstockage</td><td>Reseller</td><td>Distribuidor</td><td>Revendeur</td><td>2011-12-29 00:00:00.000</td><td>2012-02-28 00:00:00.000</td><td>0</td><td>NULL</td></tr>",
                            "<tr><td>10</td><td>10</td><td>Mountain Tire Sale</td><td>Oferta de cubierta de montaña</td><td>Vente de pneus de VTT</td><td>0,5</td><td>Excess Inventory</td><td>Inventario excedente</td><td>Déstockage</td><td>Customer</td><td>Cliente</td><td>Client</td><td>2012-12-12 00:00:00.000</td><td>2013-02-26 00:00:00.000</td><td>0</td><td>NULL</td></tr>",
                            "<tr><td>11</td><td>11</td><td>Sport Helmet Discount-2003</td><td>Casco deportivo, descuento: 2003</td><td>Remise sur les casques sport - 2003</td><td>0,15</td><td>Seasonal Discount</td><td>Descuento de temporada</td><td>Remise saisonnière</td><td>Reseller</td><td>Distribuidor</td><td>Revendeur</td><td>2012-12-28 00:00:00.000</td><td>2013-01-27 00:00:00.000</td><td>0</td><td>NULL</td></tr>",
                            "<tr><td>12</td><td>12</td><td>LL Road Frame Sale</td><td>Oferta de cuadro de carretera GB</td><td>Vente de cadres de vélo de route LL</td><td>0,35</td><td>Excess Inventory</td><td>Inventario excedente</td><td>Déstockage</td><td>Reseller</td><td>Distribuidor</td><td>Revendeur</td><td>2012-12-28 00:00:00.000</td><td>2013-02-11 00:00:00.000</td><td>0</td><td>NULL</td></tr>",
                            "<tr><td>13</td><td>13</td><td>Touring-3000 Promotion</td><td>Promoción ‘Touring-3000’</td><td>Promotion “Touring-3000”</td><td>0,15</td><td>New Product</td><td>Producto Nuevo</td><td>Nouveau produit</td><td>Reseller</td><td>Distribuidor</td><td>Revendeur</td><td>2012-12-28 00:00:00.000</td><td>2013-03-29 00:00:00.000</td><td>0</td><td>NULL</td></tr>",
                            "<tr><td>14</td><td>14</td><td>Touring-1000 Promotion</td><td>Promoción ‘Touring-1000’</td><td>Promotion “Touring-1000”</td><td>0,2</td><td>New Product</td><td>Producto Nuevo</td><td>Nouveau produit</td><td>Reseller</td><td>Distribuidor</td><td>Revendeur</td><td>2012-12-28 00:00:00.000</td><td>2013-03-29 00:00:00.000</td><td>0</td><td>NULL</td></tr>",
                            "<tr><td>15</td><td>15</td><td>Half-Price Pedal Sale</td><td>Venta de pedales a mitad de precio</td><td>Pédales à moitié prix</td><td>0,5</td><td>Seasonal Discount</td><td>Descuento de temporada</td><td>Remise saisonnière</td><td>Customer</td><td>Cliente</td><td>Client</td><td>2013-02-11 00:00:00.000</td><td>2013-03-14 00:00:00.000</td><td>0</td><td>NULL</td></tr>",
                            "<tr><td>16</td><td>16</td><td>Mountain-500 Silver Clearance Sale</td><td>Liquidación de bicicleta de montaña, 500, plateada</td><td>Liquidation VTT 500 argent</td><td>0,4</td><td>Discontinued Product</td><td>Descatalogado</td><td>Ce produit n'est plus commercialisé</td><td>Reseller</td><td>Distribuidor</td><td>Revendeur</td><td>2013-10-29 00:00:00.000</td><td>2013-12-28 00:00:00.000</td><td>0</td><td>NULL</td></tr>",
                            "</table>"
                        ]
                    }
                }
            ],
            "execution_count": 47
        },
        {
            "cell_type": "markdown",
            "source": [
                "3\\. Caracterizar la relación entre los distintos tipos de clientes y los descuentos por volumen (qué tipos de productos compran, cuántas unidades compran en promedio y qué descuento es el que más utilizan)"
            ],
            "metadata": {
                "azdata_cell_guid": "3de96319-749b-4b17-93a4-81b17247104d"
            },
            "attachments": {}
        },
        {
            "cell_type": "code",
            "source": [
                "WITH CTE AS (\n",
                "    SELECT rs.ProductKey, pc.ProductCategoryKey, pc.EnglishProductCategoryName, ps.ProductSubcategoryKey, ps.EnglishProductSubcategoryName,\n",
                "    r.BusinessType, SalesOrderNumber,\n",
                "    CONCAT(SalesOrderNumber, '-', SalesOrderLineNumber) AS LineId, \n",
                "    CASE WHEN PromotionKey IN(2,3,4,5,6) THEN 'VolProm' ELSE 'noVolProm' END volProm,\n",
                "    OrderQuantity\n",
                "\n",
                "    FROM AdventureWorksDW2019.dbo.FactResellerSales rs\n",
                "    LEFT JOIN AdventureWorksDW2019.dbo.DimReseller r\n",
                "    ON rs.ResellerKey = r.ResellerKey\n",
                "    LEFT JOIN AdventureWorksDW2019.dbo.DimProduct dp\n",
                "    ON rs.ProductKey = dp.ProductKey\n",
                "    LEFT JOIN AdventureWorksDW2019.dbo.DimProductSubcategory ps\n",
                "    ON dp.ProductSubcategoryKey = ps.ProductSubcategoryKey\n",
                "    LEFT JOIN AdventureWorksDW2019.dbo.DimProductCategory pc \n",
                "    ON ps.ProductCategoryKey = pc.ProductCategoryKey\n",
                ")\n",
                "\n",
                "SELECT DISTINCT BusinessType, volProm, EnglishProductCategoryName,\n",
                "\n",
                "--lines\n",
                "COUNT(LineId) OVER(PARTITION BY BusinessType, volProm, ProductCategoryKey)\n",
                "AS BusinessCatPromNumLines,\n",
                "\n",
                "COUNT(LineId) OVER(PARTITION BY BusinessType, ProductCategoryKey)\n",
                "AS BusinessCatLines,\n",
                "\n",
                "COUNT(LineId) OVER(PARTITION BY BusinessType, volProm, ProductCategoryKey) * 1.0 /  (COUNT(LineId) OVER(PARTITION BY BusinessType, ProductCategoryKey))\n",
                "AS percBusinessCatPromLines,\n",
                "\n",
                "COUNT(LineId) OVER(PARTITION BY BusinessType, ProductCategoryKey) * 1.0 /  (COUNT(LineId) OVER(PARTITION BY BusinessType))\n",
                "AS percBusinessCatLines,\n",
                "\n",
                "\n",
                "--units\n",
                "SUM(OrderQuantity) OVER(PARTITION BY BusinessType, volProm, ProductCategoryKey) \n",
                "AS BusinessCatPromNumUnits,\n",
                "\n",
                "SUM(OrderQuantity) OVER(PARTITION BY BusinessType, ProductCategoryKey) \n",
                "AS BusinessCatNumUnits,\n",
                "\n",
                "SUM(OrderQuantity) OVER(PARTITION BY BusinessType, volProm, ProductCategoryKey)* 1.0 /  SUM(OrderQuantity) OVER(PARTITION BY BusinessType, ProductCategoryKey)\n",
                "AS percBusinessCatPromNumUnits,\n",
                "\n",
                "SUM(OrderQuantity) OVER(PARTITION BY BusinessType, ProductCategoryKey) * 1.0 /  (SUM(OrderQuantity) OVER(PARTITION BY BusinessType))\n",
                "AS percBusinessCatNumUnits,\n",
                "\n",
                "AVG(OrderQuantity*1.0) OVER(PARTITION BY BusinessType, volProm, ProductCategoryKey) \n",
                "AS avgBusinessPromCatOrderQty\n",
                "\n",
                "\n",
                "\n",
                "FROM CTE\n",
                "ORDER BY BusinessType, EnglishProductCategoryName, volProm"
            ],
            "metadata": {
                "azdata_cell_guid": "2ea4941d-afc1-4117-8922-10e745500f18",
                "language": "sql"
            },
            "outputs": [
                {
                    "output_type": "display_data",
                    "data": {
                        "text/html": "(21 rows affected)"
                    },
                    "metadata": {}
                },
                {
                    "output_type": "display_data",
                    "data": {
                        "text/html": "Total execution time: 00:00:01.295"
                    },
                    "metadata": {}
                },
                {
                    "output_type": "execute_result",
                    "metadata": {},
                    "execution_count": 68,
                    "data": {
                        "application/vnd.dataresource+json": {
                            "schema": {
                                "fields": [
                                    {
                                        "name": "BusinessType"
                                    },
                                    {
                                        "name": "volProm"
                                    },
                                    {
                                        "name": "EnglishProductCategoryName"
                                    },
                                    {
                                        "name": "BusinessCatPromNumLines"
                                    },
                                    {
                                        "name": "BusinessCatLines"
                                    },
                                    {
                                        "name": "percBusinessCatPromLines"
                                    },
                                    {
                                        "name": "percBusinessCatLines"
                                    },
                                    {
                                        "name": "BusinessCatPromNumUnits"
                                    },
                                    {
                                        "name": "BusinessCatNumUnits"
                                    },
                                    {
                                        "name": "percBusinessCatPromNumUnits"
                                    },
                                    {
                                        "name": "percBusinessCatNumUnits"
                                    },
                                    {
                                        "name": "avgBusinessPromCatOrderQty"
                                    }
                                ]
                            },
                            "data": [
                                {
                                    "BusinessType": "Specialty Bike Shop",
                                    "volProm": "noVolProm",
                                    "EnglishProductCategoryName": "Accessories",
                                    "BusinessCatPromNumLines": "749",
                                    "BusinessCatLines": "749",
                                    "percBusinessCatPromLines": "1.000000000000",
                                    "percBusinessCatLines": "0.093777388255",
                                    "BusinessCatPromNumUnits": "2392",
                                    "BusinessCatNumUnits": "2392",
                                    "percBusinessCatPromNumUnits": "1.000000000000",
                                    "percBusinessCatNumUnits": "0.108352962493",
                                    "avgBusinessPromCatOrderQty": "3.193591"
                                },
                                {
                                    "BusinessType": "Specialty Bike Shop",
                                    "volProm": "noVolProm",
                                    "EnglishProductCategoryName": "Bikes",
                                    "BusinessCatPromNumLines": "3427",
                                    "BusinessCatLines": "3427",
                                    "percBusinessCatPromLines": "1.000000000000",
                                    "percBusinessCatLines": "0.429072242393",
                                    "BusinessCatPromNumUnits": "7094",
                                    "BusinessCatNumUnits": "7094",
                                    "percBusinessCatPromNumUnits": "1.000000000000",
                                    "percBusinessCatNumUnits": "0.321344446457",
                                    "avgBusinessPromCatOrderQty": "2.070032"
                                },
                                {
                                    "BusinessType": "Specialty Bike Shop",
                                    "volProm": "noVolProm",
                                    "EnglishProductCategoryName": "Clothing",
                                    "BusinessCatPromNumLines": "2580",
                                    "BusinessCatLines": "2658",
                                    "percBusinessCatPromLines": "0.970654627539",
                                    "percBusinessCatLines": "0.332790785025",
                                    "BusinessCatPromNumUnits": "8857",
                                    "BusinessCatNumUnits": "10019",
                                    "percBusinessCatPromNumUnits": "0.884020361313",
                                    "percBusinessCatNumUnits": "0.453841275593",
                                    "avgBusinessPromCatOrderQty": "3.432945"
                                },
                                {
                                    "BusinessType": "Specialty Bike Shop",
                                    "volProm": "VolProm",
                                    "EnglishProductCategoryName": "Clothing",
                                    "BusinessCatPromNumLines": "78",
                                    "BusinessCatLines": "2658",
                                    "percBusinessCatPromLines": "0.029345372460",
                                    "percBusinessCatLines": "0.332790785025",
                                    "BusinessCatPromNumUnits": "1162",
                                    "BusinessCatNumUnits": "10019",
                                    "percBusinessCatPromNumUnits": "0.115979638686",
                                    "percBusinessCatNumUnits": "0.453841275593",
                                    "avgBusinessPromCatOrderQty": "14.897435"
                                },
                                {
                                    "BusinessType": "Specialty Bike Shop",
                                    "volProm": "noVolProm",
                                    "EnglishProductCategoryName": "Components",
                                    "BusinessCatPromNumLines": "1153",
                                    "BusinessCatLines": "1153",
                                    "percBusinessCatPromLines": "1.000000000000",
                                    "percBusinessCatLines": "0.144359584324",
                                    "BusinessCatPromNumUnits": "2571",
                                    "BusinessCatNumUnits": "2571",
                                    "percBusinessCatPromNumUnits": "1.000000000000",
                                    "percBusinessCatNumUnits": "0.116461315455",
                                    "avgBusinessPromCatOrderQty": "2.229835"
                                },
                                {
                                    "BusinessType": "Value Added Reseller",
                                    "volProm": "noVolProm",
                                    "EnglishProductCategoryName": "Accessories",
                                    "BusinessCatPromNumLines": "1946",
                                    "BusinessCatLines": "1955",
                                    "percBusinessCatPromLines": "0.995396419437",
                                    "percBusinessCatLines": "0.077783082676",
                                    "BusinessCatPromNumUnits": "7662",
                                    "BusinessCatNumUnits": "7776",
                                    "percBusinessCatPromNumUnits": "0.985339506172",
                                    "percBusinessCatNumUnits": "0.096826009538",
                                    "avgBusinessPromCatOrderQty": "3.937307"
                                },
                                {
                                    "BusinessType": "Value Added Reseller",
                                    "volProm": "VolProm",
                                    "EnglishProductCategoryName": "Accessories",
                                    "BusinessCatPromNumLines": "9",
                                    "BusinessCatLines": "1955",
                                    "percBusinessCatPromLines": "0.004603580562",
                                    "percBusinessCatLines": "0.077783082676",
                                    "BusinessCatPromNumUnits": "114",
                                    "BusinessCatNumUnits": "7776",
                                    "percBusinessCatPromNumUnits": "0.014660493827",
                                    "percBusinessCatNumUnits": "0.096826009538",
                                    "avgBusinessPromCatOrderQty": "12.666666"
                                },
                                {
                                    "BusinessType": "Value Added Reseller",
                                    "volProm": "noVolProm",
                                    "EnglishProductCategoryName": "Bikes",
                                    "BusinessCatPromNumLines": "12319",
                                    "BusinessCatLines": "12355",
                                    "percBusinessCatPromLines": "0.997086199919",
                                    "percBusinessCatLines": "0.491565210471",
                                    "BusinessCatPromNumUnits": "34077",
                                    "BusinessCatNumUnits": "34509",
                                    "percBusinessCatPromNumUnits": "0.987481526558",
                                    "percBusinessCatNumUnits": "0.429702773039",
                                    "avgBusinessPromCatOrderQty": "2.766214"
                                },
                                {
                                    "BusinessType": "Value Added Reseller",
                                    "volProm": "VolProm",
                                    "EnglishProductCategoryName": "Bikes",
                                    "BusinessCatPromNumLines": "36",
                                    "BusinessCatLines": "12355",
                                    "percBusinessCatPromLines": "0.002913800080",
                                    "percBusinessCatLines": "0.491565210471",
                                    "BusinessCatPromNumUnits": "432",
                                    "BusinessCatNumUnits": "34509",
                                    "percBusinessCatPromNumUnits": "0.012518473441",
                                    "percBusinessCatNumUnits": "0.429702773039",
                                    "avgBusinessPromCatOrderQty": "12.000000"
                                },
                                {
                                    "BusinessType": "Value Added Reseller",
                                    "volProm": "noVolProm",
                                    "EnglishProductCategoryName": "Clothing",
                                    "BusinessCatPromNumLines": "3672",
                                    "BusinessCatLines": "4057",
                                    "percBusinessCatPromLines": "0.905102292334",
                                    "percBusinessCatLines": "0.161414816583",
                                    "BusinessCatPromNumUnits": "15125",
                                    "BusinessCatNumUnits": "21787",
                                    "percBusinessCatPromNumUnits": "0.694221324643",
                                    "percBusinessCatNumUnits": "0.271289643751",
                                    "avgBusinessPromCatOrderQty": "4.119008"
                                },
                                {
                                    "BusinessType": "Value Added Reseller",
                                    "volProm": "VolProm",
                                    "EnglishProductCategoryName": "Clothing",
                                    "BusinessCatPromNumLines": "385",
                                    "BusinessCatLines": "4057",
                                    "percBusinessCatPromLines": "0.094897707665",
                                    "percBusinessCatLines": "0.161414816583",
                                    "BusinessCatPromNumUnits": "6662",
                                    "BusinessCatNumUnits": "21787",
                                    "percBusinessCatPromNumUnits": "0.305778675356",
                                    "percBusinessCatNumUnits": "0.271289643751",
                                    "avgBusinessPromCatOrderQty": "17.303896"
                                },
                                {
                                    "BusinessType": "Value Added Reseller",
                                    "volProm": "noVolProm",
                                    "EnglishProductCategoryName": "Components",
                                    "BusinessCatPromNumLines": "6761",
                                    "BusinessCatLines": "6767",
                                    "percBusinessCatPromLines": "0.999113344170",
                                    "percBusinessCatLines": "0.269236890268",
                                    "BusinessCatPromNumUnits": "16163",
                                    "BusinessCatNumUnits": "16237",
                                    "percBusinessCatPromNumUnits": "0.995442507852",
                                    "percBusinessCatNumUnits": "0.202181573671",
                                    "avgBusinessPromCatOrderQty": "2.390622"
                                },
                                {
                                    "BusinessType": "Value Added Reseller",
                                    "volProm": "VolProm",
                                    "EnglishProductCategoryName": "Components",
                                    "BusinessCatPromNumLines": "6",
                                    "BusinessCatLines": "6767",
                                    "percBusinessCatPromLines": "0.000886655829",
                                    "percBusinessCatLines": "0.269236890268",
                                    "BusinessCatPromNumUnits": "74",
                                    "BusinessCatNumUnits": "16237",
                                    "percBusinessCatPromNumUnits": "0.004557492147",
                                    "percBusinessCatNumUnits": "0.202181573671",
                                    "avgBusinessPromCatOrderQty": "12.333333"
                                },
                                {
                                    "BusinessType": "Warehouse",
                                    "volProm": "noVolProm",
                                    "EnglishProductCategoryName": "Accessories",
                                    "BusinessCatPromNumLines": "2013",
                                    "BusinessCatLines": "2397",
                                    "percBusinessCatPromLines": "0.839799749687",
                                    "percBusinessCatLines": "0.086428210860",
                                    "BusinessCatPromNumUnits": "10371",
                                    "BusinessCatNumUnits": "15671",
                                    "percBusinessCatPromNumUnits": "0.661795673537",
                                    "percBusinessCatNumUnits": "0.139928388381",
                                    "avgBusinessPromCatOrderQty": "5.152011"
                                },
                                {
                                    "BusinessType": "Warehouse",
                                    "volProm": "VolProm",
                                    "EnglishProductCategoryName": "Accessories",
                                    "BusinessCatPromNumLines": "384",
                                    "BusinessCatLines": "2397",
                                    "percBusinessCatPromLines": "0.160200250312",
                                    "percBusinessCatLines": "0.086428210860",
                                    "BusinessCatPromNumUnits": "5300",
                                    "BusinessCatNumUnits": "15671",
                                    "percBusinessCatPromNumUnits": "0.338204326462",
                                    "percBusinessCatNumUnits": "0.139928388381",
                                    "avgBusinessPromCatOrderQty": "13.802083"
                                },
                                {
                                    "BusinessType": "Warehouse",
                                    "volProm": "noVolProm",
                                    "EnglishProductCategoryName": "Bikes",
                                    "BusinessCatPromNumLines": "8747",
                                    "BusinessCatLines": "9018",
                                    "percBusinessCatPromLines": "0.969948990907",
                                    "percBusinessCatLines": "0.325160452873",
                                    "BusinessCatPromNumUnits": "29783",
                                    "BusinessCatNumUnits": "33412",
                                    "percBusinessCatPromNumUnits": "0.891386328265",
                                    "percBusinessCatNumUnits": "0.298340074826",
                                    "avgBusinessPromCatOrderQty": "3.404938"
                                },
                                {
                                    "BusinessType": "Warehouse",
                                    "volProm": "VolProm",
                                    "EnglishProductCategoryName": "Bikes",
                                    "BusinessCatPromNumLines": "271",
                                    "BusinessCatLines": "9018",
                                    "percBusinessCatPromLines": "0.030051009092",
                                    "percBusinessCatLines": "0.325160452873",
                                    "BusinessCatPromNumUnits": "3629",
                                    "BusinessCatNumUnits": "33412",
                                    "percBusinessCatPromNumUnits": "0.108613671734",
                                    "percBusinessCatNumUnits": "0.298340074826",
                                    "avgBusinessPromCatOrderQty": "13.391143"
                                },
                                {
                                    "BusinessType": "Warehouse",
                                    "volProm": "noVolProm",
                                    "EnglishProductCategoryName": "Clothing",
                                    "BusinessCatPromNumLines": "4803",
                                    "BusinessCatLines": "5552",
                                    "percBusinessCatPromLines": "0.865093659942",
                                    "percBusinessCatLines": "0.200187495492",
                                    "BusinessCatPromNumUnits": "21888",
                                    "BusinessCatNumUnits": "32691",
                                    "percBusinessCatPromNumUnits": "0.669542075800",
                                    "percBusinessCatNumUnits": "0.291902172457",
                                    "avgBusinessPromCatOrderQty": "4.557151"
                                },
                                {
                                    "BusinessType": "Warehouse",
                                    "volProm": "VolProm",
                                    "EnglishProductCategoryName": "Clothing",
                                    "BusinessCatPromNumLines": "749",
                                    "BusinessCatLines": "5552",
                                    "percBusinessCatPromLines": "0.134906340057",
                                    "percBusinessCatLines": "0.200187495492",
                                    "BusinessCatPromNumUnits": "10803",
                                    "BusinessCatNumUnits": "32691",
                                    "percBusinessCatPromNumUnits": "0.330457924199",
                                    "percBusinessCatNumUnits": "0.291902172457",
                                    "avgBusinessPromCatOrderQty": "14.423230"
                                },
                                {
                                    "BusinessType": "Warehouse",
                                    "volProm": "noVolProm",
                                    "EnglishProductCategoryName": "Components",
                                    "BusinessCatPromNumLines": "10687",
                                    "BusinessCatLines": "10767",
                                    "percBusinessCatPromLines": "0.992569889477",
                                    "percBusinessCatLines": "0.388223840773",
                                    "BusinessCatPromNumUnits": "29213",
                                    "BusinessCatNumUnits": "30219",
                                    "percBusinessCatPromNumUnits": "0.966709685959",
                                    "percBusinessCatNumUnits": "0.269829364335",
                                    "avgBusinessPromCatOrderQty": "2.733508"
                                },
                                {
                                    "BusinessType": "Warehouse",
                                    "volProm": "VolProm",
                                    "EnglishProductCategoryName": "Components",
                                    "BusinessCatPromNumLines": "80",
                                    "BusinessCatLines": "10767",
                                    "percBusinessCatPromLines": "0.007430110522",
                                    "percBusinessCatLines": "0.388223840773",
                                    "BusinessCatPromNumUnits": "1006",
                                    "BusinessCatNumUnits": "30219",
                                    "percBusinessCatPromNumUnits": "0.033290314040",
                                    "percBusinessCatNumUnits": "0.269829364335",
                                    "avgBusinessPromCatOrderQty": "12.575000"
                                }
                            ]
                        },
                        "text/html": [
                            "<table>",
                            "<tr><th>BusinessType</th><th>volProm</th><th>EnglishProductCategoryName</th><th>BusinessCatPromNumLines</th><th>BusinessCatLines</th><th>percBusinessCatPromLines</th><th>percBusinessCatLines</th><th>BusinessCatPromNumUnits</th><th>BusinessCatNumUnits</th><th>percBusinessCatPromNumUnits</th><th>percBusinessCatNumUnits</th><th>avgBusinessPromCatOrderQty</th></tr>",
                            "<tr><td>Specialty Bike Shop</td><td>noVolProm</td><td>Accessories</td><td>749</td><td>749</td><td>1.000000000000</td><td>0.093777388255</td><td>2392</td><td>2392</td><td>1.000000000000</td><td>0.108352962493</td><td>3.193591</td></tr>",
                            "<tr><td>Specialty Bike Shop</td><td>noVolProm</td><td>Bikes</td><td>3427</td><td>3427</td><td>1.000000000000</td><td>0.429072242393</td><td>7094</td><td>7094</td><td>1.000000000000</td><td>0.321344446457</td><td>2.070032</td></tr>",
                            "<tr><td>Specialty Bike Shop</td><td>noVolProm</td><td>Clothing</td><td>2580</td><td>2658</td><td>0.970654627539</td><td>0.332790785025</td><td>8857</td><td>10019</td><td>0.884020361313</td><td>0.453841275593</td><td>3.432945</td></tr>",
                            "<tr><td>Specialty Bike Shop</td><td>VolProm</td><td>Clothing</td><td>78</td><td>2658</td><td>0.029345372460</td><td>0.332790785025</td><td>1162</td><td>10019</td><td>0.115979638686</td><td>0.453841275593</td><td>14.897435</td></tr>",
                            "<tr><td>Specialty Bike Shop</td><td>noVolProm</td><td>Components</td><td>1153</td><td>1153</td><td>1.000000000000</td><td>0.144359584324</td><td>2571</td><td>2571</td><td>1.000000000000</td><td>0.116461315455</td><td>2.229835</td></tr>",
                            "<tr><td>Value Added Reseller</td><td>noVolProm</td><td>Accessories</td><td>1946</td><td>1955</td><td>0.995396419437</td><td>0.077783082676</td><td>7662</td><td>7776</td><td>0.985339506172</td><td>0.096826009538</td><td>3.937307</td></tr>",
                            "<tr><td>Value Added Reseller</td><td>VolProm</td><td>Accessories</td><td>9</td><td>1955</td><td>0.004603580562</td><td>0.077783082676</td><td>114</td><td>7776</td><td>0.014660493827</td><td>0.096826009538</td><td>12.666666</td></tr>",
                            "<tr><td>Value Added Reseller</td><td>noVolProm</td><td>Bikes</td><td>12319</td><td>12355</td><td>0.997086199919</td><td>0.491565210471</td><td>34077</td><td>34509</td><td>0.987481526558</td><td>0.429702773039</td><td>2.766214</td></tr>",
                            "<tr><td>Value Added Reseller</td><td>VolProm</td><td>Bikes</td><td>36</td><td>12355</td><td>0.002913800080</td><td>0.491565210471</td><td>432</td><td>34509</td><td>0.012518473441</td><td>0.429702773039</td><td>12.000000</td></tr>",
                            "<tr><td>Value Added Reseller</td><td>noVolProm</td><td>Clothing</td><td>3672</td><td>4057</td><td>0.905102292334</td><td>0.161414816583</td><td>15125</td><td>21787</td><td>0.694221324643</td><td>0.271289643751</td><td>4.119008</td></tr>",
                            "<tr><td>Value Added Reseller</td><td>VolProm</td><td>Clothing</td><td>385</td><td>4057</td><td>0.094897707665</td><td>0.161414816583</td><td>6662</td><td>21787</td><td>0.305778675356</td><td>0.271289643751</td><td>17.303896</td></tr>",
                            "<tr><td>Value Added Reseller</td><td>noVolProm</td><td>Components</td><td>6761</td><td>6767</td><td>0.999113344170</td><td>0.269236890268</td><td>16163</td><td>16237</td><td>0.995442507852</td><td>0.202181573671</td><td>2.390622</td></tr>",
                            "<tr><td>Value Added Reseller</td><td>VolProm</td><td>Components</td><td>6</td><td>6767</td><td>0.000886655829</td><td>0.269236890268</td><td>74</td><td>16237</td><td>0.004557492147</td><td>0.202181573671</td><td>12.333333</td></tr>",
                            "<tr><td>Warehouse</td><td>noVolProm</td><td>Accessories</td><td>2013</td><td>2397</td><td>0.839799749687</td><td>0.086428210860</td><td>10371</td><td>15671</td><td>0.661795673537</td><td>0.139928388381</td><td>5.152011</td></tr>",
                            "<tr><td>Warehouse</td><td>VolProm</td><td>Accessories</td><td>384</td><td>2397</td><td>0.160200250312</td><td>0.086428210860</td><td>5300</td><td>15671</td><td>0.338204326462</td><td>0.139928388381</td><td>13.802083</td></tr>",
                            "<tr><td>Warehouse</td><td>noVolProm</td><td>Bikes</td><td>8747</td><td>9018</td><td>0.969948990907</td><td>0.325160452873</td><td>29783</td><td>33412</td><td>0.891386328265</td><td>0.298340074826</td><td>3.404938</td></tr>",
                            "<tr><td>Warehouse</td><td>VolProm</td><td>Bikes</td><td>271</td><td>9018</td><td>0.030051009092</td><td>0.325160452873</td><td>3629</td><td>33412</td><td>0.108613671734</td><td>0.298340074826</td><td>13.391143</td></tr>",
                            "<tr><td>Warehouse</td><td>noVolProm</td><td>Clothing</td><td>4803</td><td>5552</td><td>0.865093659942</td><td>0.200187495492</td><td>21888</td><td>32691</td><td>0.669542075800</td><td>0.291902172457</td><td>4.557151</td></tr>",
                            "<tr><td>Warehouse</td><td>VolProm</td><td>Clothing</td><td>749</td><td>5552</td><td>0.134906340057</td><td>0.200187495492</td><td>10803</td><td>32691</td><td>0.330457924199</td><td>0.291902172457</td><td>14.423230</td></tr>",
                            "<tr><td>Warehouse</td><td>noVolProm</td><td>Components</td><td>10687</td><td>10767</td><td>0.992569889477</td><td>0.388223840773</td><td>29213</td><td>30219</td><td>0.966709685959</td><td>0.269829364335</td><td>2.733508</td></tr>",
                            "<tr><td>Warehouse</td><td>VolProm</td><td>Components</td><td>80</td><td>10767</td><td>0.007430110522</td><td>0.388223840773</td><td>1006</td><td>30219</td><td>0.033290314040</td><td>0.269829364335</td><td>12.575000</td></tr>",
                            "</table>"
                        ]
                    }
                }
            ],
            "execution_count": 68
        }
    ]
}