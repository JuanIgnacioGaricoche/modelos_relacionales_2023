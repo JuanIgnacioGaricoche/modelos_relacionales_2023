{
    "metadata": {
        "kernelspec": {
            "name": "SQL",
            "display_name": "SQL",
            "language": "sql"
        },
        "language_info": {
            "name": "sql",
            "version": ""
        }
    },
    "nbformat_minor": 2,
    "nbformat": 4,
    "cells": [
        {
            "cell_type": "markdown",
            "source": [
                "Exploratorio SQL"
            ],
            "metadata": {
                "azdata_cell_guid": "eb818ae8-7f09-4b0c-a7db-c12682e3f5a9"
            },
            "attachments": {}
        }
    ]
}